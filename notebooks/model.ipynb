{
 "cells": [
  {
   "cell_type": "markdown",
   "metadata": {},
   "source": [
    "# Predictive modeling of `SalePrice` in Ames housing dataset"
   ]
  },
  {
   "cell_type": "markdown",
   "metadata": {},
   "source": [
    "In a previous notebook we [processed and cleaned](process.ipynb/#Processing-the-Ames-housing-dataset) the Ames dataset, and in another we [explored the data and selected/engineered some new features](explore.ipynb/#Exploratory-analysis-of-Ames-housing-dataset).\n",
    "\n",
    "In this notebook, we'll model and predict `SalePrice`. First we'll do a little feature selection and engineering to create a few different versions of the data for modeling. Then we'll compare the prediction performance of some appropriate models on these versions, select a subset of these versions and models for fine-tuning, ensemble them to maximize predictive generalizablity, and test them by submitting to Kaggle."
   ]
  },
  {
   "cell_type": "markdown",
   "metadata": {},
   "source": [
    "## Setup"
   ]
  },
  {
   "cell_type": "code",
   "execution_count": 1,
   "metadata": {},
   "outputs": [],
   "source": [
    "%matplotlib inline\n",
    "import warnings\n",
    "import os\n",
    "import sys\n",
    "import time\n",
    "import hyperopt.hp as hp\n",
    "\n",
    "from sklearn.linear_model import LinearRegression, Lasso, Ridge, BayesianRidge\n",
    "from sklearn.cross_decomposition import PLSRegression\n",
    "from sklearn.svm import SVR\n",
    "from sklearn.neighbors import KNeighborsRegressor\n",
    "from sklearn.neural_network import MLPRegressor\n",
    "from sklearn.tree import DecisionTreeRegressor, ExtraTreeRegressor\n",
    "from hyperopt.pyll import scope as ho_scope\n",
    "\n",
    "# add parent directory for importing custom classes\n",
    "pardir = os.path.abspath(os.path.join(os.getcwd(), os.pardir))\n",
    "sys.path.append(pardir)\n",
    "\n",
    "# custom classes and helpers\n",
    "from codes.process import DataDescription, HPDataFramePlus, DataPlus\n",
    "from codes.explore import load_datasets, plot_cont_dists\n",
    "from codes.model import *\n",
    "\n",
    "warnings.filterwarnings('ignore')\n",
    "plt.style.use('seaborn-white')\n",
    "sns.set_style('white')"
   ]
  },
  {
   "cell_type": "markdown",
   "metadata": {},
   "source": [
    "## Load and prepare data"
   ]
  },
  {
   "cell_type": "code",
   "execution_count": 2,
   "metadata": {},
   "outputs": [],
   "source": [
    "hp_data = load_datasets(data_dir='../data', file_names=['clean.csv'])\n",
    "clean = hp_data.dfs['clean']"
   ]
  },
  {
   "cell_type": "markdown",
   "metadata": {},
   "source": [
    "The dataset `clean` was ([created in a previous notebook](process.ipynb/#Processing-and-cleaning-the-Ames-housing-dataset). It is the original dataset with someproblematic variables and observations dropped and missing values imputed. We'll use it to create our modeling data"
   ]
  },
  {
   "cell_type": "markdown",
   "metadata": {
    "toc-hr-collapsed": true
   },
   "source": [
    "## Feature selection and engineering"
   ]
  },
  {
   "cell_type": "markdown",
   "metadata": {},
   "source": [
    "We'll use the results of [our exploratory analysis](explore.ipynb/#Exploratory-analysis-of-Ames-housing-dataset) to suggest variables that can be altered, combined, or eliminated in the hopes of improving predictive models. We'll create a few new datasets in the process. In the end we'll have four versions of the data for modeling\n",
    "\n",
    "- `clean`: original dataset with problematic features and observations dropped and missing values imputed.\n",
    "- `drop`: `clean` dataset with some old features dropped\n",
    "- `clean_edit`: `clean` dataset with some feature values combined and some new features added\n",
    "- `drop_edit`: `drop` dataset with the same feature values combined and same new features added."
   ]
  },
  {
   "cell_type": "markdown",
   "metadata": {
    "toc-hr-collapsed": false
   },
   "source": [
    "### Drop some features"
   ]
  },
  {
   "cell_type": "markdown",
   "metadata": {},
   "source": [
    "Here are variables we'll drop (and the reasons for dropping):\n",
    "- `Heating`, `RoofMatl`, `Condition2`, `Street` (extremely unbalanced distributions and very low dependence with `SalePrice` ($D \\gtrapprox 0.99$))\n",
    "- `Exterior2nd` (redundant with `Exterior1st`.\n",
    "- `HouseStyle` (redundant with `MSSubclass`).\n",
    "- `Utilities` (extremely unbalanced distribution and very low dependence with response)\n",
    "- `PoolQC` (extremely unbalanced distribution and redundant with `PoolArea`)\n",
    "- `1stFlrSF` and `TotalBsmtSF` (high dependence with `GrLivArea`).\n",
    "- `GarageYrBlt` (high dependence with `YearBuilt`)\n",
    "- `PoolArea`, `MiscVal`, `3SsnPorch`, `ScreenPorch`, `BsmtFinSF2` (extremely peaked distributions and very low dependence with `SalePrice`)\n",
    "- `LowQualFinSF` (extremely peaked distribution and redundant with ordinal quality measures such as `OverallQual`)"
   ]
  },
  {
   "cell_type": "code",
   "execution_count": 3,
   "metadata": {},
   "outputs": [],
   "source": [
    "drop_cols = ['Heating', 'RoofMatl', 'Condition2', 'Street', 'Exterior2nd', 'HouseStyle', \n",
    "             'Utilities', 'PoolQC', '1stFlrSF', 'TotalBsmtSF', 'GarageYrBlt', 'PoolArea', 'MiscVal',\n",
    "             '3SsnPorch', 'ScreenPorch', 'BsmtFinSF2', 'LowQualFinSF']\n",
    "drop = HPDataFramePlus(data=clean.data)\n",
    "drop.data = drop.data.drop(columns=drop_cols)"
   ]
  },
  {
   "cell_type": "code",
   "execution_count": 4,
   "metadata": {},
   "outputs": [
    {
     "data": {
      "text/plain": [
       "Index(['MSSubClass', 'MSZoning', 'LotFrontage', 'LotArea', 'LotShape',\n",
       "       'LandContour', 'LotConfig', 'LandSlope', 'Neighborhood', 'Condition1',\n",
       "       'BldgType', 'OverallQual', 'OverallCond', 'YearBuilt', 'YearRemodAdd',\n",
       "       'RoofStyle', 'Exterior1st', 'MasVnrType', 'MasVnrArea', 'ExterQual',\n",
       "       'ExterCond', 'Foundation', 'BsmtQual', 'BsmtCond', 'BsmtExposure',\n",
       "       'BsmtFinType1', 'BsmtFinSF1', 'BsmtFinType2', 'BsmtUnfSF', 'HeatingQC',\n",
       "       'CentralAir', 'Electrical', '2ndFlrSF', 'GrLivArea', 'BsmtFullBath',\n",
       "       'BsmtHalfBath', 'FullBath', 'HalfBath', 'BedroomAbvGr', 'KitchenAbvGr',\n",
       "       'KitchenQual', 'TotRmsAbvGrd', 'Functional', 'Fireplaces',\n",
       "       'FireplaceQu', 'GarageType', 'GarageFinish', 'GarageCars', 'GarageArea',\n",
       "       'GarageQual', 'GarageCond', 'PavedDrive', 'WoodDeckSF', 'OpenPorchSF',\n",
       "       'EnclosedPorch', 'Fence', 'MoSold', 'YrSold', 'SaleType',\n",
       "       'SaleCondition', 'SalePrice'],\n",
       "      dtype='object')"
      ]
     },
     "execution_count": 4,
     "metadata": {},
     "output_type": "execute_result"
    }
   ],
   "source": [
    "drop.data.columns"
   ]
  },
  {
   "cell_type": "markdown",
   "metadata": {},
   "source": [
    "### Combine values and create new variables"
   ]
  },
  {
   "cell_type": "markdown",
   "metadata": {},
   "source": [
    "Some discrete variables had very small counts for some values (this could be seen as horizontal lines corresponding to those values in the violin plots for [categorical](#Relationship-between-categoricals-and-SalePrice) and [ordinal](#Relationship-between-ordinals-and-SalePrice) variables. \n",
    "\n",
    "First we'll look at categorical variables"
   ]
  },
  {
   "cell_type": "code",
   "execution_count": 5,
   "metadata": {},
   "outputs": [
    {
     "data": {
      "text/plain": [
       "Index(['MSSubClass', 'MSZoning', 'Street', 'LandContour', 'LotConfig',\n",
       "       'Neighborhood', 'Condition1', 'Condition2', 'BldgType', 'HouseStyle',\n",
       "       'RoofStyle', 'RoofMatl', 'Exterior1st', 'Exterior2nd', 'MasVnrType',\n",
       "       'Foundation', 'Heating', 'CentralAir', 'Electrical', 'GarageType',\n",
       "       'SaleType', 'SaleCondition'],\n",
       "      dtype='object')"
      ]
     },
     "execution_count": 5,
     "metadata": {},
     "output_type": "execute_result"
    }
   ],
   "source": [
    "cats_data = clean.data.select_dtypes('category')\n",
    "cats_data.columns"
   ]
  },
  {
   "cell_type": "code",
   "execution_count": 6,
   "metadata": {},
   "outputs": [
    {
     "name": "stdout",
     "output_type": "stream",
     "text": [
      "\n",
      "20     1078\n",
      "60      573\n",
      "50      287\n",
      "120     182\n",
      "30      139\n",
      "70      128\n",
      "160     128\n",
      "80      118\n",
      "90      109\n",
      "190      61\n",
      "85       48\n",
      "75       23\n",
      "45       18\n",
      "180      17\n",
      "40        6\n",
      "150       1\n",
      "Name: MSSubClass, dtype: int64\n",
      "\n",
      "Norm      2887\n",
      "Feedr       13\n",
      "Artery       5\n",
      "PosA         4\n",
      "PosN         3\n",
      "RRNn         2\n",
      "RRAn         1\n",
      "RRAe         1\n",
      "Name: Condition2, dtype: int64\n",
      "\n",
      "Gable      2310\n",
      "Hip         549\n",
      "Gambrel      22\n",
      "Flat         19\n",
      "Mansard      11\n",
      "Shed          5\n",
      "Name: RoofStyle, dtype: int64\n",
      "\n",
      "CompShg    2875\n",
      "Tar&Grv      22\n",
      "WdShake       9\n",
      "WdShngl       7\n",
      "Roll          1\n",
      "Metal         1\n",
      "Membran       1\n",
      "Name: RoofMatl, dtype: int64\n",
      "\n",
      "VinylSd    1026\n",
      "MetalSd     450\n",
      "HdBoard     442\n",
      "Wd Sdng     411\n",
      "Plywood     220\n",
      "CemntBd     125\n",
      "BrkFace      87\n",
      "WdShing      56\n",
      "AsbShng      44\n",
      "Stucco       42\n",
      "BrkComm       6\n",
      "Stone         2\n",
      "CBlock        2\n",
      "AsphShn       2\n",
      "ImStucc       1\n",
      "Name: Exterior1st, dtype: int64\n",
      "\n",
      "VinylSd    1015\n",
      "MetalSd     447\n",
      "HdBoard     406\n",
      "Wd Sdng     391\n",
      "Plywood     269\n",
      "CmentBd     125\n",
      "Wd Shng      81\n",
      "BrkFace      47\n",
      "Stucco       46\n",
      "AsbShng      38\n",
      "Brk Cmn      22\n",
      "ImStucc      15\n",
      "Stone         6\n",
      "AsphShn       4\n",
      "CBlock        3\n",
      "Other         1\n",
      "Name: Exterior2nd, dtype: int64\n",
      "\n",
      "None       1761\n",
      "BrkFace     945\n",
      "Stone       205\n",
      "BrkCmn        5\n",
      "Name: MasVnrType, dtype: int64\n",
      "\n",
      "PConc     1306\n",
      "CBlock    1234\n",
      "BrkTil     311\n",
      "Slab        49\n",
      "Stone       11\n",
      "Wood         5\n",
      "Name: Foundation, dtype: int64\n",
      "\n",
      "GasA     2871\n",
      "GasW       27\n",
      "Grav        9\n",
      "Wall        6\n",
      "OthW        2\n",
      "Floor       1\n",
      "Name: Heating, dtype: int64\n",
      "\n",
      "SBrkr    2669\n",
      "FuseA     188\n",
      "FuseF      50\n",
      "FuseP       8\n",
      "Mix         1\n",
      "Name: Electrical, dtype: int64\n",
      "\n",
      "WD       2525\n",
      "New       237\n",
      "COD        87\n",
      "ConLD      26\n",
      "CWD        12\n",
      "ConLI       9\n",
      "ConLw       8\n",
      "Oth         7\n",
      "Con         5\n",
      "Name: SaleType, dtype: int64\n"
     ]
    }
   ],
   "source": [
    "# print variables with less than 5 observations for any value\n",
    "small_val_count_cat_cols = print_small_val_counts(data=cats_data, val_count_threshold=6)"
   ]
  },
  {
   "cell_type": "code",
   "execution_count": 7,
   "metadata": {},
   "outputs": [
    {
     "name": "stdout",
     "output_type": "stream",
     "text": [
      "MSSubClass: Identifies the type of dwelling involved in the sale.\n",
      "\n",
      "\t 20 - 1-STORY 1946 & NEWER ALL STYLES\n",
      "\t 30 - 1-STORY 1945 & OLDER\n",
      "\t 40 - 1-STORY W/FINISHED ATTIC ALL AGES\n",
      "\t 45 - 1-1/2 STORY - UNFINISHED ALL AGES\n",
      "\t 50 - 1-1/2 STORY FINISHED ALL AGES\n",
      "\t 60 - 2-STORY 1946 & NEWER\n",
      "\t 70 - 2-STORY 1945 & OLDER\n",
      "\t 75 - 2-1/2 STORY ALL AGES\n",
      "\t 80 - SPLIT OR MULTI-LEVEL\n",
      "\t 85 - SPLIT FOYER\n",
      "\t 90 - DUPLEX - ALL STYLES AND AGES\n",
      "\t 120 - 1-STORY PUD (Planned Unit Development) - 1946 & NEWER\n",
      "\t 150 - 1-1/2 STORY PUD - ALL AGES\n",
      "\t 160 - 2-STORY PUD - 1946 & NEWER\n",
      "\t 180 - PUD - MULTILEVEL - INCL SPLIT LEV/FOYER\n",
      "\t 190 - 2 FAMILY CONVERSION - ALL STYLES AND AGES\n",
      "\n",
      "\n",
      "Condition2: Proximity to various conditions (if more than one is present)\n",
      "\n",
      "\t Artery - Adjacent to arterial street\n",
      "\t Feedr - Adjacent to feeder street\n",
      "\t Norm - Normal\n",
      "\t RRNn - Within 200' of North-South Railroad\n",
      "\t RRAn - Adjacent to North-South Railroad\n",
      "\t PosN - Near positive off-site feature--park, greenbelt, etc.\n",
      "\t PosA - Adjacent to postive off-site feature\n",
      "\t RRNe - Within 200' of East-West Railroad\n",
      "\t RRAe - Adjacent to East-West Railroad\n",
      "\n",
      "\n",
      "RoofStyle: Type of roof\n",
      "\n",
      "\t Flat - Flat\n",
      "\t Gable - Gable\n",
      "\t Gambrel - Gabrel (Barn)\n",
      "\t Hip - Hip\n",
      "\t Mansard - Mansard\n",
      "\t Shed - Shed\n",
      "\n",
      "\n",
      "RoofMatl: Roof material\n",
      "\n",
      "\t ClyTile - Clay or Tile\n",
      "\t CompShg - Standard (Composite) Shingle\n",
      "\t Membran - Membrane\n",
      "\t Metal - Metal\n",
      "\t Roll - Roll\n",
      "\t Tar&Grv - Gravel & Tar\n",
      "\t WdShake - Wood Shakes\n",
      "\t WdShngl - Wood Shingles\n",
      "\n",
      "\n",
      "Exterior1st: Exterior covering on house\n",
      "\n",
      "\t AsbShng - Asbestos Shingles\n",
      "\t AsphShn - Asphalt Shingles\n",
      "\t BrkComm - Brick Common\n",
      "\t BrkFace - Brick Face\n",
      "\t CBlock - Cinder Block\n",
      "\t CemntBd - Cement Board\n",
      "\t HdBoard - Hard Board\n",
      "\t ImStucc - Imitation Stucco\n",
      "\t MetalSd - Metal Siding\n",
      "\t Other - Other\n",
      "\t Plywood - Plywood\n",
      "\t PreCast - PreCast\n",
      "\t Stone - Stone\n",
      "\t Stucco - Stucco\n",
      "\t VinylSd - Vinyl Siding\n",
      "\t Sdng - Wood Siding\n",
      "\t WdShing - Wood Shingles\n",
      "\n",
      "\n",
      "Exterior2nd: Exterior covering on house (if more than one material)\n",
      "\n",
      "\t AsbShng - Asbestos Shingles\n",
      "\t AsphShn - Asphalt Shingles\n",
      "\t BrkComm - Brick Common\n",
      "\t BrkFace - Brick Face\n",
      "\t CBlock - Cinder Block\n",
      "\t CemntBd - Cement Board\n",
      "\t HdBoard - Hard Board\n",
      "\t ImStucc - Imitation Stucco\n",
      "\t MetalSd - Metal Siding\n",
      "\t Other - Other\n",
      "\t Plywood - Plywood\n",
      "\t PreCast - PreCast\n",
      "\t Stone - Stone\n",
      "\t Stucco - Stucco\n",
      "\t VinylSd - Vinyl Siding\n",
      "\t Sdng - Wood Siding\n",
      "\t WdShing - Wood Shingles\n",
      "\n",
      "\n",
      "MasVnrType: Masonry veneer type\n",
      "\n",
      "\t BrkCmn - Brick Common\n",
      "\t BrkFace - Brick Face\n",
      "\t CBlock - Cinder Block\n",
      "\t None - None\n",
      "\t Stone - Stone\n",
      "\n",
      "\n",
      "Foundation: Type of foundation\n",
      "\n",
      "\t BrkTil - Brick & Tile\n",
      "\t CBlock - Cinder Block\n",
      "\t PConc - Poured Contrete\n",
      "\t Slab - Slab\n",
      "\t Stone - Stone\n",
      "\t Wood - Wood\n",
      "\n",
      "\n",
      "Heating: Type of heating\n",
      "\n",
      "\t Floor - Floor Furnace\n",
      "\t GasA - Gas forced warm air furnace\n",
      "\t GasW - Gas hot water or steam heat\n",
      "\t Grav - Gravity furnace\n",
      "\t OthW - Hot water or steam heat other than gas\n",
      "\t Wall - Wall furnace\n",
      "\n",
      "\n",
      "Electrical: Electrical system\n",
      "\n",
      "\t SBrkr - Standard Circuit Breakers & Romex\n",
      "\t FuseA - Fuse Box over 60 AMP and all Romex wiring (Average)\n",
      "\t FuseF - 60 AMP Fuse Box and mostly Romex wiring (Fair)\n",
      "\t FuseP - 60 AMP Fuse Box and mostly knob & tube wiring (poor)\n",
      "\t Mix - Mixed\n",
      "\n",
      "\n",
      "SaleType: Type of sale\n",
      "\n",
      "\t WD - Warranty Deed - Conventional\n",
      "\t CWD - Warranty Deed - Cash\n",
      "\t VWD - Warranty Deed - VA Loan\n",
      "\t New - Home just constructed and sold\n",
      "\t COD - Court Officer Deed/Estate\n",
      "\t Con - Contract 15% Down payment regular terms\n",
      "\t ConLw - Contract Low Down payment and low interest\n",
      "\t ConLI - Contract Low Interest\n",
      "\t ConLD - Contract Low Down\n",
      "\t Oth - Other\n",
      "\n",
      "\n"
     ]
    }
   ],
   "source": [
    "desc = DataDescription('../data/data_description.txt')\n",
    "clean.desc = desc\n",
    "clean.print_desc(small_val_count_cat_cols)"
   ]
  },
  {
   "cell_type": "markdown",
   "metadata": {},
   "source": [
    "We'll perform the following combinations of categorical variable values:\n",
    "\n",
    "- `MSSubClass`: Change the single observation with value 150 to 50, the next most sensible value \n",
    "\n",
    "- `Condition2`: Merge `PosA`, `PosN`, `RRNn`, `RRAn`, and `RRAe` into a new value `Other`\n",
    "- `RoofMatl`: Merge `WdShake`, `WdShingle` into a new value `Wood` and `Roll`, `Metal`, `Membran` into a new value `Other`\n",
    "- `Exterior1st`, : Merge `BrkComm` into `BrkFace`, `AsphShn` into `AsbShng`, `ImStucc` into `Stucco` and  `Stone` and `CBlock` into a new value `Other`\n",
    "-  `Exterior2nd`: Merge `AsphShn` into `AsbShng` and `Stone` and `CBlock` into `Other`\n",
    "- `Heating`: Merge `Wall`, `OthW`, and `Floor` into a new variable `Other`\n",
    "\n",
    "- `MasVnrType`: Merge `BrkComm` in `BrkFace`\n",
    "- `Electrical`: Merge `FuseA`, `FuseF`, `FuseP`, and `Mix` into a new value `NonStd`"
   ]
  },
  {
   "cell_type": "code",
   "execution_count": 8,
   "metadata": {},
   "outputs": [],
   "source": [
    "# new dataframes\n",
    "clean_edit = HPDataFramePlus(data=clean.data)\n",
    "drop_edit = HPDataFramePlus(data=drop.data)\n",
    "\n",
    "# combine categorical variable values\n",
    "clean_edit.data = combine_cat_vars(data=clean.data)\n",
    "drop_edit.data = combine_cat_vars(data=drop.data)"
   ]
  },
  {
   "cell_type": "markdown",
   "metadata": {},
   "source": [
    "Now we'll look at ordinal variables"
   ]
  },
  {
   "cell_type": "code",
   "execution_count": 9,
   "metadata": {},
   "outputs": [
    {
     "name": "stdout",
     "output_type": "stream",
     "text": [
      "\n",
      "3    2915\n",
      "1       1\n",
      "Name: Utilities, dtype: int64\n",
      "\n",
      "5     825\n",
      "6     731\n",
      "7     600\n",
      "8     342\n",
      "4     225\n",
      "9     107\n",
      "3      40\n",
      "10     29\n",
      "2      13\n",
      "1       4\n",
      "Name: OverallQual, dtype: int64\n",
      "\n",
      "3    2535\n",
      "4     299\n",
      "2      67\n",
      "5      12\n",
      "1       3\n",
      "Name: ExterCond, dtype: int64\n",
      "\n",
      "3    2603\n",
      "4     122\n",
      "2     104\n",
      "0      82\n",
      "1       5\n",
      "Name: BsmtCond, dtype: int64\n",
      "\n",
      "5    1490\n",
      "3     857\n",
      "4     474\n",
      "2      92\n",
      "1       3\n",
      "Name: HeatingQC, dtype: int64\n",
      "\n",
      "0    1707\n",
      "1    1170\n",
      "2      37\n",
      "3       2\n",
      "Name: BsmtFullBath, dtype: int64\n",
      "\n",
      "0    2741\n",
      "1     171\n",
      "2       4\n",
      "Name: BsmtHalfBath, dtype: int64\n",
      "\n",
      "2    1529\n",
      "1    1308\n",
      "3      63\n",
      "0      12\n",
      "4       4\n",
      "Name: FullBath, dtype: int64\n",
      "\n",
      "3    1594\n",
      "2     741\n",
      "4     400\n",
      "1     103\n",
      "5      48\n",
      "6      21\n",
      "0       8\n",
      "8       1\n",
      "Name: BedroomAbvGr, dtype: int64\n",
      "\n",
      "1    2782\n",
      "2     129\n",
      "0       3\n",
      "3       2\n",
      "Name: KitchenAbvGr, dtype: int64\n",
      "\n",
      "2    1492\n",
      "3    1150\n",
      "4     203\n",
      "1      70\n",
      "0       1\n",
      "Name: KitchenQual, dtype: int64\n",
      "\n",
      "6     843\n",
      "7     649\n",
      "5     583\n",
      "8     347\n",
      "4     196\n",
      "9     143\n",
      "10     80\n",
      "11     31\n",
      "3      25\n",
      "12     15\n",
      "15      1\n",
      "13      1\n",
      "14      1\n",
      "2       1\n",
      "Name: TotRmsAbvGrd, dtype: int64\n",
      "\n",
      "6    2717\n",
      "3      70\n",
      "5      64\n",
      "2      35\n",
      "4      19\n",
      "1       9\n",
      "0       2\n",
      "Name: Functional, dtype: int64\n",
      "\n",
      "0    1420\n",
      "1    1267\n",
      "2     218\n",
      "3      10\n",
      "4       1\n",
      "Name: Fireplaces, dtype: int64\n",
      "\n",
      "2    1593\n",
      "1     776\n",
      "3     373\n",
      "0     157\n",
      "4      16\n",
      "5       1\n",
      "Name: GarageCars, dtype: int64\n",
      "\n",
      "3    2601\n",
      "0     159\n",
      "2     124\n",
      "4      24\n",
      "1       5\n",
      "5       3\n",
      "Name: GarageQual, dtype: int64\n",
      "\n",
      "3    2651\n",
      "0     159\n",
      "2      74\n",
      "4      15\n",
      "1      14\n",
      "5       3\n",
      "Name: GarageCond, dtype: int64\n",
      "\n",
      "0    2907\n",
      "4       4\n",
      "3       3\n",
      "1       2\n",
      "Name: PoolQC, dtype: int64\n"
     ]
    }
   ],
   "source": [
    "# print small value counts of ordinal variables\n",
    "edit_ords_data = clean.data.select_dtypes('int64')\n",
    "small_val_count_ord_cols = print_small_val_counts(edit_ords_data, val_count_threshold=6)"
   ]
  },
  {
   "cell_type": "code",
   "execution_count": 10,
   "metadata": {},
   "outputs": [
    {
     "name": "stdout",
     "output_type": "stream",
     "text": [
      "Utilities: Type of utilities available\n",
      "\n",
      "\t AllPub - All public Utilities (E,G,W,& S)\n",
      "\t NoSewr - Electricity, Gas, and Water (Septic Tank)\n",
      "\t NoSeWa - Electricity and Gas Only\n",
      "\t ELO - Electricity only\n",
      "\n",
      "\n",
      "OverallQual: Rates the overall material and finish of the house\n",
      "\n",
      "\t 10 - Very Excellent\n",
      "\t 9 - Excellent\n",
      "\t 8 - Very Good\n",
      "\t 7 - Good\n",
      "\t 6 - Above Average\n",
      "\t 5 - Average\n",
      "\t 4 - Below Average\n",
      "\t 3 - Fair\n",
      "\t 2 - Poor\n",
      "\t 1 - Very Poor\n",
      "\n",
      "\n",
      "ExterCond: Evaluates the present condition of the material on the exterior\n",
      "\n",
      "\t Ex - Excellent\n",
      "\t Gd - Good\n",
      "\t TA - Average/Typical\n",
      "\t Fa - Fair\n",
      "\t Po - Poor\n",
      "\n",
      "\n",
      "BsmtCond: Evaluates the general condition of the basement\n",
      "\n",
      "\t Ex - Excellent\n",
      "\t Gd - Good\n",
      "\t TA - Typical - slight dampness allowed\n",
      "\t Fa - Fair - dampness or some cracking or settling\n",
      "\t Po - Poor - Severe cracking, settling, or wetness\n",
      "\t NA - No Basement\n",
      "\n",
      "\n",
      "HeatingQC: Heating quality and condition\n",
      "\n",
      "\t Ex - Excellent\n",
      "\t Gd - Good\n",
      "\t TA - Average/Typical\n",
      "\t Fa - Fair\n",
      "\t Po - Poor\n",
      "\n",
      "\n",
      "BsmtFullBath: Basement full bathrooms\n",
      "\n",
      "\n",
      "\n",
      "BsmtHalfBath: Basement half bathrooms\n",
      "\n",
      "\n",
      "\n",
      "FullBath: Full bathrooms above grade\n",
      "\n",
      "\n",
      "\n",
      "BedroomAbvGr: Bedrooms above grade (does NOT include basement bedrooms)\n",
      "\n",
      "\n",
      "\n",
      "KitchenAbvGr: Kitchens above grade\n",
      "\n",
      "\n",
      "\n",
      "KitchenQual: Kitchen quality\n",
      "\n",
      "\t Ex - Excellent\n",
      "\t Gd - Good\n",
      "\t TA - Typical/Average\n",
      "\t Fa - Fair\n",
      "\t Po - Poor\n",
      "\n",
      "\n",
      "TotRmsAbvGrd: Total rooms above grade (does not include bathrooms)\n",
      "\n",
      "\n",
      "\n",
      "Functional: Home functionality (Assume typical unless deductions are warranted)\n",
      "\n",
      "\t Typ - Typical Functionality\n",
      "\t Min1 - Minor Deductions 1\n",
      "\t Min2 - Minor Deductions 2\n",
      "\t Mod - Moderate Deductions\n",
      "\t Maj1 - Major Deductions 1\n",
      "\t Maj2 - Major Deductions 2\n",
      "\t Sev - Severely Damaged\n",
      "\t Sal - Salvage only\n",
      "\n",
      "\n",
      "Fireplaces: Number of fireplaces\n",
      "\n",
      "\n",
      "\n",
      "GarageCars: Size of garage in car capacity\n",
      "\n",
      "\n",
      "\n",
      "GarageQual: Garage quality\n",
      "\n",
      "\t Ex - Excellent\n",
      "\t Gd - Good\n",
      "\t TA - Typical/Average\n",
      "\t Fa - Fair\n",
      "\t Po - Poor\n",
      "\t NA - No Garage\n",
      "\n",
      "\n",
      "GarageCond: Garage condition\n",
      "\n",
      "\t Ex - Excellent\n",
      "\t Gd - Good\n",
      "\t TA - Typical/Average\n",
      "\t Fa - Fair\n",
      "\t Po - Poor\n",
      "\t NA - No Garage\n",
      "\n",
      "\n",
      "PoolQC: Pool quality\n",
      "\n",
      "\t Ex - Excellent\n",
      "\t Gd - Good\n",
      "\t TA - Average/Typical\n",
      "\t Fa - Fair\n",
      "\t NA - No Pool\n",
      "\n",
      "\n"
     ]
    }
   ],
   "source": [
    "clean.print_desc(small_val_count_ord_cols)"
   ]
  },
  {
   "cell_type": "markdown",
   "metadata": {},
   "source": [
    "Even though many ordinal variables have values with low counts, we're less inclined to combine values because we lose ordering information. However we will drop `Utilities` from all data, since a binary variable with one observation for one value is essentially useless."
   ]
  },
  {
   "cell_type": "code",
   "execution_count": 11,
   "metadata": {},
   "outputs": [],
   "source": [
    "# drop extremely unbalanced binary variable\n",
    "clean.data = clean.data.drop(columns=['Utilities'])\n",
    "clean_edit.data = clean_edit.data.drop(columns=['Utilities'])"
   ]
  },
  {
   "cell_type": "markdown",
   "metadata": {},
   "source": [
    "We'll also create some new variables:\n",
    "\n",
    "- `Bath` = `HalfBath` + 2 * `FullBath` and drop\n",
    "`HalfBath` and `FullBath`\n",
    "- `BsmtBath` = `BsmtHalfBath` + 2 * `BsmtFullBath` and drop `BsmtHalfBath` and `BsmtFullBath`\n",
    "- `AvgQual`, the average of `OverallQual`, `ExterQual`, `BsmtQual`, `HeatingQC`, `KitchenQual`, `FireplaceQu` and `GarageQual`.\n",
    "- `AvgCond`, the average of `OverallCond`, `ExterCond`, `BsmtCond`, and `GarageCond`\n",
    "- Indicator variables `HasBsmt`, `HasFireplace`, `HasPool`, `HasGarage`, `HasFence`\n",
    "\n",
    "Note the factor of 2 in the new bath variables is so full baths are twice the weight of half baths. Also note the new average quality and condition variables will be quantitative (`float64` dtype)"
   ]
  },
  {
   "cell_type": "code",
   "execution_count": 12,
   "metadata": {},
   "outputs": [],
   "source": [
    "# create new ordinal variables\n",
    "clean_edit.data = create_ord_vars(clean_edit.data, clean.data)\n",
    "drop_edit.data = create_ord_vars(drop_edit.data, clean.data)"
   ]
  },
  {
   "cell_type": "markdown",
   "metadata": {},
   "source": [
    "Finally, we'll look at quantitative variables."
   ]
  },
  {
   "cell_type": "code",
   "execution_count": 13,
   "metadata": {},
   "outputs": [
    {
     "data": {
      "text/plain": [
       "Index(['LotFrontage', 'LotArea', 'YearBuilt', 'YearRemodAdd', 'MasVnrArea',\n",
       "       'BsmtFinSF1', 'BsmtFinSF2', 'BsmtUnfSF', 'TotalBsmtSF', '1stFlrSF',\n",
       "       '2ndFlrSF', 'LowQualFinSF', 'GrLivArea', 'GarageYrBlt', 'GarageArea',\n",
       "       'WoodDeckSF', 'OpenPorchSF', 'EnclosedPorch', '3SsnPorch',\n",
       "       'ScreenPorch', 'PoolArea', 'MiscVal', 'SalePrice'],\n",
       "      dtype='object')"
      ]
     },
     "execution_count": 13,
     "metadata": {},
     "output_type": "execute_result"
    }
   ],
   "source": [
    "quants_data = clean.data.select_dtypes('float64')\n",
    "quants_data.columns"
   ]
  },
  {
   "cell_type": "markdown",
   "metadata": {},
   "source": [
    "We [noted above](#Quantitative-variables) that many of these variables have high concentrations at zero. We'll\n",
    "\n",
    "- Create indicator variables `Has2ndFlr`, `HasWoodDeck`, `HasPorch`\n",
    "- Create an overall area variable `OverallArea` = `LotArea` + `GrLivArea` + `GarageArea`\n",
    "- Create a lot variable `LotRatio` = `LotArea` / `LotFrontage`"
   ]
  },
  {
   "cell_type": "code",
   "execution_count": 14,
   "metadata": {},
   "outputs": [],
   "source": [
    "# create new quantiative variables\n",
    "clean_edit.data = create_quant_vars(clean_edit.data, clean.data)\n",
    "drop_edit.data = create_quant_vars(drop_edit.data, clean.data)"
   ]
  },
  {
   "cell_type": "markdown",
   "metadata": {},
   "source": [
    "### Transform skewed quantitative variables"
   ]
  },
  {
   "cell_type": "markdown",
   "metadata": {},
   "source": [
    "We noted that many of the quantitative variables (including the response variable `SalePrice`)  had approximately logarithmic distributions, so we'll apply a log transformation to these. Note that we expect this to improve the performance of some predictive modeling methods (e.g. linear regression) but to have little effect on other methods (e.g. tree-based methods)."
   ]
  },
  {
   "cell_type": "code",
   "execution_count": 15,
   "metadata": {},
   "outputs": [
    {
     "data": {
      "text/plain": [
       "Index(['LotFrontage', 'LotArea', 'YearBuilt', 'YearRemodAdd', 'MasVnrArea',\n",
       "       'BsmtFinSF1', 'BsmtFinSF2', 'BsmtUnfSF', 'TotalBsmtSF', '1stFlrSF',\n",
       "       '2ndFlrSF', 'LowQualFinSF', 'GrLivArea', 'GarageYrBlt', 'GarageArea',\n",
       "       'WoodDeckSF', 'OpenPorchSF', 'EnclosedPorch', '3SsnPorch',\n",
       "       'ScreenPorch', 'PoolArea', 'MiscVal', 'SalePrice', 'AvgQual', 'AvgCond',\n",
       "       'OverallArea', 'LotRatio'],\n",
       "      dtype='object')"
      ]
     },
     "execution_count": 15,
     "metadata": {},
     "output_type": "execute_result"
    }
   ],
   "source": [
    "quants_data = clean_edit.data.select_dtypes('float64')\n",
    "quants_data.columns"
   ]
  },
  {
   "cell_type": "code",
   "execution_count": 16,
   "metadata": {},
   "outputs": [
    {
     "data": {
      "image/png": "[encoded data removed]",
      "text/plain": [
       "<Figure size 1080x1440 with 28 Axes>"
      ]
     },
     "metadata": {
      "needs_background": "light"
     },
     "output_type": "display_data"
    }
   ],
   "source": [
    "# inspect distributions of quantitatives including new ones\n",
    "plot_cont_dists(nrows=7, ncols=4, data=quants_data.drop(columns=['SalePrice']), figsize=(15, 20))"
   ]
  },
  {
   "cell_type": "code",
   "execution_count": 17,
   "metadata": {},
   "outputs": [
    {
     "name": "stdout",
     "output_type": "stream",
     "text": [
      "Minimum quantitative value is 0.0\n",
      "Minimum nonzero quantitative value is 0.4444444444444444\n"
     ]
    }
   ],
   "source": [
    "# find minimum value over all quantitatives\n",
    "quants_min_nonzero = quants_data[quants_data != 0].min().min()\n",
    "print(f\"Minimum quantitative value is {quants_data.min().min()}\")\n",
    "print(f\"Minimum nonzero quantitative value is {quants_min_nonzero}\")"
   ]
  },
  {
   "cell_type": "markdown",
   "metadata": {},
   "source": [
    "Since the minimum nonzero quantitative value is $< 1$, we must set $log(var) < log$ (`quants_min`) if $var = 0$ in order not to interfere with monotonicity"
   ]
  },
  {
   "cell_type": "code",
   "execution_count": 18,
   "metadata": {},
   "outputs": [
    {
     "data": {
      "text/plain": [
       "Index(['LotFrontage', 'LotArea', 'MasVnrArea', 'BsmtFinSF1', 'BsmtFinSF2',\n",
       "       'BsmtUnfSF', 'TotalBsmtSF', '1stFlrSF', '2ndFlrSF', 'LowQualFinSF',\n",
       "       'GrLivArea', 'WoodDeckSF', 'OpenPorchSF', 'EnclosedPorch', '3SsnPorch',\n",
       "       'ScreenPorch', 'PoolArea', 'MiscVal', 'SalePrice', 'AvgQual',\n",
       "       'OverallArea', 'LotRatio'],\n",
       "      dtype='object')"
      ]
     },
     "execution_count": 18,
     "metadata": {},
     "output_type": "execute_result"
    }
   ],
   "source": [
    "# Columns to log transform\n",
    "log_cols = quants_data.columns.drop(['YearBuilt', 'YearRemodAdd', 'GarageYrBlt', 'GarageArea', 'AvgCond'])\n",
    "log_cols"
   ]
  },
  {
   "cell_type": "code",
   "execution_count": 19,
   "metadata": {},
   "outputs": [],
   "source": [
    "# log transform SalePrice\n",
    "clean.data = log_transform(data=clean.data, log_cols=['SalePrice'])\n",
    "drop.data = log_transform(data=drop.data, log_cols=['SalePrice'])"
   ]
  },
  {
   "cell_type": "code",
   "execution_count": 20,
   "metadata": {},
   "outputs": [],
   "source": [
    "# log transform most quantitatives\n",
    "clean_edit.data = log_transform(data=clean_edit.data, log_cols=log_cols)\n",
    "drop_edit.data = log_transform(data=drop_edit.data, log_cols=log_cols)"
   ]
  },
  {
   "cell_type": "markdown",
   "metadata": {
    "toc-hr-collapsed": false
   },
   "source": [
    "## Model selection and tuning "
   ]
  },
  {
   "cell_type": "markdown",
   "metadata": {},
   "source": [
    "### Create modeling datasets"
   ]
  },
  {
   "cell_type": "code",
   "execution_count": 21,
   "metadata": {},
   "outputs": [],
   "source": [
    "# set col kinds attribute of HPDataFramePlus attribute for model data method\n",
    "do_col_kinds(drop)\n",
    "do_col_kinds(drop_edit)\n",
    "do_col_kinds(clean)\n",
    "do_col_kinds(clean_edit)"
   ]
  },
  {
   "cell_type": "code",
   "execution_count": 22,
   "metadata": {},
   "outputs": [],
   "source": [
    "# model data\n",
    "mclean = HPDataFramePlus(data=clean.get_model_data(response='log_SalePrice'))\n",
    "mclean_edit = HPDataFramePlus(data=clean_edit.get_model_data(response='log_SalePrice'))\n",
    "mdrop = HPDataFramePlus(data=drop.get_model_data(response='log_SalePrice'))\n",
    "mdrop_edit = HPDataFramePlus(data=drop_edit.get_model_data(response='log_SalePrice'))"
   ]
  },
  {
   "cell_type": "code",
   "execution_count": 23,
   "metadata": {},
   "outputs": [
    {
     "name": "stdout",
     "output_type": "stream",
     "text": [
      "<class 'pandas.core.frame.DataFrame'>\n",
      "MultiIndex: 2916 entries, (train, 1) to (test, 2919)\n",
      "Columns: 230 entries, LotFrontage to log_SalePrice\n",
      "dtypes: float64(230)\n",
      "memory usage: 5.2+ MB\n"
     ]
    }
   ],
   "source": [
    "mclean.data.info()"
   ]
  },
  {
   "cell_type": "code",
   "execution_count": 24,
   "metadata": {},
   "outputs": [
    {
     "name": "stdout",
     "output_type": "stream",
     "text": [
      "<class 'pandas.core.frame.DataFrame'>\n",
      "MultiIndex: 2916 entries, (train, 1) to (test, 2919)\n",
      "Columns: 222 entries, LotShape to log_SalePrice\n",
      "dtypes: float64(222)\n",
      "memory usage: 5.0+ MB\n"
     ]
    }
   ],
   "source": [
    "mclean_edit.data.info()"
   ]
  },
  {
   "cell_type": "code",
   "execution_count": 25,
   "metadata": {},
   "outputs": [
    {
     "name": "stdout",
     "output_type": "stream",
     "text": [
      "<class 'pandas.core.frame.DataFrame'>\n",
      "MultiIndex: 2916 entries, (train, 1) to (test, 2919)\n",
      "Columns: 173 entries, LotFrontage to log_SalePrice\n",
      "dtypes: float64(173)\n",
      "memory usage: 4.0+ MB\n"
     ]
    }
   ],
   "source": [
    "mdrop.data.info()"
   ]
  },
  {
   "cell_type": "code",
   "execution_count": 26,
   "metadata": {},
   "outputs": [
    {
     "name": "stdout",
     "output_type": "stream",
     "text": [
      "<class 'pandas.core.frame.DataFrame'>\n",
      "MultiIndex: 2916 entries, (train, 1) to (test, 2919)\n",
      "Columns: 176 entries, LotShape to log_SalePrice\n",
      "dtypes: float64(176)\n",
      "memory usage: 4.0+ MB\n"
     ]
    }
   ],
   "source": [
    "mdrop_edit.data.info()"
   ]
  },
  {
   "cell_type": "markdown",
   "metadata": {},
   "source": [
    "### Compare default models for baseline"
   ]
  },
  {
   "cell_type": "code",
   "execution_count": 27,
   "metadata": {},
   "outputs": [],
   "source": [
    "hpdfs = [mclean, mdrop, mclean_edit, mdrop_edit]\n",
    "data_names = ['clean', 'drop', 'clean_edit', 'drop_edit']\n",
    "response = 'log_SalePrice'\n",
    "model_data = build_model_data(hpdfs, data_names, response)"
   ]
  },
  {
   "cell_type": "markdown",
   "metadata": {},
   "source": [
    "First we'll look at a selection of untuned models with default parameters to get a rough idea of which ones might have better performance. \n",
    "\n",
    "We'll use root mean squared error (RMSE) for our loss function. Since we have a relatively small dataset, we'll use cross-validation to estimate rmse for test data."
   ]
  },
  {
   "cell_type": "code",
   "execution_count": 28,
   "metadata": {},
   "outputs": [],
   "source": [
    "# fit some default regressor models\n",
    "def_models = {'lasso': Lasso(), \n",
    "              'ridge': Ridge(),\n",
    "              'bridge': BayesianRidge(),\n",
    "              'pls': PLSRegression(), \n",
    "              'svr': SVR(),\n",
    "              'knn': KNeighborsRegressor(),\n",
    "              'mlp': MLPRegressor(),\n",
    "              'dectree': DecisionTreeRegressor(random_state=27),\n",
    "              'extratree': ExtraTreeRegressor(random_state=27),\n",
    "              'xgb': XGBRegressor(objective='reg:squarederror', random_state=27, n_jobs=-1)}\n",
    "\n",
    "\n",
    "fit_def_models = fit_default_models(model_data, def_models)"
   ]
  },
  {
   "cell_type": "code",
   "execution_count": 29,
   "metadata": {},
   "outputs": [
    {
     "data": {
      "text/html": [
       "<div>\n",
       "<style scoped>\n",
       "    .dataframe tbody tr th:only-of-type {\n",
       "        vertical-align: middle;\n",
       "    }\n",
       "\n",
       "    .dataframe tbody tr th {\n",
       "        vertical-align: top;\n",
       "    }\n",
       "\n",
       "    .dataframe thead tr th {\n",
       "        text-align: left;\n",
       "    }\n",
       "</style>\n",
       "<table border=\"1\" class=\"dataframe\">\n",
       "  <thead>\n",
       "    <tr>\n",
       "      <th>data</th>\n",
       "      <th>model</th>\n",
       "      <th colspan=\"2\" halign=\"left\">clean</th>\n",
       "      <th colspan=\"2\" halign=\"left\">drop</th>\n",
       "      <th colspan=\"2\" halign=\"left\">clean_edit</th>\n",
       "      <th colspan=\"2\" halign=\"left\">drop_edit</th>\n",
       "    </tr>\n",
       "    <tr>\n",
       "      <th>performance</th>\n",
       "      <th></th>\n",
       "      <th>train_rmse</th>\n",
       "      <th>cv_rmse</th>\n",
       "      <th>train_rmse</th>\n",
       "      <th>cv_rmse</th>\n",
       "      <th>train_rmse</th>\n",
       "      <th>cv_rmse</th>\n",
       "      <th>train_rmse</th>\n",
       "      <th>cv_rmse</th>\n",
       "    </tr>\n",
       "  </thead>\n",
       "  <tbody>\n",
       "    <tr>\n",
       "      <td>0</td>\n",
       "      <td>bridge</td>\n",
       "      <td>0.0950012</td>\n",
       "      <td>0.115226</td>\n",
       "      <td>0.0988284</td>\n",
       "      <td>0.11371</td>\n",
       "      <td>0.094478</td>\n",
       "      <td>0.11409</td>\n",
       "      <td>0.0996576</td>\n",
       "      <td>0.115962</td>\n",
       "    </tr>\n",
       "    <tr>\n",
       "      <td>1</td>\n",
       "      <td>ridge</td>\n",
       "      <td>0.0948572</td>\n",
       "      <td>0.116246</td>\n",
       "      <td>0.099311</td>\n",
       "      <td>0.114194</td>\n",
       "      <td>0.094225</td>\n",
       "      <td>0.113706</td>\n",
       "      <td>0.0998434</td>\n",
       "      <td>0.116375</td>\n",
       "    </tr>\n",
       "    <tr>\n",
       "      <td>2</td>\n",
       "      <td>xgb</td>\n",
       "      <td>0.0853461</td>\n",
       "      <td>0.122093</td>\n",
       "      <td>0.0895599</td>\n",
       "      <td>0.123479</td>\n",
       "      <td>0.0876669</td>\n",
       "      <td>0.123595</td>\n",
       "      <td>0.0889219</td>\n",
       "      <td>0.126636</td>\n",
       "    </tr>\n",
       "    <tr>\n",
       "      <td>3</td>\n",
       "      <td>pls</td>\n",
       "      <td>0.122064</td>\n",
       "      <td>0.127405</td>\n",
       "      <td>0.127452</td>\n",
       "      <td>0.133998</td>\n",
       "      <td>0.130416</td>\n",
       "      <td>0.13708</td>\n",
       "      <td>0.133912</td>\n",
       "      <td>0.139404</td>\n",
       "    </tr>\n",
       "    <tr>\n",
       "      <td>4</td>\n",
       "      <td>svr</td>\n",
       "      <td>0.122741</td>\n",
       "      <td>0.134491</td>\n",
       "      <td>0.123251</td>\n",
       "      <td>0.13529</td>\n",
       "      <td>0.120197</td>\n",
       "      <td>0.131894</td>\n",
       "      <td>0.123082</td>\n",
       "      <td>0.134709</td>\n",
       "    </tr>\n",
       "    <tr>\n",
       "      <td>5</td>\n",
       "      <td>mlp</td>\n",
       "      <td>0.116434</td>\n",
       "      <td>0.172462</td>\n",
       "      <td>0.123199</td>\n",
       "      <td>0.182601</td>\n",
       "      <td>0.113073</td>\n",
       "      <td>0.162779</td>\n",
       "      <td>0.122168</td>\n",
       "      <td>0.171919</td>\n",
       "    </tr>\n",
       "    <tr>\n",
       "      <td>6</td>\n",
       "      <td>dectree</td>\n",
       "      <td>2.93011e-05</td>\n",
       "      <td>0.200113</td>\n",
       "      <td>2.52372e-05</td>\n",
       "      <td>0.205864</td>\n",
       "      <td>3.15449e-05</td>\n",
       "      <td>0.206949</td>\n",
       "      <td>2.48969e-05</td>\n",
       "      <td>0.200551</td>\n",
       "    </tr>\n",
       "    <tr>\n",
       "      <td>7</td>\n",
       "      <td>knn</td>\n",
       "      <td>0.164677</td>\n",
       "      <td>0.20921</td>\n",
       "      <td>0.161079</td>\n",
       "      <td>0.201135</td>\n",
       "      <td>0.153413</td>\n",
       "      <td>0.194985</td>\n",
       "      <td>0.153466</td>\n",
       "      <td>0.18835</td>\n",
       "    </tr>\n",
       "    <tr>\n",
       "      <td>8</td>\n",
       "      <td>extratree</td>\n",
       "      <td>2.26808e-05</td>\n",
       "      <td>0.211913</td>\n",
       "      <td>1.40429e-05</td>\n",
       "      <td>0.216413</td>\n",
       "      <td>1.66016e-05</td>\n",
       "      <td>0.209181</td>\n",
       "      <td>1.87349e-05</td>\n",
       "      <td>0.213926</td>\n",
       "    </tr>\n",
       "    <tr>\n",
       "      <td>9</td>\n",
       "      <td>lasso</td>\n",
       "      <td>0.399557</td>\n",
       "      <td>0.399865</td>\n",
       "      <td>0.399557</td>\n",
       "      <td>0.399721</td>\n",
       "      <td>0.399557</td>\n",
       "      <td>0.400058</td>\n",
       "      <td>0.399557</td>\n",
       "      <td>0.399743</td>\n",
       "    </tr>\n",
       "  </tbody>\n",
       "</table>\n",
       "</div>"
      ],
      "text/plain": [
       "data             model        clean                   drop            \\\n",
       "performance              train_rmse   cv_rmse   train_rmse   cv_rmse   \n",
       "0               bridge    0.0950012  0.115226    0.0988284   0.11371   \n",
       "1                ridge    0.0948572  0.116246     0.099311  0.114194   \n",
       "2                  xgb    0.0853461  0.122093    0.0895599  0.123479   \n",
       "3                  pls     0.122064  0.127405     0.127452  0.133998   \n",
       "4                  svr     0.122741  0.134491     0.123251   0.13529   \n",
       "5                  mlp     0.116434  0.172462     0.123199  0.182601   \n",
       "6              dectree  2.93011e-05  0.200113  2.52372e-05  0.205864   \n",
       "7                  knn     0.164677   0.20921     0.161079  0.201135   \n",
       "8            extratree  2.26808e-05  0.211913  1.40429e-05  0.216413   \n",
       "9                lasso     0.399557  0.399865     0.399557  0.399721   \n",
       "\n",
       "data          clean_edit              drop_edit            \n",
       "performance   train_rmse   cv_rmse   train_rmse   cv_rmse  \n",
       "0               0.094478   0.11409    0.0996576  0.115962  \n",
       "1               0.094225  0.113706    0.0998434  0.116375  \n",
       "2              0.0876669  0.123595    0.0889219  0.126636  \n",
       "3               0.130416   0.13708     0.133912  0.139404  \n",
       "4               0.120197  0.131894     0.123082  0.134709  \n",
       "5               0.113073  0.162779     0.122168  0.171919  \n",
       "6            3.15449e-05  0.206949  2.48969e-05  0.200551  \n",
       "7               0.153413  0.194985     0.153466   0.18835  \n",
       "8            1.66016e-05  0.209181  1.87349e-05  0.213926  \n",
       "9               0.399557  0.400058     0.399557  0.399743  "
      ]
     },
     "execution_count": 29,
     "metadata": {},
     "output_type": "execute_result"
    }
   ],
   "source": [
    "# compare default models \n",
    "def_comp_df = compare_performance(fit_def_models, model_data, random_state=27)\n",
    "def_comp_df.sort_values(by=('clean', 'cv_rmse')).reset_index(drop=True)"
   ]
  },
  {
   "cell_type": "code",
   "execution_count": 30,
   "metadata": {},
   "outputs": [
    {
     "data": {
      "image/png": "[encoded data removed]",
      "text/plain": [
       "<Figure size 803.75x720 with 4 Axes>"
      ]
     },
     "metadata": {
      "needs_background": "light"
     },
     "output_type": "display_data"
    }
   ],
   "source": [
    "# compare train and cv performance for each dataset\n",
    "data_palette = {'train_rmse': 'cornflowerblue', 'cv_rmse': 'midnightblue'}\n",
    "plot_model_comp(def_comp_df, col='data', hue='performance', kind='bar',\n",
    "                palette=data_palette, col_wrap=2)"
   ]
  },
  {
   "cell_type": "markdown",
   "metadata": {},
   "source": [
    "Unsurprisingly, all models (with the exception of `lasso` regression) had worse CV error than train error. However, for some models the difference was much greater, and these are likely overfitting. In particular, `dectree`, `extratree` had cv error roughly 5 orders of magnitude greater than train error, and `mlp`, `knn`, and `xgb` also saw significant increases.\n",
    "\n",
    "The other models (`ridge`, `bridge`, `pls` and `svr`) saw slighter differences in cv and train errors, and are thus less likely overfitting."
   ]
  },
  {
   "cell_type": "code",
   "execution_count": 31,
   "metadata": {},
   "outputs": [
    {
     "data": {
      "image/png": "[encoded data removed]",
      "text/plain": [
       "<Figure size 801.875x360 with 2 Axes>"
      ]
     },
     "metadata": {
      "needs_background": "light"
     },
     "output_type": "display_data"
    }
   ],
   "source": [
    "# compare train and cv error across datasets\n",
    "perf_palette = {'drop': 'midnightblue', 'clean': 'forestgreen', 'drop_edit': 'crimson', \n",
    "           'clean_edit': 'darkorange'}\n",
    "plot_model_comp(def_comp_df, col='performance', hue='data', kind='bar',\n",
    "                palette=perf_palette)"
   ]
  },
  {
   "cell_type": "markdown",
   "metadata": {},
   "source": [
    "Based on cv rmse, the most promising models appear to be `ridge`, `bridge`, `xgb`, `svr`, and `pls`, which are ridge, Bayesian ridge, gradient boosted decision tree, support vector and partial least squared regressors, respectively."
   ]
  },
  {
   "cell_type": "code",
   "execution_count": 32,
   "metadata": {},
   "outputs": [
    {
     "data": {
      "text/html": [
       "<div>\n",
       "<style scoped>\n",
       "    .dataframe tbody tr th:only-of-type {\n",
       "        vertical-align: middle;\n",
       "    }\n",
       "\n",
       "    .dataframe tbody tr th {\n",
       "        vertical-align: top;\n",
       "    }\n",
       "\n",
       "    .dataframe thead tr th {\n",
       "        text-align: left;\n",
       "    }\n",
       "</style>\n",
       "<table border=\"1\" class=\"dataframe\">\n",
       "  <thead>\n",
       "    <tr>\n",
       "      <th>data</th>\n",
       "      <th>model</th>\n",
       "      <th>clean</th>\n",
       "      <th>drop</th>\n",
       "      <th>clean_edit</th>\n",
       "      <th>drop_edit</th>\n",
       "    </tr>\n",
       "    <tr>\n",
       "      <th>performance</th>\n",
       "      <th></th>\n",
       "      <th>cv_rmse</th>\n",
       "      <th>cv_rmse</th>\n",
       "      <th>cv_rmse</th>\n",
       "      <th>cv_rmse</th>\n",
       "    </tr>\n",
       "  </thead>\n",
       "  <tbody>\n",
       "    <tr>\n",
       "      <td>2</td>\n",
       "      <td>bridge</td>\n",
       "      <td>0.115226</td>\n",
       "      <td>0.11371</td>\n",
       "      <td>0.11409</td>\n",
       "      <td>0.115962</td>\n",
       "    </tr>\n",
       "    <tr>\n",
       "      <td>1</td>\n",
       "      <td>ridge</td>\n",
       "      <td>0.116246</td>\n",
       "      <td>0.114194</td>\n",
       "      <td>0.113706</td>\n",
       "      <td>0.116375</td>\n",
       "    </tr>\n",
       "    <tr>\n",
       "      <td>9</td>\n",
       "      <td>xgb</td>\n",
       "      <td>0.122093</td>\n",
       "      <td>0.123479</td>\n",
       "      <td>0.123595</td>\n",
       "      <td>0.126636</td>\n",
       "    </tr>\n",
       "    <tr>\n",
       "      <td>3</td>\n",
       "      <td>pls</td>\n",
       "      <td>0.127405</td>\n",
       "      <td>0.133998</td>\n",
       "      <td>0.13708</td>\n",
       "      <td>0.139404</td>\n",
       "    </tr>\n",
       "    <tr>\n",
       "      <td>4</td>\n",
       "      <td>svr</td>\n",
       "      <td>0.134491</td>\n",
       "      <td>0.13529</td>\n",
       "      <td>0.131894</td>\n",
       "      <td>0.134709</td>\n",
       "    </tr>\n",
       "    <tr>\n",
       "      <td>6</td>\n",
       "      <td>mlp</td>\n",
       "      <td>0.172462</td>\n",
       "      <td>0.182601</td>\n",
       "      <td>0.162779</td>\n",
       "      <td>0.171919</td>\n",
       "    </tr>\n",
       "    <tr>\n",
       "      <td>7</td>\n",
       "      <td>dectree</td>\n",
       "      <td>0.200113</td>\n",
       "      <td>0.205864</td>\n",
       "      <td>0.206949</td>\n",
       "      <td>0.200551</td>\n",
       "    </tr>\n",
       "    <tr>\n",
       "      <td>5</td>\n",
       "      <td>knn</td>\n",
       "      <td>0.20921</td>\n",
       "      <td>0.201135</td>\n",
       "      <td>0.194985</td>\n",
       "      <td>0.18835</td>\n",
       "    </tr>\n",
       "    <tr>\n",
       "      <td>8</td>\n",
       "      <td>extratree</td>\n",
       "      <td>0.211913</td>\n",
       "      <td>0.216413</td>\n",
       "      <td>0.209181</td>\n",
       "      <td>0.213926</td>\n",
       "    </tr>\n",
       "    <tr>\n",
       "      <td>0</td>\n",
       "      <td>lasso</td>\n",
       "      <td>0.399865</td>\n",
       "      <td>0.399721</td>\n",
       "      <td>0.400058</td>\n",
       "      <td>0.399743</td>\n",
       "    </tr>\n",
       "  </tbody>\n",
       "</table>\n",
       "</div>"
      ],
      "text/plain": [
       "data             model     clean      drop clean_edit drop_edit\n",
       "performance              cv_rmse   cv_rmse    cv_rmse   cv_rmse\n",
       "2               bridge  0.115226   0.11371    0.11409  0.115962\n",
       "1                ridge  0.116246  0.114194   0.113706  0.116375\n",
       "9                  xgb  0.122093  0.123479   0.123595  0.126636\n",
       "3                  pls  0.127405  0.133998    0.13708  0.139404\n",
       "4                  svr  0.134491   0.13529   0.131894  0.134709\n",
       "6                  mlp  0.172462  0.182601   0.162779  0.171919\n",
       "7              dectree  0.200113  0.205864   0.206949  0.200551\n",
       "5                  knn   0.20921  0.201135   0.194985   0.18835\n",
       "8            extratree  0.211913  0.216413   0.209181  0.213926\n",
       "0                lasso  0.399865  0.399721   0.400058  0.399743"
      ]
     },
     "execution_count": 32,
     "metadata": {},
     "output_type": "execute_result"
    }
   ],
   "source": [
    "drop_cols = [(data_name, 'train_rmse') for data_name in data_names]\n",
    "def_comp_cv = def_comp_df.drop(columns=drop_cols).sort_values(by=('clean', 'cv_rmse'))\n",
    "def_comp_cv"
   ]
  },
  {
   "cell_type": "markdown",
   "metadata": {},
   "source": [
    "Almost all models had an improvement in cv rmse when features were added, so it appears the feature engineering was warranted."
   ]
  },
  {
   "cell_type": "code",
   "execution_count": 33,
   "metadata": {},
   "outputs": [
    {
     "data": {
      "text/html": [
       "<div>\n",
       "<style scoped>\n",
       "    .dataframe tbody tr th:only-of-type {\n",
       "        vertical-align: middle;\n",
       "    }\n",
       "\n",
       "    .dataframe tbody tr th {\n",
       "        vertical-align: top;\n",
       "    }\n",
       "\n",
       "    .dataframe thead tr th {\n",
       "        text-align: left;\n",
       "    }\n",
       "</style>\n",
       "<table border=\"1\" class=\"dataframe\">\n",
       "  <thead>\n",
       "    <tr>\n",
       "      <th>data</th>\n",
       "      <th>model</th>\n",
       "      <th>clean</th>\n",
       "      <th>drop</th>\n",
       "      <th>clean_edit</th>\n",
       "      <th>drop_edit</th>\n",
       "    </tr>\n",
       "    <tr>\n",
       "      <th>performance</th>\n",
       "      <th></th>\n",
       "      <th>cv_rmse</th>\n",
       "      <th>cv_rmse</th>\n",
       "      <th>cv_rmse</th>\n",
       "      <th>cv_rmse</th>\n",
       "    </tr>\n",
       "  </thead>\n",
       "  <tbody>\n",
       "    <tr>\n",
       "      <td>2</td>\n",
       "      <td>bridge</td>\n",
       "      <td>1</td>\n",
       "      <td>1</td>\n",
       "      <td>2</td>\n",
       "      <td>1</td>\n",
       "    </tr>\n",
       "    <tr>\n",
       "      <td>1</td>\n",
       "      <td>ridge</td>\n",
       "      <td>2</td>\n",
       "      <td>2</td>\n",
       "      <td>1</td>\n",
       "      <td>2</td>\n",
       "    </tr>\n",
       "    <tr>\n",
       "      <td>9</td>\n",
       "      <td>xgb</td>\n",
       "      <td>3</td>\n",
       "      <td>3</td>\n",
       "      <td>3</td>\n",
       "      <td>3</td>\n",
       "    </tr>\n",
       "    <tr>\n",
       "      <td>3</td>\n",
       "      <td>pls</td>\n",
       "      <td>4</td>\n",
       "      <td>4</td>\n",
       "      <td>5</td>\n",
       "      <td>5</td>\n",
       "    </tr>\n",
       "    <tr>\n",
       "      <td>4</td>\n",
       "      <td>svr</td>\n",
       "      <td>5</td>\n",
       "      <td>5</td>\n",
       "      <td>4</td>\n",
       "      <td>4</td>\n",
       "    </tr>\n",
       "    <tr>\n",
       "      <td>6</td>\n",
       "      <td>mlp</td>\n",
       "      <td>6</td>\n",
       "      <td>6</td>\n",
       "      <td>6</td>\n",
       "      <td>6</td>\n",
       "    </tr>\n",
       "    <tr>\n",
       "      <td>7</td>\n",
       "      <td>dectree</td>\n",
       "      <td>7</td>\n",
       "      <td>8</td>\n",
       "      <td>8</td>\n",
       "      <td>8</td>\n",
       "    </tr>\n",
       "    <tr>\n",
       "      <td>5</td>\n",
       "      <td>knn</td>\n",
       "      <td>8</td>\n",
       "      <td>7</td>\n",
       "      <td>7</td>\n",
       "      <td>7</td>\n",
       "    </tr>\n",
       "    <tr>\n",
       "      <td>8</td>\n",
       "      <td>extratree</td>\n",
       "      <td>9</td>\n",
       "      <td>9</td>\n",
       "      <td>9</td>\n",
       "      <td>9</td>\n",
       "    </tr>\n",
       "    <tr>\n",
       "      <td>0</td>\n",
       "      <td>lasso</td>\n",
       "      <td>10</td>\n",
       "      <td>10</td>\n",
       "      <td>10</td>\n",
       "      <td>10</td>\n",
       "    </tr>\n",
       "  </tbody>\n",
       "</table>\n",
       "</div>"
      ],
      "text/plain": [
       "data             model   clean    drop clean_edit drop_edit\n",
       "performance            cv_rmse cv_rmse    cv_rmse   cv_rmse\n",
       "2               bridge       1       1          2         1\n",
       "1                ridge       2       2          1         2\n",
       "9                  xgb       3       3          3         3\n",
       "3                  pls       4       4          5         5\n",
       "4                  svr       5       5          4         4\n",
       "6                  mlp       6       6          6         6\n",
       "7              dectree       7       8          8         8\n",
       "5                  knn       8       7          7         7\n",
       "8            extratree       9       9          9         9\n",
       "0                lasso      10      10         10        10"
      ]
     },
     "execution_count": 33,
     "metadata": {},
     "output_type": "execute_result"
    }
   ],
   "source": [
    "# top models by cv performance for each data set\n",
    "rank_models_on_data(def_comp_cv, model_data)"
   ]
  },
  {
   "cell_type": "markdown",
   "metadata": {},
   "source": [
    "The top five models were consistent across all four versions of the dataset, and were the promising models identified earlier. In order, they are `ridge`, `bridge`, `xgb`, with `svr` and `pls` tied for fourth."
   ]
  },
  {
   "cell_type": "code",
   "execution_count": 34,
   "metadata": {},
   "outputs": [
    {
     "data": {
      "text/html": [
       "<div>\n",
       "<style scoped>\n",
       "    .dataframe tbody tr th:only-of-type {\n",
       "        vertical-align: middle;\n",
       "    }\n",
       "\n",
       "    .dataframe tbody tr th {\n",
       "        vertical-align: top;\n",
       "    }\n",
       "\n",
       "    .dataframe thead tr th {\n",
       "        text-align: left;\n",
       "    }\n",
       "</style>\n",
       "<table border=\"1\" class=\"dataframe\">\n",
       "  <thead>\n",
       "    <tr>\n",
       "      <th>data</th>\n",
       "      <th>model</th>\n",
       "      <th>clean</th>\n",
       "      <th>drop</th>\n",
       "      <th>clean_edit</th>\n",
       "      <th>drop_edit</th>\n",
       "    </tr>\n",
       "    <tr>\n",
       "      <th>performance</th>\n",
       "      <th></th>\n",
       "      <th>cv_rmse</th>\n",
       "      <th>cv_rmse</th>\n",
       "      <th>cv_rmse</th>\n",
       "      <th>cv_rmse</th>\n",
       "    </tr>\n",
       "  </thead>\n",
       "  <tbody>\n",
       "    <tr>\n",
       "      <td>2</td>\n",
       "      <td>bridge</td>\n",
       "      <td>3</td>\n",
       "      <td>1</td>\n",
       "      <td>2</td>\n",
       "      <td>4</td>\n",
       "    </tr>\n",
       "    <tr>\n",
       "      <td>1</td>\n",
       "      <td>ridge</td>\n",
       "      <td>3</td>\n",
       "      <td>2</td>\n",
       "      <td>1</td>\n",
       "      <td>4</td>\n",
       "    </tr>\n",
       "    <tr>\n",
       "      <td>9</td>\n",
       "      <td>xgb</td>\n",
       "      <td>1</td>\n",
       "      <td>2</td>\n",
       "      <td>3</td>\n",
       "      <td>4</td>\n",
       "    </tr>\n",
       "    <tr>\n",
       "      <td>3</td>\n",
       "      <td>pls</td>\n",
       "      <td>1</td>\n",
       "      <td>2</td>\n",
       "      <td>3</td>\n",
       "      <td>4</td>\n",
       "    </tr>\n",
       "    <tr>\n",
       "      <td>4</td>\n",
       "      <td>svr</td>\n",
       "      <td>2</td>\n",
       "      <td>4</td>\n",
       "      <td>1</td>\n",
       "      <td>3</td>\n",
       "    </tr>\n",
       "    <tr>\n",
       "      <td>6</td>\n",
       "      <td>mlp</td>\n",
       "      <td>3</td>\n",
       "      <td>4</td>\n",
       "      <td>1</td>\n",
       "      <td>2</td>\n",
       "    </tr>\n",
       "    <tr>\n",
       "      <td>7</td>\n",
       "      <td>dectree</td>\n",
       "      <td>1</td>\n",
       "      <td>3</td>\n",
       "      <td>4</td>\n",
       "      <td>2</td>\n",
       "    </tr>\n",
       "    <tr>\n",
       "      <td>5</td>\n",
       "      <td>knn</td>\n",
       "      <td>4</td>\n",
       "      <td>3</td>\n",
       "      <td>2</td>\n",
       "      <td>1</td>\n",
       "    </tr>\n",
       "    <tr>\n",
       "      <td>8</td>\n",
       "      <td>extratree</td>\n",
       "      <td>2</td>\n",
       "      <td>4</td>\n",
       "      <td>1</td>\n",
       "      <td>3</td>\n",
       "    </tr>\n",
       "    <tr>\n",
       "      <td>0</td>\n",
       "      <td>lasso</td>\n",
       "      <td>3</td>\n",
       "      <td>1</td>\n",
       "      <td>4</td>\n",
       "      <td>2</td>\n",
       "    </tr>\n",
       "  </tbody>\n",
       "</table>\n",
       "</div>"
      ],
      "text/plain": [
       "data             model   clean    drop clean_edit drop_edit\n",
       "performance            cv_rmse cv_rmse    cv_rmse   cv_rmse\n",
       "2               bridge       3       1          2         4\n",
       "1                ridge       3       2          1         4\n",
       "9                  xgb       1       2          3         4\n",
       "3                  pls       1       2          3         4\n",
       "4                  svr       2       4          1         3\n",
       "6                  mlp       3       4          1         2\n",
       "7              dectree       1       3          4         2\n",
       "5                  knn       4       3          2         1\n",
       "8            extratree       2       4          1         3\n",
       "0                lasso       3       1          4         2"
      ]
     },
     "execution_count": 34,
     "metadata": {},
     "output_type": "execute_result"
    }
   ],
   "source": [
    "# rank model performance across data sets\n",
    "rank_models_across_data(def_comp_cv, model_data)"
   ]
  },
  {
   "cell_type": "markdown",
   "metadata": {},
   "source": [
    "The top model, `ridge` performed best on `clean_edit` and `drop_edit`. The next best model, `bridge` performed best on `clean` and `clean_edit`. Third and fourth `xgb` and `pls` performed best on `clean` and `drop`. Finally `svr` performed best on `clean_edit` and `drop_edit`."
   ]
  },
  {
   "cell_type": "markdown",
   "metadata": {
    "toc-hr-collapsed": false
   },
   "source": [
    "### Tune best individual models"
   ]
  },
  {
   "cell_type": "markdown",
   "metadata": {},
   "source": [
    "Here we'll focus on tuning the most promising models from the [last section](#Compare-models). We'll use both `clean_edit` and `drop_edit` since the top model performed best on these."
   ]
  },
  {
   "cell_type": "code",
   "execution_count": 35,
   "metadata": {},
   "outputs": [],
   "source": [
    "# retain top 5 models\n",
    "drop_models = ['lasso', 'dectree', 'extratree', 'knn', 'mlp']\n",
    "models = remove_models(fit_def_models, drop_models)"
   ]
  },
  {
   "cell_type": "code",
   "execution_count": 36,
   "metadata": {},
   "outputs": [
    {
     "name": "stdout",
     "output_type": "stream",
     "text": [
      "Promising models are ['ridge', 'bridge', 'pls', 'svr', 'xgb']\n"
     ]
    }
   ],
   "source": [
    "try:\n",
    "    # drop models for clean and drop data\n",
    "    models.pop('clean')\n",
    "    models.pop('drop')\n",
    "    # drop clean and drop data\n",
    "    model_data.pop('clean')\n",
    "    model_data.pop('drop')\n",
    "except KeyError:\n",
    "    pass\n",
    "\n",
    "print(f'Promising models are {list(models[\"clean_edit\"].keys())}')"
   ]
  },
  {
   "cell_type": "code",
   "execution_count": 38,
   "metadata": {},
   "outputs": [],
   "source": [
    "# train test input output for clean_edit (y_test values are NaN)\n",
    "X_ce_train = model_data['clean_edit']['X_clean_edit_train']\n",
    "X_ce_test = model_data['clean_edit']['X_clean_edit_test']\n",
    "y_ce_train = model_data['clean_edit']['y_clean_edit_train']\n",
    "\n",
    "# train test input output for clean_edit (y_test values are NaN)\n",
    "X_de_train = model_data['drop_edit']['X_drop_edit_train']\n",
    "X_de_test = model_data['drop_edit']['X_drop_edit_test']\n",
    "y_de_train = model_data['drop_edit']['y_drop_edit_train']"
   ]
  },
  {
   "cell_type": "markdown",
   "metadata": {
    "toc-hr-collapsed": false
   },
   "source": [
    "#### Ridge regression"
   ]
  },
  {
   "cell_type": "markdown",
   "metadata": {},
   "source": [
    "[Ridge regression](https://scikit-learn.org/stable/modules/linear_model.html#ridge-regression) is linear least squares with an $\\ell_2$ regularization term. We'll fit default ridge regression models and then tune for comparison."
   ]
  },
  {
   "cell_type": "code",
   "execution_count": 39,
   "metadata": {},
   "outputs": [],
   "source": [
    "# Default ridge regression models\n",
    "ridge_models = defaultdict(dict)\n",
    "ridge_models['clean_edit']['ridge_def'] = Ridge().fit(X_ce_train, y_ce_train)\n",
    "ridge_models['drop_edit']['ridge_def'] = Ridge().fit(X_de_train, y_de_train)"
   ]
  },
  {
   "cell_type": "markdown",
   "metadata": {},
   "source": [
    "Bayesian hyperparameter optimization is an efficient tuning method. We'll optimize with respect to cv rmse"
   ]
  },
  {
   "cell_type": "code",
   "execution_count": 40,
   "metadata": {},
   "outputs": [],
   "source": [
    "# ridge regression hyperparameters search space\n",
    "ridge_space = {'alpha': hp.loguniform('alpha', low=-3*np.log(10), high=2*np.log(10))}\n",
    "\n",
    "# container for hyperparameter search trials and results\n",
    "model_ho_results = defaultdict(dict)\n",
    "\n",
    "# store trial objects for restarting training\n",
    "model_ho_results['clean_edit']['ridge_tuned'] = {'trials': Trials(), 'params': None}\n",
    "model_ho_results['drop_edit']['ridge_tuned'] = {'trials': Trials(), 'params': None}"
   ]
  },
  {
   "cell_type": "code",
   "execution_count": 41,
   "metadata": {},
   "outputs": [
    {
     "name": "stdout",
     "output_type": "stream",
     "text": [
      "100%|██████████| 100/100 [00:08<00:00, 11.38it/s, best loss: 0.11253072830975036]\n",
      "100%|██████████| 100/100 [00:07<00:00, 13.32it/s, best loss: 0.11564439386901282]\n"
     ]
    }
   ],
   "source": [
    "# optimize hyperparameters\n",
    "model_ho_results['clean_edit']['ridge_tuned'] = \\\n",
    "                ho_results(obj=ho_cv_rmse, space=ridge_space, \n",
    "                           est_name='ridge', X_train=X_ce_train, \n",
    "                           y_train=y_ce_train, \n",
    "                           max_evals=100, random_state=27,\n",
    "                           trials=model_ho_results['clean_edit']['ridge_tuned']['trials'])\n",
    "model_ho_results['drop_edit']['ridge_tuned'] = \\\n",
    "                ho_results(obj=ho_cv_rmse, space=ridge_space, \n",
    "                           est_name='ridge', X_train=X_de_train, \n",
    "                           y_train=y_de_train, \n",
    "                           max_evals=100, random_state=27,\n",
    "                           trials=model_ho_results['drop_edit']['ridge_tuned']['trials'])"
   ]
  },
  {
   "cell_type": "code",
   "execution_count": 42,
   "metadata": {},
   "outputs": [],
   "source": [
    "%%capture\n",
    "# create and fit models with optimal hyperparameters\n",
    "ridge_models['clean_edit']['ridge_tuned'] = \\\n",
    "                    Ridge(**model_ho_results['clean_edit']['ridge_tuned']['params'])\n",
    "ridge_models['drop_edit']['ridge_tuned'] = \\\n",
    "                    Ridge(**model_ho_results['drop_edit']['ridge_tuned']['params'])\n",
    "ridge_models['clean_edit']['ridge_tuned'].fit(X_ce_train, y_ce_train)\n",
    "ridge_models['drop_edit']['ridge_tuned'].fit(X_de_train, y_de_train)"
   ]
  },
  {
   "cell_type": "code",
   "execution_count": 43,
   "metadata": {},
   "outputs": [
    {
     "data": {
      "text/html": [
       "<div>\n",
       "<style scoped>\n",
       "    .dataframe tbody tr th:only-of-type {\n",
       "        vertical-align: middle;\n",
       "    }\n",
       "\n",
       "    .dataframe tbody tr th {\n",
       "        vertical-align: top;\n",
       "    }\n",
       "\n",
       "    .dataframe thead tr th {\n",
       "        text-align: left;\n",
       "    }\n",
       "</style>\n",
       "<table border=\"1\" class=\"dataframe\">\n",
       "  <thead>\n",
       "    <tr>\n",
       "      <th>data</th>\n",
       "      <th>model</th>\n",
       "      <th colspan=\"2\" halign=\"left\">clean_edit</th>\n",
       "      <th colspan=\"2\" halign=\"left\">drop_edit</th>\n",
       "    </tr>\n",
       "    <tr>\n",
       "      <th>performance</th>\n",
       "      <th></th>\n",
       "      <th>train_rmse</th>\n",
       "      <th>cv_rmse</th>\n",
       "      <th>train_rmse</th>\n",
       "      <th>cv_rmse</th>\n",
       "    </tr>\n",
       "  </thead>\n",
       "  <tbody>\n",
       "    <tr>\n",
       "      <td>0</td>\n",
       "      <td>ridge_def</td>\n",
       "      <td>0.094225</td>\n",
       "      <td>0.11256</td>\n",
       "      <td>0.0998434</td>\n",
       "      <td>0.115635</td>\n",
       "    </tr>\n",
       "    <tr>\n",
       "      <td>1</td>\n",
       "      <td>ridge_tuned</td>\n",
       "      <td>0.0950445</td>\n",
       "      <td>0.11315</td>\n",
       "      <td>0.0996629</td>\n",
       "      <td>0.114869</td>\n",
       "    </tr>\n",
       "  </tbody>\n",
       "</table>\n",
       "</div>"
      ],
      "text/plain": [
       "data               model clean_edit           drop_edit          \n",
       "performance              train_rmse  cv_rmse train_rmse   cv_rmse\n",
       "0              ridge_def   0.094225  0.11256  0.0998434  0.115635\n",
       "1            ridge_tuned  0.0950445  0.11315  0.0996629  0.114869"
      ]
     },
     "execution_count": 43,
     "metadata": {},
     "output_type": "execute_result"
    }
   ],
   "source": [
    "# compare Ridge regression models\n",
    "compare_performance(ridge_models, model_data, random_state=27)"
   ]
  },
  {
   "cell_type": "markdown",
   "metadata": {},
   "source": [
    "The ridge regression model trained on the `clean_edit` dataset and tuned with Bayesian search had the best cv rmse. We note however that the model trained on `drop_edit` had a , which is promising (a lower train rmse might indicate overfitting)."
   ]
  },
  {
   "cell_type": "markdown",
   "metadata": {},
   "source": [
    "Since ridge regression is just linear regression with a regularization term, it's relatively straightfoward to interpret. We'll rank the features of the best model their coefficient weights."
   ]
  },
  {
   "cell_type": "code",
   "execution_count": 44,
   "metadata": {},
   "outputs": [
    {
     "data": {
      "image/png": "[encoded data removed]",
      "text/plain": [
       "<Figure size 1080x720 with 2 Axes>"
      ]
     },
     "metadata": {
      "needs_background": "light"
     },
     "output_type": "display_data"
    }
   ],
   "source": [
    "# Top and bottom 10 features in best ridge model\n",
    "plot_features(ridge_models['clean_edit']['ridge_tuned'], 'ridge regression', X_ce_train, 10,\n",
    "             figsize=(15, 10), rotation=90)"
   ]
  },
  {
   "cell_type": "markdown",
   "metadata": {},
   "source": [
    "The rankings of most positive feature weights are not too suprising. The most postively weighted feature was overall quality. We note condition variables and size variables are prominent. \n",
    "\n",
    "The rankings of most negative feature weights are perhaps more surprising, in particular the presence of a basement and number of kitchens. Interestingly, several neighborhoods stand out as having a negative association with sale price. The most negatively weighted feature was the property being zoned commercial. "
   ]
  },
  {
   "cell_type": "code",
   "execution_count": 45,
   "metadata": {},
   "outputs": [],
   "source": [
    "# add tuned ridge models\n",
    "models['clean_edit']['ridge_tuned'] = ridge_models['clean_edit']['ridge_tuned']\n",
    "models['drop_edit']['ridge_tuned'] = ridge_models['drop_edit']['ridge_tuned']"
   ]
  },
  {
   "cell_type": "markdown",
   "metadata": {
    "toc-hr-collapsed": false
   },
   "source": [
    "#### Bayesian Ridge regression"
   ]
  },
  {
   "cell_type": "markdown",
   "metadata": {},
   "source": [
    "[Bayesian ridge regression](https://scikit-learn.org/stable/modules/linear_model.html#bayesian-regression)\n",
    "is similar to ridge regression except it uses Bayesian methods to estimate the regularization parameter $\\lambda$ from the data."
   ]
  },
  {
   "cell_type": "code",
   "execution_count": 46,
   "metadata": {},
   "outputs": [],
   "source": [
    "# Default Bayesian Ridge models\n",
    "bridge_models = defaultdict(dict)\n",
    "bridge_models['clean_edit']['bridge_def'] = BayesianRidge().fit(X_ce_train, y_ce_train)\n",
    "bridge_models['drop_edit']['bridge_def'] = BayesianRidge().fit(X_de_train, y_de_train)"
   ]
  },
  {
   "cell_type": "code",
   "execution_count": 47,
   "metadata": {},
   "outputs": [],
   "source": [
    "# bayesian ridge regression hyperparameter space\n",
    "bridge_space = {'alpha_1': hp.loguniform('alpha_1', low=-9*np.log(10), high=3*np.log(10)),\n",
    "                'alpha_2': hp.loguniform('alpha_2', low=-9*np.log(10), high=3*np.log(10)),\n",
    "                'lambda_1': hp.loguniform('lambda_1', low=-9*np.log(10), high=3*np.log(10)),\n",
    "                'lambda_2': hp.loguniform('lambda_2', low=-9*np.log(10), high=3*np.log(10))}\n",
    "\n",
    "# store trial objects for restarting training\n",
    "model_ho_results['clean_edit']['bridge_tuned'] = {'trials': Trials(), 'params': None}\n",
    "model_ho_results['drop_edit']['bridge_tuned'] = {'trials': Trials(), 'params': None}"
   ]
  },
  {
   "cell_type": "code",
   "execution_count": 48,
   "metadata": {},
   "outputs": [
    {
     "name": "stdout",
     "output_type": "stream",
     "text": [
      "100%|██████████| 100/100 [00:37<00:00,  2.67it/s, best loss: 0.11254203419476108]\n",
      "100%|██████████| 100/100 [00:27<00:00,  3.66it/s, best loss: 0.11576647439940951]\n"
     ]
    }
   ],
   "source": [
    "# optimize hyperparameters\n",
    "model_ho_results['clean_edit']['bridge_tuned'] = \\\n",
    "                ho_results(obj=ho_cv_rmse, space=bridge_space, \n",
    "                           est_name='bridge', X_train=X_ce_train, \n",
    "                           y_train=y_ce_train, \n",
    "                           max_evals=100, random_state=27,\n",
    "                           trials=model_ho_results['clean_edit']['bridge_tuned']['trials'])\n",
    "model_ho_results['drop_edit']['bridge_tuned'] = \\\n",
    "                ho_results(obj=ho_cv_rmse, space=bridge_space, \n",
    "                           est_name='bridge', X_train=X_de_train, \n",
    "                           y_train=y_de_train, \n",
    "                           max_evals=100, random_state=27,\n",
    "                           trials=model_ho_results['drop_edit']['bridge_tuned']['trials'])"
   ]
  },
  {
   "cell_type": "code",
   "execution_count": 49,
   "metadata": {},
   "outputs": [],
   "source": [
    "%%capture\n",
    "# add and fit models with optimal hyperparameters\n",
    "bridge_models['clean_edit']['bridge_tuned'] = \\\n",
    "            BayesianRidge(**model_ho_results['clean_edit']['bridge_tuned']['params'])\n",
    "bridge_models['drop_edit']['bridge_tuned'] = \\\n",
    "            BayesianRidge(**model_ho_results['drop_edit']['bridge_tuned']['params'])\n",
    "bridge_models['clean_edit']['bridge_tuned'].fit(X_ce_train, y_ce_train)\n",
    "bridge_models['drop_edit']['bridge_tuned'].fit(X_de_train, y_de_train)"
   ]
  },
  {
   "cell_type": "code",
   "execution_count": 50,
   "metadata": {},
   "outputs": [
    {
     "data": {
      "text/html": [
       "<div>\n",
       "<style scoped>\n",
       "    .dataframe tbody tr th:only-of-type {\n",
       "        vertical-align: middle;\n",
       "    }\n",
       "\n",
       "    .dataframe tbody tr th {\n",
       "        vertical-align: top;\n",
       "    }\n",
       "\n",
       "    .dataframe thead tr th {\n",
       "        text-align: left;\n",
       "    }\n",
       "</style>\n",
       "<table border=\"1\" class=\"dataframe\">\n",
       "  <thead>\n",
       "    <tr>\n",
       "      <th>data</th>\n",
       "      <th>model</th>\n",
       "      <th colspan=\"2\" halign=\"left\">clean_edit</th>\n",
       "      <th colspan=\"2\" halign=\"left\">drop_edit</th>\n",
       "    </tr>\n",
       "    <tr>\n",
       "      <th>performance</th>\n",
       "      <th></th>\n",
       "      <th>train_rmse</th>\n",
       "      <th>cv_rmse</th>\n",
       "      <th>train_rmse</th>\n",
       "      <th>cv_rmse</th>\n",
       "    </tr>\n",
       "  </thead>\n",
       "  <tbody>\n",
       "    <tr>\n",
       "      <td>0</td>\n",
       "      <td>bridge_def</td>\n",
       "      <td>0.094478</td>\n",
       "      <td>0.113612</td>\n",
       "      <td>0.0996576</td>\n",
       "      <td>0.114887</td>\n",
       "    </tr>\n",
       "    <tr>\n",
       "      <td>1</td>\n",
       "      <td>bridge_tuned</td>\n",
       "      <td>0.09467</td>\n",
       "      <td>0.114397</td>\n",
       "      <td>0.0996135</td>\n",
       "      <td>0.115072</td>\n",
       "    </tr>\n",
       "  </tbody>\n",
       "</table>\n",
       "</div>"
      ],
      "text/plain": [
       "data                model clean_edit            drop_edit          \n",
       "performance               train_rmse   cv_rmse train_rmse   cv_rmse\n",
       "0              bridge_def   0.094478  0.113612  0.0996576  0.114887\n",
       "1            bridge_tuned    0.09467  0.114397  0.0996135  0.115072"
      ]
     },
     "execution_count": 50,
     "metadata": {},
     "output_type": "execute_result"
    }
   ],
   "source": [
    "# compare Ridge regression models\n",
    "compare_performance(bridge_models, model_data, random_state=27)"
   ]
  },
  {
   "cell_type": "markdown",
   "metadata": {},
   "source": [
    "As with ordinary ridge regression, the Bayesian ridge model trained on the `clean_edit` data and tuned with Bayesian search had the best cv rmse."
   ]
  },
  {
   "cell_type": "markdown",
   "metadata": {},
   "source": [
    "As with ridge regression, the model is straightforward to interpret."
   ]
  },
  {
   "cell_type": "code",
   "execution_count": 51,
   "metadata": {},
   "outputs": [
    {
     "data": {
      "image/png": "[encoded data removed]",
      "text/plain": [
       "<Figure size 1080x720 with 2 Axes>"
      ]
     },
     "metadata": {
      "needs_background": "light"
     },
     "output_type": "display_data"
    }
   ],
   "source": [
    "# Top and bottom 10 features in best Bayesian ridge model\n",
    "plot_features(bridge_models['clean_edit']['bridge_tuned'], 'Bayesian ridge regression', X_ce_train, 10,\n",
    "             figsize=(15, 10), rotation=90)"
   ]
  },
  {
   "cell_type": "markdown",
   "metadata": {},
   "source": [
    "Feature weight rankings are nearly identical to the ridge model."
   ]
  },
  {
   "cell_type": "code",
   "execution_count": 52,
   "metadata": {},
   "outputs": [],
   "source": [
    "# add tuned bridge models\n",
    "models['clean_edit']['bridge_tuned'] = bridge_models['clean_edit']['bridge_tuned']\n",
    "models['drop_edit']['bridge_tuned'] = bridge_models['drop_edit']['bridge_tuned']"
   ]
  },
  {
   "cell_type": "markdown",
   "metadata": {
    "toc-hr-collapsed": false
   },
   "source": [
    "#### Partial Least Squares"
   ]
  },
  {
   "cell_type": "markdown",
   "metadata": {},
   "source": [
    "[Partial least squares regression](https://scikit-learn.org/stable/modules/generated/sklearn.cross_decomposition.PLSRegression.html) stands out among the other models we're tuning here as the only dimensional reduction method. It is [well-suited to multicollinearity in the input data](https://scikit-learn.org/stable/modules/cross_decomposition.html#cross-decomposition)."
   ]
  },
  {
   "cell_type": "code",
   "execution_count": 53,
   "metadata": {},
   "outputs": [],
   "source": [
    "# Default partial least squares models\n",
    "pls_models = defaultdict(dict)\n",
    "pls_models['clean_edit']['pls_def'] = PLSRegression().fit(X_ce_train, y_ce_train)\n",
    "pls_models['drop_edit']['pls_def'] = PLSRegression().fit(X_de_train, y_de_train)"
   ]
  },
  {
   "cell_type": "markdown",
   "metadata": {},
   "source": [
    "The main hyperparameter of interest in partial least squared is the number of components (analogous to the number of components in principal component analysis) which is essentially the number of dimensions of the reduced dataset."
   ]
  },
  {
   "cell_type": "code",
   "execution_count": 54,
   "metadata": {},
   "outputs": [],
   "source": [
    "# partial least squares hyperparameter spaces\n",
    "pls_ce_space = {'max_iter': ho_scope.int(hp.quniform('max_iter', low=200, \n",
    "                                                     high=10000, q=10)),\n",
    "               'n_components': ho_scope.int(hp.quniform('n_components', low=2, \n",
    "                                                        high=X_ce_train.shape[1] - 2, q=1))\n",
    "                }\n",
    "pls_de_space = {'max_iter': ho_scope.int(hp.quniform('max_iter', low=200, \n",
    "                                                     high=10000, q=10)),\n",
    "               'n_components': ho_scope.int(hp.quniform('n_components', low=2, \n",
    "                                                        high=X_de_train.shape[1] - 2, q=1))}\n",
    "\n",
    "# store trial objects for restarting training\n",
    "model_ho_results['clean_edit']['pls_tuned'] = {'trials': Trials(), 'params': None}\n",
    "model_ho_results['drop_edit']['pls_tuned'] = {'trials': Trials(), 'params': None}"
   ]
  },
  {
   "cell_type": "code",
   "execution_count": 55,
   "metadata": {},
   "outputs": [
    {
     "name": "stdout",
     "output_type": "stream",
     "text": [
      "100%|██████████| 100/100 [01:30<00:00,  1.11it/s, best loss: 0.11628329440486904]\n",
      "100%|██████████| 100/100 [01:02<00:00,  1.60it/s, best loss: 0.11672287624670073]\n"
     ]
    }
   ],
   "source": [
    "# optimize hyperparameters\n",
    "model_ho_results['clean_edit']['pls_tuned'] = \\\n",
    "                ho_results(obj=ho_cv_rmse, space=pls_ce_space, est_name='pls', \n",
    "                           X_train=X_ce_train, y_train=y_ce_train, max_evals=100, \n",
    "                           random_state=27,\n",
    "                           trials=model_ho_results['clean_edit']['pls_tuned']['trials'])\n",
    "model_ho_results['drop_edit']['pls_tuned'] = \\\n",
    "                ho_results(obj=ho_cv_rmse, space=pls_de_space, est_name='pls',\n",
    "                           X_train=X_de_train, y_train=y_de_train, max_evals=100,\n",
    "                           random_state=27,\n",
    "                           trials=model_ho_results['drop_edit']['pls_tuned']['trials'])"
   ]
  },
  {
   "cell_type": "code",
   "execution_count": 56,
   "metadata": {},
   "outputs": [],
   "source": [
    "%%capture\n",
    "# workaround to cast results of hyperopt param search to correct type\n",
    "conv_params = ['max_iter', 'n_components']\n",
    "model_ho_results['clean_edit']['pls_tuned']['params'] = \\\n",
    "            convert_to_int(model_ho_results['clean_edit']['pls_tuned']['params'], \n",
    "                           conv_params)\n",
    "model_ho_results['drop_edit']['pls_tuned']['params'] = \\\n",
    "            convert_to_int(model_ho_results['drop_edit']['pls_tuned']['params'], \n",
    "                           conv_params)\n",
    "\n",
    "# add and fit models with optimal hyperparameters\n",
    "pls_models['clean_edit']['pls_tuned'] = \\\n",
    "            PLSRegression(**model_ho_results['clean_edit']['pls_tuned']['params'])\n",
    "pls_models['drop_edit']['pls_tuned'] = \\\n",
    "            PLSRegression(**model_ho_results['drop_edit']['pls_tuned']['params'])\n",
    "pls_models['clean_edit']['pls_tuned'].fit(X_ce_train, y_ce_train)\n",
    "pls_models['drop_edit']['pls_tuned'].fit(X_de_train, y_de_train)"
   ]
  },
  {
   "cell_type": "code",
   "execution_count": 57,
   "metadata": {},
   "outputs": [
    {
     "name": "stdout",
     "output_type": "stream",
     "text": [
      "On the clean_edit data, optimal PLS parameters are: \n",
      "\t {'max_iter': 5690, 'n_components': 12}\n",
      "On the drop_edit data, optimal PLS parameters are: \n",
      "\t {'max_iter': 2640, 'n_components': 16}\n"
     ]
    }
   ],
   "source": [
    "# inspect pls optimal parameters\n",
    "print(f\"On the clean_edit data, optimal PLS parameters are: \\n\\t {model_ho_results['clean_edit']['pls_tuned']['params']}\")\n",
    "print(f\"On the drop_edit data, optimal PLS parameters are: \\n\\t {model_ho_results['drop_edit']['pls_tuned']['params']}\")"
   ]
  },
  {
   "cell_type": "markdown",
   "metadata": {},
   "source": [
    "Interestingly, only a small number of components were deemed optimal! It's worth recalling that this likely reflects a local minimum in the loss function, so the result should be taken with a grain of salt. However, it is interesting to note that such a low number of components are sufficient to get a competitive model."
   ]
  },
  {
   "cell_type": "code",
   "execution_count": 58,
   "metadata": {},
   "outputs": [
    {
     "data": {
      "text/html": [
       "<div>\n",
       "<style scoped>\n",
       "    .dataframe tbody tr th:only-of-type {\n",
       "        vertical-align: middle;\n",
       "    }\n",
       "\n",
       "    .dataframe tbody tr th {\n",
       "        vertical-align: top;\n",
       "    }\n",
       "\n",
       "    .dataframe thead tr th {\n",
       "        text-align: left;\n",
       "    }\n",
       "</style>\n",
       "<table border=\"1\" class=\"dataframe\">\n",
       "  <thead>\n",
       "    <tr>\n",
       "      <th>data</th>\n",
       "      <th>model</th>\n",
       "      <th colspan=\"2\" halign=\"left\">clean_edit</th>\n",
       "      <th colspan=\"2\" halign=\"left\">drop_edit</th>\n",
       "    </tr>\n",
       "    <tr>\n",
       "      <th>performance</th>\n",
       "      <th></th>\n",
       "      <th>train_rmse</th>\n",
       "      <th>cv_rmse</th>\n",
       "      <th>train_rmse</th>\n",
       "      <th>cv_rmse</th>\n",
       "    </tr>\n",
       "  </thead>\n",
       "  <tbody>\n",
       "    <tr>\n",
       "      <td>0</td>\n",
       "      <td>pls_def</td>\n",
       "      <td>0.130416</td>\n",
       "      <td>0.136774</td>\n",
       "      <td>0.133912</td>\n",
       "      <td>0.139224</td>\n",
       "    </tr>\n",
       "    <tr>\n",
       "      <td>1</td>\n",
       "      <td>pls_tuned</td>\n",
       "      <td>0.0948243</td>\n",
       "      <td>0.115228</td>\n",
       "      <td>0.0989862</td>\n",
       "      <td>0.116016</td>\n",
       "    </tr>\n",
       "  </tbody>\n",
       "</table>\n",
       "</div>"
      ],
      "text/plain": [
       "data             model clean_edit            drop_edit          \n",
       "performance            train_rmse   cv_rmse train_rmse   cv_rmse\n",
       "0              pls_def   0.130416  0.136774   0.133912  0.139224\n",
       "1            pls_tuned  0.0948243  0.115228  0.0989862  0.116016"
      ]
     },
     "execution_count": 58,
     "metadata": {},
     "output_type": "execute_result"
    }
   ],
   "source": [
    "# compare Bayesian Ridge models on clean and edit datasets\n",
    "compare_performance(pls_models, model_data)"
   ]
  },
  {
   "cell_type": "markdown",
   "metadata": {},
   "source": [
    "In contrast to ridge and Bayesian ridge regression, the tuned partial least squares had slightly lower cv rmse on the `drop_edit` dataset. This cv rmse is very close to that of tuned ridge and Bayesian ridge  models -- it's remarkable that only 16 components are required!"
   ]
  },
  {
   "cell_type": "code",
   "execution_count": 59,
   "metadata": {},
   "outputs": [],
   "source": [
    "# add tuned pls models\n",
    "models['clean_edit']['pls_tuned'] = pls_models['clean_edit']['pls_tuned']\n",
    "models['drop_edit']['pls_tuned'] = pls_models['drop_edit']['pls_tuned']"
   ]
  },
  {
   "cell_type": "markdown",
   "metadata": {
    "toc-hr-collapsed": true
   },
   "source": [
    "#### Support Vector Machine"
   ]
  },
  {
   "cell_type": "code",
   "execution_count": 60,
   "metadata": {},
   "outputs": [],
   "source": [
    "# Default support vector models\n",
    "svr_models = defaultdict(dict)\n",
    "svr_models['clean_edit']['svr_def'] = SVR().fit(X_ce_train, y_ce_train)\n",
    "svr_models['drop_edit']['svr_def'] = SVR().fit(X_de_train, y_de_train)"
   ]
  },
  {
   "cell_type": "code",
   "execution_count": 61,
   "metadata": {},
   "outputs": [],
   "source": [
    "# hyperparameter space for SVR with rbf kernel\n",
    "svr_space = {'gamma': hp.loguniform('gamma', low=-3*np.log(10), high=2*np.log(10)),\n",
    "             'C': hp.loguniform('C', low=-3*np.log(10), high=2*np.log(10)),\n",
    "             'epsilon': hp.loguniform('epsilon', low=-3*np.log(10), high=2*np.log(10))\n",
    "            }\n",
    "\n",
    "# store trial objects for restarting training\n",
    "model_ho_results['clean_edit']['svr_tuned'] = {'trials': Trials(), 'params': None}\n",
    "model_ho_results['drop_edit']['svr_tuned'] = {'trials': Trials(), 'params': None}"
   ]
  },
  {
   "cell_type": "code",
   "execution_count": 62,
   "metadata": {},
   "outputs": [
    {
     "name": "stdout",
     "output_type": "stream",
     "text": [
      "100%|██████████| 50/50 [01:37<00:00,  1.95s/it, best loss: 0.11318101455546818]\n",
      "100%|██████████| 50/50 [01:32<00:00,  1.84s/it, best loss: 0.11424890264814005]\n"
     ]
    }
   ],
   "source": [
    "# optimize hyperparameters\n",
    "model_ho_results['clean_edit']['svr_tuned'] = \\\n",
    "            ho_results(obj=ho_cv_rmse, space=svr_space, est_name='svr', \n",
    "                       X_train=X_ce_train, y_train=y_ce_train, max_evals=50,\n",
    "                       random_state=27,\n",
    "                       trials=model_ho_results['clean_edit']['svr_tuned']['trials'])\n",
    "model_ho_results['drop_edit']['svr_tuned'] = \\\n",
    "            ho_results(obj=ho_cv_rmse, space=svr_space, est_name='svr', \n",
    "                       X_train=X_de_train, y_train=y_de_train, max_evals=50,\n",
    "                       random_state=27,\n",
    "                       trials=model_ho_results['drop_edit']['svr_tuned']['trials'])"
   ]
  },
  {
   "cell_type": "code",
   "execution_count": 63,
   "metadata": {},
   "outputs": [],
   "source": [
    "%%capture\n",
    "# fit models with optimal hyperparameters\n",
    "svr_models['clean_edit']['svr_tuned'] = \\\n",
    "                        SVR(**model_ho_results['clean_edit']['svr_tuned']['params'])\n",
    "svr_models['drop_edit']['svr_tuned'] = \\\n",
    "                        SVR(**model_ho_results['drop_edit']['svr_tuned']['params'])\n",
    "svr_models['clean_edit']['svr_tuned'].fit(X_ce_train, y_ce_train)\n",
    "svr_models['drop_edit']['svr_tuned'].fit(X_de_train, y_de_train)"
   ]
  },
  {
   "cell_type": "code",
   "execution_count": 64,
   "metadata": {},
   "outputs": [],
   "source": [
    "# compare SVR model performance on clean and edit datasets\n",
    "svr_comp_df = compare_performance(svr_models, model_data)"
   ]
  },
  {
   "cell_type": "code",
   "execution_count": null,
   "metadata": {},
   "outputs": [],
   "source": [
    "svr_comp_df"
   ]
  },
  {
   "cell_type": "markdown",
   "metadata": {},
   "source": [
    "As with all previous models, we're seeing better performance on `drop_edit`. Again, a higher train rmse on `drop_edit` but a lower cv rmse is a positive sign."
   ]
  },
  {
   "cell_type": "code",
   "execution_count": 65,
   "metadata": {},
   "outputs": [],
   "source": [
    "# add tuned svr models\n",
    "models['clean_edit']['svr_tuned'] = svr_models['clean_edit']['svr_tuned']\n",
    "models['drop_edit']['svr_tuned'] = svr_models['drop_edit']['svr_tuned']"
   ]
  },
  {
   "cell_type": "markdown",
   "metadata": {
    "toc-hr-collapsed": true
   },
   "source": [
    "####  Gradient boosted trees"
   ]
  },
  {
   "cell_type": "code",
   "execution_count": 66,
   "metadata": {},
   "outputs": [
    {
     "data": {
      "text/plain": [
       "XGBRegressor(base_score=0.5, booster='gbtree', colsample_bylevel=1,\n",
       "             colsample_bynode=1, colsample_bytree=1, gamma=0,\n",
       "             importance_type='gain', learning_rate=0.1, max_delta_step=0,\n",
       "             max_depth=3, min_child_weight=1, missing=None, n_estimators=100,\n",
       "             n_jobs=-1, nthread=None, objective='reg:squarederror',\n",
       "             random_state=27, reg_alpha=0, reg_lambda=1, scale_pos_weight=1,\n",
       "             seed=None, silent=None, subsample=1, verbosity=1)"
      ]
     },
     "execution_count": 66,
     "metadata": {},
     "output_type": "execute_result"
    }
   ],
   "source": [
    "# Default gradient boost tree models\n",
    "xgb_models = defaultdict(dict)\n",
    "xgb_models['clean_edit']['xgb_def'] = XGBRegressor(objective='reg:squarederror', random_state=27, n_jobs=-1)\n",
    "xgb_models['drop_edit']['xgb_def'] = XGBRegressor(objective='reg:squarederror', random_state=27, n_jobs=-1)\n",
    "xgb_models['clean_edit']['xgb_def'].fit(X_ce_train.values, y_ce_train.values)\n",
    "xgb_models['drop_edit']['xgb_def'].fit(X_de_train.values, y_de_train.values)"
   ]
  },
  {
   "cell_type": "code",
   "execution_count": 67,
   "metadata": {},
   "outputs": [],
   "source": [
    "# hyperparameter spaces\n",
    "xgb_space = {'max_depth': ho_scope.int(hp.quniform('max_depth', low=1, high=3, q=1)),\n",
    "             'n_estimators': ho_scope.int(hp.quniform('n_estimators', low=100, high=500, q=50)),\n",
    "             'learning_rate': hp.loguniform('learning_rate', low=-4*np.log(10), high=0),\n",
    "             'gamma': hp.loguniform('gamma', low=-3*np.log(10), high=2*np.log(10)),\n",
    "             'min_child_weight': ho_scope.int(hp.quniform('min_child_weight', low=1, high=7, q=1)),\n",
    "             'subsample': hp.uniform('subsample', low=0.25, high=1),\n",
    "             'colsample_bytree': hp.uniform('colsample_bytree', low=0.25, high=1),\n",
    "             'colsample_bylevel': hp.uniform('colsample_bylevel', low=0.25, high=1),\n",
    "             'colsample_bynode': hp.uniform('colsample_bynode', low=0.25, high=1),\n",
    "             'reg_lambda': hp.loguniform('reg_lambda', low=-2*np.log(10), high=2*np.log(10)),\n",
    "             'reg_alpha': hp.loguniform('reg_alpha', low=-1*np.log(10), high=1*np.log(10)),\n",
    "            }\n",
    "\n",
    "# store trial objects for restarting training\n",
    "model_ho_results['clean_edit']['xgb_tuned'] = {'trials': Trials(), 'params': None}\n",
    "model_ho_results['drop_edit']['xgb_tuned'] = {'trials': Trials(), 'params': None}"
   ]
  },
  {
   "cell_type": "code",
   "execution_count": 68,
   "metadata": {},
   "outputs": [
    {
     "name": "stdout",
     "output_type": "stream",
     "text": [
      "100%|██████████| 50/50 [09:51<00:00, 11.82s/it, best loss: 0.11487854997487522]\n",
      "100%|██████████| 50/50 [08:56<00:00, 10.74s/it, best loss: 0.12018590987034897]\n"
     ]
    }
   ],
   "source": [
    "# optimize hyperparameters\n",
    "model_ho_results['clean_edit']['xgb_tuned'] = \\\n",
    "            ho_results(obj=ho_cv_rmse, space=xgb_space, est_name='xgb',\n",
    "                       X_train=X_ce_train, y_train=y_ce_train, max_evals=50,\n",
    "                       random_state=27,\n",
    "                       trials=model_ho_results['clean_edit']['xgb_tuned']['trials'])\n",
    "model_ho_results['drop_edit']['xgb_tuned'] = \\\n",
    "            ho_results(obj=ho_cv_rmse, space=xgb_space, est_name='xgb',\n",
    "                       X_train=X_de_train, y_train=y_de_train, max_evals=50, \n",
    "                       random_state=27,\n",
    "                       trials=model_ho_results['drop_edit']['xgb_tuned']['trials'])"
   ]
  },
  {
   "cell_type": "code",
   "execution_count": 69,
   "metadata": {},
   "outputs": [],
   "source": [
    "%%capture\n",
    "# convert params to int\n",
    "conv_params = ['max_depth', 'min_child_weight', 'n_estimators']\n",
    "model_ho_results['clean_edit']['xgb_tuned']['params'] = \\\n",
    "        convert_to_int(model_ho_results['clean_edit']['xgb_tuned']['params'], conv_params)\n",
    "model_ho_results['clean_edit']['xgb_tuned']['params'] = \\\n",
    "        convert_to_int(model_ho_results['clean_edit']['xgb_tuned']['params'], conv_params)\n",
    "\n",
    "# add and fit models with optimal hyperparameters\n",
    "fixed_params = {'objective': 'reg:squarederror', 'n_jobs': -1, 'random_state': 27}\n",
    "xgb_models['clean_edit']['xgb_tuned'] = \\\n",
    "        XGBRegressor(**{**model_ho_results['clean_edit']['xgb_tuned']['params'], \n",
    "                        **fixed_params})\n",
    "xgb_models['drop_edit']['xgb_tuned'] = \\\n",
    "        XGBRegressor(**{**model_ho_results['clean_edit']['xgb_tuned']['params'], \n",
    "                        **fixed_params})\n",
    "xgb_models['clean_edit']['xgb_tuned'].fit(X_ce_train.values, y_ce_train.values)\n",
    "xgb_models['drop_edit']['xgb_tuned'].fit(X_de_train.values, y_de_train.values)"
   ]
  },
  {
   "cell_type": "code",
   "execution_count": 71,
   "metadata": {},
   "outputs": [
    {
     "data": {
      "text/html": [
       "<div>\n",
       "<style scoped>\n",
       "    .dataframe tbody tr th:only-of-type {\n",
       "        vertical-align: middle;\n",
       "    }\n",
       "\n",
       "    .dataframe tbody tr th {\n",
       "        vertical-align: top;\n",
       "    }\n",
       "\n",
       "    .dataframe thead tr th {\n",
       "        text-align: left;\n",
       "    }\n",
       "</style>\n",
       "<table border=\"1\" class=\"dataframe\">\n",
       "  <thead>\n",
       "    <tr>\n",
       "      <th>data</th>\n",
       "      <th>model</th>\n",
       "      <th colspan=\"2\" halign=\"left\">clean_edit</th>\n",
       "      <th colspan=\"2\" halign=\"left\">drop_edit</th>\n",
       "    </tr>\n",
       "    <tr>\n",
       "      <th>performance</th>\n",
       "      <th></th>\n",
       "      <th>train_rmse</th>\n",
       "      <th>cv_rmse</th>\n",
       "      <th>train_rmse</th>\n",
       "      <th>cv_rmse</th>\n",
       "    </tr>\n",
       "  </thead>\n",
       "  <tbody>\n",
       "    <tr>\n",
       "      <td>0</td>\n",
       "      <td>xgb_def</td>\n",
       "      <td>0.0876669</td>\n",
       "      <td>0.125045</td>\n",
       "      <td>0.0889219</td>\n",
       "      <td>0.125903</td>\n",
       "    </tr>\n",
       "    <tr>\n",
       "      <td>1</td>\n",
       "      <td>xgb_tuned</td>\n",
       "      <td>0.0772716</td>\n",
       "      <td>0.113871</td>\n",
       "      <td>0.0795258</td>\n",
       "      <td>0.117488</td>\n",
       "    </tr>\n",
       "  </tbody>\n",
       "</table>\n",
       "</div>"
      ],
      "text/plain": [
       "data             model clean_edit            drop_edit          \n",
       "performance            train_rmse   cv_rmse train_rmse   cv_rmse\n",
       "0              xgb_def  0.0876669  0.125045  0.0889219  0.125903\n",
       "1            xgb_tuned  0.0772716  0.113871  0.0795258  0.117488"
      ]
     },
     "execution_count": 71,
     "metadata": {},
     "output_type": "execute_result"
    }
   ],
   "source": [
    "# compare XGBoost models on clean_edit and drop_edit datasets\n",
    "xgb_comp_df = compare_performance(xgb_models, model_data)\n",
    "xgb_comp_df"
   ]
  },
  {
   "cell_type": "markdown",
   "metadata": {},
   "source": [
    "In contrast to all previous models, the gradient boosted tree regressor had a lower cv rmse on `clean_edit`, but similarly to previous models train rmse was higher.\n",
    "\n",
    "We can rank the features by importance (in this case, the number of times the feature was used to split a tree across all trees in the forest)."
   ]
  },
  {
   "cell_type": "code",
   "execution_count": 72,
   "metadata": {},
   "outputs": [
    {
     "data": {
      "image/png": "[encoded data removed]",
      "text/plain": [
       "<Figure size 720x576 with 1 Axes>"
      ]
     },
     "metadata": {
      "needs_background": "light"
     },
     "output_type": "display_data"
    }
   ],
   "source": [
    "# top 20 feature importances of xgb model on drop_edit data\n",
    "plot_xgb_features(xgb_models['drop_edit']['xgb_tuned'], X_de_train, 10, figsize=(10, 8),\n",
    "                  rotation=90)"
   ]
  },
  {
   "cell_type": "markdown",
   "metadata": {},
   "source": [
    "On the `drop_edit` data, the top ten features for the gradient boosted trees regression model seem quite different from the top ten features of [ridge regression](#Ridge-regressor). Only `OverallQual` and `log_GrLivArea` appear in both, and whereas both rank `OverallQual` third, `ridge` ranks `log_GrLivArea` first while `xgb` ranks it tenth. While the top `ridge` features seemed plausible and natural, some of the top `xgb` features seem more surpising, especially the highest ranked feature `GarageType_Detached`."
   ]
  },
  {
   "cell_type": "code",
   "execution_count": 73,
   "metadata": {},
   "outputs": [],
   "source": [
    "# replace default models with tuned models\n",
    "models['clean_edit']['xgb_tuned'] = xgb_models['clean_edit']['xgb_tuned']\n",
    "models['drop_edit']['xgb_tuned'] = xgb_models['drop_edit']['xgb_tuned']"
   ]
  },
  {
   "cell_type": "markdown",
   "metadata": {},
   "source": [
    "#### Compare tuned models and save parameters"
   ]
  },
  {
   "cell_type": "code",
   "execution_count": 74,
   "metadata": {},
   "outputs": [
    {
     "data": {
      "text/html": [
       "<div>\n",
       "<style scoped>\n",
       "    .dataframe tbody tr th:only-of-type {\n",
       "        vertical-align: middle;\n",
       "    }\n",
       "\n",
       "    .dataframe tbody tr th {\n",
       "        vertical-align: top;\n",
       "    }\n",
       "\n",
       "    .dataframe thead tr th {\n",
       "        text-align: left;\n",
       "    }\n",
       "</style>\n",
       "<table border=\"1\" class=\"dataframe\">\n",
       "  <thead>\n",
       "    <tr>\n",
       "      <th>data</th>\n",
       "      <th>model</th>\n",
       "      <th colspan=\"2\" halign=\"left\">clean_edit</th>\n",
       "      <th colspan=\"2\" halign=\"left\">drop_edit</th>\n",
       "    </tr>\n",
       "    <tr>\n",
       "      <th>performance</th>\n",
       "      <th></th>\n",
       "      <th>train_rmse</th>\n",
       "      <th>cv_rmse</th>\n",
       "      <th>train_rmse</th>\n",
       "      <th>cv_rmse</th>\n",
       "    </tr>\n",
       "  </thead>\n",
       "  <tbody>\n",
       "    <tr>\n",
       "      <td>0</td>\n",
       "      <td>svr_tuned</td>\n",
       "      <td>0.06929</td>\n",
       "      <td>0.112236</td>\n",
       "      <td>0.0911838</td>\n",
       "      <td>0.112445</td>\n",
       "    </tr>\n",
       "    <tr>\n",
       "      <td>1</td>\n",
       "      <td>ridge_tuned</td>\n",
       "      <td>0.0950445</td>\n",
       "      <td>0.113011</td>\n",
       "      <td>0.0996629</td>\n",
       "      <td>0.116393</td>\n",
       "    </tr>\n",
       "    <tr>\n",
       "      <td>2</td>\n",
       "      <td>bridge_tuned</td>\n",
       "      <td>0.09467</td>\n",
       "      <td>0.113658</td>\n",
       "      <td>0.0996135</td>\n",
       "      <td>0.114628</td>\n",
       "    </tr>\n",
       "    <tr>\n",
       "      <td>3</td>\n",
       "      <td>bridge</td>\n",
       "      <td>0.094478</td>\n",
       "      <td>0.113733</td>\n",
       "      <td>0.0996576</td>\n",
       "      <td>0.115385</td>\n",
       "    </tr>\n",
       "    <tr>\n",
       "      <td>4</td>\n",
       "      <td>ridge</td>\n",
       "      <td>0.094225</td>\n",
       "      <td>0.114597</td>\n",
       "      <td>0.0998434</td>\n",
       "      <td>0.11497</td>\n",
       "    </tr>\n",
       "    <tr>\n",
       "      <td>5</td>\n",
       "      <td>xgb_tuned</td>\n",
       "      <td>0.0772716</td>\n",
       "      <td>0.114933</td>\n",
       "      <td>0.0795258</td>\n",
       "      <td>0.11772</td>\n",
       "    </tr>\n",
       "    <tr>\n",
       "      <td>6</td>\n",
       "      <td>pls_tuned</td>\n",
       "      <td>0.0948243</td>\n",
       "      <td>0.115411</td>\n",
       "      <td>0.0989862</td>\n",
       "      <td>0.115752</td>\n",
       "    </tr>\n",
       "    <tr>\n",
       "      <td>7</td>\n",
       "      <td>xgb</td>\n",
       "      <td>0.0876669</td>\n",
       "      <td>0.123048</td>\n",
       "      <td>0.0889219</td>\n",
       "      <td>0.126444</td>\n",
       "    </tr>\n",
       "    <tr>\n",
       "      <td>8</td>\n",
       "      <td>svr</td>\n",
       "      <td>0.120197</td>\n",
       "      <td>0.131465</td>\n",
       "      <td>0.123082</td>\n",
       "      <td>0.134494</td>\n",
       "    </tr>\n",
       "    <tr>\n",
       "      <td>9</td>\n",
       "      <td>pls</td>\n",
       "      <td>0.130416</td>\n",
       "      <td>0.136702</td>\n",
       "      <td>0.133912</td>\n",
       "      <td>0.140016</td>\n",
       "    </tr>\n",
       "  </tbody>\n",
       "</table>\n",
       "</div>"
      ],
      "text/plain": [
       "data                model clean_edit            drop_edit          \n",
       "performance               train_rmse   cv_rmse train_rmse   cv_rmse\n",
       "0               svr_tuned    0.06929  0.112236  0.0911838  0.112445\n",
       "1             ridge_tuned  0.0950445  0.113011  0.0996629  0.116393\n",
       "2            bridge_tuned    0.09467  0.113658  0.0996135  0.114628\n",
       "3                  bridge   0.094478  0.113733  0.0996576  0.115385\n",
       "4                   ridge   0.094225  0.114597  0.0998434   0.11497\n",
       "5               xgb_tuned  0.0772716  0.114933  0.0795258   0.11772\n",
       "6               pls_tuned  0.0948243  0.115411  0.0989862  0.115752\n",
       "7                     xgb  0.0876669  0.123048  0.0889219  0.126444\n",
       "8                     svr   0.120197  0.131465   0.123082  0.134494\n",
       "9                     pls   0.130416  0.136702   0.133912  0.140016"
      ]
     },
     "execution_count": 74,
     "metadata": {},
     "output_type": "execute_result"
    }
   ],
   "source": [
    "# compare results of tuned models\n",
    "tuned_comp_df = compare_performance(models, model_data, random_state=27)\n",
    "tuned_comp_df.sort_values(by=('clean_edit', 'cv_rmse')).reset_index(drop=True)"
   ]
  },
  {
   "cell_type": "code",
   "execution_count": 75,
   "metadata": {},
   "outputs": [
    {
     "data": {
      "image/png": "[encoded data removed]",
      "text/plain": [
       "<Figure size 803.75x360 with 2 Axes>"
      ]
     },
     "metadata": {
      "needs_background": "light"
     },
     "output_type": "display_data"
    }
   ],
   "source": [
    "# compare tuned model train and cv performance on clean and edit datasets\n",
    "plot_model_comp(tuned_comp_df, col='data', hue='performance', kind='bar', palette=data_palette)"
   ]
  },
  {
   "cell_type": "code",
   "execution_count": 76,
   "metadata": {},
   "outputs": [
    {
     "data": {
      "image/png": "[encoded data removed]",
      "text/plain": [
       "<Figure size 801.875x360 with 2 Axes>"
      ]
     },
     "metadata": {
      "needs_background": "light"
     },
     "output_type": "display_data"
    }
   ],
   "source": [
    "# compare clean and edit performance for train and cv error\n",
    "plot_model_comp(tuned_comp_df, col='performance', hue='data', kind='bar', palette=perf_palette)"
   ]
  },
  {
   "cell_type": "code",
   "execution_count": 78,
   "metadata": {},
   "outputs": [],
   "source": [
    "# pickle hyperopt trials and results\n",
    "pickle_to_file(model_ho_results, '../training/model_tuning_results.pkl')\n",
    "\n",
    "# pickle tuned models\n",
    "pickle_to_file(models, '../training/tuned_models.pkl')"
   ]
  },
  {
   "cell_type": "markdown",
   "metadata": {
    "toc-hr-collapsed": false
   },
   "source": [
    "### Ensembles"
   ]
  },
  {
   "cell_type": "code",
   "execution_count": 82,
   "metadata": {},
   "outputs": [],
   "source": [
    "# unpickle tuned models from last section\n",
    "tuned_models = pickle_from_file('../training/tuned_models.pkl')"
   ]
  },
  {
   "cell_type": "markdown",
   "metadata": {
    "toc-hr-collapsed": true
   },
   "source": [
    "#### Voting"
   ]
  },
  {
   "cell_type": "markdown",
   "metadata": {},
   "source": [
    "Voting ensembles predict a weighted average of base models. \n",
    "\n",
    "We'll use the implementation [`sklearn.ensemble.VotingRegressor`](https://scikit-learn.org/stable/modules/generated/sklearn.ensemble.VotingRegressor.html). Unfortunately `sklearn.PLSRegressor`'s `predict` method returns arrays of size `(n_samples, 1)` rather than `(n_samples,)` like all all other models. This throws an error when passed in as an estimator to `cross_val_score` so we won't use it as a base model. We also won't use `bridge` since its feature weights were nearly identical to `ridge`, so in the end our voting regressor will consist of three base models: ridge, support vector and gradient boosted tree regression."
   ]
  },
  {
   "cell_type": "code",
   "execution_count": 83,
   "metadata": {},
   "outputs": [
    {
     "data": {
      "text/plain": [
       "dict_keys(['ridge', 'bridge', 'pls', 'svr', 'xgb', 'ridge_tuned', 'bridge_tuned', 'pls_tuned', 'svr_tuned', 'xgb_tuned'])"
      ]
     },
     "execution_count": 83,
     "metadata": {},
     "output_type": "execute_result"
    }
   ],
   "source": [
    "tuned_models['clean_edit'].keys()"
   ]
  },
  {
   "cell_type": "code",
   "execution_count": 84,
   "metadata": {},
   "outputs": [],
   "source": [
    "drop_models = ['ridge', 'bridge', 'pls', 'svr', 'xgb', 'bridge_tuned', \n",
    "               'pls_tuned']\n",
    "base_pretuned = remove_models(tuned_models, drop_models)"
   ]
  },
  {
   "cell_type": "markdown",
   "metadata": {},
   "source": [
    "##### Default base and uniform weights"
   ]
  },
  {
   "cell_type": "markdown",
   "metadata": {},
   "source": [
    "For a baseline, we'll look at a voting ensemble of default base models with uniform weights"
   ]
  },
  {
   "cell_type": "code",
   "execution_count": 85,
   "metadata": {},
   "outputs": [],
   "source": [
    "%%capture\n",
    "# Default models for Voting Regressor\n",
    "base_def = [('ridge', Ridge()), \n",
    "            ('svr', SVR()), \n",
    "            ('xgb', XGBRegressor(objective='reg:squarederror', n_jobs=-1, random_state=27))]\n",
    "\n",
    "# Voting ensembles with uniform weights and untuned base models\n",
    "ensembles = defaultdict(dict)\n",
    "ensembles['clean_edit']['voter_def'] = VotingRegressor(base_def, n_jobs=-1)\n",
    "ensembles['drop_edit']['voter_def'] = VotingRegressor(base_def, n_jobs=-1)\n",
    "ensembles['clean_edit']['voter_def'].fit(X_ce_train.values, y_ce_train.values)\n",
    "ensembles['drop_edit']['voter_def'].fit(X_de_train.values, y_de_train.values)"
   ]
  },
  {
   "cell_type": "markdown",
   "metadata": {},
   "source": [
    "##### Pretuned base and uniform weights"
   ]
  },
  {
   "cell_type": "markdown",
   "metadata": {},
   "source": [
    "We also consider a voting ensemble with pretuned base models and uniform weights."
   ]
  },
  {
   "cell_type": "code",
   "execution_count": 86,
   "metadata": {},
   "outputs": [],
   "source": [
    "%%capture\n",
    "# Voting ensmebles with uniform weights for pretuned base models\n",
    "ensembles['clean_edit']['voter_uniform_pretuned'] = \\\n",
    "         VotingRegressor(list(base_pretuned['clean_edit'].items()), n_jobs=-1)\n",
    "ensembles['drop_edit']['voter_uniform_pretuned'] = \\\n",
    "         VotingRegressor(list(base_pretuned['drop_edit'].items()), n_jobs=-1)\n",
    "ensembles['clean_edit']['voter_uniform_pretuned'].fit(X_ce_train.values, y_ce_train.values)\n",
    "ensembles['drop_edit']['voter_uniform_pretuned'].fit(X_de_train.values, y_de_train.values)"
   ]
  },
  {
   "cell_type": "code",
   "execution_count": 87,
   "metadata": {},
   "outputs": [],
   "source": [
    "# voting ensemble hyperparameters for pretuned base\n",
    "weight_space = {'voter1': hp.uniform('voter1', low=0, high=1),\n",
    "               'voter2': hp.uniform('voter2', low=0, high=1),\n",
    "               'voter3': hp.uniform('voter3', low=0, high=1)\n",
    "              }\n",
    "\n",
    "voter_fixed_params = {'n_jobs': -1}\n",
    "\n",
    "\n",
    "# container for hyperparameter search trials and results\n",
    "ens_ho_results = defaultdict(dict)\n",
    "\n",
    "# store trial objects for restarting training\n",
    "ens_ho_results['clean_edit']['voter_pretuned'] = {'trials': Trials(), 'params': None}\n",
    "ens_ho_results['drop_edit']['voter_pretuned'] = {'trials': Trials(), 'params': None}"
   ]
  },
  {
   "cell_type": "code",
   "execution_count": 88,
   "metadata": {},
   "outputs": [
    {
     "name": "stdout",
     "output_type": "stream",
     "text": [
      "100%|██████████| 50/50 [16:35<00:00, 19.91s/it, best loss: 0.10821736452332247]\n",
      "100%|██████████| 50/50 [12:22<00:00, 14.85s/it, best loss: 0.11169063598085288]\n"
     ]
    }
   ],
   "source": [
    "# optimize weights for voting ensemble with pretuned base\n",
    "ens_ho_results['clean_edit']['voter_pretuned'] = \\\n",
    "        ho_ens_results(obj=ho_ens_cv_rmse, space=weight_space, ens_name='voter', \n",
    "                       base_ests=base_pretuned['clean_edit'],\n",
    "                       X_train=X_ce_train, y_train=y_ce_train,\n",
    "                       fixed_params=voter_fixed_params,\n",
    "                       pretuned=True, random_state=27, max_evals=50,\n",
    "                       trials=ens_ho_results['clean_edit']['voter_pretuned']['trials'])\n",
    "ens_ho_results['drop_edit']['voter_pretuned'] = \\\n",
    "        ho_ens_results(obj=ho_ens_cv_rmse, space=weight_space, ens_name='voter', \n",
    "                       base_ests=base_pretuned['drop_edit'],\n",
    "                       X_train=X_de_train, y_train=y_de_train,\n",
    "                       fixed_params=voter_fixed_params,\n",
    "                       pretuned=True, random_state=27, max_evals=50,\n",
    "                       trials=ens_ho_results['drop_edit']['voter_pretuned']['trials'])"
   ]
  },
  {
   "cell_type": "code",
   "execution_count": 89,
   "metadata": {},
   "outputs": [],
   "source": [
    "%%capture\n",
    "# store and normalize weights\n",
    "ce_pretuned_weights = list(ens_ho_results['clean_edit']['voter_pretuned']['params'].values())\n",
    "de_pretuned_weights = list(ens_ho_results['drop_edit']['voter_pretuned']['params'].values())\n",
    "ce_pretuned_weights = convert_and_normalize_weights(ce_pretuned_weights)\n",
    "de_pretuned_weights = convert_and_normalize_weights(de_pretuned_weights)\n",
    "\n",
    "# add and fit voting ensembles of pretuned base estimators with tuned weights\n",
    "ensembles['clean_edit']['voter_pretuned'] = \\\n",
    "                    VotingRegressor(list(base_pretuned['clean_edit'].items()), \n",
    "                                    weights=ce_pretuned_weights)\n",
    "ensembles['drop_edit']['voter_pretuned'] = \\\n",
    "                    VotingRegressor(list(base_pretuned['drop_edit'].items()), \n",
    "                                    weights=de_pretuned_weights)\n",
    "ensembles['clean_edit']['voter_pretuned'].fit(X_ce_train.values, y_ce_train.values)\n",
    "ensembles['drop_edit']['voter_pretuned'].fit(X_de_train.values, y_de_train.values)"
   ]
  },
  {
   "cell_type": "markdown",
   "metadata": {},
   "source": [
    "##### Fully tuned voter"
   ]
  },
  {
   "cell_type": "markdown",
   "metadata": {},
   "source": [
    "Finally, we'll tune a voting regressors base model hyperparameters and voting weights simultaneously with Bayesian search."
   ]
  },
  {
   "cell_type": "code",
   "execution_count": 90,
   "metadata": {},
   "outputs": [],
   "source": [
    "# base hyperparameter spaces\n",
    "ridge_base_space = {'alpha_ridge': hp.loguniform('alpha_ridge', low=-3*np.log(10), high=2*np.log(10))}\n",
    "svr_base_space = {'gamma_svr': hp.loguniform('gamma_svr', low=-3*np.log(10), high=2*np.log(10)),\n",
    "                  'C_svr': hp.loguniform('C_svr', low=-3*np.log(10), high=2*np.log(10)),\n",
    "                  'epsilon_svr': hp.loguniform('epsilon_svr', low=-3*np.log(10), high=2*np.log(10))}\n",
    "xgb_base_space = {'max_depth_xgb': ho_scope.int(hp.quniform('max_depth_xgb', low=1, high=3, q=1)),\n",
    "                  'n_estimators_xgb': ho_scope.int(hp.quniform('n_estimators_xgb', low=100, high=500, q=50)),\n",
    "                  'learning_rate_xgb': hp.loguniform('learning_rate_xgb', low=-4*np.log(10), high=0),\n",
    "                  'gamma_xgb': hp.loguniform('gamma_xgb', low=-3*np.log(10), high=2*np.log(10)),\n",
    "                  'min_child_weight_xgb': ho_scope.int(hp.quniform('min_child_weight_xgb', low=1, high=7, q=1)),\n",
    "                  'subsample_xgb': hp.uniform('subsample_xgb', low=0.25, high=1),\n",
    "                  'colsample_bytree_xgb': hp.uniform('colsample_bytree_xgb', low=0.25, high=1),\n",
    "                  'colsample_bylevel_xgb': hp.uniform('colsample_bylevel_xgb', low=0.25, high=1),\n",
    "                  'colsample_bynode_xgb': hp.uniform('colsample_bynode_xgb', low=0.25, high=1),\n",
    "                  'reg_lambda_xgb': hp.loguniform('reg_lambda_xgb', low=-2*np.log(10), high=2*np.log(10)),\n",
    "                  'reg_alpha_xgb': hp.loguniform('reg_alpha_xgb', low=-1*np.log(10), high=1*np.log(10)),\n",
    "                 }\n",
    "\n",
    "# voting ensemble hyperparameters for untuned base\n",
    "base_space = {**ridge_base_space, **svr_base_space, **xgb_base_space}\n",
    "voter_space = {**base_space, **weight_space}\n",
    "\n",
    "# store trial objects for restarting training\n",
    "ens_ho_results['clean_edit']['voter_tuned'] = {'trials': Trials(), 'params': None}\n",
    "ens_ho_results['drop_edit']['voter_tuned'] = {'trials': Trials(), 'params': None}"
   ]
  },
  {
   "cell_type": "code",
   "execution_count": 91,
   "metadata": {},
   "outputs": [
    {
     "name": "stdout",
     "output_type": "stream",
     "text": [
      "100%|██████████| 50/50 [09:15<00:00, 11.11s/it, best loss: 0.11562031262896297]\n",
      "100%|██████████| 50/50 [07:55<00:00,  9.51s/it, best loss: 0.11927675656382479]\n"
     ]
    }
   ],
   "source": [
    "# optimize all voting ensemble hyperparameters jointly\n",
    "ens_ho_results['clean_edit']['voter_tuned'] = \\\n",
    "            ho_ens_results(obj=ho_ens_cv_rmse, space=voter_space, ens_name='voter', \n",
    "                           X_train=X_ce_train, y_train=y_ce_train, \n",
    "                           fixed_params=voter_fixed_params,\n",
    "                           pretuned=False, random_state=27, max_evals=50,\n",
    "                           trials=ens_ho_results['clean_edit']['voter_tuned']['trials'])\n",
    "ens_ho_results['drop_edit']['voter_tuned'] = \\\n",
    "            ho_ens_results(obj=ho_ens_cv_rmse, space=voter_space, ens_name='voter', \n",
    "                           X_train=X_de_train, y_train=y_de_train, \n",
    "                           fixed_params=voter_fixed_params,\n",
    "                           pretuned=False, random_state=27, max_evals=50,\n",
    "                           trials=ens_ho_results['drop_edit']['voter_tuned']['trials'])"
   ]
  },
  {
   "cell_type": "code",
   "execution_count": 92,
   "metadata": {},
   "outputs": [],
   "source": [
    "%%capture\n",
    "# add and fit fully tuned voting ensembles \n",
    "ensembles['clean_edit']['voter_tuned'] = \\\n",
    "            voter_from_search_params(ens_ho_results['clean_edit']['voter_tuned']['params'],\n",
    "                                     X_ce_train, y_ce_train, random_state=27)\n",
    "ensembles['drop_edit']['voter_tuned'] = \\\n",
    "            voter_from_search_params(ens_ho_results['drop_edit']['voter_tuned']['params'],\n",
    "                                     X_de_train, y_de_train, random_state=27)"
   ]
  },
  {
   "cell_type": "markdown",
   "metadata": {
    "toc-hr-collapsed": true
   },
   "source": [
    "#### Stacking"
   ]
  },
  {
   "cell_type": "markdown",
   "metadata": {},
   "source": [
    "Stacking ensembles fit a meta models to the predictions of base models. To avoid overfitting, one can use folds to generate base models predictions.\n",
    "We'll use the implementation [`mlxtend.StackingCVRegressor`](http://rasbt.github.io/mlxtend/user_guide/regressor/StackingCVRegressor/). We'll also choose our meta models from the set of base models (ridge, support vector, and gradient boosted tree regression)."
   ]
  },
  {
   "cell_type": "markdown",
   "metadata": {},
   "source": [
    "##### Default base and meta"
   ]
  },
  {
   "cell_type": "markdown",
   "metadata": {},
   "source": [
    "For a baseline, we'll consider stack ensembles for which both base and meta models have default parameters. We'll use all three base models for each, and vary the meta model across the base models."
   ]
  },
  {
   "cell_type": "code",
   "execution_count": 93,
   "metadata": {},
   "outputs": [],
   "source": [
    "# add default base and meta without using features in secondary\n",
    "ensembles = add_stacks(ensembles, model_data, suffix='def', \n",
    "                       use_features_in_secondary=False, random_state=27)"
   ]
  },
  {
   "cell_type": "code",
   "execution_count": 94,
   "metadata": {},
   "outputs": [],
   "source": [
    "# add default base and meta using features in secondary\n",
    "ensembles = add_stacks(ensembles, model_data, suffix='def', \n",
    "                       use_features_in_secondary=True, random_state=27)"
   ]
  },
  {
   "cell_type": "markdown",
   "metadata": {},
   "source": [
    "##### Pretuned base and meta"
   ]
  },
  {
   "cell_type": "markdown",
   "metadata": {},
   "source": [
    "Now we'll consider stack ensembles for which the base and meta models are already tuned. Again, we'll use all three base models and vary the meta model across the base models."
   ]
  },
  {
   "cell_type": "code",
   "execution_count": 95,
   "metadata": {},
   "outputs": [],
   "source": [
    "# add pretuned base and meta without using features in secondary\n",
    "ensembles = add_stacks(ensembles, model_data, base_ests=base_pretuned, \n",
    "                       meta_ests=base_pretuned, suffix='pretuned', \n",
    "                       use_features_in_secondary=False, random_state=27)"
   ]
  },
  {
   "cell_type": "code",
   "execution_count": 96,
   "metadata": {},
   "outputs": [],
   "source": [
    "# add pretuned base and meta using features in secondary\n",
    "ensembles = add_stacks(ensembles, model_data, base_ests=base_pretuned, \n",
    "                       meta_ests=base_pretuned, suffix='pretuned', \n",
    "                       use_features_in_secondary=True, random_state=27)"
   ]
  },
  {
   "cell_type": "markdown",
   "metadata": {
    "toc-hr-collapsed": true
   },
   "source": [
    "##### Fully tuned stacks"
   ]
  },
  {
   "cell_type": "markdown",
   "metadata": {},
   "source": [
    "Finally, we'll tune stack ensembles at once, that is we'll tune both base and meta models simultaneously. As before, we'll use all three base models and vary the meta model across the base models."
   ]
  },
  {
   "cell_type": "code",
   "execution_count": 97,
   "metadata": {},
   "outputs": [],
   "source": [
    "# meta hyperparameter spaces\n",
    "ridge_meta_space = {'alpha_ridge_meta': hp.loguniform('alpha_ridge_meta', low=-3*np.log(10), high=2*np.log(10))}\n",
    "svr_meta_space = {'gamma_svr_meta': hp.loguniform('gamma_svr_meta', low=-3*np.log(10), high=2*np.log(10)),\n",
    "                  'C_svr_meta': hp.loguniform('C_svr_meta', low=-3*np.log(10), high=2*np.log(10)),\n",
    "                  'epsilon_svr_meta': hp.loguniform('epsilon_svr_meta', low=-3*np.log(10), high=2*np.log(10))}\n",
    "xgb_meta_space = {'max_depth_xgb_meta': ho_scope.int(hp.quniform('max_depth_xgb_meta', low=1, high=3, q=1)),\n",
    "                  'n_estimators_xgb_meta': ho_scope.int(hp.quniform('n_estimators_xgb_meta', low=100, high=500, q=50)),\n",
    "                  'learning_rate_xgb_meta': hp.loguniform('learning_rate_xgb_meta', low=-4*np.log(10), high=0),\n",
    "                  'gamma_xgb_meta': hp.loguniform('gamma_xgb_meta', low=-3*np.log(10), high=2*np.log(10)),\n",
    "                  'min_child_weight_xgb_meta': ho_scope.int(hp.quniform('min_child_weight_xgb_meta', low=1, high=7, q=1)),\n",
    "                  'subsample_xgb_meta': hp.uniform('subsample_xgb_meta', low=0.25, high=1),\n",
    "                  'colsample_bytree_xgb_meta': hp.uniform('colsample_bytree_xgb_meta', low=0.25, high=1),\n",
    "                  'colsample_bylevel_xgb_meta': hp.uniform('colsample_bylevel_xgb_meta', low=0.25, high=1),\n",
    "                  'colsample_bynode_xgb_meta': hp.uniform('colsample_bynode_xgb_meta', low=0.25, high=1),\n",
    "                  'reg_lambda_xgb_meta': hp.loguniform('reg_lambda_xgb_meta', low=-2*np.log(10), high=2*np.log(10)),\n",
    "                  'reg_alpha_xgb_meta': hp.loguniform('reg_alpha_xgb_meta', low=-1*np.log(10), high=1*np.log(10)),\n",
    "                 }"
   ]
  },
  {
   "cell_type": "markdown",
   "metadata": {},
   "source": [
    "###### `Ridge` meta"
   ]
  },
  {
   "cell_type": "code",
   "execution_count": 98,
   "metadata": {},
   "outputs": [],
   "source": [
    "# ridge meta stack space\n",
    "ridge_stack_space = {**ridge_meta_space, **base_space}\n",
    "\n",
    "# store trial objects for restarting training\n",
    "ens_ho_results['clean_edit']['stack_ridge_tuned'] = {'trials': Trials(), 'params': None}\n",
    "ens_ho_results['drop_edit']['stack_ridge_tuned'] = {'trials': Trials(), 'params': None}"
   ]
  },
  {
   "cell_type": "code",
   "execution_count": null,
   "metadata": {},
   "outputs": [
    {
     "name": "stdout",
     "output_type": "stream",
     "text": [
      " 14%|█▍        | 7/50 [05:44<37:43, 52.63s/it, best loss: 0.11378765213542327]"
     ]
    }
   ],
   "source": [
    "# tune ridge stack without features in secondary\n",
    "stack_fixed_params = {'n_jobs': -1, 'use_features_in_secondary': False}\n",
    "\n",
    "ens_ho_results['clean_edit']['stack_ridge_tuned'] = \\\n",
    "        ho_ens_results(obj=ho_ens_cv_rmse, space=ridge_stack_space, ens_name='stack', \n",
    "                       X_train=X_ce_train,  y_train=y_ce_train, meta_name='ridge', \n",
    "                       fixed_params=stack_fixed_params, pretuned=False, \n",
    "                       random_state=27, max_evals=50,\n",
    "                       trials=ens_ho_results['clean_edit']['stack_ridge_tuned']['trials'])\n",
    "ens_ho_results['drop_edit']['stack_ridge_tuned'] = \\\n",
    "        ho_ens_results(obj=ho_ens_cv_rmse, space=ridge_stack_space, ens_name='stack', \n",
    "                       X_train=X_de_train,  y_train=y_de_train, meta_name='ridge', \n",
    "                       fixed_params=stack_fixed_params, pretuned=False, \n",
    "                       random_state=27, max_evals=50,\n",
    "                       trials=ens_ho_results['drop_edit']['stack_ridge_tuned']['trials'])"
   ]
  },
  {
   "cell_type": "code",
   "execution_count": null,
   "metadata": {},
   "outputs": [],
   "source": [
    "%%capture\n",
    "# add and fit tuned ridge stacks without features in secondary\n",
    "ensembles['clean_edit']['stack_ridge_tuned'] = \\\n",
    "    stack_from_search_params(ens_ho_results['clean_edit']['stack_ridge_tuned']['params'], \n",
    "                             X_ce_train, y_ce_train, meta_name='ridge',\n",
    "                             random_state=27)\n",
    "ensembles['drop_edit']['stack_ridge_tuned'] = \\\n",
    "    stack_from_search_params(ens_ho_results['drop_edit']['stack_ridge_tuned']['params'], \n",
    "                             X_de_train, y_de_train, meta_name='ridge',\n",
    "                             random_state=27)"
   ]
  },
  {
   "cell_type": "code",
   "execution_count": null,
   "metadata": {},
   "outputs": [],
   "source": [
    "# store trial objects for restarting training\n",
    "ens_ho_results['clean_edit']['stack_ridge_tuned_second'] = \\\n",
    "            {'trials': Trials(), 'params': None}\n",
    "ens_ho_results['drop_edit']['stack_ridge_tuned_second'] = \\\n",
    "            {'trials': Trials(), 'params': None}\n",
    "\n",
    "# tune ridge stack using features in secondary\n",
    "stack_fixed_params['use_features_in_secondary'] = True\n",
    "\n",
    "ens_ho_results['clean_edit']['stack_ridge_tuned_second'] = \\\n",
    "        ho_ens_results(obj=ho_ens_cv_rmse, space=ridge_stack_space, ens_name='stack', \n",
    "                       X_train=X_ce_train, y_train=y_ce_train, meta_name='ridge', \n",
    "                       fixed_params=stack_fixed_params,\n",
    "                       pretuned=False, random_state=27, max_evals=50,\n",
    "                       trials=ens_ho_results['clean_edit']['stack_ridge_tuned_second']['trials'])\n",
    "ens_ho_results['drop_edit']['stack_ridge_tuned_second'] = \\\n",
    "        ho_ens_results(obj=ho_ens_cv_rmse, space=ridge_stack_space, ens_name='stack', \n",
    "                       X_train=X_de_train, y_train=y_de_train, meta_name='ridge', \n",
    "                       fixed_params=stack_fixed_params,\n",
    "                       pretuned=False, random_state=27, max_evals=50,\n",
    "                       trials=ens_ho_results['drop_edit']['stack_ridge_tuned_second']['trials'])"
   ]
  },
  {
   "cell_type": "code",
   "execution_count": null,
   "metadata": {},
   "outputs": [],
   "source": [
    "%%capture\n",
    "# add and fit tuned ridge stacks using features in secondary\n",
    "ensembles['clean_edit']['stack_ridge_tuned_second'] = \\\n",
    "    stack_from_search_params(ens_ho_results['clean_edit']['stack_ridge_tuned_second']['params'], \n",
    "                             X_ce_train, y_ce_train, meta_name='ridge',\n",
    "                             random_state=27)\n",
    "ensembles['drop_edit']['stack_ridge_tuned_second'] = \\\n",
    "    stack_from_search_params(ens_ho_results['drop_edit']['stack_ridge_tuned_second']['params'], \n",
    "                             X_de_train, y_de_train, meta_name='ridge',\n",
    "                             random_state=27)"
   ]
  },
  {
   "cell_type": "markdown",
   "metadata": {},
   "source": [
    "###### `SVR` meta"
   ]
  },
  {
   "cell_type": "code",
   "execution_count": null,
   "metadata": {},
   "outputs": [],
   "source": [
    "# svr meta stack space\n",
    "svr_stack_space = {**svr_meta_space, **base_space}\n",
    "\n",
    "# store trial objects for restarting training\n",
    "ens_ho_results['clean_edit']['stack_svr_tuned'] = {'trials': Trials(), 'params': None}\n",
    "ens_ho_results['drop_edit']['stack_svr_tuned'] = {'trials': Trials(), 'params': None}"
   ]
  },
  {
   "cell_type": "code",
   "execution_count": null,
   "metadata": {},
   "outputs": [],
   "source": [
    "# tune svr stack without features in secondary\n",
    "\n",
    "stack_fixed_params['use_features_in_secondary'] = False\n",
    "\n",
    "ens_ho_results['clean_edit']['stack_svr_tuned'] = \\\n",
    "        ho_ens_results(obj=ho_ens_cv_rmse, space=svr_stack_space, ens_name='stack', \n",
    "                       X_train=X_ce_train, y_train=y_ce_train, meta_name='svr', \n",
    "                       fixed_params=stack_fixed_params, pretuned=False, \n",
    "                       random_state=27, max_evals=50,\n",
    "                       trials=ens_ho_results['clean_edit']['stack_svr_tuned']['trials'])\n",
    "ens_ho_results['drop_edit']['stack_svr_tuned'] = \\\n",
    "        ho_ens_results(obj=ho_ens_cv_rmse, space=svr_stack_space, ens_name='stack', \n",
    "                       X_train=X_de_train, y_train=y_de_train, meta_name='svr', \n",
    "                       fixed_params=stack_fixed_params, pretuned=False, \n",
    "                       random_state=27, max_evals=50,\n",
    "                       trials=ens_ho_results['drop_edit']['stack_svr_tuned']['trials'])"
   ]
  },
  {
   "cell_type": "code",
   "execution_count": null,
   "metadata": {},
   "outputs": [],
   "source": [
    "# add and fit tuned svr stacks without features in secondary\n",
    "ensembles['clean_edit']['stack_svr_tuned'] = \\\n",
    "    stack_from_search_params(ens_ho_results['clean_edit']['stack_svr_tuned']['params'],\n",
    "                             X_ce_train, y_ce_train, meta_name='svr',\n",
    "                             random_state=27)\n",
    "ensembles['drop_edit']['stack_svr_tuned'] = \\\n",
    "    stack_from_search_params(ens_ho_results['drop_edit']['stack_svr_tuned']['params'],\n",
    "                             X_de_train, y_de_train, meta_name='svr',\n",
    "                             random_state=27)"
   ]
  },
  {
   "cell_type": "code",
   "execution_count": null,
   "metadata": {},
   "outputs": [],
   "source": [
    "# store trial objects for restarting training\n",
    "ens_ho_results['clean_edit']['stack_svr_tuned_second'] = \\\n",
    "            {'trials': Trials(), 'params': None}\n",
    "ens_ho_results['drop_edit']['stack_svr_tuned_second'] = \\\n",
    "            {'trials': Trials(), 'params': None}\n",
    "\n",
    "\n",
    "# tune svr stack using features in secondary\n",
    "stack_fixed_params['use_features_in_secondary'] = True\n",
    "\n",
    "ens_ho_results['clean_edit']['stack_svr_tuned_second'] = \\\n",
    "        ho_ens_results(obj=ho_ens_cv_rmse, space=svr_stack_space, ens_name='stack', \n",
    "                       X_train=X_ce_train, y_train=y_ce_train, meta_name='svr', \n",
    "                       fixed_params=stack_fixed_params, pretuned=False, \n",
    "                       random_state=27, max_evals=50,\n",
    "                       trials=ens_ho_results['clean_edit']['stack_svr_tuned_second']['trials'])\n",
    "ens_ho_results['drop_edit']['stack_svr_tuned_second'] = \\\n",
    "        ho_ens_results(obj=ho_ens_cv_rmse, space=svr_stack_space, ens_name='stack', \n",
    "                       X_train=X_de_train, y_train=y_de_train, meta_name='svr', \n",
    "                       fixed_params=stack_fixed_params, pretuned=False, \n",
    "                       random_state=27, max_evals=50,\n",
    "                       trials=ens_ho_results['drop_edit']['stack_svr_tuned_second']['trials'])"
   ]
  },
  {
   "cell_type": "code",
   "execution_count": null,
   "metadata": {},
   "outputs": [],
   "source": [
    "# add and fit tuned svr stacks using features in secondary\n",
    "ensembles['clean_edit']['stack_svr_tuned_second'] = \\\n",
    "    stack_from_search_params(ens_ho_results['clean_edit']['stack_svr_tuned_second']['params'], \n",
    "                             X_ce_train, y_ce_train, meta_name='ridge',\n",
    "                             random_state=27)\n",
    "ensembles['drop_edit']['stack_svr_tuned_second'] = \\\n",
    "    stack_from_search_params(ens_ho_results['drop_edit']['stack_svr_tuned_second']['params'], \n",
    "                             X_de_train, y_de_train, meta_name='ridge',\n",
    "                             random_state=27)"
   ]
  },
  {
   "cell_type": "markdown",
   "metadata": {},
   "source": [
    "###### `XGBRegressor` meta"
   ]
  },
  {
   "cell_type": "code",
   "execution_count": null,
   "metadata": {},
   "outputs": [],
   "source": [
    "# xgb meta stack space\n",
    "xgb_stack_space = {**xgb_meta_space, **base_space}\n",
    "\n",
    "# store trial objects for restarting training\n",
    "ens_ho_results['clean_edit']['stack_xgb_tuned'] = {'trials': Trials(), 'params': None}\n",
    "ens_ho_results['drop_edit']['stack_xgb_tuned'] = {'trials': Trials(), 'params': None}"
   ]
  },
  {
   "cell_type": "code",
   "execution_count": null,
   "metadata": {},
   "outputs": [],
   "source": [
    "# tune xgb stack without features in secondary\n",
    "stack_fixed_params['use_features_in_secondary'] = False\n",
    "\n",
    "ens_ho_results['clean_edit']['stack_xgb_tuned'] = \\\n",
    "        ho_ens_results(obj=ho_ens_cv_rmse, space=xgb_stack_space, ens_name='stack', \n",
    "                       X_train=X_ce_train, y_train=y_ce_train, meta_name='xgb', \n",
    "                       fixed_params=stack_fixed_params, pretuned=False, \n",
    "                       random_state=27, max_evals=50,\n",
    "                       trials=ens_ho_results['clean_edit']['stack_xgb_tuned']['trials'])\n",
    "ens_ho_results['drop_edit']['stack_xgb_tuned'] = \\\n",
    "        ho_ens_results(obj=ho_ens_cv_rmse, space=xgb_stack_space, ens_name='stack', \n",
    "                       X_train=X_de_train, y_train=y_de_train, meta_name='xgb', \n",
    "                       fixed_params=stack_fixed_params, pretuned=False, \n",
    "                       random_state=27, max_evals=50,\n",
    "                       trials=ens_ho_results['drop_edit']['stack_xgb_tuned']['trials'])"
   ]
  },
  {
   "cell_type": "code",
   "execution_count": null,
   "metadata": {},
   "outputs": [],
   "source": [
    "# add and fit tuned xgb stacks without features in secondary\n",
    "ensembles['clean_edit']['stack_xgb_tuned'] = \\\n",
    "    stack_from_search_params(ens_ho_results['clean_edit']['stack_xgb_tuned']['params'], \n",
    "                             X_ce_train, y_ce_train, meta_name='xgb',\n",
    "                             random_state=27)\n",
    "ensembles['drop_edit']['stack_xgb_tuned'] = \\\n",
    "    stack_from_search_params(ens_ho_results['drop_edit']['stack_xgb_tuned']['params'], \n",
    "                             X_de_train, y_de_train, meta_name='xgb',\n",
    "                             random_state=27)"
   ]
  },
  {
   "cell_type": "code",
   "execution_count": null,
   "metadata": {},
   "outputs": [],
   "source": [
    "# store trial objects for restarting training\n",
    "ens_ho_results['clean_edit']['stack_xgb_tuned_second'] = \\\n",
    "            {'trials': Trials(), 'params': None}\n",
    "ens_ho_results['drop_edit']['stack_xgb_tuned_second'] = \\\n",
    "            {'trials': Trials(), 'params': None}\n",
    "\n",
    "# tune xgb stack with features in secondary\n",
    "stack_fixed_params['use_features_in_secondary'] = True\n",
    "\n",
    "ens_ho_results['clean_edit']['stack_xgb_tuned_second'] = \\\n",
    "    ho_ens_results(obj=ho_ens_cv_rmse, space=xgb_stack_space, ens_name='stack', \n",
    "                   X_train=X_ce_train, y_train=y_ce_train, meta_name='xgb', \n",
    "                   fixed_params=stack_fixed_params, pretuned=False, \n",
    "                   random_state=27, max_evals=50,\n",
    "                   trials=ens_ho_results['clean_edit']['stack_xgb_tuned_second']['trials'])\n",
    "ens_ho_results['drop_edit']['stack_xgb_tuned_second'] = \\\n",
    "    ho_ens_results(obj=ho_ens_cv_rmse, space=xgb_stack_space, ens_name='stack', \n",
    "                   X_train=X_de_train, y_train=y_de_train, meta_name='xgb', \n",
    "                   fixed_params=stack_fixed_params, pretuned=False, \n",
    "                   random_state=27, max_evals=50,\n",
    "                   trials=ens_ho_results['drop_edit']['stack_xgb_tuned_second']['trials'])"
   ]
  },
  {
   "cell_type": "code",
   "execution_count": null,
   "metadata": {},
   "outputs": [],
   "source": [
    "# add and fit tuned xgb stacks with features in secondary\n",
    "ensembles['clean_edit']['stack_xgb_tuned_second'] = \\\n",
    "    stack_from_search_params(ens_ho_results['clean_edit']['stack_xgb_tuned_second']['params'], \n",
    "                             X_ce_train, y_ce_train, meta_name='xgb', random_state=27)\n",
    "ensembles['drop_edit']['stack_xgb_tuned_second'] = \\\n",
    "    stack_from_search_params(ens_ho_results['drop_edit']['stack_xgb_tuned_second']['params'], \n",
    "                             X_de_train, y_de_train, meta_name='xgb', random_state=27)"
   ]
  },
  {
   "cell_type": "markdown",
   "metadata": {},
   "source": [
    "##### Compare ensembles"
   ]
  },
  {
   "cell_type": "markdown",
   "metadata": {},
   "source": [
    "Now we look at the performance of all our ensemble models."
   ]
  },
  {
   "cell_type": "code",
   "execution_count": 526,
   "metadata": {},
   "outputs": [],
   "source": [
    "# compare results of tuned models -- warning this takes a LONG time\n",
    "ens_comp_df = compare_performance(ensembles, model_data, random_state=27)\n",
    "ens_comp_df = ens_comp_df.sort_values(by=('clean_edit', 'cv_rmse'), ascending=True)\n",
    "ens_comp_df = ens_comp_df.reset_index(drop=True)"
   ]
  },
  {
   "cell_type": "code",
   "execution_count": 534,
   "metadata": {},
   "outputs": [
    {
     "data": {
      "text/html": [
       "<div>\n",
       "<style scoped>\n",
       "    .dataframe tbody tr th:only-of-type {\n",
       "        vertical-align: middle;\n",
       "    }\n",
       "\n",
       "    .dataframe tbody tr th {\n",
       "        vertical-align: top;\n",
       "    }\n",
       "\n",
       "    .dataframe thead tr th {\n",
       "        text-align: left;\n",
       "    }\n",
       "</style>\n",
       "<table border=\"1\" class=\"dataframe\">\n",
       "  <thead>\n",
       "    <tr>\n",
       "      <th>data</th>\n",
       "      <th>model</th>\n",
       "      <th colspan=\"2\" halign=\"left\">clean_edit</th>\n",
       "      <th colspan=\"2\" halign=\"left\">drop_edit</th>\n",
       "    </tr>\n",
       "    <tr>\n",
       "      <th>performance</th>\n",
       "      <th></th>\n",
       "      <th>train_rmse</th>\n",
       "      <th>cv_rmse</th>\n",
       "      <th>train_rmse</th>\n",
       "      <th>cv_rmse</th>\n",
       "    </tr>\n",
       "  </thead>\n",
       "  <tbody>\n",
       "    <tr>\n",
       "      <td>15</td>\n",
       "      <td>voter_pretuned</td>\n",
       "      <td>0.0861004</td>\n",
       "      <td>0.106873</td>\n",
       "      <td>0.0887272</td>\n",
       "      <td>0.112051</td>\n",
       "    </tr>\n",
       "    <tr>\n",
       "      <td>14</td>\n",
       "      <td>voter_uniform_pretuned</td>\n",
       "      <td>0.0874083</td>\n",
       "      <td>0.108636</td>\n",
       "      <td>0.0904846</td>\n",
       "      <td>0.111584</td>\n",
       "    </tr>\n",
       "    <tr>\n",
       "      <td>13</td>\n",
       "      <td>stack_ridge_pretuned</td>\n",
       "      <td>0.0864998</td>\n",
       "      <td>0.108821</td>\n",
       "      <td>0.0890523</td>\n",
       "      <td>0.111229</td>\n",
       "    </tr>\n",
       "    <tr>\n",
       "      <td>12</td>\n",
       "      <td>stack_svr_pretuned</td>\n",
       "      <td>0.0866127</td>\n",
       "      <td>0.109003</td>\n",
       "      <td>0.089658</td>\n",
       "      <td>0.11131</td>\n",
       "    </tr>\n",
       "    <tr>\n",
       "      <td>11</td>\n",
       "      <td>stack_ridge_def</td>\n",
       "      <td>0.0878178</td>\n",
       "      <td>0.109228</td>\n",
       "      <td>0.0909945</td>\n",
       "      <td>0.113101</td>\n",
       "    </tr>\n",
       "    <tr>\n",
       "      <td>10</td>\n",
       "      <td>stack_svr_pretuned_second</td>\n",
       "      <td>0.0838452</td>\n",
       "      <td>0.109989</td>\n",
       "      <td>0.0844846</td>\n",
       "      <td>0.112696</td>\n",
       "    </tr>\n",
       "    <tr>\n",
       "      <td>9</td>\n",
       "      <td>stack_xgb_pretuned</td>\n",
       "      <td>0.0884016</td>\n",
       "      <td>0.110832</td>\n",
       "      <td>0.0891792</td>\n",
       "      <td>0.116659</td>\n",
       "    </tr>\n",
       "    <tr>\n",
       "      <td>8</td>\n",
       "      <td>stack_ridge_pretuned_second</td>\n",
       "      <td>0.08765</td>\n",
       "      <td>0.110844</td>\n",
       "      <td>0.0910285</td>\n",
       "      <td>0.112567</td>\n",
       "    </tr>\n",
       "    <tr>\n",
       "      <td>7</td>\n",
       "      <td>stack_xgb_pretuned_second</td>\n",
       "      <td>0.0830414</td>\n",
       "      <td>0.111543</td>\n",
       "      <td>0.0868905</td>\n",
       "      <td>0.114954</td>\n",
       "    </tr>\n",
       "    <tr>\n",
       "      <td>6</td>\n",
       "      <td>stack_svr_def</td>\n",
       "      <td>0.0902256</td>\n",
       "      <td>0.112377</td>\n",
       "      <td>0.093318</td>\n",
       "      <td>0.113776</td>\n",
       "    </tr>\n",
       "    <tr>\n",
       "      <td>5</td>\n",
       "      <td>stack_ridge_def_second</td>\n",
       "      <td>0.0882177</td>\n",
       "      <td>0.112912</td>\n",
       "      <td>0.0896656</td>\n",
       "      <td>0.113531</td>\n",
       "    </tr>\n",
       "    <tr>\n",
       "      <td>4</td>\n",
       "      <td>stack_xgb_def</td>\n",
       "      <td>0.0910824</td>\n",
       "      <td>0.113822</td>\n",
       "      <td>0.094562</td>\n",
       "      <td>0.114752</td>\n",
       "    </tr>\n",
       "    <tr>\n",
       "      <td>3</td>\n",
       "      <td>stack_xgb_def_second</td>\n",
       "      <td>0.0787932</td>\n",
       "      <td>0.114759</td>\n",
       "      <td>0.0787003</td>\n",
       "      <td>0.116399</td>\n",
       "    </tr>\n",
       "    <tr>\n",
       "      <td>2</td>\n",
       "      <td>voter_def</td>\n",
       "      <td>0.092585</td>\n",
       "      <td>0.114811</td>\n",
       "      <td>0.0961106</td>\n",
       "      <td>0.115839</td>\n",
       "    </tr>\n",
       "    <tr>\n",
       "      <td>1</td>\n",
       "      <td>stack_svr_def_second</td>\n",
       "      <td>0.0976675</td>\n",
       "      <td>0.116892</td>\n",
       "      <td>0.0987419</td>\n",
       "      <td>0.119622</td>\n",
       "    </tr>\n",
       "    <tr>\n",
       "      <td>0</td>\n",
       "      <td>voter_tuned</td>\n",
       "      <td>0.081778</td>\n",
       "      <td>0.119741</td>\n",
       "      <td>0.0950846</td>\n",
       "      <td>0.113919</td>\n",
       "    </tr>\n",
       "  </tbody>\n",
       "</table>\n",
       "</div>"
      ],
      "text/plain": [
       "data                               model clean_edit            drop_edit  \\\n",
       "performance                              train_rmse   cv_rmse train_rmse   \n",
       "15                        voter_pretuned  0.0861004  0.106873  0.0887272   \n",
       "14                voter_uniform_pretuned  0.0874083  0.108636  0.0904846   \n",
       "13                  stack_ridge_pretuned  0.0864998  0.108821  0.0890523   \n",
       "12                    stack_svr_pretuned  0.0866127  0.109003   0.089658   \n",
       "11                       stack_ridge_def  0.0878178  0.109228  0.0909945   \n",
       "10             stack_svr_pretuned_second  0.0838452  0.109989  0.0844846   \n",
       "9                     stack_xgb_pretuned  0.0884016  0.110832  0.0891792   \n",
       "8            stack_ridge_pretuned_second    0.08765  0.110844  0.0910285   \n",
       "7              stack_xgb_pretuned_second  0.0830414  0.111543  0.0868905   \n",
       "6                          stack_svr_def  0.0902256  0.112377   0.093318   \n",
       "5                 stack_ridge_def_second  0.0882177  0.112912  0.0896656   \n",
       "4                          stack_xgb_def  0.0910824  0.113822   0.094562   \n",
       "3                   stack_xgb_def_second  0.0787932  0.114759  0.0787003   \n",
       "2                              voter_def   0.092585  0.114811  0.0961106   \n",
       "1                   stack_svr_def_second  0.0976675  0.116892  0.0987419   \n",
       "0                            voter_tuned   0.081778  0.119741  0.0950846   \n",
       "\n",
       "data                   \n",
       "performance   cv_rmse  \n",
       "15           0.112051  \n",
       "14           0.111584  \n",
       "13           0.111229  \n",
       "12            0.11131  \n",
       "11           0.113101  \n",
       "10           0.112696  \n",
       "9            0.116659  \n",
       "8            0.112567  \n",
       "7            0.114954  \n",
       "6            0.113776  \n",
       "5            0.113531  \n",
       "4            0.114752  \n",
       "3            0.116399  \n",
       "2            0.115839  \n",
       "1            0.119622  \n",
       "0            0.113919  "
      ]
     },
     "execution_count": 534,
     "metadata": {},
     "output_type": "execute_result"
    }
   ],
   "source": []
  },
  {
   "cell_type": "code",
   "execution_count": 527,
   "metadata": {},
   "outputs": [
    {
     "data": {
      "image/png": "[encoded data removed]",
      "text/plain": [
       "<Figure size 803.75x360 with 2 Axes>"
      ]
     },
     "metadata": {},
     "output_type": "display_data"
    }
   ],
   "source": [
    "# compare top 10 tuned model train and cv performance on clean \n",
    "plot_model_comp(ens_comp_df.tail(10), col='data', hue='performance', \n",
    "                kind='bar', palette=data_palette)"
   ]
  },
  {
   "cell_type": "code",
   "execution_count": 528,
   "metadata": {},
   "outputs": [
    {
     "data": {
      "image/png": "[encoded data removed]",
      "text/plain": [
       "<Figure size 801.875x360 with 2 Axes>"
      ]
     },
     "metadata": {},
     "output_type": "display_data"
    }
   ],
   "source": [
    "# compare clean and edit performance for train and cv error\n",
    "plot_model_comp(ens_comp_df.tail(10), col='performance', hue='data', \n",
    "                kind='bar', palette=perf_palette)"
   ]
  },
  {
   "cell_type": "code",
   "execution_count": 529,
   "metadata": {},
   "outputs": [],
   "source": [
    "# pickle tuned parameters\n",
    "pickle_to_file(ensembles, '../training/ens_tuned_params.pkl')"
   ]
  },
  {
   "cell_type": "markdown",
   "metadata": {},
   "source": [
    "## Predict and Evaluate"
   ]
  },
  {
   "cell_type": "markdown",
   "metadata": {},
   "source": [
    "To check our test prediction performance we need to submit to Kaggle. We'll submit predictions for the top 4 ensemble models for both versions of the data (`clean_edit` and `drop_edit`) and report them here."
   ]
  },
  {
   "cell_type": "code",
   "execution_count": 581,
   "metadata": {},
   "outputs": [],
   "source": [
    "# save top 5 models from both data sets\n",
    "save_top_model_predictions(ensembles=ensembles, ens_comp_df=ens_comp_df, \n",
    "               data_name='clean_edit', model_data=model_data, \n",
    "               num_models=5, save_path='../submissions')\n",
    "\n",
    "save_top_model_predictions(ensembles=ensembles, ens_comp_df=ens_comp_df, \n",
    "               data_name='drop_edit', model_data=model_data, \n",
    "               num_models=5, save_path='../submissions')"
   ]
  },
  {
   "cell_type": "code",
   "execution_count": 594,
   "metadata": {},
   "outputs": [
    {
     "data": {
      "text/html": [
       "<div>\n",
       "<style scoped>\n",
       "    .dataframe tbody tr th:only-of-type {\n",
       "        vertical-align: middle;\n",
       "    }\n",
       "\n",
       "    .dataframe tbody tr th {\n",
       "        vertical-align: top;\n",
       "    }\n",
       "\n",
       "    .dataframe thead th {\n",
       "        text-align: right;\n",
       "    }\n",
       "</style>\n",
       "<table border=\"1\" class=\"dataframe\">\n",
       "  <thead>\n",
       "    <tr style=\"text-align: right;\">\n",
       "      <th></th>\n",
       "      <th>test_rmse</th>\n",
       "    </tr>\n",
       "  </thead>\n",
       "  <tbody>\n",
       "    <tr>\n",
       "      <td>voter_pretuned_clean_edit</td>\n",
       "      <td>0.12177</td>\n",
       "    </tr>\n",
       "    <tr>\n",
       "      <td>stack_svr_pretuned_clean_edit</td>\n",
       "      <td>0.12182</td>\n",
       "    </tr>\n",
       "    <tr>\n",
       "      <td>stack_ridge_pretuned_clean_edit</td>\n",
       "      <td>0.12200</td>\n",
       "    </tr>\n",
       "    <tr>\n",
       "      <td>voter_uniform_pretuned_clean_edit</td>\n",
       "      <td>0.12214</td>\n",
       "    </tr>\n",
       "    <tr>\n",
       "      <td>voter_pretuned_drop_edit</td>\n",
       "      <td>0.12310</td>\n",
       "    </tr>\n",
       "    <tr>\n",
       "      <td>stack_ridge_pretuned_drop_edit</td>\n",
       "      <td>0.12329</td>\n",
       "    </tr>\n",
       "    <tr>\n",
       "      <td>stack_svr_pretuned_drop_edit</td>\n",
       "      <td>0.12341</td>\n",
       "    </tr>\n",
       "    <tr>\n",
       "      <td>voter_uniform_pretuned_drop_edit</td>\n",
       "      <td>0.12356</td>\n",
       "    </tr>\n",
       "    <tr>\n",
       "      <td>stack_ridge_def_clean_edit</td>\n",
       "      <td>0.12417</td>\n",
       "    </tr>\n",
       "    <tr>\n",
       "      <td>stack_ridge_pretuned_second_drop_edit</td>\n",
       "      <td>0.12615</td>\n",
       "    </tr>\n",
       "  </tbody>\n",
       "</table>\n",
       "</div>"
      ],
      "text/plain": [
       "                                       test_rmse\n",
       "voter_pretuned_clean_edit                0.12177\n",
       "stack_svr_pretuned_clean_edit            0.12182\n",
       "stack_ridge_pretuned_clean_edit          0.12200\n",
       "voter_uniform_pretuned_clean_edit        0.12214\n",
       "voter_pretuned_drop_edit                 0.12310\n",
       "stack_ridge_pretuned_drop_edit           0.12329\n",
       "stack_svr_pretuned_drop_edit             0.12341\n",
       "voter_uniform_pretuned_drop_edit         0.12356\n",
       "stack_ridge_def_clean_edit               0.12417\n",
       "stack_ridge_pretuned_second_drop_edit    0.12615"
      ]
     },
     "execution_count": 594,
     "metadata": {},
     "output_type": "execute_result"
    }
   ],
   "source": [
    "# Enter results of Kaggle submissions\n",
    "test_comp_df = test_comp(ens_comp_df)\n",
    "test_comp_df.loc['stack_ridge_pretuned_second_drop_edit'] = 0.12615\n",
    "test_comp_df.loc['voter_pretuned_drop_edit'] = 0.12310\n",
    "test_comp_df.loc['voter_uniform_pretuned_drop_edit'] = 0.12356\n",
    "test_comp_df.loc['stack_svr_pretuned_drop_edit'] = 0.12341\n",
    "test_comp_df.loc['stack_ridge_pretuned_drop_edit'] = 0.12329\n",
    "test_comp_df.loc['stack_ridge_def_clean_edit'] = 0.12417\n",
    "test_comp_df.loc['stack_svr_pretuned_clean_edit'] = 0.12182\n",
    "test_comp_df.loc['stack_ridge_pretuned_clean_edit'] = 0.12200\n",
    "test_comp_df.loc['voter_uniform_pretuned_clean_edit'] = 0.12214\n",
    "test_comp_df.loc['voter_pretuned_clean_edit'] = 0.12177\n",
    "test_comp_df.sort_values(by='test_rmse')"
   ]
  }
 ],
 "metadata": {
  "kernelspec": {
   "display_name": "Python [conda env:house_prices]",
   "language": "python",
   "name": "conda-env-house_prices-py"
  },
  "language_info": {
   "codemirror_mode": {
    "name": "ipython",
    "version": 3
   },
   "file_extension": ".py",
   "mimetype": "text/x-python",
   "name": "python",
   "nbconvert_exporter": "python",
   "pygments_lexer": "ipython3",
   "version": "3.7.3"
  },
  "latex_envs": {
   "LaTeX_envs_menu_present": true,
   "autoclose": false,
   "autocomplete": true,
   "bibliofile": "biblio.bib",
   "cite_by": "apalike",
   "current_citInitial": 1,
   "eqLabelWithNumbers": true,
   "eqNumInitial": 1,
   "hotkeys": {
    "equation": "Ctrl-E",
    "itemize": "Ctrl-I"
   },
   "labels_anchors": false,
   "latex_user_defs": false,
   "report_style_numbering": false,
   "user_envs_cfg": false
  },
  "toc": {
   "base_numbering": 1,
   "nav_menu": {},
   "number_sections": true,
   "sideBar": false,
   "skip_h1_title": false,
   "title_cell": "Table of Contents",
   "title_sidebar": "Contents",
   "toc_cell": false,
   "toc_position": {},
   "toc_section_display": true,
   "toc_window_display": false
  }
 },
 "nbformat": 4,
 "nbformat_minor": 4
}
