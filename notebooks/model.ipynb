{
 "cells": [
  {
   "cell_type": "markdown",
   "metadata": {},
   "source": [
    "# Predictive modeling of `SalePrice` in Ames housing dataset"
   ]
  },
  {
   "cell_type": "markdown",
   "metadata": {},
   "source": [
    "In a previous notebook we [processed and cleaned](process.ipynb/#Processing-the-Ames-housing-dataset) the Ames dataset, and in another we [explored the data and selected/engineered some new features](explore.ipynb/#Exploratory-analysis-of-Ames-housing-dataset).\n",
    "\n",
    "In this notebook, we'll model and predict `SalePrice`. First we'll do a little feature selection and engineering to create a few different versions of the data for modeling. Then we'll compare the prediction performance of some appropriate models on these versions, select a subset of these versions and models for fine-tuning, ensemble them to maximize predictive generalizablity, and test them by submitting to Kaggle."
   ]
  },
  {
   "cell_type": "markdown",
   "metadata": {},
   "source": [
    "## Setup"
   ]
  },
  {
   "cell_type": "code",
   "execution_count": 1,
   "metadata": {},
   "outputs": [],
   "source": [
    "%matplotlib inline\n",
    "import matplotlib.pyplot as plt\n",
    "import seaborn as sns\n",
    "import warnings\n",
    "import os\n",
    "import sys\n",
    "\n",
    "# add parent directory for importing custom classes\n",
    "pardir = os.path.abspath(os.path.join(os.getcwd(), os.pardir))\n",
    "sys.path.append(pardir)\n",
    "\n",
    "# import custom classes\n",
    "from codes.model import *\n",
    "from codes.explore import plot_cont_dists\n",
    "\n",
    "warnings.filterwarnings('ignore')\n",
    "plt.style.use('seaborn-white')\n",
    "sns.set_style('white')"
   ]
  },
  {
   "cell_type": "markdown",
   "metadata": {},
   "source": [
    "## Load and prepare data"
   ]
  },
  {
   "cell_type": "code",
   "execution_count": 2,
   "metadata": {},
   "outputs": [],
   "source": [
    "hp_data = load_datasets(data_dir='../data', file_names=['clean.csv'])\n",
    "clean = hp_data.dfs['clean']"
   ]
  },
  {
   "cell_type": "markdown",
   "metadata": {},
   "source": [
    "The dataset `clean` was ([created in a previous notebook](process.ipynb/#Processing-and-cleaning-the-Ames-housing-dataset). It is the original dataset with someproblematic variables and observations dropped and missing values imputed. We'll use it to create our modeling data"
   ]
  },
  {
   "cell_type": "markdown",
   "metadata": {
    "toc-hr-collapsed": true
   },
   "source": [
    "## Feature selection and engineering"
   ]
  },
  {
   "cell_type": "markdown",
   "metadata": {},
   "source": [
    "We'll use the results of [our exploratory analysis](explore.ipynb/#Exploratory-analysis-of-Ames-housing-dataset) to suggest variables that can be altered, combined, or eliminated in the hopes of improving predictive models. We'll create a few new datasets in the process. In the end we'll have four versions of the data for modeling\n",
    "\n",
    "- `clean`: original dataset with problematic features and observations dropped and missing values imputed.\n",
    "- `drop`: `clean` dataset with some old features dropped\n",
    "- `clean_edit`: `clean` dataset with some feature values combined and some new features added\n",
    "- `drop_edit`: `drop` dataset with the same feature values combined and same new features added."
   ]
  },
  {
   "cell_type": "markdown",
   "metadata": {
    "toc-hr-collapsed": false
   },
   "source": [
    "### Drop some features"
   ]
  },
  {
   "cell_type": "markdown",
   "metadata": {},
   "source": [
    "Here are variables we'll drop (and the reasons for dropping):\n",
    "- `Heating`, `RoofMatl`, `Condition2`, `Street` (extremely unbalanced distributions and very low dependence with `SalePrice` ($D \\gtrapprox 0.99$))\n",
    "- `Exterior2nd` (redundant with `Exterior1st`.\n",
    "- `HouseStyle` (redundant with `MSSubclass`).\n",
    "- `Utilities` (extremely unbalanced distribution and very low dependence with response)\n",
    "- `PoolQC` (extremely unbalanced distribution and redundant with `PoolArea`)\n",
    "- `1stFlrSF` and `TotalBsmtSF` (high dependence with `GrLivArea`).\n",
    "- `GarageYrBlt` (high dependence with `YearBuilt`)\n",
    "- `PoolArea`, `MiscVal`, `3SsnPorch`, `ScreenPorch`, `BsmtFinSF2` (extremely peaked distributions and very low dependence with `SalePrice`)\n",
    "- `LowQualFinSF` (extremely peaked distribution and redundant with ordinal quality measures such as `OverallQual`)"
   ]
  },
  {
   "cell_type": "code",
   "execution_count": 3,
   "metadata": {},
   "outputs": [],
   "source": [
    "drop_cols = ['Heating', 'RoofMatl', 'Condition2', 'Street', 'Exterior2nd', 'HouseStyle', \n",
    "             'Utilities', 'PoolQC', '1stFlrSF', 'TotalBsmtSF', 'GarageYrBlt', 'PoolArea', 'MiscVal',\n",
    "             '3SsnPorch', 'ScreenPorch', 'BsmtFinSF2', 'LowQualFinSF']\n",
    "drop = HPDataFramePlus(data=clean.data)\n",
    "drop.data = drop.data.drop(columns=drop_cols)"
   ]
  },
  {
   "cell_type": "code",
   "execution_count": 4,
   "metadata": {},
   "outputs": [
    {
     "data": {
      "text/plain": [
       "Index(['MSSubClass', 'MSZoning', 'LotFrontage', 'LotArea', 'LotShape',\n",
       "       'LandContour', 'LotConfig', 'LandSlope', 'Neighborhood', 'Condition1',\n",
       "       'BldgType', 'OverallQual', 'OverallCond', 'YearBuilt', 'YearRemodAdd',\n",
       "       'RoofStyle', 'Exterior1st', 'MasVnrType', 'MasVnrArea', 'ExterQual',\n",
       "       'ExterCond', 'Foundation', 'BsmtQual', 'BsmtCond', 'BsmtExposure',\n",
       "       'BsmtFinType1', 'BsmtFinSF1', 'BsmtFinType2', 'BsmtUnfSF', 'HeatingQC',\n",
       "       'CentralAir', 'Electrical', '2ndFlrSF', 'GrLivArea', 'BsmtFullBath',\n",
       "       'BsmtHalfBath', 'FullBath', 'HalfBath', 'BedroomAbvGr', 'KitchenAbvGr',\n",
       "       'KitchenQual', 'TotRmsAbvGrd', 'Functional', 'Fireplaces',\n",
       "       'FireplaceQu', 'GarageType', 'GarageFinish', 'GarageCars', 'GarageArea',\n",
       "       'GarageQual', 'GarageCond', 'PavedDrive', 'WoodDeckSF', 'OpenPorchSF',\n",
       "       'EnclosedPorch', 'Fence', 'MoSold', 'YrSold', 'SaleType',\n",
       "       'SaleCondition', 'SalePrice'],\n",
       "      dtype='object')"
      ]
     },
     "execution_count": 4,
     "metadata": {},
     "output_type": "execute_result"
    }
   ],
   "source": [
    "drop.data.columns"
   ]
  },
  {
   "cell_type": "markdown",
   "metadata": {},
   "source": [
    "### Combine values and create new variables"
   ]
  },
  {
   "cell_type": "markdown",
   "metadata": {},
   "source": [
    "Some discrete variables had very small counts for some values (this could be seen as horizontal lines corresponding to those values in the violin plots for [categorical](#Relationship-between-categoricals-and-SalePrice) and [ordinal](#Relationship-between-ordinals-and-SalePrice) variables. \n",
    "\n",
    "First we'll look at categorical variables"
   ]
  },
  {
   "cell_type": "code",
   "execution_count": 5,
   "metadata": {},
   "outputs": [
    {
     "data": {
      "text/plain": [
       "Index(['MSSubClass', 'MSZoning', 'Street', 'LandContour', 'LotConfig',\n",
       "       'Neighborhood', 'Condition1', 'Condition2', 'BldgType', 'HouseStyle',\n",
       "       'RoofStyle', 'RoofMatl', 'Exterior1st', 'Exterior2nd', 'MasVnrType',\n",
       "       'Foundation', 'Heating', 'CentralAir', 'Electrical', 'GarageType',\n",
       "       'SaleType', 'SaleCondition'],\n",
       "      dtype='object')"
      ]
     },
     "execution_count": 5,
     "metadata": {},
     "output_type": "execute_result"
    }
   ],
   "source": [
    "cats_data = clean.data.select_dtypes('category')\n",
    "cats_data.columns"
   ]
  },
  {
   "cell_type": "code",
   "execution_count": 6,
   "metadata": {},
   "outputs": [
    {
     "name": "stdout",
     "output_type": "stream",
     "text": [
      "\n",
      "20     1078\n",
      "60      573\n",
      "50      287\n",
      "120     182\n",
      "30      139\n",
      "70      128\n",
      "160     128\n",
      "80      118\n",
      "90      109\n",
      "190      61\n",
      "85       48\n",
      "75       23\n",
      "45       18\n",
      "180      17\n",
      "40        6\n",
      "150       1\n",
      "Name: MSSubClass, dtype: int64\n",
      "\n",
      "Norm      2887\n",
      "Feedr       13\n",
      "Artery       5\n",
      "PosA         4\n",
      "PosN         3\n",
      "RRNn         2\n",
      "RRAn         1\n",
      "RRAe         1\n",
      "Name: Condition2, dtype: int64\n",
      "\n",
      "Gable      2310\n",
      "Hip         549\n",
      "Gambrel      22\n",
      "Flat         19\n",
      "Mansard      11\n",
      "Shed          5\n",
      "Name: RoofStyle, dtype: int64\n",
      "\n",
      "CompShg    2875\n",
      "Tar&Grv      22\n",
      "WdShake       9\n",
      "WdShngl       7\n",
      "Roll          1\n",
      "Metal         1\n",
      "Membran       1\n",
      "Name: RoofMatl, dtype: int64\n",
      "\n",
      "VinylSd    1026\n",
      "MetalSd     450\n",
      "HdBoard     442\n",
      "Wd Sdng     411\n",
      "Plywood     220\n",
      "CemntBd     125\n",
      "BrkFace      87\n",
      "WdShing      56\n",
      "AsbShng      44\n",
      "Stucco       42\n",
      "BrkComm       6\n",
      "Stone         2\n",
      "CBlock        2\n",
      "AsphShn       2\n",
      "ImStucc       1\n",
      "Name: Exterior1st, dtype: int64\n",
      "\n",
      "VinylSd    1015\n",
      "MetalSd     447\n",
      "HdBoard     406\n",
      "Wd Sdng     391\n",
      "Plywood     269\n",
      "CmentBd     125\n",
      "Wd Shng      81\n",
      "BrkFace      47\n",
      "Stucco       46\n",
      "AsbShng      38\n",
      "Brk Cmn      22\n",
      "ImStucc      15\n",
      "Stone         6\n",
      "AsphShn       4\n",
      "CBlock        3\n",
      "Other         1\n",
      "Name: Exterior2nd, dtype: int64\n",
      "\n",
      "None       1761\n",
      "BrkFace     945\n",
      "Stone       205\n",
      "BrkCmn        5\n",
      "Name: MasVnrType, dtype: int64\n",
      "\n",
      "PConc     1306\n",
      "CBlock    1234\n",
      "BrkTil     311\n",
      "Slab        49\n",
      "Stone       11\n",
      "Wood         5\n",
      "Name: Foundation, dtype: int64\n",
      "\n",
      "GasA     2871\n",
      "GasW       27\n",
      "Grav        9\n",
      "Wall        6\n",
      "OthW        2\n",
      "Floor       1\n",
      "Name: Heating, dtype: int64\n",
      "\n",
      "SBrkr    2669\n",
      "FuseA     188\n",
      "FuseF      50\n",
      "FuseP       8\n",
      "Mix         1\n",
      "Name: Electrical, dtype: int64\n",
      "\n",
      "WD       2525\n",
      "New       237\n",
      "COD        87\n",
      "ConLD      26\n",
      "CWD        12\n",
      "ConLI       9\n",
      "ConLw       8\n",
      "Oth         7\n",
      "Con         5\n",
      "Name: SaleType, dtype: int64\n"
     ]
    }
   ],
   "source": [
    "# print variables with less than 5 observations for any value\n",
    "small_val_count_cat_cols = print_small_val_counts(data=cats_data, val_count_threshold=6)"
   ]
  },
  {
   "cell_type": "code",
   "execution_count": 7,
   "metadata": {},
   "outputs": [
    {
     "name": "stdout",
     "output_type": "stream",
     "text": [
      "MSSubClass: Identifies the type of dwelling involved in the sale.\n",
      "\n",
      "\t 20 - 1-STORY 1946 & NEWER ALL STYLES\n",
      "\t 30 - 1-STORY 1945 & OLDER\n",
      "\t 40 - 1-STORY W/FINISHED ATTIC ALL AGES\n",
      "\t 45 - 1-1/2 STORY - UNFINISHED ALL AGES\n",
      "\t 50 - 1-1/2 STORY FINISHED ALL AGES\n",
      "\t 60 - 2-STORY 1946 & NEWER\n",
      "\t 70 - 2-STORY 1945 & OLDER\n",
      "\t 75 - 2-1/2 STORY ALL AGES\n",
      "\t 80 - SPLIT OR MULTI-LEVEL\n",
      "\t 85 - SPLIT FOYER\n",
      "\t 90 - DUPLEX - ALL STYLES AND AGES\n",
      "\t 120 - 1-STORY PUD (Planned Unit Development) - 1946 & NEWER\n",
      "\t 150 - 1-1/2 STORY PUD - ALL AGES\n",
      "\t 160 - 2-STORY PUD - 1946 & NEWER\n",
      "\t 180 - PUD - MULTILEVEL - INCL SPLIT LEV/FOYER\n",
      "\t 190 - 2 FAMILY CONVERSION - ALL STYLES AND AGES\n",
      "\n",
      "\n",
      "Condition2: Proximity to various conditions (if more than one is present)\n",
      "\n",
      "\t Artery - Adjacent to arterial street\n",
      "\t Feedr - Adjacent to feeder street\n",
      "\t Norm - Normal\n",
      "\t RRNn - Within 200' of North-South Railroad\n",
      "\t RRAn - Adjacent to North-South Railroad\n",
      "\t PosN - Near positive off-site feature--park, greenbelt, etc.\n",
      "\t PosA - Adjacent to postive off-site feature\n",
      "\t RRNe - Within 200' of East-West Railroad\n",
      "\t RRAe - Adjacent to East-West Railroad\n",
      "\n",
      "\n",
      "RoofStyle: Type of roof\n",
      "\n",
      "\t Flat - Flat\n",
      "\t Gable - Gable\n",
      "\t Gambrel - Gabrel (Barn)\n",
      "\t Hip - Hip\n",
      "\t Mansard - Mansard\n",
      "\t Shed - Shed\n",
      "\n",
      "\n",
      "RoofMatl: Roof material\n",
      "\n",
      "\t ClyTile - Clay or Tile\n",
      "\t CompShg - Standard (Composite) Shingle\n",
      "\t Membran - Membrane\n",
      "\t Metal - Metal\n",
      "\t Roll - Roll\n",
      "\t Tar&Grv - Gravel & Tar\n",
      "\t WdShake - Wood Shakes\n",
      "\t WdShngl - Wood Shingles\n",
      "\n",
      "\n",
      "Exterior1st: Exterior covering on house\n",
      "\n",
      "\t AsbShng - Asbestos Shingles\n",
      "\t AsphShn - Asphalt Shingles\n",
      "\t BrkComm - Brick Common\n",
      "\t BrkFace - Brick Face\n",
      "\t CBlock - Cinder Block\n",
      "\t CemntBd - Cement Board\n",
      "\t HdBoard - Hard Board\n",
      "\t ImStucc - Imitation Stucco\n",
      "\t MetalSd - Metal Siding\n",
      "\t Other - Other\n",
      "\t Plywood - Plywood\n",
      "\t PreCast - PreCast\n",
      "\t Stone - Stone\n",
      "\t Stucco - Stucco\n",
      "\t VinylSd - Vinyl Siding\n",
      "\t Wd - Wood Siding\n",
      "\t WdShing - Wood Shingles\n",
      "\n",
      "\n",
      "Exterior2nd: Exterior covering on house (if more than one material)\n",
      "\n",
      "\t AsbShng - Asbestos Shingles\n",
      "\t AsphShn - Asphalt Shingles\n",
      "\t BrkComm - Brick Common\n",
      "\t BrkFace - Brick Face\n",
      "\t CBlock - Cinder Block\n",
      "\t CemntBd - Cement Board\n",
      "\t HdBoard - Hard Board\n",
      "\t ImStucc - Imitation Stucco\n",
      "\t MetalSd - Metal Siding\n",
      "\t Other - Other\n",
      "\t Plywood - Plywood\n",
      "\t PreCast - PreCast\n",
      "\t Stone - Stone\n",
      "\t Stucco - Stucco\n",
      "\t VinylSd - Vinyl Siding\n",
      "\t Wd - Wood Siding\n",
      "\t WdShing - Wood Shingles\n",
      "\n",
      "\n",
      "MasVnrType: Masonry veneer type\n",
      "\n",
      "\t BrkCmn - Brick Common\n",
      "\t BrkFace - Brick Face\n",
      "\t CBlock - Cinder Block\n",
      "\t None - None\n",
      "\t Stone - Stone\n",
      "\n",
      "\n",
      "Foundation: Type of foundation\n",
      "\n",
      "\t BrkTil - Brick & Tile\n",
      "\t CBlock - Cinder Block\n",
      "\t PConc - Poured Contrete\n",
      "\t Slab - Slab\n",
      "\t Stone - Stone\n",
      "\t Wood - Wood\n",
      "\n",
      "\n",
      "Heating: Type of heating\n",
      "\n",
      "\t Floor - Floor Furnace\n",
      "\t GasA - Gas forced warm air furnace\n",
      "\t GasW - Gas hot water or steam heat\n",
      "\t Grav - Gravity furnace\n",
      "\t OthW - Hot water or steam heat other than gas\n",
      "\t Wall - Wall furnace\n",
      "\n",
      "\n",
      "Electrical: Electrical system\n",
      "\n",
      "\t SBrkr - Standard Circuit Breakers & Romex\n",
      "\t FuseA - Fuse Box over 60 AMP and all Romex wiring (Average)\n",
      "\t FuseF - 60 AMP Fuse Box and mostly Romex wiring (Fair)\n",
      "\t FuseP - 60 AMP Fuse Box and mostly knob & tube wiring (poor)\n",
      "\t Mix - Mixed\n",
      "\n",
      "\n",
      "SaleType: Type of sale\n",
      "\n",
      "\t WD - Warranty Deed - Conventional\n",
      "\t CWD - Warranty Deed - Cash\n",
      "\t VWD - Warranty Deed - VA Loan\n",
      "\t New - Home just constructed and sold\n",
      "\t COD - Court Officer Deed/Estate\n",
      "\t Con - Contract 15% Down payment regular terms\n",
      "\t ConLw - Contract Low Down payment and low interest\n",
      "\t ConLI - Contract Low Interest\n",
      "\t ConLD - Contract Low Down\n",
      "\t Oth - Other\n",
      "\n",
      "\n"
     ]
    }
   ],
   "source": [
    "desc = DataDescription('../data/data_description.txt')\n",
    "clean.desc = desc\n",
    "clean.print_desc(small_val_count_cat_cols)"
   ]
  },
  {
   "cell_type": "markdown",
   "metadata": {},
   "source": [
    "We'll perform the following combinations of categorical variable values:\n",
    "\n",
    "- `MSSubClass`: Change the single observation with value 150 to 50, the next most sensible value \n",
    "\n",
    "- `Condition2`: Merge `PosA`, `PosN`, `RRNn`, `RRAn`, and `RRAe` into a new value `Other`\n",
    "- `RoofMatl`: Merge `WdShake`, `WdShingle` into a new value `Wood` and `Roll`, `Metal`, `Membran` into a new value `Other`\n",
    "- `Exterior1st`, : Merge `BrkComm` into `BrkFace`, `AsphShn` into `AsbShng`, `ImStucc` into `Stucco` and  `Stone` and `CBlock` into a new value `Other`\n",
    "-  `Exterior2nd`: Merge `AsphShn` into `AsbShng` and `Stone` and `CBlock` into `Other`\n",
    "- `Heating`: Merge `Wall`, `OthW`, and `Floor` into a new variable `Other`\n",
    "\n",
    "- `MasVnrType`: Merge `BrkComm` in `BrkFace`\n",
    "- `Electrical`: Merge `FuseA`, `FuseF`, `FuseP`, and `Mix` into a new value `NonStd`"
   ]
  },
  {
   "cell_type": "code",
   "execution_count": 8,
   "metadata": {},
   "outputs": [],
   "source": [
    "# new dataframes\n",
    "clean_edit = HPDataFramePlus(data=clean.data)\n",
    "drop_edit = HPDataFramePlus(data=drop.data)\n",
    "\n",
    "# combine categorical variable values\n",
    "clean_edit.data = combine_cat_vars(data=clean.data)\n",
    "drop_edit.data = combine_cat_vars(data=drop.data)"
   ]
  },
  {
   "cell_type": "markdown",
   "metadata": {},
   "source": [
    "Now we'll look at ordinal variables"
   ]
  },
  {
   "cell_type": "code",
   "execution_count": 9,
   "metadata": {},
   "outputs": [
    {
     "name": "stdout",
     "output_type": "stream",
     "text": [
      "\n",
      "3    2915\n",
      "1       1\n",
      "Name: Utilities, dtype: int64\n",
      "\n",
      "5     825\n",
      "6     731\n",
      "7     600\n",
      "8     342\n",
      "4     225\n",
      "9     107\n",
      "3      40\n",
      "10     29\n",
      "2      13\n",
      "1       4\n",
      "Name: OverallQual, dtype: int64\n",
      "\n",
      "3    2535\n",
      "4     299\n",
      "2      67\n",
      "5      12\n",
      "1       3\n",
      "Name: ExterCond, dtype: int64\n",
      "\n",
      "3    2603\n",
      "4     122\n",
      "2     104\n",
      "0      82\n",
      "1       5\n",
      "Name: BsmtCond, dtype: int64\n",
      "\n",
      "5    1490\n",
      "3     857\n",
      "4     474\n",
      "2      92\n",
      "1       3\n",
      "Name: HeatingQC, dtype: int64\n",
      "\n",
      "0    1707\n",
      "1    1170\n",
      "2      37\n",
      "3       2\n",
      "Name: BsmtFullBath, dtype: int64\n",
      "\n",
      "0    2741\n",
      "1     171\n",
      "2       4\n",
      "Name: BsmtHalfBath, dtype: int64\n",
      "\n",
      "2    1529\n",
      "1    1308\n",
      "3      63\n",
      "0      12\n",
      "4       4\n",
      "Name: FullBath, dtype: int64\n",
      "\n",
      "3    1594\n",
      "2     741\n",
      "4     400\n",
      "1     103\n",
      "5      48\n",
      "6      21\n",
      "0       8\n",
      "8       1\n",
      "Name: BedroomAbvGr, dtype: int64\n",
      "\n",
      "1    2782\n",
      "2     129\n",
      "0       3\n",
      "3       2\n",
      "Name: KitchenAbvGr, dtype: int64\n",
      "\n",
      "2    1492\n",
      "3    1150\n",
      "4     203\n",
      "1      70\n",
      "0       1\n",
      "Name: KitchenQual, dtype: int64\n",
      "\n",
      "6     843\n",
      "7     649\n",
      "5     583\n",
      "8     347\n",
      "4     196\n",
      "9     143\n",
      "10     80\n",
      "11     31\n",
      "3      25\n",
      "12     15\n",
      "15      1\n",
      "13      1\n",
      "14      1\n",
      "2       1\n",
      "Name: TotRmsAbvGrd, dtype: int64\n",
      "\n",
      "6    2717\n",
      "3      70\n",
      "5      64\n",
      "2      35\n",
      "4      19\n",
      "1       9\n",
      "0       2\n",
      "Name: Functional, dtype: int64\n",
      "\n",
      "0    1420\n",
      "1    1267\n",
      "2     218\n",
      "3      10\n",
      "4       1\n",
      "Name: Fireplaces, dtype: int64\n",
      "\n",
      "2    1593\n",
      "1     776\n",
      "3     373\n",
      "0     157\n",
      "4      16\n",
      "5       1\n",
      "Name: GarageCars, dtype: int64\n",
      "\n",
      "3    2601\n",
      "0     159\n",
      "2     124\n",
      "4      24\n",
      "1       5\n",
      "5       3\n",
      "Name: GarageQual, dtype: int64\n",
      "\n",
      "3    2651\n",
      "0     159\n",
      "2      74\n",
      "4      15\n",
      "1      14\n",
      "5       3\n",
      "Name: GarageCond, dtype: int64\n",
      "\n",
      "0    2907\n",
      "4       4\n",
      "3       3\n",
      "1       2\n",
      "Name: PoolQC, dtype: int64\n"
     ]
    }
   ],
   "source": [
    "# print small value counts of ordinal variables\n",
    "edit_ords_data = clean.data.select_dtypes('int64')\n",
    "small_val_count_ord_cols = print_small_val_counts(edit_ords_data, val_count_threshold=6)"
   ]
  },
  {
   "cell_type": "code",
   "execution_count": 10,
   "metadata": {},
   "outputs": [
    {
     "name": "stdout",
     "output_type": "stream",
     "text": [
      "Utilities: Type of utilities available\n",
      "\n",
      "\t AllPub - All public Utilities (E,G,W,& S)\n",
      "\t NoSewr - Electricity, Gas, and Water (Septic Tank)\n",
      "\t NoSeWa - Electricity and Gas Only\n",
      "\t ELO - Electricity only\n",
      "\n",
      "\n",
      "OverallQual: Rates the overall material and finish of the house\n",
      "\n",
      "\t 10 - Very Excellent\n",
      "\t 9 - Excellent\n",
      "\t 8 - Very Good\n",
      "\t 7 - Good\n",
      "\t 6 - Above Average\n",
      "\t 5 - Average\n",
      "\t 4 - Below Average\n",
      "\t 3 - Fair\n",
      "\t 2 - Poor\n",
      "\t 1 - Very Poor\n",
      "\n",
      "\n",
      "ExterCond: Evaluates the present condition of the material on the exterior\n",
      "\n",
      "\t Ex - Excellent\n",
      "\t Gd - Good\n",
      "\t TA - Average/Typical\n",
      "\t Fa - Fair\n",
      "\t Po - Poor\n",
      "\n",
      "\n",
      "BsmtCond: Evaluates the general condition of the basement\n",
      "\n",
      "\t Ex - Excellent\n",
      "\t Gd - Good\n",
      "\t TA - Typical - slight dampness allowed\n",
      "\t Fa - Fair - dampness or some cracking or settling\n",
      "\t Po - Poor - Severe cracking, settling, or wetness\n",
      "\t NA - No Basement\n",
      "\n",
      "\n",
      "HeatingQC: Heating quality and condition\n",
      "\n",
      "\t Ex - Excellent\n",
      "\t Gd - Good\n",
      "\t TA - Average/Typical\n",
      "\t Fa - Fair\n",
      "\t Po - Poor\n",
      "\n",
      "\n",
      "BsmtFullBath: Basement full bathrooms\n",
      "\n",
      "\n",
      "\n",
      "BsmtHalfBath: Basement half bathrooms\n",
      "\n",
      "\n",
      "\n",
      "FullBath: Full bathrooms above grade\n",
      "\n",
      "\n",
      "\n",
      "BedroomAbvGr: Bedrooms above grade (does NOT include basement bedrooms)\n",
      "\n",
      "\n",
      "\n",
      "KitchenAbvGr: Kitchens above grade\n",
      "\n",
      "\n",
      "\n",
      "KitchenQual: Kitchen quality\n",
      "\n",
      "\t Ex - Excellent\n",
      "\t Gd - Good\n",
      "\t TA - Typical/Average\n",
      "\t Fa - Fair\n",
      "\t Po - Poor\n",
      "\n",
      "\n",
      "TotRmsAbvGrd: Total rooms above grade (does not include bathrooms)\n",
      "\n",
      "\n",
      "\n",
      "Functional: Home functionality (Assume typical unless deductions are warranted)\n",
      "\n",
      "\t Typ - Typical Functionality\n",
      "\t Min1 - Minor Deductions 1\n",
      "\t Min2 - Minor Deductions 2\n",
      "\t Mod - Moderate Deductions\n",
      "\t Maj1 - Major Deductions 1\n",
      "\t Maj2 - Major Deductions 2\n",
      "\t Sev - Severely Damaged\n",
      "\t Sal - Salvage only\n",
      "\n",
      "\n",
      "Fireplaces: Number of fireplaces\n",
      "\n",
      "\n",
      "\n",
      "GarageCars: Size of garage in car capacity\n",
      "\n",
      "\n",
      "\n",
      "GarageQual: Garage quality\n",
      "\n",
      "\t Ex - Excellent\n",
      "\t Gd - Good\n",
      "\t TA - Typical/Average\n",
      "\t Fa - Fair\n",
      "\t Po - Poor\n",
      "\t NA - No Garage\n",
      "\n",
      "\n",
      "GarageCond: Garage condition\n",
      "\n",
      "\t Ex - Excellent\n",
      "\t Gd - Good\n",
      "\t TA - Typical/Average\n",
      "\t Fa - Fair\n",
      "\t Po - Poor\n",
      "\t NA - No Garage\n",
      "\n",
      "\n",
      "PoolQC: Pool quality\n",
      "\n",
      "\t Ex - Excellent\n",
      "\t Gd - Good\n",
      "\t TA - Average/Typical\n",
      "\t Fa - Fair\n",
      "\t NA - No Pool\n",
      "\n",
      "\n"
     ]
    }
   ],
   "source": [
    "clean.print_desc(small_val_count_ord_cols)"
   ]
  },
  {
   "cell_type": "markdown",
   "metadata": {},
   "source": [
    "Even though many ordinal variables have values with low counts, we're less inclined to combine values because we lose ordering information. However we will drop `Utilities` from all data, since a binary variable with one observation for one value is essentially useless."
   ]
  },
  {
   "cell_type": "code",
   "execution_count": 11,
   "metadata": {},
   "outputs": [],
   "source": [
    "# drop extremely unbalanced binary variable\n",
    "clean.data = clean.data.drop(columns=['Utilities'])\n",
    "clean_edit.data = clean_edit.data.drop(columns=['Utilities'])"
   ]
  },
  {
   "cell_type": "markdown",
   "metadata": {},
   "source": [
    "We'll also create some new variables:\n",
    "\n",
    "- `Bath` = `HalfBath` + 2 * `FullBath` and drop\n",
    "`HalfBath` and `FullBath`\n",
    "- `BsmtBath` = `BsmtHalfBath` + 2 * `BsmtFullBath` and drop `BsmtHalfBath` and `BsmtFullBath`\n",
    "- `AvgQual`, the average of `OverallQual`, `ExterQual`, `BsmtQual`, `HeatingQC`, `KitchenQual`, `FireplaceQu` and `GarageQual`.\n",
    "- `AvgCond`, the average of `OverallCond`, `ExterCond`, `BsmtCond`, and `GarageCond`\n",
    "- Indicator variables `HasBsmt`, `HasFireplace`, `HasPool`, `HasGarage`, `HasFence`\n",
    "\n",
    "Note the factor of 2 in the new bath variables is so full baths are twice the weight of half baths. Also note the new average quality and condition variables will be quantitative (`float64` dtype)"
   ]
  },
  {
   "cell_type": "code",
   "execution_count": 12,
   "metadata": {},
   "outputs": [],
   "source": [
    "# create new ordinal variables\n",
    "clean_edit.data = create_ord_vars(clean_edit.data, clean.data)\n",
    "drop_edit.data = create_ord_vars(drop_edit.data, clean.data)"
   ]
  },
  {
   "cell_type": "markdown",
   "metadata": {},
   "source": [
    "Finally, we'll look at quantitative variables."
   ]
  },
  {
   "cell_type": "code",
   "execution_count": 13,
   "metadata": {},
   "outputs": [
    {
     "data": {
      "text/plain": [
       "Index(['LotFrontage', 'LotArea', 'YearBuilt', 'YearRemodAdd', 'MasVnrArea',\n",
       "       'BsmtFinSF1', 'BsmtFinSF2', 'BsmtUnfSF', 'TotalBsmtSF', '1stFlrSF',\n",
       "       '2ndFlrSF', 'LowQualFinSF', 'GrLivArea', 'GarageYrBlt', 'GarageArea',\n",
       "       'WoodDeckSF', 'OpenPorchSF', 'EnclosedPorch', '3SsnPorch',\n",
       "       'ScreenPorch', 'PoolArea', 'MiscVal', 'SalePrice'],\n",
       "      dtype='object')"
      ]
     },
     "execution_count": 13,
     "metadata": {},
     "output_type": "execute_result"
    }
   ],
   "source": [
    "quants_data = clean.data.select_dtypes('float64')\n",
    "quants_data.columns"
   ]
  },
  {
   "cell_type": "markdown",
   "metadata": {},
   "source": [
    "We [noted above](#Quantitative-variables) that many of these variables have high concentrations at zero. We'll\n",
    "\n",
    "- Create indicator variables `Has2ndFlr`, `HasWoodDeck`, `HasPorch`\n",
    "- Create an overall area variable `OverallArea` = `LotArea` + `GrLivArea` + `GarageArea`\n",
    "- Create a lot variable `LotRatio` = `LotArea` / `LotFrontage`"
   ]
  },
  {
   "cell_type": "code",
   "execution_count": 14,
   "metadata": {},
   "outputs": [],
   "source": [
    "# create new quantiative variables\n",
    "clean_edit.data = create_quant_vars(clean_edit.data, clean.data)\n",
    "drop_edit.data = create_quant_vars(drop_edit.data, clean.data)"
   ]
  },
  {
   "cell_type": "markdown",
   "metadata": {},
   "source": [
    "### Transform skewed quantitative variables"
   ]
  },
  {
   "cell_type": "markdown",
   "metadata": {},
   "source": [
    "We noted that many of the quantitative variables (including the response variable `SalePrice`)  had approximately logarithmic distributions, so we'll apply a log transformation to these. Note that we expect this to improve the performance of some predictive modeling methods (e.g. linear regression) but to have little effect on other methods (e.g. tree-based methods)."
   ]
  },
  {
   "cell_type": "code",
   "execution_count": 15,
   "metadata": {},
   "outputs": [
    {
     "data": {
      "text/plain": [
       "Index(['LotFrontage', 'LotArea', 'YearBuilt', 'YearRemodAdd', 'MasVnrArea',\n",
       "       'BsmtFinSF1', 'BsmtFinSF2', 'BsmtUnfSF', 'TotalBsmtSF', '1stFlrSF',\n",
       "       '2ndFlrSF', 'LowQualFinSF', 'GrLivArea', 'GarageYrBlt', 'GarageArea',\n",
       "       'WoodDeckSF', 'OpenPorchSF', 'EnclosedPorch', '3SsnPorch',\n",
       "       'ScreenPorch', 'PoolArea', 'MiscVal', 'SalePrice', 'AvgQual', 'AvgCond',\n",
       "       'OverallArea', 'LotRatio'],\n",
       "      dtype='object')"
      ]
     },
     "execution_count": 15,
     "metadata": {},
     "output_type": "execute_result"
    }
   ],
   "source": [
    "quants_data = clean_edit.data.select_dtypes('float64')\n",
    "quants_data.columns"
   ]
  },
  {
   "cell_type": "code",
   "execution_count": 16,
   "metadata": {},
   "outputs": [
    {
     "data": {
      "image/png": "[encoded data removed]",
      "text/plain": [
       "<Figure size 1080x1440 with 28 Axes>"
      ]
     },
     "metadata": {
      "needs_background": "light"
     },
     "output_type": "display_data"
    }
   ],
   "source": [
    "# inspect distributions of quantitatives including new ones\n",
    "plot_cont_dists(nrows=7, ncols=4, data=quants_data.drop(columns=['SalePrice']), figsize=(15, 20))"
   ]
  },
  {
   "cell_type": "code",
   "execution_count": 17,
   "metadata": {},
   "outputs": [
    {
     "name": "stdout",
     "output_type": "stream",
     "text": [
      "Minimum quantitative value is 0.0\n",
      "Minimum nonzero quantitative value is 0.4444444444444444\n"
     ]
    }
   ],
   "source": [
    "# find minimum value over all quantitatives\n",
    "quants_min_nonzero = quants_data[quants_data != 0].min().min()\n",
    "print(f\"Minimum quantitative value is {quants_data.min().min()}\")\n",
    "print(f\"Minimum nonzero quantitative value is {quants_min_nonzero}\")"
   ]
  },
  {
   "cell_type": "markdown",
   "metadata": {},
   "source": [
    "Since the minimum nonzero quantitative value is $< 1$, we must set $log(var) < log$ (`quants_min`) if $var = 0$ in order not to interfere with monotonicity"
   ]
  },
  {
   "cell_type": "code",
   "execution_count": 16,
   "metadata": {},
   "outputs": [
    {
     "data": {
      "text/plain": [
       "Index(['LotFrontage', 'LotArea', 'MasVnrArea', 'BsmtFinSF1', 'BsmtFinSF2',\n",
       "       'BsmtUnfSF', 'TotalBsmtSF', '1stFlrSF', '2ndFlrSF', 'LowQualFinSF',\n",
       "       'GrLivArea', 'WoodDeckSF', 'OpenPorchSF', 'EnclosedPorch', '3SsnPorch',\n",
       "       'ScreenPorch', 'PoolArea', 'MiscVal', 'SalePrice', 'AvgQual',\n",
       "       'OverallArea', 'LotRatio'],\n",
       "      dtype='object')"
      ]
     },
     "execution_count": 16,
     "metadata": {},
     "output_type": "execute_result"
    }
   ],
   "source": [
    "# Columns to log transform\n",
    "log_cols = quants_data.columns.drop(['YearBuilt', 'YearRemodAdd', 'GarageYrBlt', 'GarageArea', 'AvgCond'])\n",
    "log_cols"
   ]
  },
  {
   "cell_type": "code",
   "execution_count": 17,
   "metadata": {},
   "outputs": [],
   "source": [
    "# log transform SalePrice\n",
    "clean.data = log_transform(data=clean.data, log_cols=['SalePrice'])\n",
    "drop.data = log_transform(data=drop.data, log_cols=['SalePrice'])"
   ]
  },
  {
   "cell_type": "code",
   "execution_count": 18,
   "metadata": {},
   "outputs": [],
   "source": [
    "# log transform most quantitatives\n",
    "clean_edit.data = log_transform(data=clean_edit.data, log_cols=log_cols)\n",
    "drop_edit.data = log_transform(data=drop_edit.data, log_cols=log_cols)"
   ]
  },
  {
   "cell_type": "markdown",
   "metadata": {
    "toc-hr-collapsed": false
   },
   "source": [
    "## Model selection and tuning "
   ]
  },
  {
   "cell_type": "markdown",
   "metadata": {},
   "source": [
    "### Create modeling datasets"
   ]
  },
  {
   "cell_type": "code",
   "execution_count": 19,
   "metadata": {},
   "outputs": [],
   "source": [
    "# set col kinds attribute of HPDataFramePlus attribute for model data method\n",
    "do_col_kinds(drop)\n",
    "do_col_kinds(drop_edit)\n",
    "do_col_kinds(clean)\n",
    "do_col_kinds(clean_edit)"
   ]
  },
  {
   "cell_type": "code",
   "execution_count": 21,
   "metadata": {},
   "outputs": [],
   "source": [
    "# model data\n",
    "mclean = HPDataFramePlus(data=clean.get_model_data(response='log_SalePrice'))\n",
    "mclean_edit = HPDataFramePlus(data=clean_edit.get_model_data(response='log_SalePrice'))\n",
    "mdrop = HPDataFramePlus(data=drop.get_model_data(response='log_SalePrice'))\n",
    "mdrop_edit = HPDataFramePlus(data=drop_edit.get_model_data(response='log_SalePrice'))"
   ]
  },
  {
   "cell_type": "code",
   "execution_count": 22,
   "metadata": {},
   "outputs": [
    {
     "name": "stdout",
     "output_type": "stream",
     "text": [
      "<class 'pandas.core.frame.DataFrame'>\n",
      "MultiIndex: 2916 entries, (train, 1) to (test, 2919)\n",
      "Columns: 230 entries, LotFrontage to log_SalePrice\n",
      "dtypes: float64(230)\n",
      "memory usage: 5.2+ MB\n"
     ]
    }
   ],
   "source": [
    "mclean.data.info()"
   ]
  },
  {
   "cell_type": "code",
   "execution_count": 23,
   "metadata": {},
   "outputs": [
    {
     "name": "stdout",
     "output_type": "stream",
     "text": [
      "<class 'pandas.core.frame.DataFrame'>\n",
      "MultiIndex: 2916 entries, (train, 1) to (test, 2919)\n",
      "Columns: 222 entries, LotShape to log_SalePrice\n",
      "dtypes: float64(222)\n",
      "memory usage: 5.0+ MB\n"
     ]
    }
   ],
   "source": [
    "mclean_edit.data.info()"
   ]
  },
  {
   "cell_type": "code",
   "execution_count": 24,
   "metadata": {},
   "outputs": [
    {
     "name": "stdout",
     "output_type": "stream",
     "text": [
      "<class 'pandas.core.frame.DataFrame'>\n",
      "MultiIndex: 2916 entries, (train, 1) to (test, 2919)\n",
      "Columns: 173 entries, LotFrontage to log_SalePrice\n",
      "dtypes: float64(173)\n",
      "memory usage: 4.0+ MB\n"
     ]
    }
   ],
   "source": [
    "mdrop.data.info()"
   ]
  },
  {
   "cell_type": "code",
   "execution_count": 25,
   "metadata": {},
   "outputs": [
    {
     "name": "stdout",
     "output_type": "stream",
     "text": [
      "<class 'pandas.core.frame.DataFrame'>\n",
      "MultiIndex: 2916 entries, (train, 1) to (test, 2919)\n",
      "Columns: 176 entries, LotShape to log_SalePrice\n",
      "dtypes: float64(176)\n",
      "memory usage: 4.0+ MB\n"
     ]
    }
   ],
   "source": [
    "mdrop_edit.data.info()"
   ]
  },
  {
   "cell_type": "markdown",
   "metadata": {},
   "source": [
    "### Compare default models for baseline"
   ]
  },
  {
   "cell_type": "code",
   "execution_count": 31,
   "metadata": {},
   "outputs": [],
   "source": [
    "def train_test(data, response):\n",
    "    X_train, y_train = data.loc['train'].drop(columns=[response]), data.loc['train'][response]\n",
    "    X_test, y_test = data.loc['train'].drop(columns=[response]), data.loc['train'][response]\n",
    "    return X_train, y_train, X_test, y_test\n",
    "\n",
    "def build_model_data(hpdfs, data_names, response):\n",
    "    model_data = defaultdict(dict)\n",
    "    for (hpdf, data_name) in zip(hpdfs, data_names):\n",
    "        X_train, y_train, X_test, y_test = train_test(hpdf.data, response)\n",
    "        model_data[data_name]['X_' + data_name + '_train'] = X_train\n",
    "        model_data[data_name]['y_' + data_name + '_train'] = y_train\n",
    "        model_data[data_name]['X_' + data_name + '_test'] = X_test\n",
    "        model_data[data_name]['y_' + data_name + '_test'] = y_test\n",
    "    return model_data"
   ]
  },
  {
   "cell_type": "code",
   "execution_count": 45,
   "metadata": {},
   "outputs": [],
   "source": [
    "hpdfs = [mdrop, mclean, mdrop_edit, mclean_edit]\n",
    "data_names = ['clean', 'clean_edit', 'drop', 'drop_edit']\n",
    "response = 'log_SalePrice'\n",
    "model_data = build_model_data(hpdfs, data_names, response)"
   ]
  },
  {
   "cell_type": "markdown",
   "metadata": {},
   "source": [
    "First we'll look at a selection of untuned models with default parameters to get a rough idea of which ones might have better performance. \n",
    "\n",
    "We'll use root mean squared error (RMSE) for our loss function. Since we have a relatively small dataset, we'll use cross-validation to estimate rmse for test data."
   ]
  },
  {
   "cell_type": "code",
   "execution_count": 53,
   "metadata": {},
   "outputs": [],
   "source": [
    "def fit_default_models(model_data, random_state=None):\n",
    "    def_models = defaultdict(dict)\n",
    "    for data_name in model_data:\n",
    "        models = {'lasso': Lasso(), 'ridge': Ridge(), 'bayes_ridge': BayesianRidge(), \n",
    "                  'plsreg': PLSRegression(), 'svr': SVR(), 'knn': KNeighborsRegressor(), \n",
    "                  'mlp': MLPRegressor(), 'dec_tree': DecisionTreeRegressor(random_state=random_state), \n",
    "                  'extra_tree': ExtraTreeRegressor(random_state=random_state),\n",
    "                  'xgb': XGBRegressor(objective='reg:squarederror', random_state=random_state,\n",
    "                                      n_jobs=-1)}\n",
    "        for model in models:\n",
    "            X_train = model_data[data_name]['X_' + data_name + '_train']\n",
    "            y_train = model_data[data_name]['y_' + data_name + '_train']\n",
    "            def_models[data_name][model] = models[model].fit(X_train, y_train)\n",
    "    return def_models"
   ]
  },
  {
   "cell_type": "code",
   "execution_count": 54,
   "metadata": {},
   "outputs": [],
   "source": [
    "def_models = fit_default_models(model_data, random_state=27)"
   ]
  },
  {
   "cell_type": "code",
   "execution_count": 92,
   "metadata": {},
   "outputs": [],
   "source": [
    "def rmse(model, X_train, y_train, n_splits=5, shuffle=True, random_state=None):\n",
    "    \"\"\"Train and cv rmse of model.\"\"\"\n",
    "    kf = KFold(n_splits=n_splits, shuffle=shuffle, random_state=random_state)\n",
    "    \n",
    "    train_rmse = np.sqrt(mean_squared_error(model.predict(X_train), y_train))\n",
    "    cv_scores = - cross_val_score(estimator=model, X=X_train, y=y_train, cv=kf,\n",
    "                                  scoring='neg_mean_squared_error', n_jobs=-1)\n",
    "    cv_rmse = np.sqrt(np.mean(cv_scores))\n",
    "    return train_rmse, cv_rmse\n",
    "\n",
    "def model_comparison(fit_models, data_name, model_data, n_splits=5, shuffle=True, random_state=None):\n",
    "    \"\"\"Train and cv rmse for all models on version of data.\"\"\"\n",
    "    model_comp_df = pd.DataFrame(columns=['train_rmse', 'cv_rmse'],\n",
    "                                 index=list(fit_models[data_name].keys()))\n",
    "    for model_name in fit_models[data_name]:\n",
    "        X_train = model_data[data_name]['X_' + data_name + '_train']\n",
    "        y_train = model_data[data_name]['y_' + data_name + '_train']\n",
    "        model = fit_models[data_name][model_name]\n",
    "        train_rmse, cv_rmse = rmse(model, X_train, y_train, n_splits=10, \n",
    "                                   shuffle=True, random_state=None)\n",
    "        model_comp_df.loc[model_name, 'train_rmse'] = train_rmse\n",
    "        model_comp_df.loc[model_name, 'cv_rmse'] = cv_rmse\n",
    "    return model_comp_df\n",
    "\n",
    "def compare_performance(fit_models, model_data, n_splits=5, shuffle=True, random_state=None):\n",
    "    \"\"\"Compare default models across datasets.\"\"\"\n",
    "    comp_dfs = []\n",
    "    for data_name in model_data:\n",
    "        model_comp_df = model_comparison(fit_models, data_name, model_data, n_splits=5, \n",
    "                                         shuffle=True, random_state=None)\n",
    "        comp_dfs += [model_comp_df]\n",
    "    comp_df = pd.concat(comp_dfs, axis=1, keys=list(model_data.keys()), names=['data', 'performance'])\n",
    "    comp_df = comp_df.reset_index().rename(columns={'Index': 'model'})\n",
    "    return comp_df    "
   ]
  },
  {
   "cell_type": "code",
   "execution_count": 93,
   "metadata": {},
   "outputs": [
    {
     "ename": "KeyboardInterrupt",
     "evalue": "",
     "output_type": "error",
     "traceback": [
      "\u001b[0;31m---------------------------------------------------------------------------\u001b[0m",
      "\u001b[0;31mKeyboardInterrupt\u001b[0m                         Traceback (most recent call last)",
      "\u001b[0;32m<ipython-input-93-7d3d612fe241>\u001b[0m in \u001b[0;36m<module>\u001b[0;34m\u001b[0m\n\u001b[1;32m      1\u001b[0m \u001b[0;31m# compare default models\u001b[0m\u001b[0;34m\u001b[0m\u001b[0;34m\u001b[0m\u001b[0;34m\u001b[0m\u001b[0m\n\u001b[0;32m----> 2\u001b[0;31m \u001b[0mdef_comp_df\u001b[0m \u001b[0;34m=\u001b[0m \u001b[0mcompare_performance\u001b[0m\u001b[0;34m(\u001b[0m\u001b[0mdef_models\u001b[0m\u001b[0;34m,\u001b[0m \u001b[0mmodel_data\u001b[0m\u001b[0;34m,\u001b[0m \u001b[0mrandom_state\u001b[0m\u001b[0;34m=\u001b[0m\u001b[0;36m27\u001b[0m\u001b[0;34m)\u001b[0m\u001b[0;34m\u001b[0m\u001b[0;34m\u001b[0m\u001b[0m\n\u001b[0m\u001b[1;32m      3\u001b[0m \u001b[0mdef_comp_df\u001b[0m\u001b[0;34m.\u001b[0m\u001b[0msort_values\u001b[0m\u001b[0;34m(\u001b[0m\u001b[0mby\u001b[0m\u001b[0;34m=\u001b[0m\u001b[0;34m(\u001b[0m\u001b[0;34m'clean'\u001b[0m\u001b[0;34m,\u001b[0m \u001b[0;34m'cv_rmse'\u001b[0m\u001b[0;34m)\u001b[0m\u001b[0;34m)\u001b[0m\u001b[0;34m.\u001b[0m\u001b[0mreset_index\u001b[0m\u001b[0;34m(\u001b[0m\u001b[0mdrop\u001b[0m\u001b[0;34m=\u001b[0m\u001b[0;32mTrue\u001b[0m\u001b[0;34m)\u001b[0m\u001b[0;34m\u001b[0m\u001b[0;34m\u001b[0m\u001b[0m\n",
      "\u001b[0;32m<ipython-input-92-d79bb9db17f4>\u001b[0m in \u001b[0;36mcompare_performance\u001b[0;34m(fit_models, model_data, n_splits, shuffle, random_state)\u001b[0m\n\u001b[1;32m     28\u001b[0m     \u001b[0;32mfor\u001b[0m \u001b[0mdata_name\u001b[0m \u001b[0;32min\u001b[0m \u001b[0mmodel_data\u001b[0m\u001b[0;34m:\u001b[0m\u001b[0;34m\u001b[0m\u001b[0;34m\u001b[0m\u001b[0m\n\u001b[1;32m     29\u001b[0m         model_comp_df = model_comparison(fit_models, data_name, model_data, n_splits=5, \n\u001b[0;32m---> 30\u001b[0;31m                                          shuffle=True, random_state=None)\n\u001b[0m\u001b[1;32m     31\u001b[0m         \u001b[0mcomp_dfs\u001b[0m \u001b[0;34m+=\u001b[0m \u001b[0;34m[\u001b[0m\u001b[0mmodel_comp_df\u001b[0m\u001b[0;34m]\u001b[0m\u001b[0;34m\u001b[0m\u001b[0;34m\u001b[0m\u001b[0m\n\u001b[1;32m     32\u001b[0m     \u001b[0mcomp_df\u001b[0m \u001b[0;34m=\u001b[0m \u001b[0mpd\u001b[0m\u001b[0;34m.\u001b[0m\u001b[0mconcat\u001b[0m\u001b[0;34m(\u001b[0m\u001b[0mcomp_dfs\u001b[0m\u001b[0;34m,\u001b[0m \u001b[0maxis\u001b[0m\u001b[0;34m=\u001b[0m\u001b[0;36m1\u001b[0m\u001b[0;34m,\u001b[0m \u001b[0mkeys\u001b[0m\u001b[0;34m=\u001b[0m\u001b[0mlist\u001b[0m\u001b[0;34m(\u001b[0m\u001b[0mmodel_data\u001b[0m\u001b[0;34m.\u001b[0m\u001b[0mkeys\u001b[0m\u001b[0;34m(\u001b[0m\u001b[0;34m)\u001b[0m\u001b[0;34m)\u001b[0m\u001b[0;34m,\u001b[0m \u001b[0mnames\u001b[0m\u001b[0;34m=\u001b[0m\u001b[0;34m[\u001b[0m\u001b[0;34m'data'\u001b[0m\u001b[0;34m,\u001b[0m \u001b[0;34m'performance'\u001b[0m\u001b[0;34m]\u001b[0m\u001b[0;34m)\u001b[0m\u001b[0;34m\u001b[0m\u001b[0;34m\u001b[0m\u001b[0m\n",
      "\u001b[0;32m<ipython-input-92-d79bb9db17f4>\u001b[0m in \u001b[0;36mmodel_comparison\u001b[0;34m(fit_models, data_name, model_data, n_splits, shuffle, random_state)\u001b[0m\n\u001b[1;32m     18\u001b[0m         \u001b[0mmodel\u001b[0m \u001b[0;34m=\u001b[0m \u001b[0mfit_models\u001b[0m\u001b[0;34m[\u001b[0m\u001b[0mdata_name\u001b[0m\u001b[0;34m]\u001b[0m\u001b[0;34m[\u001b[0m\u001b[0mmodel_name\u001b[0m\u001b[0;34m]\u001b[0m\u001b[0;34m\u001b[0m\u001b[0;34m\u001b[0m\u001b[0m\n\u001b[1;32m     19\u001b[0m         train_rmse, cv_rmse = rmse(model, X_train, y_train, n_splits=10, \n\u001b[0;32m---> 20\u001b[0;31m                                    shuffle=True, random_state=None)\n\u001b[0m\u001b[1;32m     21\u001b[0m         \u001b[0mmodel_comp_df\u001b[0m\u001b[0;34m.\u001b[0m\u001b[0mloc\u001b[0m\u001b[0;34m[\u001b[0m\u001b[0mmodel_name\u001b[0m\u001b[0;34m,\u001b[0m \u001b[0;34m'train_rmse'\u001b[0m\u001b[0;34m]\u001b[0m \u001b[0;34m=\u001b[0m \u001b[0mtrain_rmse\u001b[0m\u001b[0;34m\u001b[0m\u001b[0;34m\u001b[0m\u001b[0m\n\u001b[1;32m     22\u001b[0m         \u001b[0mmodel_comp_df\u001b[0m\u001b[0;34m.\u001b[0m\u001b[0mloc\u001b[0m\u001b[0;34m[\u001b[0m\u001b[0mmodel_name\u001b[0m\u001b[0;34m,\u001b[0m \u001b[0;34m'cv_rmse'\u001b[0m\u001b[0;34m]\u001b[0m \u001b[0;34m=\u001b[0m \u001b[0mcv_rmse\u001b[0m\u001b[0;34m\u001b[0m\u001b[0;34m\u001b[0m\u001b[0m\n",
      "\u001b[0;32m<ipython-input-92-d79bb9db17f4>\u001b[0m in \u001b[0;36mrmse\u001b[0;34m(model, X_train, y_train, n_splits, shuffle, random_state)\u001b[0m\n\u001b[1;32m      5\u001b[0m     \u001b[0mtrain_rmse\u001b[0m \u001b[0;34m=\u001b[0m \u001b[0mnp\u001b[0m\u001b[0;34m.\u001b[0m\u001b[0msqrt\u001b[0m\u001b[0;34m(\u001b[0m\u001b[0mmean_squared_error\u001b[0m\u001b[0;34m(\u001b[0m\u001b[0mmodel\u001b[0m\u001b[0;34m.\u001b[0m\u001b[0mpredict\u001b[0m\u001b[0;34m(\u001b[0m\u001b[0mX_train\u001b[0m\u001b[0;34m)\u001b[0m\u001b[0;34m,\u001b[0m \u001b[0my_train\u001b[0m\u001b[0;34m)\u001b[0m\u001b[0;34m)\u001b[0m\u001b[0;34m\u001b[0m\u001b[0;34m\u001b[0m\u001b[0m\n\u001b[1;32m      6\u001b[0m     cv_scores = - cross_val_score(estimator=model, X=X_train, y=y_train, cv=kf,\n\u001b[0;32m----> 7\u001b[0;31m                                   scoring='neg_mean_squared_error', n_jobs=-1)\n\u001b[0m\u001b[1;32m      8\u001b[0m     \u001b[0mcv_rmse\u001b[0m \u001b[0;34m=\u001b[0m \u001b[0mnp\u001b[0m\u001b[0;34m.\u001b[0m\u001b[0msqrt\u001b[0m\u001b[0;34m(\u001b[0m\u001b[0mnp\u001b[0m\u001b[0;34m.\u001b[0m\u001b[0mmean\u001b[0m\u001b[0;34m(\u001b[0m\u001b[0mcv_scores\u001b[0m\u001b[0;34m)\u001b[0m\u001b[0;34m)\u001b[0m\u001b[0;34m\u001b[0m\u001b[0;34m\u001b[0m\u001b[0m\n\u001b[1;32m      9\u001b[0m     \u001b[0;32mreturn\u001b[0m \u001b[0mtrain_rmse\u001b[0m\u001b[0;34m,\u001b[0m \u001b[0mcv_rmse\u001b[0m\u001b[0;34m\u001b[0m\u001b[0;34m\u001b[0m\u001b[0m\n",
      "\u001b[0;32m/anaconda3/envs/house_prices/lib/python3.7/site-packages/sklearn/model_selection/_validation.py\u001b[0m in \u001b[0;36mcross_val_score\u001b[0;34m(estimator, X, y, groups, scoring, cv, n_jobs, verbose, fit_params, pre_dispatch, error_score)\u001b[0m\n\u001b[1;32m    389\u001b[0m                                 \u001b[0mfit_params\u001b[0m\u001b[0;34m=\u001b[0m\u001b[0mfit_params\u001b[0m\u001b[0;34m,\u001b[0m\u001b[0;34m\u001b[0m\u001b[0;34m\u001b[0m\u001b[0m\n\u001b[1;32m    390\u001b[0m                                 \u001b[0mpre_dispatch\u001b[0m\u001b[0;34m=\u001b[0m\u001b[0mpre_dispatch\u001b[0m\u001b[0;34m,\u001b[0m\u001b[0;34m\u001b[0m\u001b[0;34m\u001b[0m\u001b[0m\n\u001b[0;32m--> 391\u001b[0;31m                                 error_score=error_score)\n\u001b[0m\u001b[1;32m    392\u001b[0m     \u001b[0;32mreturn\u001b[0m \u001b[0mcv_results\u001b[0m\u001b[0;34m[\u001b[0m\u001b[0;34m'test_score'\u001b[0m\u001b[0;34m]\u001b[0m\u001b[0;34m\u001b[0m\u001b[0;34m\u001b[0m\u001b[0m\n\u001b[1;32m    393\u001b[0m \u001b[0;34m\u001b[0m\u001b[0m\n",
      "\u001b[0;32m/anaconda3/envs/house_prices/lib/python3.7/site-packages/sklearn/model_selection/_validation.py\u001b[0m in \u001b[0;36mcross_validate\u001b[0;34m(estimator, X, y, groups, scoring, cv, n_jobs, verbose, fit_params, pre_dispatch, return_train_score, return_estimator, error_score)\u001b[0m\n\u001b[1;32m    230\u001b[0m             \u001b[0mreturn_times\u001b[0m\u001b[0;34m=\u001b[0m\u001b[0;32mTrue\u001b[0m\u001b[0;34m,\u001b[0m \u001b[0mreturn_estimator\u001b[0m\u001b[0;34m=\u001b[0m\u001b[0mreturn_estimator\u001b[0m\u001b[0;34m,\u001b[0m\u001b[0;34m\u001b[0m\u001b[0;34m\u001b[0m\u001b[0m\n\u001b[1;32m    231\u001b[0m             error_score=error_score)\n\u001b[0;32m--> 232\u001b[0;31m         for train, test in cv.split(X, y, groups))\n\u001b[0m\u001b[1;32m    233\u001b[0m \u001b[0;34m\u001b[0m\u001b[0m\n\u001b[1;32m    234\u001b[0m     \u001b[0mzipped_scores\u001b[0m \u001b[0;34m=\u001b[0m \u001b[0mlist\u001b[0m\u001b[0;34m(\u001b[0m\u001b[0mzip\u001b[0m\u001b[0;34m(\u001b[0m\u001b[0;34m*\u001b[0m\u001b[0mscores\u001b[0m\u001b[0;34m)\u001b[0m\u001b[0;34m)\u001b[0m\u001b[0;34m\u001b[0m\u001b[0;34m\u001b[0m\u001b[0m\n",
      "\u001b[0;32m/anaconda3/envs/house_prices/lib/python3.7/site-packages/joblib/parallel.py\u001b[0m in \u001b[0;36m__call__\u001b[0;34m(self, iterable)\u001b[0m\n\u001b[1;32m    932\u001b[0m \u001b[0;34m\u001b[0m\u001b[0m\n\u001b[1;32m    933\u001b[0m             \u001b[0;32mwith\u001b[0m \u001b[0mself\u001b[0m\u001b[0;34m.\u001b[0m\u001b[0m_backend\u001b[0m\u001b[0;34m.\u001b[0m\u001b[0mretrieval_context\u001b[0m\u001b[0;34m(\u001b[0m\u001b[0;34m)\u001b[0m\u001b[0;34m:\u001b[0m\u001b[0;34m\u001b[0m\u001b[0;34m\u001b[0m\u001b[0m\n\u001b[0;32m--> 934\u001b[0;31m                 \u001b[0mself\u001b[0m\u001b[0;34m.\u001b[0m\u001b[0mretrieve\u001b[0m\u001b[0;34m(\u001b[0m\u001b[0;34m)\u001b[0m\u001b[0;34m\u001b[0m\u001b[0;34m\u001b[0m\u001b[0m\n\u001b[0m\u001b[1;32m    935\u001b[0m             \u001b[0;31m# Make sure that we get a last message telling us we are done\u001b[0m\u001b[0;34m\u001b[0m\u001b[0;34m\u001b[0m\u001b[0;34m\u001b[0m\u001b[0m\n\u001b[1;32m    936\u001b[0m             \u001b[0melapsed_time\u001b[0m \u001b[0;34m=\u001b[0m \u001b[0mtime\u001b[0m\u001b[0;34m.\u001b[0m\u001b[0mtime\u001b[0m\u001b[0;34m(\u001b[0m\u001b[0;34m)\u001b[0m \u001b[0;34m-\u001b[0m \u001b[0mself\u001b[0m\u001b[0;34m.\u001b[0m\u001b[0m_start_time\u001b[0m\u001b[0;34m\u001b[0m\u001b[0;34m\u001b[0m\u001b[0m\n",
      "\u001b[0;32m/anaconda3/envs/house_prices/lib/python3.7/site-packages/joblib/parallel.py\u001b[0m in \u001b[0;36mretrieve\u001b[0;34m(self)\u001b[0m\n\u001b[1;32m    831\u001b[0m             \u001b[0;32mtry\u001b[0m\u001b[0;34m:\u001b[0m\u001b[0;34m\u001b[0m\u001b[0;34m\u001b[0m\u001b[0m\n\u001b[1;32m    832\u001b[0m                 \u001b[0;32mif\u001b[0m \u001b[0mgetattr\u001b[0m\u001b[0;34m(\u001b[0m\u001b[0mself\u001b[0m\u001b[0;34m.\u001b[0m\u001b[0m_backend\u001b[0m\u001b[0;34m,\u001b[0m \u001b[0;34m'supports_timeout'\u001b[0m\u001b[0;34m,\u001b[0m \u001b[0;32mFalse\u001b[0m\u001b[0;34m)\u001b[0m\u001b[0;34m:\u001b[0m\u001b[0;34m\u001b[0m\u001b[0;34m\u001b[0m\u001b[0m\n\u001b[0;32m--> 833\u001b[0;31m                     \u001b[0mself\u001b[0m\u001b[0;34m.\u001b[0m\u001b[0m_output\u001b[0m\u001b[0;34m.\u001b[0m\u001b[0mextend\u001b[0m\u001b[0;34m(\u001b[0m\u001b[0mjob\u001b[0m\u001b[0;34m.\u001b[0m\u001b[0mget\u001b[0m\u001b[0;34m(\u001b[0m\u001b[0mtimeout\u001b[0m\u001b[0;34m=\u001b[0m\u001b[0mself\u001b[0m\u001b[0;34m.\u001b[0m\u001b[0mtimeout\u001b[0m\u001b[0;34m)\u001b[0m\u001b[0;34m)\u001b[0m\u001b[0;34m\u001b[0m\u001b[0;34m\u001b[0m\u001b[0m\n\u001b[0m\u001b[1;32m    834\u001b[0m                 \u001b[0;32melse\u001b[0m\u001b[0;34m:\u001b[0m\u001b[0;34m\u001b[0m\u001b[0;34m\u001b[0m\u001b[0m\n\u001b[1;32m    835\u001b[0m                     \u001b[0mself\u001b[0m\u001b[0;34m.\u001b[0m\u001b[0m_output\u001b[0m\u001b[0;34m.\u001b[0m\u001b[0mextend\u001b[0m\u001b[0;34m(\u001b[0m\u001b[0mjob\u001b[0m\u001b[0;34m.\u001b[0m\u001b[0mget\u001b[0m\u001b[0;34m(\u001b[0m\u001b[0;34m)\u001b[0m\u001b[0;34m)\u001b[0m\u001b[0;34m\u001b[0m\u001b[0;34m\u001b[0m\u001b[0m\n",
      "\u001b[0;32m/anaconda3/envs/house_prices/lib/python3.7/site-packages/joblib/_parallel_backends.py\u001b[0m in \u001b[0;36mwrap_future_result\u001b[0;34m(future, timeout)\u001b[0m\n\u001b[1;32m    519\u001b[0m         AsyncResults.get from multiprocessing.\"\"\"\n\u001b[1;32m    520\u001b[0m         \u001b[0;32mtry\u001b[0m\u001b[0;34m:\u001b[0m\u001b[0;34m\u001b[0m\u001b[0;34m\u001b[0m\u001b[0m\n\u001b[0;32m--> 521\u001b[0;31m             \u001b[0;32mreturn\u001b[0m \u001b[0mfuture\u001b[0m\u001b[0;34m.\u001b[0m\u001b[0mresult\u001b[0m\u001b[0;34m(\u001b[0m\u001b[0mtimeout\u001b[0m\u001b[0;34m=\u001b[0m\u001b[0mtimeout\u001b[0m\u001b[0;34m)\u001b[0m\u001b[0;34m\u001b[0m\u001b[0;34m\u001b[0m\u001b[0m\n\u001b[0m\u001b[1;32m    522\u001b[0m         \u001b[0;32mexcept\u001b[0m \u001b[0mLokyTimeoutError\u001b[0m\u001b[0;34m:\u001b[0m\u001b[0;34m\u001b[0m\u001b[0;34m\u001b[0m\u001b[0m\n\u001b[1;32m    523\u001b[0m             \u001b[0;32mraise\u001b[0m \u001b[0mTimeoutError\u001b[0m\u001b[0;34m(\u001b[0m\u001b[0;34m)\u001b[0m\u001b[0;34m\u001b[0m\u001b[0;34m\u001b[0m\u001b[0m\n",
      "\u001b[0;32m/anaconda3/envs/house_prices/lib/python3.7/concurrent/futures/_base.py\u001b[0m in \u001b[0;36mresult\u001b[0;34m(self, timeout)\u001b[0m\n\u001b[1;32m    425\u001b[0m                 \u001b[0;32mreturn\u001b[0m \u001b[0mself\u001b[0m\u001b[0;34m.\u001b[0m\u001b[0m__get_result\u001b[0m\u001b[0;34m(\u001b[0m\u001b[0;34m)\u001b[0m\u001b[0;34m\u001b[0m\u001b[0;34m\u001b[0m\u001b[0m\n\u001b[1;32m    426\u001b[0m \u001b[0;34m\u001b[0m\u001b[0m\n\u001b[0;32m--> 427\u001b[0;31m             \u001b[0mself\u001b[0m\u001b[0;34m.\u001b[0m\u001b[0m_condition\u001b[0m\u001b[0;34m.\u001b[0m\u001b[0mwait\u001b[0m\u001b[0;34m(\u001b[0m\u001b[0mtimeout\u001b[0m\u001b[0;34m)\u001b[0m\u001b[0;34m\u001b[0m\u001b[0;34m\u001b[0m\u001b[0m\n\u001b[0m\u001b[1;32m    428\u001b[0m \u001b[0;34m\u001b[0m\u001b[0m\n\u001b[1;32m    429\u001b[0m             \u001b[0;32mif\u001b[0m \u001b[0mself\u001b[0m\u001b[0;34m.\u001b[0m\u001b[0m_state\u001b[0m \u001b[0;32min\u001b[0m \u001b[0;34m[\u001b[0m\u001b[0mCANCELLED\u001b[0m\u001b[0;34m,\u001b[0m \u001b[0mCANCELLED_AND_NOTIFIED\u001b[0m\u001b[0;34m]\u001b[0m\u001b[0;34m:\u001b[0m\u001b[0;34m\u001b[0m\u001b[0;34m\u001b[0m\u001b[0m\n",
      "\u001b[0;32m/anaconda3/envs/house_prices/lib/python3.7/threading.py\u001b[0m in \u001b[0;36mwait\u001b[0;34m(self, timeout)\u001b[0m\n\u001b[1;32m    294\u001b[0m         \u001b[0;32mtry\u001b[0m\u001b[0;34m:\u001b[0m    \u001b[0;31m# restore state no matter what (e.g., KeyboardInterrupt)\u001b[0m\u001b[0;34m\u001b[0m\u001b[0;34m\u001b[0m\u001b[0m\n\u001b[1;32m    295\u001b[0m             \u001b[0;32mif\u001b[0m \u001b[0mtimeout\u001b[0m \u001b[0;32mis\u001b[0m \u001b[0;32mNone\u001b[0m\u001b[0;34m:\u001b[0m\u001b[0;34m\u001b[0m\u001b[0;34m\u001b[0m\u001b[0m\n\u001b[0;32m--> 296\u001b[0;31m                 \u001b[0mwaiter\u001b[0m\u001b[0;34m.\u001b[0m\u001b[0macquire\u001b[0m\u001b[0;34m(\u001b[0m\u001b[0;34m)\u001b[0m\u001b[0;34m\u001b[0m\u001b[0;34m\u001b[0m\u001b[0m\n\u001b[0m\u001b[1;32m    297\u001b[0m                 \u001b[0mgotit\u001b[0m \u001b[0;34m=\u001b[0m \u001b[0;32mTrue\u001b[0m\u001b[0;34m\u001b[0m\u001b[0;34m\u001b[0m\u001b[0m\n\u001b[1;32m    298\u001b[0m             \u001b[0;32melse\u001b[0m\u001b[0;34m:\u001b[0m\u001b[0;34m\u001b[0m\u001b[0;34m\u001b[0m\u001b[0m\n",
      "\u001b[0;31mKeyboardInterrupt\u001b[0m: "
     ]
    }
   ],
   "source": [
    "# compare default models \n",
    "def_comp_df = compare_performance(def_models, model_data, random_state=27)\n",
    "def_comp_df.sort_values(by=('clean', 'cv_rmse')).reset_index(drop=True)"
   ]
  },
  {
   "cell_type": "markdown",
   "metadata": {},
   "source": [
    "We note that `linear` (linear regression) had an extremely high cross-validation rmse estimate relative to the other models, although it did achieve roughly an order of magnitude improvement on the feature/selected engineered dataset `edit`. Since its estimated test performance is 8 orders of magnitude worse than the other models we'll drop it from consideration, and focus on the other models"
   ]
  },
  {
   "cell_type": "code",
   "execution_count": 226,
   "metadata": {},
   "outputs": [],
   "source": [
    "def_comp_df = def_comp_df[def_comp_df['model'] != 'linear']"
   ]
  },
  {
   "cell_type": "code",
   "execution_count": null,
   "metadata": {},
   "outputs": [],
   "source": [
    "def plot_model_comp(comp_df, col, hue, palette, rotation):\n",
    "    df = comp_df.melt()\n",
    "    sns.catplot(x='model', y='value', col=col, hue=hue, kind='bar', palette=palette)\n",
    "    plt.xticks(rotation=rotation)"
   ]
  },
  {
   "cell_type": "code",
   "execution_count": 227,
   "metadata": {},
   "outputs": [
    {
     "data": {
      "image/png": "[encoded data removed]",
      "text/plain": [
       "<Figure size 803.75x720 with 4 Axes>"
      ]
     },
     "metadata": {
      "needs_background": "light"
     },
     "output_type": "display_data"
    }
   ],
   "source": [
    "# compare train and cv performance for each dataset\n",
    "data_palette = {'train_rmse': 'cornflowerblue', 'cv_rmse': 'midnightblue'}\n",
    "plot_model_comp(def_comp_df, col='data', hue='performance', \n",
    "                palette=data_palette, rotation=45)"
   ]
  },
  {
   "cell_type": "markdown",
   "metadata": {},
   "source": [
    "Unsurprisingly, all models (with the exception of `lasso` regression) had worse CV error than train error. However, for some models the difference was much greater, and these are likely overfitting. In particular, `dec_tree`, `extra_tree` had cv error roughly 5 orders of magnitude greater than train error, and `mlp`, `knn`, and `xgb` also saw significant increases.\n",
    "\n",
    "The other models (`ridge`, `bridge`, `pls` and `svr`) saw slighter differences in cv and train errors, and are thus less likely overfitting."
   ]
  },
  {
   "cell_type": "code",
   "execution_count": 228,
   "metadata": {},
   "outputs": [
    {
     "data": {
      "image/png": "[encoded data removed]",
      "text/plain": [
       "<Figure size 801.875x360 with 2 Axes>"
      ]
     },
     "metadata": {
      "needs_background": "light"
     },
     "output_type": "display_data"
    }
   ],
   "source": [
    "# compare train and cv error across datasets\n",
    "perf_palette = {'drop': 'midnightblue', 'clean': 'forestgreen', 'drop_edit': 'crimson', \n",
    "           'clean_edit': 'darkorange'}\n",
    "plot_model_comp(def_comp_df, col='performance', hue='data', \n",
    "                palette=perf_palette, rotation=45)"
   ]
  },
  {
   "cell_type": "markdown",
   "metadata": {},
   "source": [
    "It's interesting to note that, while there was a slight decrease for all models (with the exception of `knn`) in cv rmse when dropping features (i.e. performance on `drop`) the decrease was slight. In fact, for the best performing model, `ridge` (ridge regression) there was a slight improvement. The top two models `ridge` and `bridge` (Bayesian ridge regression) performed better when variables were dropped. This was expected, since these are both regularized linear models."
   ]
  },
  {
   "cell_type": "code",
   "execution_count": 34,
   "metadata": {},
   "outputs": [
    {
     "data": {
      "text/html": [
       "<div>\n",
       "<style scoped>\n",
       "    .dataframe tbody tr th:only-of-type {\n",
       "        vertical-align: middle;\n",
       "    }\n",
       "\n",
       "    .dataframe tbody tr th {\n",
       "        vertical-align: top;\n",
       "    }\n",
       "\n",
       "    .dataframe thead tr th {\n",
       "        text-align: left;\n",
       "    }\n",
       "</style>\n",
       "<table border=\"1\" class=\"dataframe\">\n",
       "  <thead>\n",
       "    <tr>\n",
       "      <th>data</th>\n",
       "      <th>model</th>\n",
       "      <th>clean</th>\n",
       "      <th>clean_edit</th>\n",
       "      <th>drop</th>\n",
       "      <th>drop_edit</th>\n",
       "    </tr>\n",
       "    <tr>\n",
       "      <th>performance</th>\n",
       "      <th></th>\n",
       "      <th>cv_rmse</th>\n",
       "      <th>cv_rmse</th>\n",
       "      <th>cv_rmse</th>\n",
       "      <th>cv_rmse</th>\n",
       "    </tr>\n",
       "  </thead>\n",
       "  <tbody>\n",
       "    <tr>\n",
       "      <td>2</td>\n",
       "      <td>ridge</td>\n",
       "      <td>0.114243</td>\n",
       "      <td>0.114199</td>\n",
       "      <td>0.111824</td>\n",
       "      <td>0.112948</td>\n",
       "    </tr>\n",
       "    <tr>\n",
       "      <td>3</td>\n",
       "      <td>bridge</td>\n",
       "      <td>0.114311</td>\n",
       "      <td>0.113774</td>\n",
       "      <td>0.111851</td>\n",
       "      <td>0.11216</td>\n",
       "    </tr>\n",
       "    <tr>\n",
       "      <td>10</td>\n",
       "      <td>xgb</td>\n",
       "      <td>0.124461</td>\n",
       "      <td>0.12106</td>\n",
       "      <td>0.125746</td>\n",
       "      <td>0.123224</td>\n",
       "    </tr>\n",
       "    <tr>\n",
       "      <td>5</td>\n",
       "      <td>svr</td>\n",
       "      <td>0.132063</td>\n",
       "      <td>0.130044</td>\n",
       "      <td>0.128885</td>\n",
       "      <td>0.126171</td>\n",
       "    </tr>\n",
       "    <tr>\n",
       "      <td>4</td>\n",
       "      <td>pls</td>\n",
       "      <td>0.133276</td>\n",
       "      <td>0.12838</td>\n",
       "      <td>0.133124</td>\n",
       "      <td>0.130566</td>\n",
       "    </tr>\n",
       "    <tr>\n",
       "      <td>7</td>\n",
       "      <td>mlp</td>\n",
       "      <td>0.191036</td>\n",
       "      <td>0.179844</td>\n",
       "      <td>0.189193</td>\n",
       "      <td>0.179754</td>\n",
       "    </tr>\n",
       "    <tr>\n",
       "      <td>6</td>\n",
       "      <td>knn</td>\n",
       "      <td>0.197883</td>\n",
       "      <td>0.204704</td>\n",
       "      <td>0.186289</td>\n",
       "      <td>0.190876</td>\n",
       "    </tr>\n",
       "    <tr>\n",
       "      <td>8</td>\n",
       "      <td>dectree</td>\n",
       "      <td>0.210898</td>\n",
       "      <td>0.210197</td>\n",
       "      <td>0.200671</td>\n",
       "      <td>0.208819</td>\n",
       "    </tr>\n",
       "    <tr>\n",
       "      <td>9</td>\n",
       "      <td>extratree</td>\n",
       "      <td>0.219372</td>\n",
       "      <td>0.214154</td>\n",
       "      <td>0.205017</td>\n",
       "      <td>0.209789</td>\n",
       "    </tr>\n",
       "    <tr>\n",
       "      <td>1</td>\n",
       "      <td>lasso</td>\n",
       "      <td>0.400084</td>\n",
       "      <td>0.400084</td>\n",
       "      <td>0.400084</td>\n",
       "      <td>0.400084</td>\n",
       "    </tr>\n",
       "  </tbody>\n",
       "</table>\n",
       "</div>"
      ],
      "text/plain": [
       "data             model     clean clean_edit      drop drop_edit\n",
       "performance              cv_rmse    cv_rmse   cv_rmse   cv_rmse\n",
       "2                ridge  0.114243   0.114199  0.111824  0.112948\n",
       "3               bridge  0.114311   0.113774  0.111851   0.11216\n",
       "10                 xgb  0.124461    0.12106  0.125746  0.123224\n",
       "5                  svr  0.132063   0.130044  0.128885  0.126171\n",
       "4                  pls  0.133276    0.12838  0.133124  0.130566\n",
       "7                  mlp  0.191036   0.179844  0.189193  0.179754\n",
       "6                  knn  0.197883   0.204704  0.186289  0.190876\n",
       "8              dectree  0.210898   0.210197  0.200671  0.208819\n",
       "9            extratree  0.219372   0.214154  0.205017  0.209789\n",
       "1                lasso  0.400084   0.400084  0.400084  0.400084"
      ]
     },
     "execution_count": 34,
     "metadata": {},
     "output_type": "execute_result"
    }
   ],
   "source": [
    "drop_cols = [(data_name, 'train_rmse') for data_name in data_names]\n",
    "def_comp_df.drop(columns=drop_cols).sort_values(by=('clean', 'cv_rmse'))"
   ]
  },
  {
   "cell_type": "markdown",
   "metadata": {},
   "source": [
    "Almost all models had an improvement in cv rmse when features were added, so it appears the feature engineering was warranted. \n",
    "\n",
    "The top five models were consistent across all four versions of the dataset, namely `ridge`, `bridge`, `xgb`, `svr`, and `pls`, which are ridge, Bayesian ridge, gradient boosted decision tree, support vector and partial least squared regressors, respectively. Each of these saw an improvement when features were added, so we'll tune them on those versions of the data (`clean_edit` and `drop_edit`). Note that `xgb` and `pls` were slightly better on `clean_edit`, while `ridge`, `bridge`, and `svr` were slightly better on  `drop_edit`."
   ]
  },
  {
   "cell_type": "markdown",
   "metadata": {
    "toc-hr-collapsed": false
   },
   "source": [
    "### Tune best individual models"
   ]
  },
  {
   "cell_type": "markdown",
   "metadata": {},
   "source": [
    "Here we'll focus on tuning the most promising models from the [last section](#Compare-models). We'll use both `clean_edit` and `drop_edit` since some models performed better on the former and some on the latter."
   ]
  },
  {
   "cell_type": "code",
   "execution_count": 241,
   "metadata": {},
   "outputs": [
    {
     "name": "stdout",
     "output_type": "stream",
     "text": [
      "Promising models are ['ridge', 'bridge', 'pls', 'svr', 'xgb']\n"
     ]
    }
   ],
   "source": [
    "drop_models = ['linear', 'lasso', 'dectree', 'extratree', 'knn', 'mlp']\n",
    "models = remove_models(def_models.copy(), drop_models)\n",
    "models.pop('clean')\n",
    "models.pop('drop')\n",
    "print(f'Promising models are {list(models[\"clean_edit\"].keys())}')"
   ]
  },
  {
   "cell_type": "code",
   "execution_count": 243,
   "metadata": {},
   "outputs": [],
   "source": [
    "# drop clean and drop versions of data\n",
    "model_data.pop('clean')\n",
    "model_data.pop('drop')\n",
    "\n",
    "# train test input output for clean_edit (y_test values are NaN)\n",
    "X_ce_train, X_ce_test = model_data['clean_edit']['X_clean_edit_train'], model_data['clean_edit']['X_clean_edit_test']\n",
    "y_ce_train = model_data['clean_edit']['y_clean_edit_train']\n",
    "\n",
    "# train test input output for drop_edit\n",
    "X_de_train, X_de_test = model_data['drop_edit']['X_drop_edit_train'], model_data['drop_edit']['X_drop_edit_test']\n",
    "y_de_train = model_data['drop_edit']['y_drop_edit_train']"
   ]
  },
  {
   "cell_type": "markdown",
   "metadata": {
    "toc-hr-collapsed": true
   },
   "source": [
    "#### Ridge regressor"
   ]
  },
  {
   "cell_type": "markdown",
   "metadata": {},
   "source": [
    "[Ridge regression](https://scikit-learn.org/stable/modules/linear_model.html#ridge-regression) is linear least squares with an $\\ell_2$ regularization term."
   ]
  },
  {
   "cell_type": "markdown",
   "metadata": {},
   "source": [
    "##### Hyperparameter defaults for baseline"
   ]
  },
  {
   "cell_type": "code",
   "execution_count": 132,
   "metadata": {},
   "outputs": [],
   "source": [
    "ridge_models = defaultdict(dict)\n",
    "ridge_models['clean_edit']['ridge_ce_def'] = Ridge().fit(X_ce_train, y_ce_train)\n",
    "ridge_models['drop_edit']['ridge_de_def'] = Ridge().fit(X_de_train, y_de_train)"
   ]
  },
  {
   "cell_type": "markdown",
   "metadata": {},
   "source": [
    "##### Bayesian search with `hyperopt`"
   ]
  },
  {
   "cell_type": "markdown",
   "metadata": {},
   "source": [
    "Bayesian hyperparameter optimization is an efficient tuning method. We'll optimize with respect to cv rmse"
   ]
  },
  {
   "cell_type": "code",
   "execution_count": 120,
   "metadata": {},
   "outputs": [],
   "source": [
    "# ridge regression hyperparameters search space\n",
    "ridge_space = {'alpha': hp.loguniform('alpha', low=-3*np.log(10), high=2*np.log(10))}"
   ]
  },
  {
   "cell_type": "code",
   "execution_count": 121,
   "metadata": {},
   "outputs": [
    {
     "name": "stdout",
     "output_type": "stream",
     "text": [
      "100%|██████████| 100/100 [00:08<00:00, 11.30it/s, best loss: 0.11321759817533215]\n",
      "100%|██████████| 100/100 [00:09<00:00, 10.53it/s, best loss: 0.11147754871347906]\n"
     ]
    }
   ],
   "source": [
    "# optimize hyperparameters\n",
    "_, ridge_ce_ho = ho_results(obj=ho_cv_rmse, space=ridge_space, max_evals=100, est_name='ridge', \n",
    "                         X_train=X_ce_train, y_train=y_ce_train, random_state=27)\n",
    "_, ridge_de_ho = ho_results(obj=ho_cv_rmse, space=ridge_space, max_evals=100, est_name='ridge', \n",
    "                         X_train=X_de_train, y_train=y_de_train, random_state=27)"
   ]
  },
  {
   "cell_type": "code",
   "execution_count": 133,
   "metadata": {},
   "outputs": [],
   "source": [
    "# fit models with optimal hyperparameters\n",
    "ridge_models['clean_edit']['ridge_ce_tuned'] = Ridge(**ridge_ce_ho).fit(X_ce_train, y_ce_train)\n",
    "ridge_models['drop_edit']['ridge_de_tuned'] = Ridge(**ridge_de_ho).fit(X_de_train, y_de_train)"
   ]
  },
  {
   "cell_type": "code",
   "execution_count": 134,
   "metadata": {},
   "outputs": [
    {
     "data": {
      "text/html": [
       "<div>\n",
       "<style scoped>\n",
       "    .dataframe tbody tr th:only-of-type {\n",
       "        vertical-align: middle;\n",
       "    }\n",
       "\n",
       "    .dataframe tbody tr th {\n",
       "        vertical-align: top;\n",
       "    }\n",
       "\n",
       "    .dataframe thead th {\n",
       "        text-align: right;\n",
       "    }\n",
       "</style>\n",
       "<table border=\"1\" class=\"dataframe\">\n",
       "  <thead>\n",
       "    <tr style=\"text-align: right;\">\n",
       "      <th></th>\n",
       "      <th>index</th>\n",
       "      <th>train_rmse</th>\n",
       "      <th>cv_rmse</th>\n",
       "    </tr>\n",
       "  </thead>\n",
       "  <tbody>\n",
       "    <tr>\n",
       "      <td>3</td>\n",
       "      <td>ridge_de_tuned</td>\n",
       "      <td>0.09455</td>\n",
       "      <td>0.11171</td>\n",
       "    </tr>\n",
       "    <tr>\n",
       "      <td>2</td>\n",
       "      <td>ridge_de_def</td>\n",
       "      <td>0.0928914</td>\n",
       "      <td>0.112948</td>\n",
       "    </tr>\n",
       "    <tr>\n",
       "      <td>1</td>\n",
       "      <td>ridge_ce_tuned</td>\n",
       "      <td>0.0963162</td>\n",
       "      <td>0.113369</td>\n",
       "    </tr>\n",
       "    <tr>\n",
       "      <td>0</td>\n",
       "      <td>ridge_ce_def</td>\n",
       "      <td>0.0947984</td>\n",
       "      <td>0.114199</td>\n",
       "    </tr>\n",
       "  </tbody>\n",
       "</table>\n",
       "</div>"
      ],
      "text/plain": [
       "            index train_rmse   cv_rmse\n",
       "3  ridge_de_tuned    0.09455   0.11171\n",
       "2    ridge_de_def  0.0928914  0.112948\n",
       "1  ridge_ce_tuned  0.0963162  0.113369\n",
       "0    ridge_ce_def  0.0947984  0.114199"
      ]
     },
     "execution_count": 134,
     "metadata": {},
     "output_type": "execute_result"
    }
   ],
   "source": [
    "# compare Ridge regression models\n",
    "ridge_comp_df = compare_model_performance(ridge_models, model_data, random_state=27)\n",
    "ridge_comp_df.sort_values(by='cv_rmse')"
   ]
  },
  {
   "cell_type": "markdown",
   "metadata": {},
   "source": [
    "The ridge regression model trained on the `drop_edit` dataset and tuned with Bayesian search had the best cv rmse. we not that it also had higher train rmse, which is promising (a lower train rmse might indicate overfitting)."
   ]
  },
  {
   "cell_type": "markdown",
   "metadata": {},
   "source": [
    "Since ridge regression is just linear regression with a regularization term, it's relatively straightfoward to interpret. We'll rank the features of the best model their coefficient weights."
   ]
  },
  {
   "cell_type": "code",
   "execution_count": 135,
   "metadata": {},
   "outputs": [
    {
     "data": {
      "image/png": "[encoded data removed]",
      "text/plain": [
       "<Figure size 1080x576 with 2 Axes>"
      ]
     },
     "metadata": {
      "needs_background": "light"
     },
     "output_type": "display_data"
    }
   ],
   "source": [
    "# Top and bottom 10 features in best ridge model\n",
    "rank_features(ridge_models['drop_edit']['ridge_de_tuned'], 'ridge regression', X_de_train, 10)"
   ]
  },
  {
   "cell_type": "markdown",
   "metadata": {},
   "source": [
    "The rankings of most positive feature weights are not too suprising. The most postively weighted feature was overall quality. We note condition variables and size variables are prominent. \n",
    "\n",
    "The rankings of most negative feature weights are perhaps more surprising, in particular the presence of a basement and number of kitchens. Interestingly, several neighborhoods stand out as having a negative association with sale price. The most negatively weighted feature was the property being zoned commericial. "
   ]
  },
  {
   "cell_type": "code",
   "execution_count": 245,
   "metadata": {},
   "outputs": [],
   "source": [
    "# replace default models with tuned models\n",
    "models['clean_edit']['ridge'] = ridge_models['clean_edit']['ridge_ce_tuned']\n",
    "models['drop_edit']['ridge'] = ridge_models['drop_edit']['ridge_de_tuned']"
   ]
  },
  {
   "cell_type": "markdown",
   "metadata": {
    "toc-hr-collapsed": true
   },
   "source": [
    "#### Bayesian Ridge regressor"
   ]
  },
  {
   "cell_type": "markdown",
   "metadata": {},
   "source": [
    "[Bayesian ridge regression](https://scikit-learn.org/stable/modules/linear_model.html#bayesian-regression)\n",
    "is similar to ridge regression except it uses Bayesian methods to estimate the regularization parameter $\\lambda$ from the data."
   ]
  },
  {
   "cell_type": "markdown",
   "metadata": {},
   "source": [
    "##### Hyperparameter defaults for baseline"
   ]
  },
  {
   "cell_type": "code",
   "execution_count": 137,
   "metadata": {},
   "outputs": [],
   "source": [
    "bridge_models = defaultdict(dict)\n",
    "bridge_models['clean_edit']['bridge_ce_def'] = BayesianRidge().fit(X_ce_train, y_ce_train)\n",
    "bridge_models['drop_edit']['bridge_de_def'] = BayesianRidge().fit(X_de_train, y_de_train)"
   ]
  },
  {
   "cell_type": "markdown",
   "metadata": {},
   "source": [
    "##### Bayesian search"
   ]
  },
  {
   "cell_type": "code",
   "execution_count": 123,
   "metadata": {},
   "outputs": [],
   "source": [
    "# bayesian ridge regression hyperparameter space\n",
    "bridge_space = {'alpha_1': hp.loguniform('alpha_1', low=-9*np.log(10), high=3*np.log(10)),\n",
    "                'alpha_2': hp.loguniform('alpha_2', low=-9*np.log(10), high=3*np.log(10)),\n",
    "                'lambda_1': hp.loguniform('lambda_1', low=-9*np.log(10), high=3*np.log(10)),\n",
    "                'lambda_2': hp.loguniform('lambda_2', low=-9*np.log(10), high=3*np.log(10))}"
   ]
  },
  {
   "cell_type": "code",
   "execution_count": 124,
   "metadata": {},
   "outputs": [
    {
     "name": "stdout",
     "output_type": "stream",
     "text": [
      "100%|██████████| 100/100 [00:38<00:00,  2.60it/s, best loss: 0.11325502486108784]\n",
      "100%|██████████| 100/100 [00:47<00:00,  2.11it/s, best loss: 0.11155000407777838]\n"
     ]
    }
   ],
   "source": [
    "# optimize hyperparameters\n",
    "_, bridge_ce_ho = ho_results(obj=ho_cv_rmse, space=bridge_space, max_evals=100, est_name='bridge', \n",
    "                            X_train=X_ce_train, y_train=y_ce_train, random_state=27)\n",
    "_, bridge_de_ho = ho_results(obj=ho_cv_rmse, space=bridge_space, max_evals=100, est_name='bridge', \n",
    "                            X_train=X_de_train, y_train=y_de_train, random_state=27)"
   ]
  },
  {
   "cell_type": "code",
   "execution_count": 138,
   "metadata": {},
   "outputs": [],
   "source": [
    "# fit models with optimal hyperparameters\n",
    "bridge_models['clean_edit']['bridge_ce_tuned'] = BayesianRidge(**bridge_ce_ho).fit(X_ce_train, y_ce_train)\n",
    "bridge_models['drop_edit']['bridge_de_tuned'] = BayesianRidge(**bridge_de_ho).fit(X_de_train, y_de_train)"
   ]
  },
  {
   "cell_type": "code",
   "execution_count": 139,
   "metadata": {},
   "outputs": [
    {
     "data": {
      "text/html": [
       "<div>\n",
       "<style scoped>\n",
       "    .dataframe tbody tr th:only-of-type {\n",
       "        vertical-align: middle;\n",
       "    }\n",
       "\n",
       "    .dataframe tbody tr th {\n",
       "        vertical-align: top;\n",
       "    }\n",
       "\n",
       "    .dataframe thead th {\n",
       "        text-align: right;\n",
       "    }\n",
       "</style>\n",
       "<table border=\"1\" class=\"dataframe\">\n",
       "  <thead>\n",
       "    <tr style=\"text-align: right;\">\n",
       "      <th></th>\n",
       "      <th>index</th>\n",
       "      <th>train_rmse</th>\n",
       "      <th>cv_rmse</th>\n",
       "    </tr>\n",
       "  </thead>\n",
       "  <tbody>\n",
       "    <tr>\n",
       "      <td>3</td>\n",
       "      <td>bridge_de_tuned</td>\n",
       "      <td>0.0938855</td>\n",
       "      <td>0.1118</td>\n",
       "    </tr>\n",
       "    <tr>\n",
       "      <td>2</td>\n",
       "      <td>bridge_de_def</td>\n",
       "      <td>0.0935719</td>\n",
       "      <td>0.11216</td>\n",
       "    </tr>\n",
       "    <tr>\n",
       "      <td>1</td>\n",
       "      <td>bridge_ce_tuned</td>\n",
       "      <td>0.0960203</td>\n",
       "      <td>0.11343</td>\n",
       "    </tr>\n",
       "    <tr>\n",
       "      <td>0</td>\n",
       "      <td>bridge_ce_def</td>\n",
       "      <td>0.0953247</td>\n",
       "      <td>0.113774</td>\n",
       "    </tr>\n",
       "  </tbody>\n",
       "</table>\n",
       "</div>"
      ],
      "text/plain": [
       "             index train_rmse   cv_rmse\n",
       "3  bridge_de_tuned  0.0938855    0.1118\n",
       "2    bridge_de_def  0.0935719   0.11216\n",
       "1  bridge_ce_tuned  0.0960203   0.11343\n",
       "0    bridge_ce_def  0.0953247  0.113774"
      ]
     },
     "execution_count": 139,
     "metadata": {},
     "output_type": "execute_result"
    }
   ],
   "source": [
    "# compare Ridge regression models\n",
    "bridge_comp_df = compare_model_performance(bridge_models, model_data, random_state=27)\n",
    "bridge_comp_df.sort_values(by='cv_rmse')"
   ]
  },
  {
   "cell_type": "markdown",
   "metadata": {},
   "source": [
    "As with ordinary ridge regression, the Bayesian ridge model trained on the `drop_edit` data and tuned with Bayesian search had the best cv rmse."
   ]
  },
  {
   "cell_type": "markdown",
   "metadata": {},
   "source": [
    "As with ridge regression, the model is straightforward to interpret."
   ]
  },
  {
   "cell_type": "code",
   "execution_count": 140,
   "metadata": {},
   "outputs": [
    {
     "data": {
      "image/png": "[encoded data removed]",
      "text/plain": [
       "<Figure size 1080x576 with 2 Axes>"
      ]
     },
     "metadata": {
      "needs_background": "light"
     },
     "output_type": "display_data"
    }
   ],
   "source": [
    "# Top and bottom 10 features in best Bayesian ridge model\n",
    "rank_features(bridge_models['drop_edit']['bridge_de_tuned'], 'Bayesian ridge regression', X_de_train, 10)"
   ]
  },
  {
   "cell_type": "markdown",
   "metadata": {},
   "source": [
    "Feature weight rankings are nearly identical to the ridge model."
   ]
  },
  {
   "cell_type": "code",
   "execution_count": 246,
   "metadata": {},
   "outputs": [],
   "source": [
    "# replace default models with tuned models\n",
    "models['clean_edit']['bridge'] = bridge_models['clean_edit']['bridge_ce_tuned']\n",
    "models['drop_edit']['bridge'] = bridge_models['drop_edit']['bridge_de_tuned']"
   ]
  },
  {
   "cell_type": "markdown",
   "metadata": {
    "toc-hr-collapsed": true
   },
   "source": [
    "#### Partial Least Squares regressor"
   ]
  },
  {
   "cell_type": "markdown",
   "metadata": {},
   "source": [
    "[Partial least squares regression](https://scikit-learn.org/stable/modules/generated/sklearn.cross_decomposition.PLSRegression.html) stands out among the other models we're tuning here as the only dimensional reduction method. It is [well-suited to multicollinearity in the input data](https://scikit-learn.org/stable/modules/cross_decomposition.html#cross-decomposition)."
   ]
  },
  {
   "cell_type": "markdown",
   "metadata": {},
   "source": [
    "##### Hyperparameter defaults for baseline"
   ]
  },
  {
   "cell_type": "code",
   "execution_count": 142,
   "metadata": {},
   "outputs": [],
   "source": [
    "pls_models = defaultdict(dict)\n",
    "pls_models['clean_edit']['pls_ce_def'] = PLSRegression().fit(X_ce_train, y_ce_train)\n",
    "pls_models['drop_edit']['pls_de_def'] = PLSRegression().fit(X_de_train, y_de_train)"
   ]
  },
  {
   "cell_type": "markdown",
   "metadata": {},
   "source": [
    "##### Bayesian search"
   ]
  },
  {
   "cell_type": "markdown",
   "metadata": {},
   "source": [
    "The main hyperparameter of interest in partial least squared is the number of components (analogous to the number of components in principal component analysis) which is essentially the number of dimensions of the reduced dataset."
   ]
  },
  {
   "cell_type": "code",
   "execution_count": 144,
   "metadata": {},
   "outputs": [],
   "source": [
    "# partial least squares hyperparameter spaces\n",
    "pls_ce_space = {'max_iter': ho_scope.int(hp.quniform('max_iter', low=200, high=10000, q=10)),\n",
    "               'n_components': ho_scope.int(hp.quniform('n_components', low=2, high=X_ce_train.shape[1] - 2, q=1))\n",
    "                }\n",
    "pls_de_space = {'max_iter': ho_scope.int(hp.quniform('max_iter', low=200, high=10000, q=10)),\n",
    "               'n_components': ho_scope.int(hp.quniform('n_components', low=2, high=X_de_train.shape[1] - 2, q=1))}"
   ]
  },
  {
   "cell_type": "code",
   "execution_count": 145,
   "metadata": {},
   "outputs": [
    {
     "name": "stdout",
     "output_type": "stream",
     "text": [
      "100%|██████████| 100/100 [01:41<00:00,  1.01s/it, best loss: 0.1172427428344283]\n",
      "100%|██████████| 100/100 [02:20<00:00,  1.40s/it, best loss: 0.11516191747473731]\n"
     ]
    }
   ],
   "source": [
    "# optimize hyperparameters\n",
    "_, pls_ce_ho = ho_results(obj=ho_cv_rmse, space=pls_ce_space, max_evals=100, est_name='pls', \n",
    "                            X_train=X_ce_train, y_train=y_ce_train, random_state=27)\n",
    "_, pls_de_ho = ho_results(obj=ho_cv_rmse, space=pls_de_space, max_evals=100, est_name='pls', \n",
    "                            X_train=X_de_train, y_train=y_de_train, random_state=27)"
   ]
  },
  {
   "cell_type": "code",
   "execution_count": 153,
   "metadata": {},
   "outputs": [],
   "source": [
    "# workaround to cast results of hyperopt param search to correct type\n",
    "conv_params = ['max_iter', 'n_components']\n",
    "pls_ce_ho = convert_to_int(pls_ce_ho, conv_params)\n",
    "pls_de_ho = convert_to_int(pls_de_ho, conv_params)\n",
    "\n",
    "# fit models with optimal hyperparameters\n",
    "pls_models['clean_edit']['pls_ce_tuned'] = PLSRegression(**pls_ce_ho).fit(X_ce_train, y_ce_train)\n",
    "pls_models['drop_edit']['pls_de_tuned'] = PLSRegression(**pls_de_ho).fit(X_de_train, y_de_train)"
   ]
  },
  {
   "cell_type": "code",
   "execution_count": 148,
   "metadata": {},
   "outputs": [
    {
     "name": "stdout",
     "output_type": "stream",
     "text": [
      "On the clean_edit data, optimal PLS parameters are {'max_iter': 8680, 'n_components': 6}\n",
      "On the drop_edit data, optimal PLS parameters are {'max_iter': 9820, 'n_components': 5}\n"
     ]
    }
   ],
   "source": [
    "# inspect pls optimal parameters\n",
    "print(f'On the clean_edit data, optimal PLS parameters are {pls_ce_ho}')\n",
    "print(f'On the drop_edit data, optimal PLS parameters are {pls_de_ho}')"
   ]
  },
  {
   "cell_type": "markdown",
   "metadata": {},
   "source": [
    "Interestingly, only a small number of components were deemed optimal! It's worth recalling that this likely reflects a local minimum in the loss function, so the result should be taken with a grain of salt. However, it is interesting to note that such a low number of components are sufficient to get a competitive model."
   ]
  },
  {
   "cell_type": "code",
   "execution_count": 149,
   "metadata": {},
   "outputs": [
    {
     "data": {
      "text/html": [
       "<div>\n",
       "<style scoped>\n",
       "    .dataframe tbody tr th:only-of-type {\n",
       "        vertical-align: middle;\n",
       "    }\n",
       "\n",
       "    .dataframe tbody tr th {\n",
       "        vertical-align: top;\n",
       "    }\n",
       "\n",
       "    .dataframe thead th {\n",
       "        text-align: right;\n",
       "    }\n",
       "</style>\n",
       "<table border=\"1\" class=\"dataframe\">\n",
       "  <thead>\n",
       "    <tr style=\"text-align: right;\">\n",
       "      <th></th>\n",
       "      <th>index</th>\n",
       "      <th>train_rmse</th>\n",
       "      <th>cv_rmse</th>\n",
       "    </tr>\n",
       "  </thead>\n",
       "  <tbody>\n",
       "    <tr>\n",
       "      <td>0</td>\n",
       "      <td>pls_de_ho</td>\n",
       "      <td>0.0982632</td>\n",
       "      <td>0.114756</td>\n",
       "    </tr>\n",
       "    <tr>\n",
       "      <td>1</td>\n",
       "      <td>pls_ce_ho</td>\n",
       "      <td>0.0975016</td>\n",
       "      <td>0.117229</td>\n",
       "    </tr>\n",
       "    <tr>\n",
       "      <td>2</td>\n",
       "      <td>pls_ce_def</td>\n",
       "      <td>0.122301</td>\n",
       "      <td>0.12838</td>\n",
       "    </tr>\n",
       "    <tr>\n",
       "      <td>3</td>\n",
       "      <td>pls_de_def</td>\n",
       "      <td>0.124555</td>\n",
       "      <td>0.130566</td>\n",
       "    </tr>\n",
       "  </tbody>\n",
       "</table>\n",
       "</div>"
      ],
      "text/plain": [
       "        index train_rmse   cv_rmse\n",
       "0   pls_de_ho  0.0982632  0.114756\n",
       "1   pls_ce_ho  0.0975016  0.117229\n",
       "2  pls_ce_def   0.122301   0.12838\n",
       "3  pls_de_def   0.124555  0.130566"
      ]
     },
     "execution_count": 149,
     "metadata": {},
     "output_type": "execute_result"
    }
   ],
   "source": [
    "# compare Bayesian Ridge models on clean and edit datasets\n",
    "pls_comp_df = compare_model_performance(pls_models, model_data, 'bridge')\n",
    "pls_comp_df.sort_values(by='cv_rmse').reset_index(drop=True)"
   ]
  },
  {
   "cell_type": "markdown",
   "metadata": {},
   "source": [
    "As with ridge and Bayesian ridge regression, partial least squares lower cv error on the `drop_edit` dataset. The cv rmse estimate is very close and again remarkable that only 5 components are required!"
   ]
  },
  {
   "cell_type": "code",
   "execution_count": 247,
   "metadata": {},
   "outputs": [],
   "source": [
    "# replace default models with tuned models\n",
    "models['clean_edit']['pls'] = pls_models['clean_edit']['pls_ce_tuned']\n",
    "models['drop_edit']['pls'] = pls_models['drop_edit']['pls_de_tuned']"
   ]
  },
  {
   "cell_type": "markdown",
   "metadata": {
    "toc-hr-collapsed": true
   },
   "source": [
    "#### Support Vector regressor"
   ]
  },
  {
   "cell_type": "markdown",
   "metadata": {},
   "source": [
    "##### Hyperparameter defaults for baseline"
   ]
  },
  {
   "cell_type": "code",
   "execution_count": 158,
   "metadata": {},
   "outputs": [],
   "source": [
    "svr_models = defaultdict(dict)\n",
    "svr_models['clean_edit']['svr_ce_def'] = SVR().fit(X_ce_train, y_ce_train)\n",
    "svr_models['drop_edit']['svr_de_def'] = SVR().fit(X_de_train, y_de_train)"
   ]
  },
  {
   "cell_type": "markdown",
   "metadata": {},
   "source": [
    "##### Bayesian search"
   ]
  },
  {
   "cell_type": "code",
   "execution_count": 159,
   "metadata": {},
   "outputs": [],
   "source": [
    "# hyperparameter space for SVR with rbf kernel\n",
    "svr_space = {'gamma': hp.loguniform('gamma', low=-3*np.log(10), high=2*np.log(10)),\n",
    "                 'C': hp.loguniform('C', low=-3*np.log(10), high=2*np.log(10)),\n",
    "                  'epsilon': hp.loguniform('epsilon', low=-3*np.log(10), high=2*np.log(10))\n",
    "                }"
   ]
  },
  {
   "cell_type": "code",
   "execution_count": 160,
   "metadata": {},
   "outputs": [
    {
     "name": "stdout",
     "output_type": "stream",
     "text": [
      "100%|██████████| 50/50 [01:05<00:00,  1.32s/it, best loss: 0.11207639709505052]\n",
      "100%|██████████| 50/50 [01:38<00:00,  1.97s/it, best loss: 0.11001018195046919]\n"
     ]
    }
   ],
   "source": [
    "# optimize hyperparameters\n",
    "_, svr_ce_ho = ho_results(obj=ho_cv_rmse, space=svr_space, max_evals=50, est_name='svr', \n",
    "                              X_train=X_ce_train, y_train=y_ce_train, random_state=27)\n",
    "_, svr_de_ho = ho_results(obj=ho_cv_rmse, space=svr_space, max_evals=50, est_name='svr', \n",
    "                              X_train=X_de_train, y_train=y_de_train, random_state=27)"
   ]
  },
  {
   "cell_type": "code",
   "execution_count": 161,
   "metadata": {},
   "outputs": [],
   "source": [
    "# fit models with optimal hyperparameters\n",
    "svr_models['clean_edit']['svr_ce_tuned'] = SVR(**svr_ce_ho).fit(X_ce_train, y_ce_train)\n",
    "svr_models['drop_edit']['svr_de_tuned'] = SVR(**svr_de_ho).fit(X_de_train, y_de_train)"
   ]
  },
  {
   "cell_type": "code",
   "execution_count": 164,
   "metadata": {},
   "outputs": [
    {
     "data": {
      "text/html": [
       "<div>\n",
       "<style scoped>\n",
       "    .dataframe tbody tr th:only-of-type {\n",
       "        vertical-align: middle;\n",
       "    }\n",
       "\n",
       "    .dataframe tbody tr th {\n",
       "        vertical-align: top;\n",
       "    }\n",
       "\n",
       "    .dataframe thead th {\n",
       "        text-align: right;\n",
       "    }\n",
       "</style>\n",
       "<table border=\"1\" class=\"dataframe\">\n",
       "  <thead>\n",
       "    <tr style=\"text-align: right;\">\n",
       "      <th></th>\n",
       "      <th>index</th>\n",
       "      <th>train_rmse</th>\n",
       "      <th>cv_rmse</th>\n",
       "    </tr>\n",
       "  </thead>\n",
       "  <tbody>\n",
       "    <tr>\n",
       "      <td>0</td>\n",
       "      <td>svr_de_tuned</td>\n",
       "      <td>0.0880258</td>\n",
       "      <td>0.109859</td>\n",
       "    </tr>\n",
       "    <tr>\n",
       "      <td>1</td>\n",
       "      <td>svr_ce_tuned</td>\n",
       "      <td>0.0777329</td>\n",
       "      <td>0.113234</td>\n",
       "    </tr>\n",
       "    <tr>\n",
       "      <td>2</td>\n",
       "      <td>svr_de_def</td>\n",
       "      <td>0.114054</td>\n",
       "      <td>0.126171</td>\n",
       "    </tr>\n",
       "    <tr>\n",
       "      <td>3</td>\n",
       "      <td>svr_ce_def</td>\n",
       "      <td>0.117089</td>\n",
       "      <td>0.130044</td>\n",
       "    </tr>\n",
       "  </tbody>\n",
       "</table>\n",
       "</div>"
      ],
      "text/plain": [
       "          index train_rmse   cv_rmse\n",
       "0  svr_de_tuned  0.0880258  0.109859\n",
       "1  svr_ce_tuned  0.0777329  0.113234\n",
       "2    svr_de_def   0.114054  0.126171\n",
       "3    svr_ce_def   0.117089  0.130044"
      ]
     },
     "execution_count": 164,
     "metadata": {},
     "output_type": "execute_result"
    }
   ],
   "source": [
    "# compare SVR model performance on clean and edit datasets\n",
    "svr_comp_df = compare_model_performance(svr_models, model_data, 'svr')\n",
    "svr_comp_df.sort_values(by='cv_rmse').reset_index(drop=True)"
   ]
  },
  {
   "cell_type": "markdown",
   "metadata": {},
   "source": [
    "As with all previous models, we're seeing better performance on `drop_edit`. Again, a higher train rmse on `drop_edit` but a lower cv rmse is a positive sign."
   ]
  },
  {
   "cell_type": "code",
   "execution_count": 248,
   "metadata": {},
   "outputs": [],
   "source": [
    "# replace default models with tuned models\n",
    "models['clean_edit']['svr'] =svr_models['clean_edit']['svr_ce_tuned']\n",
    "models['drop_edit']['svr'] = svr_models['drop_edit']['svr_de_tuned']"
   ]
  },
  {
   "cell_type": "markdown",
   "metadata": {
    "toc-hr-collapsed": true
   },
   "source": [
    "####  Gradient boosted trees regressor"
   ]
  },
  {
   "cell_type": "markdown",
   "metadata": {},
   "source": [
    "##### Hyperparameter defaults for baseline"
   ]
  },
  {
   "cell_type": "code",
   "execution_count": 192,
   "metadata": {},
   "outputs": [
    {
     "name": "stdout",
     "output_type": "stream",
     "text": [
      "[17:12:02] WARNING: /usr/local/miniconda/conda-bld/xgboost_1566327371504/work/src/objective/regression_obj.cu:152: reg:linear is now deprecated in favor of reg:squarederror.\n",
      "[17:12:04] WARNING: /usr/local/miniconda/conda-bld/xgboost_1566327371504/work/src/objective/regression_obj.cu:152: reg:linear is now deprecated in favor of reg:squarederror.\n"
     ]
    },
    {
     "data": {
      "text/plain": [
       "XGBRegressor(base_score=0.5, booster='gbtree', colsample_bylevel=1,\n",
       "             colsample_bynode=1, colsample_bytree=1, gamma=0,\n",
       "             importance_type='gain', learning_rate=0.1, max_delta_step=0,\n",
       "             max_depth=3, min_child_weight=1, missing=None, n_estimators=100,\n",
       "             n_jobs=-1, nthread=None, objective='reg:linear', random_state=27,\n",
       "             reg_alpha=0, reg_lambda=1, scale_pos_weight=1, seed=None,\n",
       "             silent=None, subsample=1, verbosity=1)"
      ]
     },
     "execution_count": 192,
     "metadata": {},
     "output_type": "execute_result"
    }
   ],
   "source": [
    "xgb_models = defaultdict(dict)\n",
    "xgb_models['clean_edit']['xgb_ce_def'] = XGBRegressor(objective='reg:squarederror', random_state=27, n_jobs=-1)\n",
    "xgb_models['drop_edit']['xgb_de_def'] = XGBRegressor(objective='reg:squarederror', random_state=27, n_jobs=-1)\n",
    "xgb_models['clean_edit']['xgb_ce_def'].fit(X_ce_train.values, y_ce_train.values)\n",
    "xgb_models['drop_edit']['xgb_de_def'].fit(X_de_train.values, y_de_train.values)"
   ]
  },
  {
   "cell_type": "markdown",
   "metadata": {},
   "source": [
    "##### Bayesian search"
   ]
  },
  {
   "cell_type": "code",
   "execution_count": 336,
   "metadata": {},
   "outputs": [],
   "source": [
    "# hyperparameter spaces\n",
    "xgb_space = {'max_depth': ho_scope.int(hp.quniform('max_depth', low=1, high=3, q=1)),\n",
    "             'n_estimators': ho_scope.int(hp.quniform('n_estimators', low=100, high=500, q=50)),\n",
    "             'learning_rate': hp.loguniform('learning_rate', low=-4*np.log(10), high=0),\n",
    "             'gamma': hp.loguniform('gamma', low=-3*np.log(10), high=2*np.log(10)),\n",
    "             'min_child_weight': ho_scope.int(hp.quniform('min_child_weight', low=1, high=7, q=1)),\n",
    "             'subsample': hp.uniform('subsample', low=0.25, high=1),\n",
    "             'colsample_bytree': hp.uniform('colsample_bytree', low=0.25, high=1),\n",
    "             'colsample_bylevel': hp.uniform('colsample_bylevel', low=0.25, high=1),\n",
    "             'colsample_bynode': hp.uniform('colsample_bynode', low=0.25, high=1),\n",
    "             'reg_lambda': hp.loguniform('reg_lambda', low=-2*np.log(10), high=2*np.log(10)),\n",
    "             'reg_alpha': hp.loguniform('reg_alpha', low=-1*np.log(10), high=1*np.log(10)),\n",
    "            }\n",
    "\n",
    "fixed_params = {'objective': 'reg:squarederror',\n",
    "                'n_jobs': -1,\n",
    "                'random_state': 27,\n",
    "               }"
   ]
  },
  {
   "cell_type": "code",
   "execution_count": 171,
   "metadata": {},
   "outputs": [
    {
     "name": "stdout",
     "output_type": "stream",
     "text": [
      "100%|██████████| 50/50 [08:03<00:00,  9.68s/it, best loss: 0.11783194940289904]\n",
      "100%|██████████| 50/50 [08:27<00:00, 10.15s/it, best loss: 0.11980063936079628]\n"
     ]
    }
   ],
   "source": [
    "# optimize hyperparameters\n",
    "_, xgb_ce_ho = ho_results(obj=ho_cv_rmse, space=xgb_space, max_evals=50, est_name='xgb',\n",
    "                         X_train=X_ce_train, y_train=y_ce_train,  fixed_params=fixed_params, \n",
    "                         random_state=27)\n",
    "_, xgb_de_ho = ho_results(obj=ho_cv_rmse, space=xgb_space, max_evals=50, est_name='xgb',\n",
    "                         X_train=X_de_train, y_train=y_de_train,  fixed_params=fixed_params,\n",
    "                         random_state=27)"
   ]
  },
  {
   "cell_type": "code",
   "execution_count": 196,
   "metadata": {},
   "outputs": [
    {
     "name": "stdout",
     "output_type": "stream",
     "text": [
      "[17:13:30] WARNING: /usr/local/miniconda/conda-bld/xgboost_1566327371504/work/src/objective/regression_obj.cu:152: reg:linear is now deprecated in favor of reg:squarederror.\n",
      "[17:13:33] WARNING: /usr/local/miniconda/conda-bld/xgboost_1566327371504/work/src/objective/regression_obj.cu:152: reg:linear is now deprecated in favor of reg:squarederror.\n"
     ]
    },
    {
     "data": {
      "text/plain": [
       "XGBRegressor(base_score=0.5, booster='gbtree',\n",
       "             colsample_bylevel=0.5672648925165988,\n",
       "             colsample_bynode=0.5893345618435389,\n",
       "             colsample_bytree=0.41493266068453943, gamma=0.0016461487220787736,\n",
       "             importance_type='gain', learning_rate=0.20220059542463079,\n",
       "             max_delta_step=0, max_depth=3, min_child_weight=4, missing=None,\n",
       "             n_estimators=250, n_jobs=1, nthread=None, objective='reg:linear',\n",
       "             random_state=0, reg_alpha=0.8977783352683452,\n",
       "             reg_lambda=0.21619035463070696, scale_pos_weight=1, seed=None,\n",
       "             silent=None, subsample=0.850063763831314, verbosity=1)"
      ]
     },
     "execution_count": 196,
     "metadata": {},
     "output_type": "execute_result"
    }
   ],
   "source": [
    "# convert params to int\n",
    "conv_params = ['max_depth', 'min_child_weight', 'n_estimators']\n",
    "xgb_ce_ho = convert_to_int(xgb_ce_ho, conv_params)\n",
    "xgb_de_ho = convert_to_int(xgb_de_ho, conv_params)\n",
    "\n",
    "# fit models with optimal hyperparameters\n",
    "xgb_models['clean_edit']['xgb_ce_tuned'] = XGBRegressor(**{**xgb_ce_ho, **fixed_params})\n",
    "xgb_models['drop_edit']['xgb_de_tuned'] = XGBRegressor(**{**xgb_de_ho, **fixed_params})\n",
    "xgb_models['clean_edit']['xgb_ce_tuned'].fit(X_ce_train.values, y_ce_train.values)\n",
    "xgb_models['drop_edit']['xgb_de_tuned'].fit(X_de_train.values, y_de_train.values)"
   ]
  },
  {
   "cell_type": "code",
   "execution_count": 198,
   "metadata": {},
   "outputs": [
    {
     "data": {
      "text/html": [
       "<div>\n",
       "<style scoped>\n",
       "    .dataframe tbody tr th:only-of-type {\n",
       "        vertical-align: middle;\n",
       "    }\n",
       "\n",
       "    .dataframe tbody tr th {\n",
       "        vertical-align: top;\n",
       "    }\n",
       "\n",
       "    .dataframe thead th {\n",
       "        text-align: right;\n",
       "    }\n",
       "</style>\n",
       "<table border=\"1\" class=\"dataframe\">\n",
       "  <thead>\n",
       "    <tr style=\"text-align: right;\">\n",
       "      <th></th>\n",
       "      <th>index</th>\n",
       "      <th>train_rmse</th>\n",
       "      <th>cv_rmse</th>\n",
       "    </tr>\n",
       "  </thead>\n",
       "  <tbody>\n",
       "    <tr>\n",
       "      <td>0</td>\n",
       "      <td>xgb_ce_tuned</td>\n",
       "      <td>0.0866096</td>\n",
       "      <td>0.114289</td>\n",
       "    </tr>\n",
       "    <tr>\n",
       "      <td>1</td>\n",
       "      <td>xgb_de_tuned</td>\n",
       "      <td>0.0734979</td>\n",
       "      <td>0.120353</td>\n",
       "    </tr>\n",
       "    <tr>\n",
       "      <td>2</td>\n",
       "      <td>xgb_ce_def</td>\n",
       "      <td>0.0857011</td>\n",
       "      <td>0.12106</td>\n",
       "    </tr>\n",
       "    <tr>\n",
       "      <td>3</td>\n",
       "      <td>xgb_de_def</td>\n",
       "      <td>0.0867225</td>\n",
       "      <td>0.123224</td>\n",
       "    </tr>\n",
       "  </tbody>\n",
       "</table>\n",
       "</div>"
      ],
      "text/plain": [
       "          index train_rmse   cv_rmse\n",
       "0  xgb_ce_tuned  0.0866096  0.114289\n",
       "1  xgb_de_tuned  0.0734979  0.120353\n",
       "2    xgb_ce_def  0.0857011   0.12106\n",
       "3    xgb_de_def  0.0867225  0.123224"
      ]
     },
     "execution_count": 198,
     "metadata": {},
     "output_type": "execute_result"
    }
   ],
   "source": [
    "# compare XGBoost models on clean_edit and drop_edit datasets\n",
    "xgb_comp_df = compare_model_performance(xgb_models, model_data, 'xgb')\n",
    "xgb_comp_df.sort_values(by='cv_rmse').reset_index(drop=True)"
   ]
  },
  {
   "cell_type": "markdown",
   "metadata": {},
   "source": [
    "In contrast to all previous models, the gradient boosted tree regressor had a lower cv rmse on `clean_edit`, but similarly to previous models train rmse was higher.\n",
    "\n",
    "We can rank the features by importance (in this case, the number of times the feature was used to split a tree across all trees in the forest)."
   ]
  },
  {
   "cell_type": "code",
   "execution_count": 201,
   "metadata": {},
   "outputs": [
    {
     "data": {
      "image/png": "[encoded data removed]",
      "text/plain": [
       "<Figure size 1080x720 with 1 Axes>"
      ]
     },
     "metadata": {
      "needs_background": "light"
     },
     "output_type": "display_data"
    }
   ],
   "source": [
    "rank_xgb_features(xgb_models['clean_edit']['xgb_ce_tuned'], X_ce_train, 20)"
   ]
  },
  {
   "cell_type": "code",
   "execution_count": 249,
   "metadata": {},
   "outputs": [],
   "source": [
    "# replace default models with tuned models\n",
    "models['clean_edit']['xgb'] = xgb_models['clean_edit']['xgb_ce_tuned']\n",
    "models['drop_edit']['xgb'] = xgb_models['drop_edit']['xgb_de_tuned']"
   ]
  },
  {
   "cell_type": "markdown",
   "metadata": {},
   "source": [
    "#### Compare tuned models and save parameters"
   ]
  },
  {
   "cell_type": "code",
   "execution_count": 250,
   "metadata": {},
   "outputs": [
    {
     "data": {
      "text/html": [
       "<div>\n",
       "<style scoped>\n",
       "    .dataframe tbody tr th:only-of-type {\n",
       "        vertical-align: middle;\n",
       "    }\n",
       "\n",
       "    .dataframe tbody tr th {\n",
       "        vertical-align: top;\n",
       "    }\n",
       "\n",
       "    .dataframe thead tr th {\n",
       "        text-align: left;\n",
       "    }\n",
       "</style>\n",
       "<table border=\"1\" class=\"dataframe\">\n",
       "  <thead>\n",
       "    <tr>\n",
       "      <th>data</th>\n",
       "      <th>model</th>\n",
       "      <th colspan=\"2\" halign=\"left\">clean_edit</th>\n",
       "      <th colspan=\"2\" halign=\"left\">drop_edit</th>\n",
       "    </tr>\n",
       "    <tr>\n",
       "      <th>performance</th>\n",
       "      <th></th>\n",
       "      <th>train_rmse</th>\n",
       "      <th>cv_rmse</th>\n",
       "      <th>train_rmse</th>\n",
       "      <th>cv_rmse</th>\n",
       "    </tr>\n",
       "  </thead>\n",
       "  <tbody>\n",
       "    <tr>\n",
       "      <td>0</td>\n",
       "      <td>svr</td>\n",
       "      <td>0.0777329</td>\n",
       "      <td>0.113234</td>\n",
       "      <td>0.0880258</td>\n",
       "      <td>0.109859</td>\n",
       "    </tr>\n",
       "    <tr>\n",
       "      <td>1</td>\n",
       "      <td>ridge</td>\n",
       "      <td>0.0963162</td>\n",
       "      <td>0.113369</td>\n",
       "      <td>0.09455</td>\n",
       "      <td>0.11171</td>\n",
       "    </tr>\n",
       "    <tr>\n",
       "      <td>2</td>\n",
       "      <td>bridge</td>\n",
       "      <td>0.0960203</td>\n",
       "      <td>0.11343</td>\n",
       "      <td>0.0938855</td>\n",
       "      <td>0.1118</td>\n",
       "    </tr>\n",
       "    <tr>\n",
       "      <td>3</td>\n",
       "      <td>xgb</td>\n",
       "      <td>0.0866096</td>\n",
       "      <td>0.114289</td>\n",
       "      <td>0.0734979</td>\n",
       "      <td>0.120353</td>\n",
       "    </tr>\n",
       "    <tr>\n",
       "      <td>4</td>\n",
       "      <td>pls</td>\n",
       "      <td>0.0975016</td>\n",
       "      <td>0.117229</td>\n",
       "      <td>0.0982632</td>\n",
       "      <td>0.114756</td>\n",
       "    </tr>\n",
       "  </tbody>\n",
       "</table>\n",
       "</div>"
      ],
      "text/plain": [
       "data          model clean_edit            drop_edit          \n",
       "performance         train_rmse   cv_rmse train_rmse   cv_rmse\n",
       "0               svr  0.0777329  0.113234  0.0880258  0.109859\n",
       "1             ridge  0.0963162  0.113369    0.09455   0.11171\n",
       "2            bridge  0.0960203   0.11343  0.0938855    0.1118\n",
       "3               xgb  0.0866096  0.114289  0.0734979  0.120353\n",
       "4               pls  0.0975016  0.117229  0.0982632  0.114756"
      ]
     },
     "execution_count": 250,
     "metadata": {},
     "output_type": "execute_result"
    }
   ],
   "source": [
    "# compare results of tuned models\n",
    "tuned_comp_df = compare_performance(models, model_data, random_state=27)\n",
    "tuned_comp_df.sort_values(by=('clean_edit', 'cv_rmse')).reset_index(drop=True)"
   ]
  },
  {
   "cell_type": "code",
   "execution_count": 251,
   "metadata": {},
   "outputs": [
    {
     "data": {
      "image/png": "[encoded data removed]",
      "text/plain": [
       "<Figure size 803.75x360 with 2 Axes>"
      ]
     },
     "metadata": {
      "needs_background": "light"
     },
     "output_type": "display_data"
    }
   ],
   "source": [
    "# compare tuned model train and cv performance on clean and edit datasets\n",
    "plot_model_comp(tuned_comp_df, col='data', hue='performance', \n",
    "                palette=data_palette)"
   ]
  },
  {
   "cell_type": "code",
   "execution_count": 252,
   "metadata": {},
   "outputs": [
    {
     "data": {
      "image/png": "[encoded data removed]",
      "text/plain": [
       "<Figure size 801.875x360 with 2 Axes>"
      ]
     },
     "metadata": {
      "needs_background": "light"
     },
     "output_type": "display_data"
    }
   ],
   "source": [
    "# compare clean and edit performance for train and cv error\n",
    "palette = {'clean': 'midnightblue', 'edit': 'cornflowerblue'}\n",
    "plot_model_comp(tuned_comp_df, col='performance', hue='data', \n",
    "                palette=perf_palette)"
   ]
  },
  {
   "cell_type": "code",
   "execution_count": 263,
   "metadata": {},
   "outputs": [],
   "source": [
    "# save tuned parameters in JSON format\n",
    "save_tuned_params(models, '../data/tuned_params.json')"
   ]
  },
  {
   "cell_type": "markdown",
   "metadata": {
    "toc-hr-collapsed": false
   },
   "source": [
    "### Ensembles"
   ]
  },
  {
   "cell_type": "markdown",
   "metadata": {},
   "source": [
    "First we reinstantiate the tuned models from the last section from the saved parameters"
   ]
  },
  {
   "cell_type": "code",
   "execution_count": 268,
   "metadata": {},
   "outputs": [],
   "source": [
    "models = models_from_params('../data/tuned_params')"
   ]
  },
  {
   "cell_type": "markdown",
   "metadata": {},
   "source": [
    "#### Voting"
   ]
  },
  {
   "cell_type": "markdown",
   "metadata": {},
   "source": [
    "Unfortunately `sklearn.PLSRegressor`'s `predicrt` method returns arrays of size `(n_samples, 1)` rather than `(n_samples,)` like all all other models. This throws an error when passed as in estimator ito `cross_val_score` so we'll drop it from consideration. We'll also drop `bridge` since its feature weights were nearly identical to `ridge`. "
   ]
  },
  {
   "cell_type": "code",
   "execution_count": 297,
   "metadata": {},
   "outputs": [
    {
     "data": {
      "text/plain": [
       "VotingRegressor(estimators=[('ridge',\n",
       "                             Ridge(alpha=2.7319995655902547, copy_X=True,\n",
       "                                   fit_intercept=True, max_iter=None,\n",
       "                                   normalize=False, random_state=None,\n",
       "                                   solver='auto', tol=0.001)),\n",
       "                            ('svr',\n",
       "                             SVR(C=54.755680435313145, cache_size=200,\n",
       "                                 coef0=0.0, degree=3,\n",
       "                                 epsilon=0.028799094254409442,\n",
       "                                 gamma=0.0010271102795770723, kernel='rbf',\n",
       "                                 max_iter=-1, shrinking=True, tol=0.001,\n",
       "                                 verb...\n",
       "                                          importance_type='gain',\n",
       "                                          learning_rate=0.20220059542463079,\n",
       "                                          max_delta_step=0, max_depth=3,\n",
       "                                          min_child_weight=4, missing=None,\n",
       "                                          n_estimators=250, n_jobs=1,\n",
       "                                          nthread=None, objective='reg:linear',\n",
       "                                          random_state=0,\n",
       "                                          reg_alpha=0.8977783352683452,\n",
       "                                          reg_lambda=0.21619035463070696,\n",
       "                                          scale_pos_weight=1, seed=None,\n",
       "                                          silent=None,\n",
       "                                          subsample=0.850063763831314,\n",
       "                                          verbosity=1))],\n",
       "                n_jobs=-1, weights=None)"
      ]
     },
     "execution_count": 297,
     "metadata": {},
     "output_type": "execute_result"
    }
   ],
   "source": [
    "# Voting ensemble of all models except pls due to broadcast error in cross_val_score\n",
    "voters_ce = [model for model in models['clean_edit'].items() if model[0] not in ['pls', 'bridge']]\n",
    "voters_de = [model for model in models['drop_edit'].items() if model[0] not in ['pls', 'bridge']]\n",
    "\n",
    "# uniform weights for tuned models \n",
    "ensembles = defaultdict(dict)\n",
    "ensembles['clean_edit']['voter_def'] = VotingRegressor(voters_ce, n_jobs=-1)\n",
    "ensembles['drop_edit']['voter_def'] = VotingRegressor(voters_de, n_jobs=-1)\n",
    "ensembles['clean_edit']['voter_def'].fit(X_ce_train.values, y_ce_train.values)\n",
    "ensembles['drop_edit']['voter_def'].fit(X_de_train.values, y_de_train.values)"
   ]
  },
  {
   "cell_type": "code",
   "execution_count": 300,
   "metadata": {},
   "outputs": [],
   "source": [
    "# voting ensemble hyperparameters\n",
    "voter_space = {'voter1': hp.uniform('voter1', low=0, high=1),\n",
    "               'voter2': hp.uniform('voter2', low=0, high=1),\n",
    "               'voter3': hp.uniform('voter3', low=0, high=1)\n",
    "              }\n",
    "\n",
    "fixed_params = {'n_jobs': -1,\n",
    "                'random_state': 27,\n",
    "               }"
   ]
  },
  {
   "cell_type": "code",
   "execution_count": 301,
   "metadata": {},
   "outputs": [
    {
     "name": "stdout",
     "output_type": "stream",
     "text": [
      "100%|██████████| 50/50 [09:28<00:00, 11.36s/it, best loss: 0.10954492348670367]\n",
      "100%|██████████| 50/50 [08:27<00:00, 10.16s/it, best loss: 0.1084570573345616] \n"
     ]
    }
   ],
   "source": [
    "# optimize hyperparameters\n",
    "voter_ce_ho_trials, voter_ce_ho = ho_ens_results(obj=ho_ens_cv_rmse, space=voter_space, max_evals=50,\n",
    "                                                 ens=voters_ce, ens_name='voter', \n",
    "                                                 X_train=X_ce_train, y_train=y_ce_train, \n",
    "                                                 fixed_params=fixed_params, random_state=27)\n",
    "voter_de_ho_trials, voter_de_ho = ho_ens_results(obj=ho_ens_cv_rmse, space=voter_space, max_evals=50,\n",
    "                                                 ens=voters_de, ens_name='voter', \n",
    "                                                 X_train=X_de_train, y_train=y_de_train,\n",
    "                                                 fixed_params=fixed_params, random_state=27)"
   ]
  },
  {
   "cell_type": "code",
   "execution_count": 305,
   "metadata": {},
   "outputs": [
    {
     "name": "stdout",
     "output_type": "stream",
     "text": [
      "[18:52:44] WARNING: /usr/local/miniconda/conda-bld/xgboost_1566327371504/work/src/objective/regression_obj.cu:152: reg:linear is now deprecated in favor of reg:squarederror.\n",
      "[18:52:48] WARNING: /usr/local/miniconda/conda-bld/xgboost_1566327371504/work/src/objective/regression_obj.cu:152: reg:linear is now deprecated in favor of reg:squarederror.\n"
     ]
    },
    {
     "data": {
      "text/plain": [
       "VotingRegressor(estimators=[('ridge',\n",
       "                             Ridge(alpha=2.7319995655902547, copy_X=True,\n",
       "                                   fit_intercept=True, max_iter=None,\n",
       "                                   normalize=False, random_state=None,\n",
       "                                   solver='auto', tol=0.001)),\n",
       "                            ('svr',\n",
       "                             SVR(C=54.755680435313145, cache_size=200,\n",
       "                                 coef0=0.0, degree=3,\n",
       "                                 epsilon=0.028799094254409442,\n",
       "                                 gamma=0.0010271102795770723, kernel='rbf',\n",
       "                                 max_iter=-1, shrinking=True, tol=0.001,\n",
       "                                 verb...\n",
       "                                          max_delta_step=0, max_depth=3,\n",
       "                                          min_child_weight=4, missing=None,\n",
       "                                          n_estimators=250, n_jobs=1,\n",
       "                                          nthread=None, objective='reg:linear',\n",
       "                                          random_state=0,\n",
       "                                          reg_alpha=0.8977783352683452,\n",
       "                                          reg_lambda=0.21619035463070696,\n",
       "                                          scale_pos_weight=1, seed=None,\n",
       "                                          silent=None,\n",
       "                                          subsample=0.850063763831314,\n",
       "                                          verbosity=1))],\n",
       "                n_jobs=None,\n",
       "                weights=[0.24269883257499247, 0.9922187898273971,\n",
       "                         0.3772595430214887])"
      ]
     },
     "execution_count": 305,
     "metadata": {},
     "output_type": "execute_result"
    }
   ],
   "source": [
    "# add and fit tuned voting ensembles\n",
    "ensembles['clean_edit']['voter_tuned'] = VotingRegressor(voters_ce, weights=list(voter_ce_ho.values()))\n",
    "ensembles['drop_edit']['voter_tuned'] = VotingRegressor(voters_de, weights=list(voter_de_ho.values()))\n",
    "ensembles['clean_edit']['voter_tuned'].fit(X_ce_train.values, y_ce_train.values)\n",
    "ensembles['drop_edit']['voter_tuned'].fit(X_de_train.values, y_de_train.values)"
   ]
  },
  {
   "cell_type": "markdown",
   "metadata": {
    "toc-hr-collapsed": false
   },
   "source": [
    "#### Stacking"
   ]
  },
  {
   "cell_type": "markdown",
   "metadata": {},
   "source": [
    "##### Default base and meta"
   ]
  },
  {
   "cell_type": "code",
   "execution_count": 353,
   "metadata": {},
   "outputs": [],
   "source": [
    "# add and fit stacks with default models for base and meta\n",
    "def_models = create_def_models()\n",
    "ensembles = add_stack_reg(ensembles, def_models, model_data, random_state=27, tuned='def')\n",
    "\n",
    "# add and fit stacks with default models for base and meta with base features going to meta\n",
    "def_models = create_def_models()\n",
    "ensembles = add_stack_reg(ensembles, def_models, model_data, random_state=27, tuned='def_second',\n",
    "                          use_features_in_secondary=True)"
   ]
  },
  {
   "cell_type": "markdown",
   "metadata": {},
   "source": [
    "##### Pretuned base and meta"
   ]
  },
  {
   "cell_type": "code",
   "execution_count": 354,
   "metadata": {},
   "outputs": [
    {
     "name": "stdout",
     "output_type": "stream",
     "text": [
      "[20:58:29] WARNING: /usr/local/miniconda/conda-bld/xgboost_1566327371504/work/src/objective/regression_obj.cu:152: reg:linear is now deprecated in favor of reg:squarederror.\n",
      "[20:58:40] WARNING: /usr/local/miniconda/conda-bld/xgboost_1566327371504/work/src/objective/regression_obj.cu:152: reg:linear is now deprecated in favor of reg:squarederror.\n",
      "[20:58:52] WARNING: /usr/local/miniconda/conda-bld/xgboost_1566327371504/work/src/objective/regression_obj.cu:152: reg:linear is now deprecated in favor of reg:squarederror.\n",
      "[20:59:03] WARNING: /usr/local/miniconda/conda-bld/xgboost_1566327371504/work/src/objective/regression_obj.cu:152: reg:linear is now deprecated in favor of reg:squarederror.\n",
      "[20:59:14] WARNING: /usr/local/miniconda/conda-bld/xgboost_1566327371504/work/src/objective/regression_obj.cu:152: reg:linear is now deprecated in favor of reg:squarederror.\n",
      "[20:59:15] WARNING: /usr/local/miniconda/conda-bld/xgboost_1566327371504/work/src/objective/regression_obj.cu:152: reg:linear is now deprecated in favor of reg:squarederror.\n",
      "[20:59:26] WARNING: /usr/local/miniconda/conda-bld/xgboost_1566327371504/work/src/objective/regression_obj.cu:152: reg:linear is now deprecated in favor of reg:squarederror.\n",
      "[20:59:27] WARNING: /usr/local/miniconda/conda-bld/xgboost_1566327371504/work/src/objective/regression_obj.cu:152: reg:linear is now deprecated in favor of reg:squarederror.\n",
      "[20:59:41] WARNING: /usr/local/miniconda/conda-bld/xgboost_1566327371504/work/src/objective/regression_obj.cu:152: reg:linear is now deprecated in favor of reg:squarederror.\n",
      "[20:59:56] WARNING: /usr/local/miniconda/conda-bld/xgboost_1566327371504/work/src/objective/regression_obj.cu:152: reg:linear is now deprecated in favor of reg:squarederror.\n",
      "[21:00:11] WARNING: /usr/local/miniconda/conda-bld/xgboost_1566327371504/work/src/objective/regression_obj.cu:152: reg:linear is now deprecated in favor of reg:squarederror.\n",
      "[21:00:25] WARNING: /usr/local/miniconda/conda-bld/xgboost_1566327371504/work/src/objective/regression_obj.cu:152: reg:linear is now deprecated in favor of reg:squarederror.\n",
      "[21:00:39] WARNING: /usr/local/miniconda/conda-bld/xgboost_1566327371504/work/src/objective/regression_obj.cu:152: reg:linear is now deprecated in favor of reg:squarederror.\n",
      "[21:00:43] WARNING: /usr/local/miniconda/conda-bld/xgboost_1566327371504/work/src/objective/regression_obj.cu:152: reg:linear is now deprecated in favor of reg:squarederror.\n",
      "[21:00:56] WARNING: /usr/local/miniconda/conda-bld/xgboost_1566327371504/work/src/objective/regression_obj.cu:152: reg:linear is now deprecated in favor of reg:squarederror.\n",
      "[21:01:01] WARNING: /usr/local/miniconda/conda-bld/xgboost_1566327371504/work/src/objective/regression_obj.cu:152: reg:linear is now deprecated in favor of reg:squarederror.\n"
     ]
    }
   ],
   "source": [
    "# add and fit stacks with pretuned base and meta models\n",
    "ensembles = add_stack_reg(ensembles, models, model_data, random_state=27, tuned='pretuned')\n",
    "\n",
    "# add and fit stacks with pretuned base and meta models\n",
    "ensembles = add_stack_reg(ensembles, models, model_data, random_state=27, tuned='pretuned_secondary',\n",
    "                          use_features_in_secondary=True)"
   ]
  },
  {
   "cell_type": "markdown",
   "metadata": {},
   "source": [
    "##### Tuned stack"
   ]
  },
  {
   "cell_type": "code",
   "execution_count": 341,
   "metadata": {},
   "outputs": [],
   "source": [
    "# stacking regressor hyperparameter spaces\n",
    "ridge_base_space = {'alpha': hp.loguniform('alpha_ridge', low=-3*np.log(10), high=2*np.log(10))}\n",
    "svr_base_space = {'gamma': hp.loguniform('gamma_svr', low=-3*np.log(10), high=2*np.log(10)),\n",
    "                  'C': hp.loguniform('C_svr', low=-3*np.log(10), high=2*np.log(10)),\n",
    "                  'epsilon': hp.loguniform('epsilon_svr', low=-3*np.log(10), high=2*np.log(10))}\n",
    "xgb_base_space = {'max_depth': ho_scope.int(hp.quniform('max_depth_xgb', low=1, high=3, q=1)),\n",
    "                  'n_estimators': ho_scope.int(hp.quniform('n_estimators_xgb', low=100, high=500, q=50)),\n",
    "                  'learning_rate': hp.loguniform('learning_rate_xgb', low=-4*np.log(10), high=0),\n",
    "                  'gamma': hp.loguniform('gamma_xgb', low=-3*np.log(10), high=2*np.log(10)),\n",
    "                  'min_child_weight': ho_scope.int(hp.quniform('min_child_weight_xgb', low=1, high=7, q=1)),\n",
    "                  'subsample': hp.uniform('subsample_xgb', low=0.25, high=1),\n",
    "                  'colsample_bytree': hp.uniform('colsample_bytree_xgb', low=0.25, high=1),\n",
    "                  'colsample_bylevel': hp.uniform('colsample_bylevel_xgb', low=0.25, high=1),\n",
    "                  'colsample_bynode': hp.uniform('colsample_bynode_xgb', low=0.25, high=1),\n",
    "                  'reg_lambda': hp.loguniform('reg_lambda_xgb', low=-2*np.log(10), high=2*np.log(10)),\n",
    "                  'reg_alpha': hp.loguniform('reg_alpha_xgb', low=-1*np.log(10), high=1*np.log(10)),\n",
    "                 }\n",
    "stack_space = {'ridge': ridge_base_space, 'svr': svr_base_space, 'xgb': xgb_base_space}\n",
    "meta_space = [{'ridge': {'alpha': hp.loguniform('alpha_ridge_meta', low=-3*np.log(10), high=2*np.log(10))\n",
    "                        }\n",
    "              },\n",
    "              {'svr': {'kernel': 'rbf',\n",
    "                       'gamma': hp.loguniform('gamma_svr_meta', low=-3*np.log(10), high=2*np.log(10)),\n",
    "                       'C': hp.loguniform('C_svr_meta', low=-3*np.log(10), high=2*np.log(10)),\n",
    "                       'epsilon': hp.loguniform('epsilon_svr_meta', low=-3*np.log(10), high=2*np.log(10))\n",
    "                      }\n",
    "              },\n",
    "              {'xgb': {'max_depth': ho_scope.int(hp.quniform('max_depth_xgb_meta', low=1, high=3, q=1)),\n",
    "                       'n_estimators': ho_scope.int(hp.quniform('n_estimators_xgb_meta', low=100, high=500, q=50)),\n",
    "                       'learning_rate': hp.loguniform('learning_rate_xgb_meta', low=-4*np.log(10), high=0),\n",
    "                       'gamma': hp.loguniform('gamma_xgb_meta', low=-3*np.log(10), high=2*np.log(10)),\n",
    "                       'min_child_weight': ho_scope.int(hp.quniform('min_child_weight_xgb_meta', low=1, high=7, q=1)),\n",
    "                       'subsample': hp.uniform('subsample_xgb_meta', low=0.25, high=1),\n",
    "                       'colsample_bytree': hp.uniform('colsample_bytree_xgb_meta', low=0.25, high=1),\n",
    "                       'colsample_bylevel': hp.uniform('colsample_bylevel_xgb_meta', low=0.25, high=1),\n",
    "                       'colsample_bynode': hp.uniform('colsample_bynode_xgb_meta', low=0.25, high=1),\n",
    "                       'reg_lambda': hp.loguniform('reg_lambda_xgb_meta', low=-2*np.log(10), high=2*np.log(10)),\n",
    "                       'reg_alpha': hp.loguniform('reg_alpha_xgb_meta', low=-1*np.log(10), high=1*np.log(10))\n",
    "                     }\n",
    "                }  \n",
    "             ]\n",
    "stack_space['meta'] = hp.choice('meta', meta_space)"
   ]
  },
  {
   "cell_type": "code",
   "execution_count": 359,
   "metadata": {},
   "outputs": [
    {
     "name": "stdout",
     "output_type": "stream",
     "text": [
      "100%|██████████| 50/50 [39:28<00:00, 47.38s/it, best loss: 0.11262216113105801]\n",
      "100%|██████████| 50/50 [1:13:54<00:00, 88.70s/it, best loss: 0.11046250109579624] \n"
     ]
    }
   ],
   "source": [
    "# tune stack without secondary\n",
    "_, stack_ce_ho = ho_stack_results(obj=ho_stack_cv_rmse, space=stack_space, max_evals=50, \n",
    "                                  X_train=X_ce_train, y_train=y_ce_train, random_state=27)\n",
    "_, stack_de_ho = ho_stack_results(obj=ho_stack_cv_rmse, space=stack_space, max_evals=50,\n",
    "                                  X_train=X_de_train, y_train=y_de_train, random_state=27)"
   ]
  },
  {
   "cell_type": "code",
   "execution_count": 360,
   "metadata": {},
   "outputs": [
    {
     "name": "stdout",
     "output_type": "stream",
     "text": [
      "100%|██████████| 50/50 [1:14:02<00:00, 88.85s/it, best loss: 0.1123878263311176]  \n",
      "100%|██████████| 50/50 [37:58<00:00, 45.58s/it, best loss: 0.11101380494558001]\n"
     ]
    }
   ],
   "source": [
    "# tune stack with secondary\n",
    "_, stack_ce_ho_sec = ho_stack_results(obj=ho_stack_cv_rmse, space=stack_space, max_evals=50, \n",
    "                                      X_train=X_ce_train, y_train=y_ce_train, random_state=27,\n",
    "                                      use_features_in_secondary=True)\n",
    "_, stack_de_ho_sec = ho_stack_results(obj=ho_stack_cv_rmse, space=stack_space, max_evals=50,\n",
    "                                      X_train=X_de_train, y_train=y_de_train, random_state=27,\n",
    "                                      use_features_in_secondary=True)"
   ]
  },
  {
   "cell_type": "code",
   "execution_count": 361,
   "metadata": {},
   "outputs": [
    {
     "data": {
      "text/plain": [
       "StackingCVRegressor(cv=5,\n",
       "                    meta_regressor=Ridge(alpha=0.2819504320648807, copy_X=True,\n",
       "                                         fit_intercept=True, max_iter=None,\n",
       "                                         normalize=False, random_state=None,\n",
       "                                         solver='auto', tol=0.001),\n",
       "                    n_jobs=None, pre_dispatch='2*n_jobs', random_state=27,\n",
       "                    refit=True,\n",
       "                    regressors=[Ridge(alpha=2.340572018624484, copy_X=True,\n",
       "                                      fit_intercept=True, max_iter=None,\n",
       "                                      normalize=False, random_st...\n",
       "                                             max_delta_step=0, max_depth=3,\n",
       "                                             min_child_weight=6, missing=None,\n",
       "                                             n_estimators=350, n_jobs=-1,\n",
       "                                             nthread=None,\n",
       "                                             objective='reg:squarederror',\n",
       "                                             random_state=27,\n",
       "                                             reg_alpha=3.0111544077776893,\n",
       "                                             reg_lambda=1.5271989251962361,\n",
       "                                             scale_pos_weight=1, seed=None,\n",
       "                                             silent=None,\n",
       "                                             subsample=0.9966412334665005,\n",
       "                                             verbosity=1)],\n",
       "                    shuffle=True, store_train_meta_features=False,\n",
       "                    use_features_in_secondary=False, verbose=0)"
      ]
     },
     "execution_count": 361,
     "metadata": {},
     "output_type": "execute_result"
    }
   ],
   "source": [
    "# add and fit tuned stacks\n",
    "ensembles['clean_edit']['stack_tuned'] = stack_from_ho_results(stack_ce_ho, 27)\n",
    "ensembles['drop_edit']['stack_tuned'] = stack_from_ho_results(stack_de_ho, 27)\n",
    "ensembles['clean_edit']['stack_tuned'].fit(X_ce_train, y_ce_train)\n",
    "ensembles['drop_edit']['stack_tuned'].fit(X_de_train, y_de_train)"
   ]
  },
  {
   "cell_type": "code",
   "execution_count": 362,
   "metadata": {},
   "outputs": [
    {
     "data": {
      "text/plain": [
       "StackingCVRegressor(cv=5,\n",
       "                    meta_regressor=Ridge(alpha=2.173999236114392, copy_X=True,\n",
       "                                         fit_intercept=True, max_iter=None,\n",
       "                                         normalize=False, random_state=None,\n",
       "                                         solver='auto', tol=0.001),\n",
       "                    n_jobs=None, pre_dispatch='2*n_jobs', random_state=27,\n",
       "                    refit=True,\n",
       "                    regressors=[Ridge(alpha=1.2122191253034325, copy_X=True,\n",
       "                                      fit_intercept=True, max_iter=None,\n",
       "                                      normalize=False, random_st...\n",
       "                                             min_child_weight=1, missing=None,\n",
       "                                             n_estimators=400, n_jobs=-1,\n",
       "                                             nthread=None,\n",
       "                                             objective='reg:squarederror',\n",
       "                                             random_state=27,\n",
       "                                             reg_alpha=0.26888097285851864,\n",
       "                                             reg_lambda=0.012620271339732722,\n",
       "                                             scale_pos_weight=1, seed=None,\n",
       "                                             silent=None,\n",
       "                                             subsample=0.7288323388963648,\n",
       "                                             verbosity=1)],\n",
       "                    shuffle=True, store_train_meta_features=False,\n",
       "                    use_features_in_secondary=False, verbose=0)"
      ]
     },
     "execution_count": 362,
     "metadata": {},
     "output_type": "execute_result"
    }
   ],
   "source": [
    "# add and fit tuned stacks with \n",
    "ensembles['clean_edit']['stack_tuned_secondary'] = stack_from_ho_results(stack_ce_ho_sec, 27)\n",
    "ensembles['drop_edit']['stack_tuned_secondary'] = stack_from_ho_results(stack_de_ho_sec, 27)\n",
    "ensembles['clean_edit']['stack_tuned_secondary'].fit(X_ce_train, y_ce_train)\n",
    "ensembles['drop_edit']['stack_tuned_secondary'].fit(X_de_train, y_de_train)"
   ]
  },
  {
   "cell_type": "markdown",
   "metadata": {},
   "source": [
    "##### Compare ensembles"
   ]
  },
  {
   "cell_type": "code",
   "execution_count": 363,
   "metadata": {},
   "outputs": [
    {
     "data": {
      "text/html": [
       "<div>\n",
       "<style scoped>\n",
       "    .dataframe tbody tr th:only-of-type {\n",
       "        vertical-align: middle;\n",
       "    }\n",
       "\n",
       "    .dataframe tbody tr th {\n",
       "        vertical-align: top;\n",
       "    }\n",
       "\n",
       "    .dataframe thead tr th {\n",
       "        text-align: left;\n",
       "    }\n",
       "</style>\n",
       "<table border=\"1\" class=\"dataframe\">\n",
       "  <thead>\n",
       "    <tr>\n",
       "      <th>data</th>\n",
       "      <th>model</th>\n",
       "      <th colspan=\"2\" halign=\"left\">clean_edit</th>\n",
       "      <th colspan=\"2\" halign=\"left\">drop_edit</th>\n",
       "    </tr>\n",
       "    <tr>\n",
       "      <th>performance</th>\n",
       "      <th></th>\n",
       "      <th>train_rmse</th>\n",
       "      <th>cv_rmse</th>\n",
       "      <th>train_rmse</th>\n",
       "      <th>cv_rmse</th>\n",
       "    </tr>\n",
       "  </thead>\n",
       "  <tbody>\n",
       "    <tr>\n",
       "      <td>0</td>\n",
       "      <td>voter_tuned</td>\n",
       "      <td>0.0791426</td>\n",
       "      <td>0.109072</td>\n",
       "      <td>0.0825242</td>\n",
       "      <td>0.108134</td>\n",
       "    </tr>\n",
       "    <tr>\n",
       "      <td>1</td>\n",
       "      <td>stack_ridge_meta_pretuned</td>\n",
       "      <td>0.0835174</td>\n",
       "      <td>0.108937</td>\n",
       "      <td>0.0839546</td>\n",
       "      <td>0.10851</td>\n",
       "    </tr>\n",
       "    <tr>\n",
       "      <td>2</td>\n",
       "      <td>voter_def</td>\n",
       "      <td>0.0828417</td>\n",
       "      <td>0.109019</td>\n",
       "      <td>0.0814688</td>\n",
       "      <td>0.108523</td>\n",
       "    </tr>\n",
       "    <tr>\n",
       "      <td>3</td>\n",
       "      <td>stack_svr_meta_pretuned_secondary</td>\n",
       "      <td>0.0756126</td>\n",
       "      <td>0.110708</td>\n",
       "      <td>0.0834208</td>\n",
       "      <td>0.108543</td>\n",
       "    </tr>\n",
       "    <tr>\n",
       "      <td>4</td>\n",
       "      <td>stack_svr_meta_pretuned</td>\n",
       "      <td>0.0827698</td>\n",
       "      <td>0.109407</td>\n",
       "      <td>0.083613</td>\n",
       "      <td>0.108873</td>\n",
       "    </tr>\n",
       "    <tr>\n",
       "      <td>5</td>\n",
       "      <td>stack_ridge_meta_def</td>\n",
       "      <td>0.0883217</td>\n",
       "      <td>0.110268</td>\n",
       "      <td>0.0882481</td>\n",
       "      <td>0.109506</td>\n",
       "    </tr>\n",
       "    <tr>\n",
       "      <td>6</td>\n",
       "      <td>stack_svr_meta_def</td>\n",
       "      <td>0.0902724</td>\n",
       "      <td>0.111347</td>\n",
       "      <td>0.0907135</td>\n",
       "      <td>0.109981</td>\n",
       "    </tr>\n",
       "    <tr>\n",
       "      <td>7</td>\n",
       "      <td>stack_tuned</td>\n",
       "      <td>0.0953309</td>\n",
       "      <td>0.112314</td>\n",
       "      <td>0.0910515</td>\n",
       "      <td>0.110427</td>\n",
       "    </tr>\n",
       "    <tr>\n",
       "      <td>8</td>\n",
       "      <td>stack_ridge_meta_pretuned_secondary</td>\n",
       "      <td>0.0863259</td>\n",
       "      <td>0.111278</td>\n",
       "      <td>0.0861656</td>\n",
       "      <td>0.110913</td>\n",
       "    </tr>\n",
       "    <tr>\n",
       "      <td>9</td>\n",
       "      <td>stack_tuned_secondary</td>\n",
       "      <td>0.094904</td>\n",
       "      <td>0.114143</td>\n",
       "      <td>0.0937061</td>\n",
       "      <td>0.110918</td>\n",
       "    </tr>\n",
       "    <tr>\n",
       "      <td>10</td>\n",
       "      <td>stack_ridge_meta_def_second</td>\n",
       "      <td>0.0888463</td>\n",
       "      <td>0.111574</td>\n",
       "      <td>0.0894194</td>\n",
       "      <td>0.110976</td>\n",
       "    </tr>\n",
       "    <tr>\n",
       "      <td>11</td>\n",
       "      <td>stack_xgb_meta_def_second</td>\n",
       "      <td>0.0799797</td>\n",
       "      <td>0.113577</td>\n",
       "      <td>0.076563</td>\n",
       "      <td>0.113861</td>\n",
       "    </tr>\n",
       "    <tr>\n",
       "      <td>12</td>\n",
       "      <td>stack_xgb_meta_pretuned_secondary</td>\n",
       "      <td>0.0770047</td>\n",
       "      <td>0.111977</td>\n",
       "      <td>0.0714007</td>\n",
       "      <td>0.114887</td>\n",
       "    </tr>\n",
       "    <tr>\n",
       "      <td>13</td>\n",
       "      <td>stack_svr_meta_def_second</td>\n",
       "      <td>0.0976487</td>\n",
       "      <td>0.11657</td>\n",
       "      <td>0.0970647</td>\n",
       "      <td>0.115374</td>\n",
       "    </tr>\n",
       "    <tr>\n",
       "      <td>14</td>\n",
       "      <td>stack_xgb_meta_pretuned</td>\n",
       "      <td>0.0879998</td>\n",
       "      <td>0.116314</td>\n",
       "      <td>0.088159</td>\n",
       "      <td>0.115611</td>\n",
       "    </tr>\n",
       "    <tr>\n",
       "      <td>15</td>\n",
       "      <td>stack_xgb_meta_def</td>\n",
       "      <td>0.0938021</td>\n",
       "      <td>0.116166</td>\n",
       "      <td>0.0907849</td>\n",
       "      <td>0.11857</td>\n",
       "    </tr>\n",
       "  </tbody>\n",
       "</table>\n",
       "</div>"
      ],
      "text/plain": [
       "data                                       model clean_edit            \\\n",
       "performance                                      train_rmse   cv_rmse   \n",
       "0                                    voter_tuned  0.0791426  0.109072   \n",
       "1                      stack_ridge_meta_pretuned  0.0835174  0.108937   \n",
       "2                                      voter_def  0.0828417  0.109019   \n",
       "3              stack_svr_meta_pretuned_secondary  0.0756126  0.110708   \n",
       "4                        stack_svr_meta_pretuned  0.0827698  0.109407   \n",
       "5                           stack_ridge_meta_def  0.0883217  0.110268   \n",
       "6                             stack_svr_meta_def  0.0902724  0.111347   \n",
       "7                                    stack_tuned  0.0953309  0.112314   \n",
       "8            stack_ridge_meta_pretuned_secondary  0.0863259  0.111278   \n",
       "9                          stack_tuned_secondary   0.094904  0.114143   \n",
       "10                   stack_ridge_meta_def_second  0.0888463  0.111574   \n",
       "11                     stack_xgb_meta_def_second  0.0799797  0.113577   \n",
       "12             stack_xgb_meta_pretuned_secondary  0.0770047  0.111977   \n",
       "13                     stack_svr_meta_def_second  0.0976487   0.11657   \n",
       "14                       stack_xgb_meta_pretuned  0.0879998  0.116314   \n",
       "15                            stack_xgb_meta_def  0.0938021  0.116166   \n",
       "\n",
       "data         drop_edit            \n",
       "performance train_rmse   cv_rmse  \n",
       "0            0.0825242  0.108134  \n",
       "1            0.0839546   0.10851  \n",
       "2            0.0814688  0.108523  \n",
       "3            0.0834208  0.108543  \n",
       "4             0.083613  0.108873  \n",
       "5            0.0882481  0.109506  \n",
       "6            0.0907135  0.109981  \n",
       "7            0.0910515  0.110427  \n",
       "8            0.0861656  0.110913  \n",
       "9            0.0937061  0.110918  \n",
       "10           0.0894194  0.110976  \n",
       "11            0.076563  0.113861  \n",
       "12           0.0714007  0.114887  \n",
       "13           0.0970647  0.115374  \n",
       "14            0.088159  0.115611  \n",
       "15           0.0907849   0.11857  "
      ]
     },
     "execution_count": 363,
     "metadata": {},
     "output_type": "execute_result"
    }
   ],
   "source": [
    "# compare results of tuned models\n",
    "ens_comp_df = compare_performance(ensembles, model_data, random_state=27)\n",
    "ens_comp_df.sort_values(by=('drop_edit', 'cv_rmse')).reset_index(drop=True)"
   ]
  },
  {
   "cell_type": "code",
   "execution_count": 409,
   "metadata": {},
   "outputs": [
    {
     "data": {
      "image/png": "[encoded data removed]",
      "text/plain": [
       "<Figure size 803.75x360 with 2 Axes>"
      ]
     },
     "metadata": {},
     "output_type": "display_data"
    }
   ],
   "source": [
    "# compare tuned model train and cv performance on clean \n",
    "plot_model_comp(ens_comp_df, col='data', hue='performance', palette=data_palette, rotation=90)"
   ]
  },
  {
   "cell_type": "code",
   "execution_count": 411,
   "metadata": {},
   "outputs": [
    {
     "data": {
      "image/png": "[encoded data removed]",
      "text/plain": [
       "<Figure size 780x360 with 2 Axes>"
      ]
     },
     "metadata": {},
     "output_type": "display_data"
    }
   ],
   "source": [
    "# compare clean and edit performance for train and cv error\n",
    "plot_model_comp(ens_comp_df, col='performance', hue='data', palette=perf_palette, rotation=90)"
   ]
  },
  {
   "cell_type": "markdown",
   "metadata": {},
   "source": [
    "## Predict and Evaluate"
   ]
  },
  {
   "cell_type": "markdown",
   "metadata": {},
   "source": [
    "To check our test prediction performance we need to submit to Kaggle. We'll submit predictions for the top 5 ensembles models for both version of the data (`clean_edit` and `drop_edit`) and report them here."
   ]
  }
 ],
 "metadata": {
  "kernelspec": {
   "display_name": "Python [conda env:house_prices]",
   "language": "python",
   "name": "conda-env-house_prices-py"
  },
  "language_info": {
   "codemirror_mode": {
    "name": "ipython",
    "version": 3
   },
   "file_extension": ".py",
   "mimetype": "text/x-python",
   "name": "python",
   "nbconvert_exporter": "python",
   "pygments_lexer": "ipython3",
   "version": "3.7.3"
  },
  "latex_envs": {
   "LaTeX_envs_menu_present": true,
   "autoclose": false,
   "autocomplete": true,
   "bibliofile": "biblio.bib",
   "cite_by": "apalike",
   "current_citInitial": 1,
   "eqLabelWithNumbers": true,
   "eqNumInitial": 1,
   "hotkeys": {
    "equation": "Ctrl-E",
    "itemize": "Ctrl-I"
   },
   "labels_anchors": false,
   "latex_user_defs": false,
   "report_style_numbering": false,
   "user_envs_cfg": false
  },
  "toc": {
   "base_numbering": 1,
   "nav_menu": {},
   "number_sections": true,
   "sideBar": false,
   "skip_h1_title": false,
   "title_cell": "Table of Contents",
   "title_sidebar": "Contents",
   "toc_cell": false,
   "toc_position": {},
   "toc_section_display": true,
   "toc_window_display": false
  }
 },
 "nbformat": 4,
 "nbformat_minor": 4
}
