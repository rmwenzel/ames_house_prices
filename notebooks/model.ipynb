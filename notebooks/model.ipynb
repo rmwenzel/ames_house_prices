{
 "cells": [
  {
   "cell_type": "markdown",
   "metadata": {},
   "source": [
    "# Predictive modeling of `SalePrice` in Ames housing dataset"
   ]
  },
  {
   "cell_type": "markdown",
   "metadata": {},
   "source": [
    "In a previous notebook we [processed and cleaned](process.ipynb/#Processing-the-Ames-housing-dataset) the Ames dataset, and in another we [explored the data and selected/engineered some new features](explore.ipynb/#Exploratory-analysis-of-Ames-housing-dataset).\n",
    "\n",
    "In this notebook, we'll model and predict `SalePrice`. First we'll do a little feature selection and engineering to create a few different versions of the data for modeling. Then we'll compare the prediction performance of some appropriate models on these versions, select a subset of these versions and models for fine-tuning, ensemble them to maximize predictive generalizablity, and test them by submitting to Kaggle."
   ]
  },
  {
   "cell_type": "markdown",
   "metadata": {},
   "source": [
    "## Setup"
   ]
  },
  {
   "cell_type": "code",
   "execution_count": 237,
   "metadata": {},
   "outputs": [],
   "source": [
    "%matplotlib inline\n",
    "import warnings\n",
    "import os\n",
    "import sys\n",
    "import time\n",
    "\n",
    "from sklearn.linear_model import LinearRegression, Lasso, Ridge, BayesianRidge\n",
    "from sklearn.cross_decomposition import PLSRegression\n",
    "from sklearn.svm import SVR\n",
    "from sklearn.neighbors import KNeighborsRegressor\n",
    "from sklearn.neural_network import MLPRegressor\n",
    "from sklearn.tree import DecisionTreeRegressor, ExtraTreeRegressor\n",
    "from hyperopt.pyll import scope as ho_scope\n",
    "\n",
    "# add parent directory for importing custom classes\n",
    "pardir = os.path.abspath(os.path.join(os.getcwd(), os.pardir))\n",
    "sys.path.append(pardir)\n",
    "\n",
    "# custom classes and helpers\n",
    "from codes.process import DataDescription, HPDataFramePlus, DataPlus\n",
    "from codes.explore import load_datasets, plot_cont_dists\n",
    "from codes.model import *\n",
    "\n",
    "warnings.filterwarnings('ignore')\n",
    "plt.style.use('seaborn-white')\n",
    "sns.set_style('white')"
   ]
  },
  {
   "cell_type": "markdown",
   "metadata": {},
   "source": [
    "## Load and prepare data"
   ]
  },
  {
   "cell_type": "code",
   "execution_count": 2,
   "metadata": {},
   "outputs": [],
   "source": [
    "hp_data = load_datasets(data_dir='../data', file_names=['clean.csv'])\n",
    "clean = hp_data.dfs['clean']"
   ]
  },
  {
   "cell_type": "markdown",
   "metadata": {},
   "source": [
    "The dataset `clean` was ([created in a previous notebook](process.ipynb/#Processing-and-cleaning-the-Ames-housing-dataset). It is the original dataset with someproblematic variables and observations dropped and missing values imputed. We'll use it to create our modeling data"
   ]
  },
  {
   "cell_type": "markdown",
   "metadata": {
    "toc-hr-collapsed": true
   },
   "source": [
    "## Feature selection and engineering"
   ]
  },
  {
   "cell_type": "markdown",
   "metadata": {},
   "source": [
    "We'll use the results of [our exploratory analysis](explore.ipynb/#Exploratory-analysis-of-Ames-housing-dataset) to suggest variables that can be altered, combined, or eliminated in the hopes of improving predictive models. We'll create a few new datasets in the process. In the end we'll have four versions of the data for modeling\n",
    "\n",
    "- `clean`: original dataset with problematic features and observations dropped and missing values imputed.\n",
    "- `drop`: `clean` dataset with some old features dropped\n",
    "- `clean_edit`: `clean` dataset with some feature values combined and some new features added\n",
    "- `drop_edit`: `drop` dataset with the same feature values combined and same new features added."
   ]
  },
  {
   "cell_type": "markdown",
   "metadata": {
    "toc-hr-collapsed": false
   },
   "source": [
    "### Drop some features"
   ]
  },
  {
   "cell_type": "markdown",
   "metadata": {},
   "source": [
    "Here are variables we'll drop (and the reasons for dropping):\n",
    "- `Heating`, `RoofMatl`, `Condition2`, `Street` (extremely unbalanced distributions and very low dependence with `SalePrice` ($D \\gtrapprox 0.99$))\n",
    "- `Exterior2nd` (redundant with `Exterior1st`.\n",
    "- `HouseStyle` (redundant with `MSSubclass`).\n",
    "- `Utilities` (extremely unbalanced distribution and very low dependence with response)\n",
    "- `PoolQC` (extremely unbalanced distribution and redundant with `PoolArea`)\n",
    "- `1stFlrSF` and `TotalBsmtSF` (high dependence with `GrLivArea`).\n",
    "- `GarageYrBlt` (high dependence with `YearBuilt`)\n",
    "- `PoolArea`, `MiscVal`, `3SsnPorch`, `ScreenPorch`, `BsmtFinSF2` (extremely peaked distributions and very low dependence with `SalePrice`)\n",
    "- `LowQualFinSF` (extremely peaked distribution and redundant with ordinal quality measures such as `OverallQual`)"
   ]
  },
  {
   "cell_type": "code",
   "execution_count": 3,
   "metadata": {},
   "outputs": [],
   "source": [
    "drop_cols = ['Heating', 'RoofMatl', 'Condition2', 'Street', 'Exterior2nd', 'HouseStyle', \n",
    "             'Utilities', 'PoolQC', '1stFlrSF', 'TotalBsmtSF', 'GarageYrBlt', 'PoolArea', 'MiscVal',\n",
    "             '3SsnPorch', 'ScreenPorch', 'BsmtFinSF2', 'LowQualFinSF']\n",
    "drop = HPDataFramePlus(data=clean.data)\n",
    "drop.data = drop.data.drop(columns=drop_cols)"
   ]
  },
  {
   "cell_type": "code",
   "execution_count": 4,
   "metadata": {},
   "outputs": [
    {
     "data": {
      "text/plain": [
       "Index(['MSSubClass', 'MSZoning', 'LotFrontage', 'LotArea', 'LotShape',\n",
       "       'LandContour', 'LotConfig', 'LandSlope', 'Neighborhood', 'Condition1',\n",
       "       'BldgType', 'OverallQual', 'OverallCond', 'YearBuilt', 'YearRemodAdd',\n",
       "       'RoofStyle', 'Exterior1st', 'MasVnrType', 'MasVnrArea', 'ExterQual',\n",
       "       'ExterCond', 'Foundation', 'BsmtQual', 'BsmtCond', 'BsmtExposure',\n",
       "       'BsmtFinType1', 'BsmtFinSF1', 'BsmtFinType2', 'BsmtUnfSF', 'HeatingQC',\n",
       "       'CentralAir', 'Electrical', '2ndFlrSF', 'GrLivArea', 'BsmtFullBath',\n",
       "       'BsmtHalfBath', 'FullBath', 'HalfBath', 'BedroomAbvGr', 'KitchenAbvGr',\n",
       "       'KitchenQual', 'TotRmsAbvGrd', 'Functional', 'Fireplaces',\n",
       "       'FireplaceQu', 'GarageType', 'GarageFinish', 'GarageCars', 'GarageArea',\n",
       "       'GarageQual', 'GarageCond', 'PavedDrive', 'WoodDeckSF', 'OpenPorchSF',\n",
       "       'EnclosedPorch', 'Fence', 'MoSold', 'YrSold', 'SaleType',\n",
       "       'SaleCondition', 'SalePrice'],\n",
       "      dtype='object')"
      ]
     },
     "execution_count": 4,
     "metadata": {},
     "output_type": "execute_result"
    }
   ],
   "source": [
    "drop.data.columns"
   ]
  },
  {
   "cell_type": "markdown",
   "metadata": {},
   "source": [
    "### Combine values and create new variables"
   ]
  },
  {
   "cell_type": "markdown",
   "metadata": {},
   "source": [
    "Some discrete variables had very small counts for some values (this could be seen as horizontal lines corresponding to those values in the violin plots for [categorical](#Relationship-between-categoricals-and-SalePrice) and [ordinal](#Relationship-between-ordinals-and-SalePrice) variables. \n",
    "\n",
    "First we'll look at categorical variables"
   ]
  },
  {
   "cell_type": "code",
   "execution_count": 5,
   "metadata": {},
   "outputs": [
    {
     "data": {
      "text/plain": [
       "Index(['MSSubClass', 'MSZoning', 'Street', 'LandContour', 'LotConfig',\n",
       "       'Neighborhood', 'Condition1', 'Condition2', 'BldgType', 'HouseStyle',\n",
       "       'RoofStyle', 'RoofMatl', 'Exterior1st', 'Exterior2nd', 'MasVnrType',\n",
       "       'Foundation', 'Heating', 'CentralAir', 'Electrical', 'GarageType',\n",
       "       'SaleType', 'SaleCondition'],\n",
       "      dtype='object')"
      ]
     },
     "execution_count": 5,
     "metadata": {},
     "output_type": "execute_result"
    }
   ],
   "source": [
    "cats_data = clean.data.select_dtypes('category')\n",
    "cats_data.columns"
   ]
  },
  {
   "cell_type": "code",
   "execution_count": 6,
   "metadata": {},
   "outputs": [
    {
     "name": "stdout",
     "output_type": "stream",
     "text": [
      "\n",
      "20     1078\n",
      "60      573\n",
      "50      287\n",
      "120     182\n",
      "30      139\n",
      "70      128\n",
      "160     128\n",
      "80      118\n",
      "90      109\n",
      "190      61\n",
      "85       48\n",
      "75       23\n",
      "45       18\n",
      "180      17\n",
      "40        6\n",
      "150       1\n",
      "Name: MSSubClass, dtype: int64\n",
      "\n",
      "Norm      2887\n",
      "Feedr       13\n",
      "Artery       5\n",
      "PosA         4\n",
      "PosN         3\n",
      "RRNn         2\n",
      "RRAn         1\n",
      "RRAe         1\n",
      "Name: Condition2, dtype: int64\n",
      "\n",
      "Gable      2310\n",
      "Hip         549\n",
      "Gambrel      22\n",
      "Flat         19\n",
      "Mansard      11\n",
      "Shed          5\n",
      "Name: RoofStyle, dtype: int64\n",
      "\n",
      "CompShg    2875\n",
      "Tar&Grv      22\n",
      "WdShake       9\n",
      "WdShngl       7\n",
      "Roll          1\n",
      "Metal         1\n",
      "Membran       1\n",
      "Name: RoofMatl, dtype: int64\n",
      "\n",
      "VinylSd    1026\n",
      "MetalSd     450\n",
      "HdBoard     442\n",
      "Wd Sdng     411\n",
      "Plywood     220\n",
      "CemntBd     125\n",
      "BrkFace      87\n",
      "WdShing      56\n",
      "AsbShng      44\n",
      "Stucco       42\n",
      "BrkComm       6\n",
      "Stone         2\n",
      "CBlock        2\n",
      "AsphShn       2\n",
      "ImStucc       1\n",
      "Name: Exterior1st, dtype: int64\n",
      "\n",
      "VinylSd    1015\n",
      "MetalSd     447\n",
      "HdBoard     406\n",
      "Wd Sdng     391\n",
      "Plywood     269\n",
      "CmentBd     125\n",
      "Wd Shng      81\n",
      "BrkFace      47\n",
      "Stucco       46\n",
      "AsbShng      38\n",
      "Brk Cmn      22\n",
      "ImStucc      15\n",
      "Stone         6\n",
      "AsphShn       4\n",
      "CBlock        3\n",
      "Other         1\n",
      "Name: Exterior2nd, dtype: int64\n",
      "\n",
      "None       1761\n",
      "BrkFace     945\n",
      "Stone       205\n",
      "BrkCmn        5\n",
      "Name: MasVnrType, dtype: int64\n",
      "\n",
      "PConc     1306\n",
      "CBlock    1234\n",
      "BrkTil     311\n",
      "Slab        49\n",
      "Stone       11\n",
      "Wood         5\n",
      "Name: Foundation, dtype: int64\n",
      "\n",
      "GasA     2871\n",
      "GasW       27\n",
      "Grav        9\n",
      "Wall        6\n",
      "OthW        2\n",
      "Floor       1\n",
      "Name: Heating, dtype: int64\n",
      "\n",
      "SBrkr    2669\n",
      "FuseA     188\n",
      "FuseF      50\n",
      "FuseP       8\n",
      "Mix         1\n",
      "Name: Electrical, dtype: int64\n",
      "\n",
      "WD       2525\n",
      "New       237\n",
      "COD        87\n",
      "ConLD      26\n",
      "CWD        12\n",
      "ConLI       9\n",
      "ConLw       8\n",
      "Oth         7\n",
      "Con         5\n",
      "Name: SaleType, dtype: int64\n"
     ]
    }
   ],
   "source": [
    "# print variables with less than 5 observations for any value\n",
    "small_val_count_cat_cols = print_small_val_counts(data=cats_data, val_count_threshold=6)"
   ]
  },
  {
   "cell_type": "code",
   "execution_count": 7,
   "metadata": {},
   "outputs": [
    {
     "name": "stdout",
     "output_type": "stream",
     "text": [
      "MSSubClass: Identifies the type of dwelling involved in the sale.\n",
      "\n",
      "\t 20 - 1-STORY 1946 & NEWER ALL STYLES\n",
      "\t 30 - 1-STORY 1945 & OLDER\n",
      "\t 40 - 1-STORY W/FINISHED ATTIC ALL AGES\n",
      "\t 45 - 1-1/2 STORY - UNFINISHED ALL AGES\n",
      "\t 50 - 1-1/2 STORY FINISHED ALL AGES\n",
      "\t 60 - 2-STORY 1946 & NEWER\n",
      "\t 70 - 2-STORY 1945 & OLDER\n",
      "\t 75 - 2-1/2 STORY ALL AGES\n",
      "\t 80 - SPLIT OR MULTI-LEVEL\n",
      "\t 85 - SPLIT FOYER\n",
      "\t 90 - DUPLEX - ALL STYLES AND AGES\n",
      "\t 120 - 1-STORY PUD (Planned Unit Development) - 1946 & NEWER\n",
      "\t 150 - 1-1/2 STORY PUD - ALL AGES\n",
      "\t 160 - 2-STORY PUD - 1946 & NEWER\n",
      "\t 180 - PUD - MULTILEVEL - INCL SPLIT LEV/FOYER\n",
      "\t 190 - 2 FAMILY CONVERSION - ALL STYLES AND AGES\n",
      "\n",
      "\n",
      "Condition2: Proximity to various conditions (if more than one is present)\n",
      "\n",
      "\t Artery - Adjacent to arterial street\n",
      "\t Feedr - Adjacent to feeder street\n",
      "\t Norm - Normal\n",
      "\t RRNn - Within 200' of North-South Railroad\n",
      "\t RRAn - Adjacent to North-South Railroad\n",
      "\t PosN - Near positive off-site feature--park, greenbelt, etc.\n",
      "\t PosA - Adjacent to postive off-site feature\n",
      "\t RRNe - Within 200' of East-West Railroad\n",
      "\t RRAe - Adjacent to East-West Railroad\n",
      "\n",
      "\n",
      "RoofStyle: Type of roof\n",
      "\n",
      "\t Flat - Flat\n",
      "\t Gable - Gable\n",
      "\t Gambrel - Gabrel (Barn)\n",
      "\t Hip - Hip\n",
      "\t Mansard - Mansard\n",
      "\t Shed - Shed\n",
      "\n",
      "\n",
      "RoofMatl: Roof material\n",
      "\n",
      "\t ClyTile - Clay or Tile\n",
      "\t CompShg - Standard (Composite) Shingle\n",
      "\t Membran - Membrane\n",
      "\t Metal - Metal\n",
      "\t Roll - Roll\n",
      "\t Tar&Grv - Gravel & Tar\n",
      "\t WdShake - Wood Shakes\n",
      "\t WdShngl - Wood Shingles\n",
      "\n",
      "\n",
      "Exterior1st: Exterior covering on house\n",
      "\n",
      "\t AsbShng - Asbestos Shingles\n",
      "\t AsphShn - Asphalt Shingles\n",
      "\t BrkComm - Brick Common\n",
      "\t BrkFace - Brick Face\n",
      "\t CBlock - Cinder Block\n",
      "\t CemntBd - Cement Board\n",
      "\t HdBoard - Hard Board\n",
      "\t ImStucc - Imitation Stucco\n",
      "\t MetalSd - Metal Siding\n",
      "\t Other - Other\n",
      "\t Plywood - Plywood\n",
      "\t PreCast - PreCast\n",
      "\t Stone - Stone\n",
      "\t Stucco - Stucco\n",
      "\t VinylSd - Vinyl Siding\n",
      "\t Wd - Wood Siding\n",
      "\t WdShing - Wood Shingles\n",
      "\n",
      "\n",
      "Exterior2nd: Exterior covering on house (if more than one material)\n",
      "\n",
      "\t AsbShng - Asbestos Shingles\n",
      "\t AsphShn - Asphalt Shingles\n",
      "\t BrkComm - Brick Common\n",
      "\t BrkFace - Brick Face\n",
      "\t CBlock - Cinder Block\n",
      "\t CemntBd - Cement Board\n",
      "\t HdBoard - Hard Board\n",
      "\t ImStucc - Imitation Stucco\n",
      "\t MetalSd - Metal Siding\n",
      "\t Other - Other\n",
      "\t Plywood - Plywood\n",
      "\t PreCast - PreCast\n",
      "\t Stone - Stone\n",
      "\t Stucco - Stucco\n",
      "\t VinylSd - Vinyl Siding\n",
      "\t Wd - Wood Siding\n",
      "\t WdShing - Wood Shingles\n",
      "\n",
      "\n",
      "MasVnrType: Masonry veneer type\n",
      "\n",
      "\t BrkCmn - Brick Common\n",
      "\t BrkFace - Brick Face\n",
      "\t CBlock - Cinder Block\n",
      "\t None - None\n",
      "\t Stone - Stone\n",
      "\n",
      "\n",
      "Foundation: Type of foundation\n",
      "\n",
      "\t BrkTil - Brick & Tile\n",
      "\t CBlock - Cinder Block\n",
      "\t PConc - Poured Contrete\n",
      "\t Slab - Slab\n",
      "\t Stone - Stone\n",
      "\t Wood - Wood\n",
      "\n",
      "\n",
      "Heating: Type of heating\n",
      "\n",
      "\t Floor - Floor Furnace\n",
      "\t GasA - Gas forced warm air furnace\n",
      "\t GasW - Gas hot water or steam heat\n",
      "\t Grav - Gravity furnace\n",
      "\t OthW - Hot water or steam heat other than gas\n",
      "\t Wall - Wall furnace\n",
      "\n",
      "\n",
      "Electrical: Electrical system\n",
      "\n",
      "\t SBrkr - Standard Circuit Breakers & Romex\n",
      "\t FuseA - Fuse Box over 60 AMP and all Romex wiring (Average)\n",
      "\t FuseF - 60 AMP Fuse Box and mostly Romex wiring (Fair)\n",
      "\t FuseP - 60 AMP Fuse Box and mostly knob & tube wiring (poor)\n",
      "\t Mix - Mixed\n",
      "\n",
      "\n",
      "SaleType: Type of sale\n",
      "\n",
      "\t WD - Warranty Deed - Conventional\n",
      "\t CWD - Warranty Deed - Cash\n",
      "\t VWD - Warranty Deed - VA Loan\n",
      "\t New - Home just constructed and sold\n",
      "\t COD - Court Officer Deed/Estate\n",
      "\t Con - Contract 15% Down payment regular terms\n",
      "\t ConLw - Contract Low Down payment and low interest\n",
      "\t ConLI - Contract Low Interest\n",
      "\t ConLD - Contract Low Down\n",
      "\t Oth - Other\n",
      "\n",
      "\n"
     ]
    }
   ],
   "source": [
    "desc = DataDescription('../data/data_description.txt')\n",
    "clean.desc = desc\n",
    "clean.print_desc(small_val_count_cat_cols)"
   ]
  },
  {
   "cell_type": "markdown",
   "metadata": {},
   "source": [
    "We'll perform the following combinations of categorical variable values:\n",
    "\n",
    "- `MSSubClass`: Change the single observation with value 150 to 50, the next most sensible value \n",
    "\n",
    "- `Condition2`: Merge `PosA`, `PosN`, `RRNn`, `RRAn`, and `RRAe` into a new value `Other`\n",
    "- `RoofMatl`: Merge `WdShake`, `WdShingle` into a new value `Wood` and `Roll`, `Metal`, `Membran` into a new value `Other`\n",
    "- `Exterior1st`, : Merge `BrkComm` into `BrkFace`, `AsphShn` into `AsbShng`, `ImStucc` into `Stucco` and  `Stone` and `CBlock` into a new value `Other`\n",
    "-  `Exterior2nd`: Merge `AsphShn` into `AsbShng` and `Stone` and `CBlock` into `Other`\n",
    "- `Heating`: Merge `Wall`, `OthW`, and `Floor` into a new variable `Other`\n",
    "\n",
    "- `MasVnrType`: Merge `BrkComm` in `BrkFace`\n",
    "- `Electrical`: Merge `FuseA`, `FuseF`, `FuseP`, and `Mix` into a new value `NonStd`"
   ]
  },
  {
   "cell_type": "code",
   "execution_count": 8,
   "metadata": {},
   "outputs": [],
   "source": [
    "# new dataframes\n",
    "clean_edit = HPDataFramePlus(data=clean.data)\n",
    "drop_edit = HPDataFramePlus(data=drop.data)\n",
    "\n",
    "# combine categorical variable values\n",
    "clean_edit.data = combine_cat_vars(data=clean.data)\n",
    "drop_edit.data = combine_cat_vars(data=drop.data)"
   ]
  },
  {
   "cell_type": "markdown",
   "metadata": {},
   "source": [
    "Now we'll look at ordinal variables"
   ]
  },
  {
   "cell_type": "code",
   "execution_count": 9,
   "metadata": {},
   "outputs": [
    {
     "name": "stdout",
     "output_type": "stream",
     "text": [
      "\n",
      "3    2915\n",
      "1       1\n",
      "Name: Utilities, dtype: int64\n",
      "\n",
      "5     825\n",
      "6     731\n",
      "7     600\n",
      "8     342\n",
      "4     225\n",
      "9     107\n",
      "3      40\n",
      "10     29\n",
      "2      13\n",
      "1       4\n",
      "Name: OverallQual, dtype: int64\n",
      "\n",
      "3    2535\n",
      "4     299\n",
      "2      67\n",
      "5      12\n",
      "1       3\n",
      "Name: ExterCond, dtype: int64\n",
      "\n",
      "3    2603\n",
      "4     122\n",
      "2     104\n",
      "0      82\n",
      "1       5\n",
      "Name: BsmtCond, dtype: int64\n",
      "\n",
      "5    1490\n",
      "3     857\n",
      "4     474\n",
      "2      92\n",
      "1       3\n",
      "Name: HeatingQC, dtype: int64\n",
      "\n",
      "0    1707\n",
      "1    1170\n",
      "2      37\n",
      "3       2\n",
      "Name: BsmtFullBath, dtype: int64\n",
      "\n",
      "0    2741\n",
      "1     171\n",
      "2       4\n",
      "Name: BsmtHalfBath, dtype: int64\n",
      "\n",
      "2    1529\n",
      "1    1308\n",
      "3      63\n",
      "0      12\n",
      "4       4\n",
      "Name: FullBath, dtype: int64\n",
      "\n",
      "3    1594\n",
      "2     741\n",
      "4     400\n",
      "1     103\n",
      "5      48\n",
      "6      21\n",
      "0       8\n",
      "8       1\n",
      "Name: BedroomAbvGr, dtype: int64\n",
      "\n",
      "1    2782\n",
      "2     129\n",
      "0       3\n",
      "3       2\n",
      "Name: KitchenAbvGr, dtype: int64\n",
      "\n",
      "2    1492\n",
      "3    1150\n",
      "4     203\n",
      "1      70\n",
      "0       1\n",
      "Name: KitchenQual, dtype: int64\n",
      "\n",
      "6     843\n",
      "7     649\n",
      "5     583\n",
      "8     347\n",
      "4     196\n",
      "9     143\n",
      "10     80\n",
      "11     31\n",
      "3      25\n",
      "12     15\n",
      "15      1\n",
      "13      1\n",
      "14      1\n",
      "2       1\n",
      "Name: TotRmsAbvGrd, dtype: int64\n",
      "\n",
      "6    2717\n",
      "3      70\n",
      "5      64\n",
      "2      35\n",
      "4      19\n",
      "1       9\n",
      "0       2\n",
      "Name: Functional, dtype: int64\n",
      "\n",
      "0    1420\n",
      "1    1267\n",
      "2     218\n",
      "3      10\n",
      "4       1\n",
      "Name: Fireplaces, dtype: int64\n",
      "\n",
      "2    1593\n",
      "1     776\n",
      "3     373\n",
      "0     157\n",
      "4      16\n",
      "5       1\n",
      "Name: GarageCars, dtype: int64\n",
      "\n",
      "3    2601\n",
      "0     159\n",
      "2     124\n",
      "4      24\n",
      "1       5\n",
      "5       3\n",
      "Name: GarageQual, dtype: int64\n",
      "\n",
      "3    2651\n",
      "0     159\n",
      "2      74\n",
      "4      15\n",
      "1      14\n",
      "5       3\n",
      "Name: GarageCond, dtype: int64\n",
      "\n",
      "0    2907\n",
      "4       4\n",
      "3       3\n",
      "1       2\n",
      "Name: PoolQC, dtype: int64\n"
     ]
    }
   ],
   "source": [
    "# print small value counts of ordinal variables\n",
    "edit_ords_data = clean.data.select_dtypes('int64')\n",
    "small_val_count_ord_cols = print_small_val_counts(edit_ords_data, val_count_threshold=6)"
   ]
  },
  {
   "cell_type": "code",
   "execution_count": 10,
   "metadata": {},
   "outputs": [
    {
     "name": "stdout",
     "output_type": "stream",
     "text": [
      "Utilities: Type of utilities available\n",
      "\n",
      "\t AllPub - All public Utilities (E,G,W,& S)\n",
      "\t NoSewr - Electricity, Gas, and Water (Septic Tank)\n",
      "\t NoSeWa - Electricity and Gas Only\n",
      "\t ELO - Electricity only\n",
      "\n",
      "\n",
      "OverallQual: Rates the overall material and finish of the house\n",
      "\n",
      "\t 10 - Very Excellent\n",
      "\t 9 - Excellent\n",
      "\t 8 - Very Good\n",
      "\t 7 - Good\n",
      "\t 6 - Above Average\n",
      "\t 5 - Average\n",
      "\t 4 - Below Average\n",
      "\t 3 - Fair\n",
      "\t 2 - Poor\n",
      "\t 1 - Very Poor\n",
      "\n",
      "\n",
      "ExterCond: Evaluates the present condition of the material on the exterior\n",
      "\n",
      "\t Ex - Excellent\n",
      "\t Gd - Good\n",
      "\t TA - Average/Typical\n",
      "\t Fa - Fair\n",
      "\t Po - Poor\n",
      "\n",
      "\n",
      "BsmtCond: Evaluates the general condition of the basement\n",
      "\n",
      "\t Ex - Excellent\n",
      "\t Gd - Good\n",
      "\t TA - Typical - slight dampness allowed\n",
      "\t Fa - Fair - dampness or some cracking or settling\n",
      "\t Po - Poor - Severe cracking, settling, or wetness\n",
      "\t NA - No Basement\n",
      "\n",
      "\n",
      "HeatingQC: Heating quality and condition\n",
      "\n",
      "\t Ex - Excellent\n",
      "\t Gd - Good\n",
      "\t TA - Average/Typical\n",
      "\t Fa - Fair\n",
      "\t Po - Poor\n",
      "\n",
      "\n",
      "BsmtFullBath: Basement full bathrooms\n",
      "\n",
      "\n",
      "\n",
      "BsmtHalfBath: Basement half bathrooms\n",
      "\n",
      "\n",
      "\n",
      "FullBath: Full bathrooms above grade\n",
      "\n",
      "\n",
      "\n",
      "BedroomAbvGr: Bedrooms above grade (does NOT include basement bedrooms)\n",
      "\n",
      "\n",
      "\n",
      "KitchenAbvGr: Kitchens above grade\n",
      "\n",
      "\n",
      "\n",
      "KitchenQual: Kitchen quality\n",
      "\n",
      "\t Ex - Excellent\n",
      "\t Gd - Good\n",
      "\t TA - Typical/Average\n",
      "\t Fa - Fair\n",
      "\t Po - Poor\n",
      "\n",
      "\n",
      "TotRmsAbvGrd: Total rooms above grade (does not include bathrooms)\n",
      "\n",
      "\n",
      "\n",
      "Functional: Home functionality (Assume typical unless deductions are warranted)\n",
      "\n",
      "\t Typ - Typical Functionality\n",
      "\t Min1 - Minor Deductions 1\n",
      "\t Min2 - Minor Deductions 2\n",
      "\t Mod - Moderate Deductions\n",
      "\t Maj1 - Major Deductions 1\n",
      "\t Maj2 - Major Deductions 2\n",
      "\t Sev - Severely Damaged\n",
      "\t Sal - Salvage only\n",
      "\n",
      "\n",
      "Fireplaces: Number of fireplaces\n",
      "\n",
      "\n",
      "\n",
      "GarageCars: Size of garage in car capacity\n",
      "\n",
      "\n",
      "\n",
      "GarageQual: Garage quality\n",
      "\n",
      "\t Ex - Excellent\n",
      "\t Gd - Good\n",
      "\t TA - Typical/Average\n",
      "\t Fa - Fair\n",
      "\t Po - Poor\n",
      "\t NA - No Garage\n",
      "\n",
      "\n",
      "GarageCond: Garage condition\n",
      "\n",
      "\t Ex - Excellent\n",
      "\t Gd - Good\n",
      "\t TA - Typical/Average\n",
      "\t Fa - Fair\n",
      "\t Po - Poor\n",
      "\t NA - No Garage\n",
      "\n",
      "\n",
      "PoolQC: Pool quality\n",
      "\n",
      "\t Ex - Excellent\n",
      "\t Gd - Good\n",
      "\t TA - Average/Typical\n",
      "\t Fa - Fair\n",
      "\t NA - No Pool\n",
      "\n",
      "\n"
     ]
    }
   ],
   "source": [
    "clean.print_desc(small_val_count_ord_cols)"
   ]
  },
  {
   "cell_type": "markdown",
   "metadata": {},
   "source": [
    "Even though many ordinal variables have values with low counts, we're less inclined to combine values because we lose ordering information. However we will drop `Utilities` from all data, since a binary variable with one observation for one value is essentially useless."
   ]
  },
  {
   "cell_type": "code",
   "execution_count": 11,
   "metadata": {},
   "outputs": [],
   "source": [
    "# drop extremely unbalanced binary variable\n",
    "clean.data = clean.data.drop(columns=['Utilities'])\n",
    "clean_edit.data = clean_edit.data.drop(columns=['Utilities'])"
   ]
  },
  {
   "cell_type": "markdown",
   "metadata": {},
   "source": [
    "We'll also create some new variables:\n",
    "\n",
    "- `Bath` = `HalfBath` + 2 * `FullBath` and drop\n",
    "`HalfBath` and `FullBath`\n",
    "- `BsmtBath` = `BsmtHalfBath` + 2 * `BsmtFullBath` and drop `BsmtHalfBath` and `BsmtFullBath`\n",
    "- `AvgQual`, the average of `OverallQual`, `ExterQual`, `BsmtQual`, `HeatingQC`, `KitchenQual`, `FireplaceQu` and `GarageQual`.\n",
    "- `AvgCond`, the average of `OverallCond`, `ExterCond`, `BsmtCond`, and `GarageCond`\n",
    "- Indicator variables `HasBsmt`, `HasFireplace`, `HasPool`, `HasGarage`, `HasFence`\n",
    "\n",
    "Note the factor of 2 in the new bath variables is so full baths are twice the weight of half baths. Also note the new average quality and condition variables will be quantitative (`float64` dtype)"
   ]
  },
  {
   "cell_type": "code",
   "execution_count": 12,
   "metadata": {},
   "outputs": [],
   "source": [
    "# create new ordinal variables\n",
    "clean_edit.data = create_ord_vars(clean_edit.data, clean.data)\n",
    "drop_edit.data = create_ord_vars(drop_edit.data, clean.data)"
   ]
  },
  {
   "cell_type": "markdown",
   "metadata": {},
   "source": [
    "Finally, we'll look at quantitative variables."
   ]
  },
  {
   "cell_type": "code",
   "execution_count": 13,
   "metadata": {},
   "outputs": [
    {
     "data": {
      "text/plain": [
       "Index(['LotFrontage', 'LotArea', 'YearBuilt', 'YearRemodAdd', 'MasVnrArea',\n",
       "       'BsmtFinSF1', 'BsmtFinSF2', 'BsmtUnfSF', 'TotalBsmtSF', '1stFlrSF',\n",
       "       '2ndFlrSF', 'LowQualFinSF', 'GrLivArea', 'GarageYrBlt', 'GarageArea',\n",
       "       'WoodDeckSF', 'OpenPorchSF', 'EnclosedPorch', '3SsnPorch',\n",
       "       'ScreenPorch', 'PoolArea', 'MiscVal', 'SalePrice'],\n",
       "      dtype='object')"
      ]
     },
     "execution_count": 13,
     "metadata": {},
     "output_type": "execute_result"
    }
   ],
   "source": [
    "quants_data = clean.data.select_dtypes('float64')\n",
    "quants_data.columns"
   ]
  },
  {
   "cell_type": "markdown",
   "metadata": {},
   "source": [
    "We [noted above](#Quantitative-variables) that many of these variables have high concentrations at zero. We'll\n",
    "\n",
    "- Create indicator variables `Has2ndFlr`, `HasWoodDeck`, `HasPorch`\n",
    "- Create an overall area variable `OverallArea` = `LotArea` + `GrLivArea` + `GarageArea`\n",
    "- Create a lot variable `LotRatio` = `LotArea` / `LotFrontage`"
   ]
  },
  {
   "cell_type": "code",
   "execution_count": 14,
   "metadata": {},
   "outputs": [],
   "source": [
    "# create new quantiative variables\n",
    "clean_edit.data = create_quant_vars(clean_edit.data, clean.data)\n",
    "drop_edit.data = create_quant_vars(drop_edit.data, clean.data)"
   ]
  },
  {
   "cell_type": "markdown",
   "metadata": {},
   "source": [
    "### Transform skewed quantitative variables"
   ]
  },
  {
   "cell_type": "markdown",
   "metadata": {},
   "source": [
    "We noted that many of the quantitative variables (including the response variable `SalePrice`)  had approximately logarithmic distributions, so we'll apply a log transformation to these. Note that we expect this to improve the performance of some predictive modeling methods (e.g. linear regression) but to have little effect on other methods (e.g. tree-based methods)."
   ]
  },
  {
   "cell_type": "code",
   "execution_count": 15,
   "metadata": {},
   "outputs": [
    {
     "data": {
      "text/plain": [
       "Index(['LotFrontage', 'LotArea', 'YearBuilt', 'YearRemodAdd', 'MasVnrArea',\n",
       "       'BsmtFinSF1', 'BsmtFinSF2', 'BsmtUnfSF', 'TotalBsmtSF', '1stFlrSF',\n",
       "       '2ndFlrSF', 'LowQualFinSF', 'GrLivArea', 'GarageYrBlt', 'GarageArea',\n",
       "       'WoodDeckSF', 'OpenPorchSF', 'EnclosedPorch', '3SsnPorch',\n",
       "       'ScreenPorch', 'PoolArea', 'MiscVal', 'SalePrice', 'AvgQual', 'AvgCond',\n",
       "       'OverallArea', 'LotRatio'],\n",
       "      dtype='object')"
      ]
     },
     "execution_count": 15,
     "metadata": {},
     "output_type": "execute_result"
    }
   ],
   "source": [
    "quants_data = clean_edit.data.select_dtypes('float64')\n",
    "quants_data.columns"
   ]
  },
  {
   "cell_type": "code",
   "execution_count": 16,
   "metadata": {},
   "outputs": [
    {
     "data": {
      "image/png": "[encoded data removed]",
      "text/plain": [
       "<Figure size 1080x1440 with 28 Axes>"
      ]
     },
     "metadata": {
      "needs_background": "light"
     },
     "output_type": "display_data"
    }
   ],
   "source": [
    "# inspect distributions of quantitatives including new ones\n",
    "plot_cont_dists(nrows=7, ncols=4, data=quants_data.drop(columns=['SalePrice']), figsize=(15, 20))"
   ]
  },
  {
   "cell_type": "code",
   "execution_count": 17,
   "metadata": {},
   "outputs": [
    {
     "name": "stdout",
     "output_type": "stream",
     "text": [
      "Minimum quantitative value is 0.0\n",
      "Minimum nonzero quantitative value is 0.4444444444444444\n"
     ]
    }
   ],
   "source": [
    "# find minimum value over all quantitatives\n",
    "quants_min_nonzero = quants_data[quants_data != 0].min().min()\n",
    "print(f\"Minimum quantitative value is {quants_data.min().min()}\")\n",
    "print(f\"Minimum nonzero quantitative value is {quants_min_nonzero}\")"
   ]
  },
  {
   "cell_type": "markdown",
   "metadata": {},
   "source": [
    "Since the minimum nonzero quantitative value is $< 1$, we must set $log(var) < log$ (`quants_min`) if $var = 0$ in order not to interfere with monotonicity"
   ]
  },
  {
   "cell_type": "code",
   "execution_count": 18,
   "metadata": {},
   "outputs": [
    {
     "data": {
      "text/plain": [
       "Index(['LotFrontage', 'LotArea', 'MasVnrArea', 'BsmtFinSF1', 'BsmtFinSF2',\n",
       "       'BsmtUnfSF', 'TotalBsmtSF', '1stFlrSF', '2ndFlrSF', 'LowQualFinSF',\n",
       "       'GrLivArea', 'WoodDeckSF', 'OpenPorchSF', 'EnclosedPorch', '3SsnPorch',\n",
       "       'ScreenPorch', 'PoolArea', 'MiscVal', 'SalePrice', 'AvgQual',\n",
       "       'OverallArea', 'LotRatio'],\n",
       "      dtype='object')"
      ]
     },
     "execution_count": 18,
     "metadata": {},
     "output_type": "execute_result"
    }
   ],
   "source": [
    "# Columns to log transform\n",
    "log_cols = quants_data.columns.drop(['YearBuilt', 'YearRemodAdd', 'GarageYrBlt', 'GarageArea', 'AvgCond'])\n",
    "log_cols"
   ]
  },
  {
   "cell_type": "code",
   "execution_count": 19,
   "metadata": {},
   "outputs": [],
   "source": [
    "# log transform SalePrice\n",
    "clean.data = log_transform(data=clean.data, log_cols=['SalePrice'])\n",
    "drop.data = log_transform(data=drop.data, log_cols=['SalePrice'])"
   ]
  },
  {
   "cell_type": "code",
   "execution_count": 20,
   "metadata": {},
   "outputs": [],
   "source": [
    "# log transform most quantitatives\n",
    "clean_edit.data = log_transform(data=clean_edit.data, log_cols=log_cols)\n",
    "drop_edit.data = log_transform(data=drop_edit.data, log_cols=log_cols)"
   ]
  },
  {
   "cell_type": "markdown",
   "metadata": {
    "toc-hr-collapsed": false
   },
   "source": [
    "## Model selection and tuning "
   ]
  },
  {
   "cell_type": "markdown",
   "metadata": {},
   "source": [
    "### Create modeling datasets"
   ]
  },
  {
   "cell_type": "code",
   "execution_count": 21,
   "metadata": {},
   "outputs": [],
   "source": [
    "# set col kinds attribute of HPDataFramePlus attribute for model data method\n",
    "do_col_kinds(drop)\n",
    "do_col_kinds(drop_edit)\n",
    "do_col_kinds(clean)\n",
    "do_col_kinds(clean_edit)"
   ]
  },
  {
   "cell_type": "code",
   "execution_count": 22,
   "metadata": {},
   "outputs": [],
   "source": [
    "# model data\n",
    "mclean = HPDataFramePlus(data=clean.get_model_data(response='log_SalePrice'))\n",
    "mclean_edit = HPDataFramePlus(data=clean_edit.get_model_data(response='log_SalePrice'))\n",
    "mdrop = HPDataFramePlus(data=drop.get_model_data(response='log_SalePrice'))\n",
    "mdrop_edit = HPDataFramePlus(data=drop_edit.get_model_data(response='log_SalePrice'))"
   ]
  },
  {
   "cell_type": "code",
   "execution_count": 23,
   "metadata": {},
   "outputs": [
    {
     "name": "stdout",
     "output_type": "stream",
     "text": [
      "<class 'pandas.core.frame.DataFrame'>\n",
      "MultiIndex: 2916 entries, (train, 1) to (test, 2919)\n",
      "Columns: 230 entries, LotFrontage to log_SalePrice\n",
      "dtypes: float64(230)\n",
      "memory usage: 5.2+ MB\n"
     ]
    }
   ],
   "source": [
    "mclean.data.info()"
   ]
  },
  {
   "cell_type": "code",
   "execution_count": 24,
   "metadata": {},
   "outputs": [
    {
     "name": "stdout",
     "output_type": "stream",
     "text": [
      "<class 'pandas.core.frame.DataFrame'>\n",
      "MultiIndex: 2916 entries, (train, 1) to (test, 2919)\n",
      "Columns: 222 entries, LotShape to log_SalePrice\n",
      "dtypes: float64(222)\n",
      "memory usage: 5.0+ MB\n"
     ]
    }
   ],
   "source": [
    "mclean_edit.data.info()"
   ]
  },
  {
   "cell_type": "code",
   "execution_count": 25,
   "metadata": {},
   "outputs": [
    {
     "name": "stdout",
     "output_type": "stream",
     "text": [
      "<class 'pandas.core.frame.DataFrame'>\n",
      "MultiIndex: 2916 entries, (train, 1) to (test, 2919)\n",
      "Columns: 173 entries, LotFrontage to log_SalePrice\n",
      "dtypes: float64(173)\n",
      "memory usage: 4.0+ MB\n"
     ]
    }
   ],
   "source": [
    "mdrop.data.info()"
   ]
  },
  {
   "cell_type": "code",
   "execution_count": 26,
   "metadata": {},
   "outputs": [
    {
     "name": "stdout",
     "output_type": "stream",
     "text": [
      "<class 'pandas.core.frame.DataFrame'>\n",
      "MultiIndex: 2916 entries, (train, 1) to (test, 2919)\n",
      "Columns: 176 entries, LotShape to log_SalePrice\n",
      "dtypes: float64(176)\n",
      "memory usage: 4.0+ MB\n"
     ]
    }
   ],
   "source": [
    "mdrop_edit.data.info()"
   ]
  },
  {
   "cell_type": "markdown",
   "metadata": {},
   "source": [
    "### Compare default models for baseline"
   ]
  },
  {
   "cell_type": "code",
   "execution_count": 1295,
   "metadata": {},
   "outputs": [],
   "source": [
    "hpdfs = [mdrop, mclean, mdrop_edit, mclean_edit]\n",
    "data_names = ['clean', 'clean_edit', 'drop', 'drop_edit']\n",
    "response = 'log_SalePrice'\n",
    "model_data = build_model_data(hpdfs, data_names, response)"
   ]
  },
  {
   "cell_type": "markdown",
   "metadata": {},
   "source": [
    "First we'll look at a selection of untuned models with default parameters to get a rough idea of which ones might have better performance. \n",
    "\n",
    "We'll use root mean squared error (RMSE) for our loss function. Since we have a relatively small dataset, we'll use cross-validation to estimate rmse for test data."
   ]
  },
  {
   "cell_type": "code",
   "execution_count": 1270,
   "metadata": {},
   "outputs": [],
   "source": [
    "# fit some default regressor models\n",
    "def_models = {'lasso': Lasso(), \n",
    "              'ridge': Ridge(),\n",
    "              'bridge': BayesianRidge(),\n",
    "              'pls': PLSRegression(), \n",
    "              'svr': SVR(),\n",
    "              'knn': KNeighborsRegressor(),\n",
    "              'mlp': MLPRegressor(),\n",
    "              'dectree': DecisionTreeRegressor(random_state=27),\n",
    "              'extratree': ExtraTreeRegressor(random_state=27),\n",
    "              'xgb': XGBRegressor(objective='reg:squarederror', random_state=27, n_jobs=-1)}\n",
    "\n",
    "\n",
    "fit_def_models = fit_default_models(model_data, def_models)"
   ]
  },
  {
   "cell_type": "code",
   "execution_count": 361,
   "metadata": {},
   "outputs": [
    {
     "data": {
      "text/html": [
       "<div>\n",
       "<style scoped>\n",
       "    .dataframe tbody tr th:only-of-type {\n",
       "        vertical-align: middle;\n",
       "    }\n",
       "\n",
       "    .dataframe tbody tr th {\n",
       "        vertical-align: top;\n",
       "    }\n",
       "\n",
       "    .dataframe thead tr th {\n",
       "        text-align: left;\n",
       "    }\n",
       "</style>\n",
       "<table border=\"1\" class=\"dataframe\">\n",
       "  <thead>\n",
       "    <tr>\n",
       "      <th>data</th>\n",
       "      <th>model</th>\n",
       "      <th colspan=\"2\" halign=\"left\">clean</th>\n",
       "      <th colspan=\"2\" halign=\"left\">clean_edit</th>\n",
       "      <th colspan=\"2\" halign=\"left\">drop</th>\n",
       "      <th colspan=\"2\" halign=\"left\">drop_edit</th>\n",
       "    </tr>\n",
       "    <tr>\n",
       "      <th>performance</th>\n",
       "      <th></th>\n",
       "      <th>train_rmse</th>\n",
       "      <th>cv_rmse</th>\n",
       "      <th>train_rmse</th>\n",
       "      <th>cv_rmse</th>\n",
       "      <th>train_rmse</th>\n",
       "      <th>cv_rmse</th>\n",
       "      <th>train_rmse</th>\n",
       "      <th>cv_rmse</th>\n",
       "    </tr>\n",
       "  </thead>\n",
       "  <tbody>\n",
       "    <tr>\n",
       "      <td>0</td>\n",
       "      <td>bridge</td>\n",
       "      <td>0.0988284</td>\n",
       "      <td>0.113894</td>\n",
       "      <td>0.0950012</td>\n",
       "      <td>0.113865</td>\n",
       "      <td>0.0996576</td>\n",
       "      <td>0.115611</td>\n",
       "      <td>0.094478</td>\n",
       "      <td>0.112772</td>\n",
       "    </tr>\n",
       "    <tr>\n",
       "      <td>1</td>\n",
       "      <td>ridge</td>\n",
       "      <td>0.099311</td>\n",
       "      <td>0.115138</td>\n",
       "      <td>0.0948572</td>\n",
       "      <td>0.115236</td>\n",
       "      <td>0.0998434</td>\n",
       "      <td>0.115406</td>\n",
       "      <td>0.094225</td>\n",
       "      <td>0.113042</td>\n",
       "    </tr>\n",
       "    <tr>\n",
       "      <td>2</td>\n",
       "      <td>xgb</td>\n",
       "      <td>0.0895599</td>\n",
       "      <td>0.124298</td>\n",
       "      <td>0.0853461</td>\n",
       "      <td>0.122917</td>\n",
       "      <td>0.0889219</td>\n",
       "      <td>0.127014</td>\n",
       "      <td>0.0876669</td>\n",
       "      <td>0.12496</td>\n",
       "    </tr>\n",
       "    <tr>\n",
       "      <td>3</td>\n",
       "      <td>pls</td>\n",
       "      <td>0.127452</td>\n",
       "      <td>0.132957</td>\n",
       "      <td>0.122064</td>\n",
       "      <td>0.128746</td>\n",
       "      <td>0.133912</td>\n",
       "      <td>0.139504</td>\n",
       "      <td>0.130416</td>\n",
       "      <td>0.136256</td>\n",
       "    </tr>\n",
       "    <tr>\n",
       "      <td>4</td>\n",
       "      <td>svr</td>\n",
       "      <td>0.123251</td>\n",
       "      <td>0.133663</td>\n",
       "      <td>0.122741</td>\n",
       "      <td>0.133945</td>\n",
       "      <td>0.123082</td>\n",
       "      <td>0.133594</td>\n",
       "      <td>0.120197</td>\n",
       "      <td>0.131401</td>\n",
       "    </tr>\n",
       "    <tr>\n",
       "      <td>5</td>\n",
       "      <td>mlp</td>\n",
       "      <td>0.126942</td>\n",
       "      <td>0.174147</td>\n",
       "      <td>0.115585</td>\n",
       "      <td>0.165511</td>\n",
       "      <td>0.168861</td>\n",
       "      <td>0.169247</td>\n",
       "      <td>0.124965</td>\n",
       "      <td>0.167637</td>\n",
       "    </tr>\n",
       "    <tr>\n",
       "      <td>6</td>\n",
       "      <td>knn</td>\n",
       "      <td>0.161079</td>\n",
       "      <td>0.201551</td>\n",
       "      <td>0.164677</td>\n",
       "      <td>0.207581</td>\n",
       "      <td>0.153466</td>\n",
       "      <td>0.188967</td>\n",
       "      <td>0.153413</td>\n",
       "      <td>0.192573</td>\n",
       "    </tr>\n",
       "    <tr>\n",
       "      <td>7</td>\n",
       "      <td>dectree</td>\n",
       "      <td>2.52372e-05</td>\n",
       "      <td>0.207824</td>\n",
       "      <td>2.93011e-05</td>\n",
       "      <td>0.195993</td>\n",
       "      <td>2.48969e-05</td>\n",
       "      <td>0.194607</td>\n",
       "      <td>3.15449e-05</td>\n",
       "      <td>0.197452</td>\n",
       "    </tr>\n",
       "    <tr>\n",
       "      <td>8</td>\n",
       "      <td>extratree</td>\n",
       "      <td>1.40429e-05</td>\n",
       "      <td>0.214942</td>\n",
       "      <td>2.26808e-05</td>\n",
       "      <td>0.216191</td>\n",
       "      <td>1.87349e-05</td>\n",
       "      <td>0.21369</td>\n",
       "      <td>1.66016e-05</td>\n",
       "      <td>0.203561</td>\n",
       "    </tr>\n",
       "    <tr>\n",
       "      <td>9</td>\n",
       "      <td>lasso</td>\n",
       "      <td>0.399557</td>\n",
       "      <td>0.400008</td>\n",
       "      <td>0.399557</td>\n",
       "      <td>0.399797</td>\n",
       "      <td>0.399557</td>\n",
       "      <td>0.3999</td>\n",
       "      <td>0.399557</td>\n",
       "      <td>0.40001</td>\n",
       "    </tr>\n",
       "  </tbody>\n",
       "</table>\n",
       "</div>"
      ],
      "text/plain": [
       "data             model        clean             clean_edit            \\\n",
       "performance              train_rmse   cv_rmse   train_rmse   cv_rmse   \n",
       "0               bridge    0.0988284  0.113894    0.0950012  0.113865   \n",
       "1                ridge     0.099311  0.115138    0.0948572  0.115236   \n",
       "2                  xgb    0.0895599  0.124298    0.0853461  0.122917   \n",
       "3                  pls     0.127452  0.132957     0.122064  0.128746   \n",
       "4                  svr     0.123251  0.133663     0.122741  0.133945   \n",
       "5                  mlp     0.126942  0.174147     0.115585  0.165511   \n",
       "6                  knn     0.161079  0.201551     0.164677  0.207581   \n",
       "7              dectree  2.52372e-05  0.207824  2.93011e-05  0.195993   \n",
       "8            extratree  1.40429e-05  0.214942  2.26808e-05  0.216191   \n",
       "9                lasso     0.399557  0.400008     0.399557  0.399797   \n",
       "\n",
       "data                drop              drop_edit            \n",
       "performance   train_rmse   cv_rmse   train_rmse   cv_rmse  \n",
       "0              0.0996576  0.115611     0.094478  0.112772  \n",
       "1              0.0998434  0.115406     0.094225  0.113042  \n",
       "2              0.0889219  0.127014    0.0876669   0.12496  \n",
       "3               0.133912  0.139504     0.130416  0.136256  \n",
       "4               0.123082  0.133594     0.120197  0.131401  \n",
       "5               0.168861  0.169247     0.124965  0.167637  \n",
       "6               0.153466  0.188967     0.153413  0.192573  \n",
       "7            2.48969e-05  0.194607  3.15449e-05  0.197452  \n",
       "8            1.87349e-05   0.21369  1.66016e-05  0.203561  \n",
       "9               0.399557    0.3999     0.399557   0.40001  "
      ]
     },
     "execution_count": 361,
     "metadata": {},
     "output_type": "execute_result"
    }
   ],
   "source": [
    "# compare default models \n",
    "def_comp_df = compare_performance(fit_def_models, model_data, random_state=27)\n",
    "def_comp_df.sort_values(by=('clean', 'cv_rmse')).reset_index(drop=True)"
   ]
  },
  {
   "cell_type": "markdown",
   "metadata": {},
   "source": [
    "We note that `linear` (linear regression) had an extremely high cross-validation rmse estimate relative to the other models, although it did achieve roughly an order of magnitude improvement on the feature/selected engineered dataset `edit`. Since its estimated test performance is 8 orders of magnitude worse than the other models we'll drop it from consideration, and focus on the other models"
   ]
  },
  {
   "cell_type": "code",
   "execution_count": 362,
   "metadata": {},
   "outputs": [
    {
     "data": {
      "image/png": "[encoded data removed]",
      "text/plain": [
       "<Figure size 803.75x720 with 4 Axes>"
      ]
     },
     "metadata": {},
     "output_type": "display_data"
    }
   ],
   "source": [
    "# compare train and cv performance for each dataset\n",
    "data_palette = {'train_rmse': 'cornflowerblue', 'cv_rmse': 'midnightblue'}\n",
    "plot_model_comp(def_comp_df, col='data', hue='performance', kind='bar',\n",
    "                palette=data_palette, col_wrap=2)"
   ]
  },
  {
   "cell_type": "markdown",
   "metadata": {},
   "source": [
    "Unsurprisingly, all models (with the exception of `lasso` regression) had worse CV error than train error. However, for some models the difference was much greater, and these are likely overfitting. In particular, `dectree`, `extratree` had cv error roughly 5 orders of magnitude greater than train error, and `mlp`, `knn`, and `xgb` also saw significant increases.\n",
    "\n",
    "The other models (`ridge`, `bridge`, `pls` and `svr`) saw slighter differences in cv and train errors, and are thus less likely overfitting."
   ]
  },
  {
   "cell_type": "code",
   "execution_count": 363,
   "metadata": {},
   "outputs": [
    {
     "data": {
      "image/png": "[encoded data removed]",
      "text/plain": [
       "<Figure size 801.875x360 with 2 Axes>"
      ]
     },
     "metadata": {},
     "output_type": "display_data"
    }
   ],
   "source": [
    "# compare train and cv error across datasets\n",
    "perf_palette = {'drop': 'midnightblue', 'clean': 'forestgreen', 'drop_edit': 'crimson', \n",
    "           'clean_edit': 'darkorange'}\n",
    "plot_model_comp(def_comp_df, col='performance', hue='data', kind='bar',\n",
    "                palette=perf_palette)"
   ]
  },
  {
   "cell_type": "markdown",
   "metadata": {},
   "source": [
    "It's interesting to note that, while there was a slight decrease for all models (with the exception of `knn`) in cv rmse when dropping features (i.e. performance on `drop`) the decrease was slight. In fact, for the best performing model, `ridge` (ridge regression) there was a slight improvement. The top two models `ridge` and `bridge` (Bayesian ridge regression) performed better when variables were dropped. This was expected, since these are both regularized linear models."
   ]
  },
  {
   "cell_type": "code",
   "execution_count": 364,
   "metadata": {},
   "outputs": [
    {
     "data": {
      "text/html": [
       "<div>\n",
       "<style scoped>\n",
       "    .dataframe tbody tr th:only-of-type {\n",
       "        vertical-align: middle;\n",
       "    }\n",
       "\n",
       "    .dataframe tbody tr th {\n",
       "        vertical-align: top;\n",
       "    }\n",
       "\n",
       "    .dataframe thead tr th {\n",
       "        text-align: left;\n",
       "    }\n",
       "</style>\n",
       "<table border=\"1\" class=\"dataframe\">\n",
       "  <thead>\n",
       "    <tr>\n",
       "      <th>data</th>\n",
       "      <th>model</th>\n",
       "      <th>clean</th>\n",
       "      <th>clean_edit</th>\n",
       "      <th>drop</th>\n",
       "      <th>drop_edit</th>\n",
       "    </tr>\n",
       "    <tr>\n",
       "      <th>performance</th>\n",
       "      <th></th>\n",
       "      <th>cv_rmse</th>\n",
       "      <th>cv_rmse</th>\n",
       "      <th>cv_rmse</th>\n",
       "      <th>cv_rmse</th>\n",
       "    </tr>\n",
       "  </thead>\n",
       "  <tbody>\n",
       "    <tr>\n",
       "      <td>2</td>\n",
       "      <td>bridge</td>\n",
       "      <td>0.113894</td>\n",
       "      <td>0.113865</td>\n",
       "      <td>0.115611</td>\n",
       "      <td>0.112772</td>\n",
       "    </tr>\n",
       "    <tr>\n",
       "      <td>1</td>\n",
       "      <td>ridge</td>\n",
       "      <td>0.115138</td>\n",
       "      <td>0.115236</td>\n",
       "      <td>0.115406</td>\n",
       "      <td>0.113042</td>\n",
       "    </tr>\n",
       "    <tr>\n",
       "      <td>9</td>\n",
       "      <td>xgb</td>\n",
       "      <td>0.124298</td>\n",
       "      <td>0.122917</td>\n",
       "      <td>0.127014</td>\n",
       "      <td>0.12496</td>\n",
       "    </tr>\n",
       "    <tr>\n",
       "      <td>3</td>\n",
       "      <td>pls</td>\n",
       "      <td>0.132957</td>\n",
       "      <td>0.128746</td>\n",
       "      <td>0.139504</td>\n",
       "      <td>0.136256</td>\n",
       "    </tr>\n",
       "    <tr>\n",
       "      <td>4</td>\n",
       "      <td>svr</td>\n",
       "      <td>0.133663</td>\n",
       "      <td>0.133945</td>\n",
       "      <td>0.133594</td>\n",
       "      <td>0.131401</td>\n",
       "    </tr>\n",
       "    <tr>\n",
       "      <td>6</td>\n",
       "      <td>mlp</td>\n",
       "      <td>0.174147</td>\n",
       "      <td>0.165511</td>\n",
       "      <td>0.169247</td>\n",
       "      <td>0.167637</td>\n",
       "    </tr>\n",
       "    <tr>\n",
       "      <td>5</td>\n",
       "      <td>knn</td>\n",
       "      <td>0.201551</td>\n",
       "      <td>0.207581</td>\n",
       "      <td>0.188967</td>\n",
       "      <td>0.192573</td>\n",
       "    </tr>\n",
       "    <tr>\n",
       "      <td>7</td>\n",
       "      <td>dectree</td>\n",
       "      <td>0.207824</td>\n",
       "      <td>0.195993</td>\n",
       "      <td>0.194607</td>\n",
       "      <td>0.197452</td>\n",
       "    </tr>\n",
       "    <tr>\n",
       "      <td>8</td>\n",
       "      <td>extratree</td>\n",
       "      <td>0.214942</td>\n",
       "      <td>0.216191</td>\n",
       "      <td>0.21369</td>\n",
       "      <td>0.203561</td>\n",
       "    </tr>\n",
       "    <tr>\n",
       "      <td>0</td>\n",
       "      <td>lasso</td>\n",
       "      <td>0.400008</td>\n",
       "      <td>0.399797</td>\n",
       "      <td>0.3999</td>\n",
       "      <td>0.40001</td>\n",
       "    </tr>\n",
       "  </tbody>\n",
       "</table>\n",
       "</div>"
      ],
      "text/plain": [
       "data             model     clean clean_edit      drop drop_edit\n",
       "performance              cv_rmse    cv_rmse   cv_rmse   cv_rmse\n",
       "2               bridge  0.113894   0.113865  0.115611  0.112772\n",
       "1                ridge  0.115138   0.115236  0.115406  0.113042\n",
       "9                  xgb  0.124298   0.122917  0.127014   0.12496\n",
       "3                  pls  0.132957   0.128746  0.139504  0.136256\n",
       "4                  svr  0.133663   0.133945  0.133594  0.131401\n",
       "6                  mlp  0.174147   0.165511  0.169247  0.167637\n",
       "5                  knn  0.201551   0.207581  0.188967  0.192573\n",
       "7              dectree  0.207824   0.195993  0.194607  0.197452\n",
       "8            extratree  0.214942   0.216191   0.21369  0.203561\n",
       "0                lasso  0.400008   0.399797    0.3999   0.40001"
      ]
     },
     "execution_count": 364,
     "metadata": {},
     "output_type": "execute_result"
    }
   ],
   "source": [
    "drop_cols = [(data_name, 'train_rmse') for data_name in data_names]\n",
    "def_comp_df.drop(columns=drop_cols).sort_values(by=('clean', 'cv_rmse'))"
   ]
  },
  {
   "cell_type": "markdown",
   "metadata": {},
   "source": [
    "Almost all models had an improvement in cv rmse when features were added, so it appears the feature engineering was warranted. \n",
    "\n",
    "The top five models were consistent across all four versions of the dataset, namely `ridge`, `bridge`, `xgb`, `svr`, and `pls`, which are ridge, Bayesian ridge, gradient boosted decision tree, support vector and partial least squared regressors, respectively. Each of these saw an improvement when features were added, so we'll tune them on those versions of the data (`clean_edit` and `drop_edit`). Note that `xgb` and `pls` were slightly better on `clean_edit`, while `ridge`, `bridge`, and `svr` were slightly better on  `drop_edit`."
   ]
  },
  {
   "cell_type": "markdown",
   "metadata": {
    "toc-hr-collapsed": false
   },
   "source": [
    "### Tune best individual models"
   ]
  },
  {
   "cell_type": "markdown",
   "metadata": {},
   "source": [
    "Here we'll focus on tuning the most promising models from the [last section](#Compare-models). We'll use both `clean_edit` and `drop_edit` since some models performed better on the former and some on the latter."
   ]
  },
  {
   "cell_type": "code",
   "execution_count": 1352,
   "metadata": {},
   "outputs": [],
   "source": [
    "# retain top 5 models\n",
    "drop_models = ['lasso', 'dectree', 'extratree', 'knn', 'mlp']\n",
    "models = remove_models(fit_def_models, drop_models)"
   ]
  },
  {
   "cell_type": "code",
   "execution_count": 1353,
   "metadata": {},
   "outputs": [
    {
     "name": "stdout",
     "output_type": "stream",
     "text": [
      "Promising models are ['ridge', 'bridge', 'pls', 'svr', 'xgb']\n"
     ]
    }
   ],
   "source": [
    "try:\n",
    "    # drop models for clean and drop data\n",
    "    models.pop('clean')\n",
    "    models.pop('drop')\n",
    "    # drop clean and drop data\n",
    "    model_data.pop('clean')\n",
    "    model_data.pop('drop')\n",
    "except KeyError:\n",
    "    pass\n",
    "\n",
    "print(f'Promising models are {list(models[\"clean_edit\"].keys())}')"
   ]
  },
  {
   "cell_type": "code",
   "execution_count": 1354,
   "metadata": {},
   "outputs": [],
   "source": [
    "# train test input output for clean_edit (y_test values are NaN)\n",
    "X_ce_train = model_data['clean_edit']['X_clean_edit_train']\n",
    "X_ce_test = model_data['clean_edit']['X_clean_edit_test']\n",
    "y_ce_train = model_data['clean_edit']['y_clean_edit_train']\n",
    "\n",
    "# train test input output for drop_edit\n",
    "X_de_train = model_data['drop_edit']['X_drop_edit_train']\n",
    "X_de_test = model_data['drop_edit']['X_drop_edit_test']\n",
    "y_de_train = model_data['drop_edit']['y_drop_edit_train']"
   ]
  },
  {
   "cell_type": "markdown",
   "metadata": {
    "toc-hr-collapsed": false
   },
   "source": [
    "#### Ridge regression"
   ]
  },
  {
   "cell_type": "markdown",
   "metadata": {},
   "source": [
    "[Ridge regression](https://scikit-learn.org/stable/modules/linear_model.html#ridge-regression) is linear least squares with an $\\ell_2$ regularization term. We'll fit default ridge regression models and then tune for comparison."
   ]
  },
  {
   "cell_type": "code",
   "execution_count": 1355,
   "metadata": {},
   "outputs": [],
   "source": [
    "# Default ridge regression models\n",
    "ridge_models = defaultdict(dict)\n",
    "ridge_models['clean_edit']['ridge_def'] = Ridge().fit(X_ce_train, y_ce_train)\n",
    "ridge_models['drop_edit']['ridge_def'] = Ridge().fit(X_de_train, y_de_train)"
   ]
  },
  {
   "cell_type": "markdown",
   "metadata": {},
   "source": [
    "Bayesian hyperparameter optimization is an efficient tuning method. We'll optimize with respect to cv rmse"
   ]
  },
  {
   "cell_type": "code",
   "execution_count": 1356,
   "metadata": {},
   "outputs": [],
   "source": [
    "# ridge regression hyperparameters search space\n",
    "ridge_space = {'alpha': hp.loguniform('alpha', low=-3*np.log(10), high=2*np.log(10))}\n",
    "\n",
    "# container for hyperparameter search trials and results\n",
    "model_ho_results = defaultdict(dict)\n",
    "\n",
    "# store trial objects for restarting training\n",
    "model_ho_results['clean_edit']['ridge_tuned'] = {'trials': Trials(), 'params': None}\n",
    "model_ho_results['drop_edit']['ridge_tuned'] = {'trials': Trials(), 'params': None}"
   ]
  },
  {
   "cell_type": "code",
   "execution_count": 1357,
   "metadata": {},
   "outputs": [
    {
     "name": "stdout",
     "output_type": "stream",
     "text": [
      "100%|██████████| 100/100 [00:08<00:00, 12.33it/s, best loss: 0.11346612566425507]\n",
      "100%|██████████| 100/100 [00:08<00:00, 11.89it/s, best loss: 0.11253077649667956]\n"
     ]
    }
   ],
   "source": [
    "# optimize hyperparameters\n",
    "model_ho_results['clean_edit']['ridge_tuned'] = \\\n",
    "                ho_results(obj=ho_cv_rmse, space=ridge_space, \n",
    "                           est_name='ridge', X_train=X_ce_train, \n",
    "                           y_train=y_ce_train, \n",
    "                           max_evals=100, random_state=27,\n",
    "                           trials=model_ho_results['clean_edit']['ridge_tuned']['trials'])\n",
    "model_ho_results['drop_edit']['ridge_tuned'] = \\\n",
    "                ho_results(obj=ho_cv_rmse, space=ridge_space, \n",
    "                           est_name='ridge', X_train=X_de_train, \n",
    "                           y_train=y_de_train, \n",
    "                           max_evals=100, random_state=27,\n",
    "                           trials=model_ho_results['drop_edit']['ridge_tuned']['trials'])"
   ]
  },
  {
   "cell_type": "code",
   "execution_count": 1358,
   "metadata": {},
   "outputs": [
    {
     "data": {
      "text/plain": [
       "Ridge(alpha=1.6673587331032313, copy_X=True, fit_intercept=True, max_iter=None,\n",
       "      normalize=False, random_state=None, solver='auto', tol=0.001)"
      ]
     },
     "execution_count": 1358,
     "metadata": {},
     "output_type": "execute_result"
    }
   ],
   "source": [
    "# create and fit models with optimal hyperparameters\n",
    "ridge_models['clean_edit']['ridge_tuned'] = \\\n",
    "                    Ridge(**model_ho_results['clean_edit']['ridge_tuned']['params'])\n",
    "ridge_models['drop_edit']['ridge_tuned'] = \\\n",
    "                    Ridge(**model_ho_results['drop_edit']['ridge_tuned']['params'])\n",
    "ridge_models['clean_edit']['ridge_tuned'].fit(X_ce_train, y_ce_train)\n",
    "ridge_models['drop_edit']['ridge_tuned'].fit(X_de_train, y_de_train)"
   ]
  },
  {
   "cell_type": "code",
   "execution_count": 1359,
   "metadata": {},
   "outputs": [
    {
     "data": {
      "text/html": [
       "<div>\n",
       "<style scoped>\n",
       "    .dataframe tbody tr th:only-of-type {\n",
       "        vertical-align: middle;\n",
       "    }\n",
       "\n",
       "    .dataframe tbody tr th {\n",
       "        vertical-align: top;\n",
       "    }\n",
       "\n",
       "    .dataframe thead th {\n",
       "        text-align: right;\n",
       "    }\n",
       "</style>\n",
       "<table border=\"1\" class=\"dataframe\">\n",
       "  <thead>\n",
       "    <tr style=\"text-align: right;\">\n",
       "      <th></th>\n",
       "      <th>model</th>\n",
       "      <th>train_rmse</th>\n",
       "      <th>cv_rmse</th>\n",
       "    </tr>\n",
       "  </thead>\n",
       "  <tbody>\n",
       "    <tr>\n",
       "      <td>1</td>\n",
       "      <td>ridge_tuned</td>\n",
       "      <td>0.0950429</td>\n",
       "      <td>0.112531</td>\n",
       "    </tr>\n",
       "    <tr>\n",
       "      <td>0</td>\n",
       "      <td>ridge_def</td>\n",
       "      <td>0.094225</td>\n",
       "      <td>0.112878</td>\n",
       "    </tr>\n",
       "  </tbody>\n",
       "</table>\n",
       "</div>"
      ],
      "text/plain": [
       "         model train_rmse   cv_rmse\n",
       "1  ridge_tuned  0.0950429  0.112531\n",
       "0    ridge_def   0.094225  0.112878"
      ]
     },
     "execution_count": 1359,
     "metadata": {},
     "output_type": "execute_result"
    }
   ],
   "source": [
    "# compare Ridge regression models\n",
    "ridge_comp_df = compare_model_performance(ridge_models, model_data, \n",
    "                                          random_state=27)\n",
    "ridge_comp_df.sort_values(by='cv_rmse')"
   ]
  },
  {
   "cell_type": "markdown",
   "metadata": {},
   "source": [
    "The ridge regression model trained on the `drop_edit` dataset and tuned with Bayesian search had the best cv rmse. we not that it also had higher train rmse, which is promising (a lower train rmse might indicate overfitting)."
   ]
  },
  {
   "cell_type": "markdown",
   "metadata": {},
   "source": [
    "Since ridge regression is just linear regression with a regularization term, it's relatively straightfoward to interpret. We'll rank the features of the best model their coefficient weights."
   ]
  },
  {
   "cell_type": "code",
   "execution_count": 1360,
   "metadata": {},
   "outputs": [
    {
     "data": {
      "image/png": "[encoded data removed]",
      "text/plain": [
       "<Figure size 1080x720 with 2 Axes>"
      ]
     },
     "metadata": {},
     "output_type": "display_data"
    }
   ],
   "source": [
    "# Top and bottom 10 features in best ridge model\n",
    "rank_features(ridge_models['drop_edit']['ridge_tuned'], 'ridge regression', X_de_train, 10,\n",
    "             figsize=(15, 10), rotation=90)"
   ]
  },
  {
   "cell_type": "markdown",
   "metadata": {},
   "source": [
    "The rankings of most positive feature weights are not too suprising. The most postively weighted feature was overall quality. We note condition variables and size variables are prominent. \n",
    "\n",
    "The rankings of most negative feature weights are perhaps more surprising, in particular the presence of a basement and number of kitchens. Interestingly, several neighborhoods stand out as having a negative association with sale price. The most negatively weighted feature was the property being zoned commericial. "
   ]
  },
  {
   "cell_type": "code",
   "execution_count": 1361,
   "metadata": {},
   "outputs": [],
   "source": [
    "# add tuned ridge models\n",
    "models['clean_edit']['ridge_tuned'] = ridge_models['clean_edit']['ridge_tuned']\n",
    "models['drop_edit']['ridge_tuned'] = ridge_models['drop_edit']['ridge_tuned']"
   ]
  },
  {
   "cell_type": "markdown",
   "metadata": {
    "toc-hr-collapsed": false
   },
   "source": [
    "#### Bayesian Ridge regression"
   ]
  },
  {
   "cell_type": "markdown",
   "metadata": {},
   "source": [
    "[Bayesian ridge regression](https://scikit-learn.org/stable/modules/linear_model.html#bayesian-regression)\n",
    "is similar to ridge regression except it uses Bayesian methods to estimate the regularization parameter $\\lambda$ from the data."
   ]
  },
  {
   "cell_type": "code",
   "execution_count": 1362,
   "metadata": {},
   "outputs": [],
   "source": [
    "# Default Bayesian Ridge models\n",
    "bridge_models = defaultdict(dict)\n",
    "bridge_models['clean_edit']['bridge_def'] = BayesianRidge().fit(X_ce_train, y_ce_train)\n",
    "bridge_models['drop_edit']['bridge_def'] = BayesianRidge().fit(X_de_train, y_de_train)"
   ]
  },
  {
   "cell_type": "code",
   "execution_count": 1363,
   "metadata": {},
   "outputs": [],
   "source": [
    "# bayesian ridge regression hyperparameter space\n",
    "bridge_space = {'alpha_1': hp.loguniform('alpha_1', low=-9*np.log(10), high=3*np.log(10)),\n",
    "                'alpha_2': hp.loguniform('alpha_2', low=-9*np.log(10), high=3*np.log(10)),\n",
    "                'lambda_1': hp.loguniform('lambda_1', low=-9*np.log(10), high=3*np.log(10)),\n",
    "                'lambda_2': hp.loguniform('lambda_2', low=-9*np.log(10), high=3*np.log(10))}\n",
    "\n",
    "# store trial objects for restarting training\n",
    "model_ho_results['clean_edit']['bridge_tuned'] = {'trials': Trials(), 'params': None}\n",
    "model_ho_results['drop_edit']['bridge_tuned'] = {'trials': Trials(), 'params': None}"
   ]
  },
  {
   "cell_type": "code",
   "execution_count": 1364,
   "metadata": {},
   "outputs": [
    {
     "name": "stdout",
     "output_type": "stream",
     "text": [
      "100%|██████████| 100/100 [00:43<00:00,  2.27it/s, best loss: 0.11349667251913752]\n",
      "100%|██████████| 100/100 [00:38<00:00,  2.60it/s, best loss: 0.11261749539381212]\n"
     ]
    }
   ],
   "source": [
    "# optimize hyperparameters\n",
    "model_ho_results['clean_edit']['bridge_tuned'] = \\\n",
    "                ho_results(obj=ho_cv_rmse, space=bridge_space, \n",
    "                           est_name='bridge', X_train=X_ce_train, \n",
    "                           y_train=y_ce_train, \n",
    "                           max_evals=100, random_state=27,\n",
    "                           trials=model_ho_results['clean_edit']['bridge_tuned']['trials'])\n",
    "model_ho_results['drop_edit']['bridge_tuned'] = \\\n",
    "                ho_results(obj=ho_cv_rmse, space=bridge_space, \n",
    "                           est_name='bridge', X_train=X_de_train, \n",
    "                           y_train=y_de_train, \n",
    "                           max_evals=100, random_state=27,\n",
    "                           trials=model_ho_results['drop_edit']['bridge_tuned']['trials'])"
   ]
  },
  {
   "cell_type": "code",
   "execution_count": 1365,
   "metadata": {},
   "outputs": [
    {
     "data": {
      "text/plain": [
       "BayesianRidge(alpha_1=22.6534085701156, alpha_2=3.6979502365693664,\n",
       "              compute_score=False, copy_X=True, fit_intercept=True,\n",
       "              lambda_1=8.069990060414428, lambda_2=0.35567100891136666,\n",
       "              n_iter=300, normalize=False, tol=0.001, verbose=False)"
      ]
     },
     "execution_count": 1365,
     "metadata": {},
     "output_type": "execute_result"
    }
   ],
   "source": [
    "# add and fit models with optimal hyperparameters\n",
    "bridge_models['clean_edit']['bridge_tuned'] = \\\n",
    "            BayesianRidge(**model_ho_results['clean_edit']['bridge_tuned']['params'])\n",
    "bridge_models['drop_edit']['bridge_tuned'] = \\\n",
    "            BayesianRidge(**model_ho_results['drop_edit']['bridge_tuned']['params'])\n",
    "bridge_models['clean_edit']['bridge_tuned'].fit(X_ce_train, y_ce_train)\n",
    "bridge_models['drop_edit']['bridge_tuned'].fit(X_de_train, y_de_train)"
   ]
  },
  {
   "cell_type": "code",
   "execution_count": 1366,
   "metadata": {},
   "outputs": [
    {
     "data": {
      "text/html": [
       "<div>\n",
       "<style scoped>\n",
       "    .dataframe tbody tr th:only-of-type {\n",
       "        vertical-align: middle;\n",
       "    }\n",
       "\n",
       "    .dataframe tbody tr th {\n",
       "        vertical-align: top;\n",
       "    }\n",
       "\n",
       "    .dataframe thead th {\n",
       "        text-align: right;\n",
       "    }\n",
       "</style>\n",
       "<table border=\"1\" class=\"dataframe\">\n",
       "  <thead>\n",
       "    <tr style=\"text-align: right;\">\n",
       "      <th></th>\n",
       "      <th>model</th>\n",
       "      <th>train_rmse</th>\n",
       "      <th>cv_rmse</th>\n",
       "    </tr>\n",
       "  </thead>\n",
       "  <tbody>\n",
       "    <tr>\n",
       "      <td>1</td>\n",
       "      <td>bridge_tuned</td>\n",
       "      <td>0.0946328</td>\n",
       "      <td>0.112617</td>\n",
       "    </tr>\n",
       "    <tr>\n",
       "      <td>0</td>\n",
       "      <td>bridge_def</td>\n",
       "      <td>0.094478</td>\n",
       "      <td>0.112793</td>\n",
       "    </tr>\n",
       "  </tbody>\n",
       "</table>\n",
       "</div>"
      ],
      "text/plain": [
       "          model train_rmse   cv_rmse\n",
       "1  bridge_tuned  0.0946328  0.112617\n",
       "0    bridge_def   0.094478  0.112793"
      ]
     },
     "execution_count": 1366,
     "metadata": {},
     "output_type": "execute_result"
    }
   ],
   "source": [
    "# compare Ridge regression models\n",
    "bridge_comp_df = compare_model_performance(bridge_models, model_data, random_state=27)\n",
    "bridge_comp_df.sort_values(by='cv_rmse')"
   ]
  },
  {
   "cell_type": "markdown",
   "metadata": {},
   "source": [
    "As with ordinary ridge regression, the Bayesian ridge model trained on the `drop_edit` data and tuned with Bayesian search had the best cv rmse."
   ]
  },
  {
   "cell_type": "markdown",
   "metadata": {},
   "source": [
    "As with ridge regression, the model is straightforward to interpret."
   ]
  },
  {
   "cell_type": "code",
   "execution_count": 1367,
   "metadata": {},
   "outputs": [
    {
     "data": {
      "image/png": "[encoded data removed]",
      "text/plain": [
       "<Figure size 1080x720 with 2 Axes>"
      ]
     },
     "metadata": {},
     "output_type": "display_data"
    }
   ],
   "source": [
    "# Top and bottom 10 features in best Bayesian ridge model\n",
    "rank_features(bridge_models['drop_edit']['bridge_tuned'], 'Bayesian ridge regression', X_de_train, 10,\n",
    "             figsize=(15, 10), rotation=90)"
   ]
  },
  {
   "cell_type": "markdown",
   "metadata": {},
   "source": [
    "Feature weight rankings are nearly identical to the ridge model."
   ]
  },
  {
   "cell_type": "code",
   "execution_count": 1368,
   "metadata": {},
   "outputs": [],
   "source": [
    "# add tuned bridge models\n",
    "models['clean_edit']['bridge_tuned'] = bridge_models['clean_edit']['bridge_tuned']\n",
    "models['drop_edit']['bridge_tuned'] = bridge_models['drop_edit']['bridge_tuned']"
   ]
  },
  {
   "cell_type": "markdown",
   "metadata": {
    "toc-hr-collapsed": true
   },
   "source": [
    "#### Partial Least Squares"
   ]
  },
  {
   "cell_type": "markdown",
   "metadata": {},
   "source": [
    "[Partial least squares regression](https://scikit-learn.org/stable/modules/generated/sklearn.cross_decomposition.PLSRegression.html) stands out among the other models we're tuning here as the only dimensional reduction method. It is [well-suited to multicollinearity in the input data](https://scikit-learn.org/stable/modules/cross_decomposition.html#cross-decomposition)."
   ]
  },
  {
   "cell_type": "markdown",
   "metadata": {},
   "source": [
    "##### Hyperparameter defaults for baseline"
   ]
  },
  {
   "cell_type": "code",
   "execution_count": 1369,
   "metadata": {},
   "outputs": [],
   "source": [
    "pls_models = defaultdict(dict)\n",
    "pls_models['clean_edit']['pls_def'] = PLSRegression().fit(X_ce_train, y_ce_train)\n",
    "pls_models['drop_edit']['pls_def'] = PLSRegression().fit(X_de_train, y_de_train)"
   ]
  },
  {
   "cell_type": "markdown",
   "metadata": {},
   "source": [
    "##### Bayesian search"
   ]
  },
  {
   "cell_type": "markdown",
   "metadata": {},
   "source": [
    "The main hyperparameter of interest in partial least squared is the number of components (analogous to the number of components in principal component analysis) which is essentially the number of dimensions of the reduced dataset."
   ]
  },
  {
   "cell_type": "code",
   "execution_count": 1370,
   "metadata": {},
   "outputs": [],
   "source": [
    "# partial least squares hyperparameter spaces\n",
    "pls_ce_space = {'max_iter': ho_scope.int(hp.quniform('max_iter', low=200, \n",
    "                                                     high=10000, q=10)),\n",
    "               'n_components': ho_scope.int(hp.quniform('n_components', low=2, \n",
    "                                                        high=X_ce_train.shape[1] - 2, q=1))\n",
    "                }\n",
    "pls_de_space = {'max_iter': ho_scope.int(hp.quniform('max_iter', low=200, \n",
    "                                                     high=10000, q=10)),\n",
    "               'n_components': ho_scope.int(hp.quniform('n_components', low=2, \n",
    "                                                        high=X_de_train.shape[1] - 2, q=1))}\n",
    "\n",
    "# store trial objects for restarting training\n",
    "model_ho_results['clean_edit']['pls_tuned'] = {'trials': Trials(), 'params': None}\n",
    "model_ho_results['drop_edit']['pls_tuned'] = {'trials': Trials(), 'params': None}"
   ]
  },
  {
   "cell_type": "code",
   "execution_count": 1379,
   "metadata": {},
   "outputs": [
    {
     "name": "stdout",
     "output_type": "stream",
     "text": [
      "100%|██████████| 20/20 [00:16<00:00,  1.24it/s, best loss: 0.1168162790693269]\n",
      "100%|██████████| 20/20 [00:21<00:00,  1.05s/it, best loss: 0.11637407291128335]\n"
     ]
    }
   ],
   "source": [
    "# optimize hyperparameters\n",
    "model_ho_results['clean_edit']['pls_tuned'] = \\\n",
    "                ho_results(obj=ho_cv_rmse, space=pls_ce_space, est_name='pls', \n",
    "                           X_train=X_ce_train, y_train=y_ce_train, max_evals=50, \n",
    "                           random_state=27,\n",
    "                           trials=model_ho_results['clean_edit']['pls_tuned']['trials'])\n",
    "model_ho_results['drop_edit']['pls_tuned'] = \\\n",
    "                ho_results(obj=ho_cv_rmse, space=pls_de_space, est_name='pls',\n",
    "                           X_train=X_de_train, y_train=y_de_train, max_evals=50,\n",
    "                           random_state=27,\n",
    "                           trials=model_ho_results['drop_edit']['pls_tuned']['trials'])"
   ]
  },
  {
   "cell_type": "code",
   "execution_count": 1380,
   "metadata": {},
   "outputs": [
    {
     "data": {
      "text/plain": [
       "PLSRegression(copy=True, max_iter=4320, n_components=13, scale=True, tol=1e-06)"
      ]
     },
     "execution_count": 1380,
     "metadata": {},
     "output_type": "execute_result"
    }
   ],
   "source": [
    "# workaround to cast results of hyperopt param search to correct type\n",
    "conv_params = ['max_iter', 'n_components']\n",
    "model_ho_results['clean_edit']['pls_tuned']['params'] = \\\n",
    "            convert_to_int(model_ho_results['clean_edit']['pls_tuned']['params'], \n",
    "                           conv_params)\n",
    "model_ho_results['drop_edit']['pls_tuned']['params'] = \\\n",
    "            convert_to_int(model_ho_results['drop_edit']['pls_tuned']['params'], \n",
    "                           conv_params)\n",
    "\n",
    "# add and fit models with optimal hyperparameters\n",
    "pls_models['clean_edit']['pls_tuned'] = \\\n",
    "            PLSRegression(**model_ho_results['clean_edit']['pls_tuned']['params'])\n",
    "pls_models['drop_edit']['pls_tuned'] = \\\n",
    "            PLSRegression(**model_ho_results['drop_edit']['pls_tuned']['params'])\n",
    "pls_models['clean_edit']['pls_tuned'].fit(X_ce_train, y_ce_train)\n",
    "pls_models['drop_edit']['pls_tuned'].fit(X_de_train, y_de_train)"
   ]
  },
  {
   "cell_type": "code",
   "execution_count": 1381,
   "metadata": {},
   "outputs": [
    {
     "name": "stdout",
     "output_type": "stream",
     "text": [
      "On the clean_edit data, optimal PLS parameters are: \n",
      "\t {'max_iter': 2870, 'n_components': 6}\n",
      "On the drop_edit data, optimal PLS parameters are: \n",
      "\t {'max_iter': 4320, 'n_components': 13}\n"
     ]
    }
   ],
   "source": [
    "# inspect pls optimal parameters\n",
    "print(f\"On the clean_edit data, optimal PLS parameters are: \\n\\t {model_ho_results['clean_edit']['pls_tuned']['params']}\")\n",
    "print(f\"On the drop_edit data, optimal PLS parameters are: \\n\\t {model_ho_results['drop_edit']['pls_tuned']['params']}\")"
   ]
  },
  {
   "cell_type": "markdown",
   "metadata": {},
   "source": [
    "Interestingly, only a small number of components were deemed optimal! It's worth recalling that this likely reflects a local minimum in the loss function, so the result should be taken with a grain of salt. However, it is interesting to note that such a low number of components are sufficient to get a competitive model."
   ]
  },
  {
   "cell_type": "code",
   "execution_count": 1382,
   "metadata": {},
   "outputs": [
    {
     "data": {
      "text/html": [
       "<div>\n",
       "<style scoped>\n",
       "    .dataframe tbody tr th:only-of-type {\n",
       "        vertical-align: middle;\n",
       "    }\n",
       "\n",
       "    .dataframe tbody tr th {\n",
       "        vertical-align: top;\n",
       "    }\n",
       "\n",
       "    .dataframe thead th {\n",
       "        text-align: right;\n",
       "    }\n",
       "</style>\n",
       "<table border=\"1\" class=\"dataframe\">\n",
       "  <thead>\n",
       "    <tr style=\"text-align: right;\">\n",
       "      <th></th>\n",
       "      <th>model</th>\n",
       "      <th>train_rmse</th>\n",
       "      <th>cv_rmse</th>\n",
       "    </tr>\n",
       "  </thead>\n",
       "  <tbody>\n",
       "    <tr>\n",
       "      <td>0</td>\n",
       "      <td>pls_tuned</td>\n",
       "      <td>0.0945426</td>\n",
       "      <td>0.117586</td>\n",
       "    </tr>\n",
       "    <tr>\n",
       "      <td>1</td>\n",
       "      <td>pls_def</td>\n",
       "      <td>0.130416</td>\n",
       "      <td>0.136345</td>\n",
       "    </tr>\n",
       "  </tbody>\n",
       "</table>\n",
       "</div>"
      ],
      "text/plain": [
       "       model train_rmse   cv_rmse\n",
       "0  pls_tuned  0.0945426  0.117586\n",
       "1    pls_def   0.130416  0.136345"
      ]
     },
     "execution_count": 1382,
     "metadata": {},
     "output_type": "execute_result"
    }
   ],
   "source": [
    "# compare Bayesian Ridge models on clean and edit datasets\n",
    "pls_comp_df = compare_model_performance(pls_models, model_data)\n",
    "pls_comp_df.sort_values(by='cv_rmse').reset_index(drop=True)"
   ]
  },
  {
   "cell_type": "markdown",
   "metadata": {},
   "source": [
    "As with ridge and Bayesian ridge regression, partial least squares lower cv error on the `drop_edit` dataset. The cv rmse estimate is very close and again its remarkable that only 5 components are required!"
   ]
  },
  {
   "cell_type": "code",
   "execution_count": 1383,
   "metadata": {},
   "outputs": [],
   "source": [
    "# add tuned pls models\n",
    "models['clean_edit']['pls_tuned'] = pls_models['clean_edit']['pls_tuned']\n",
    "models['drop_edit']['pls_tuned'] = pls_models['drop_edit']['pls_tuned']"
   ]
  },
  {
   "cell_type": "markdown",
   "metadata": {
    "toc-hr-collapsed": true
   },
   "source": [
    "#### Support Vector Machine"
   ]
  },
  {
   "cell_type": "markdown",
   "metadata": {},
   "source": [
    "##### Hyperparameter defaults for baseline"
   ]
  },
  {
   "cell_type": "code",
   "execution_count": 1384,
   "metadata": {},
   "outputs": [],
   "source": [
    "svr_models = defaultdict(dict)\n",
    "svr_models['clean_edit']['svr_def'] = SVR().fit(X_ce_train, y_ce_train)\n",
    "svr_models['drop_edit']['svr_def'] = SVR().fit(X_de_train, y_de_train)"
   ]
  },
  {
   "cell_type": "markdown",
   "metadata": {},
   "source": [
    "##### Bayesian search"
   ]
  },
  {
   "cell_type": "code",
   "execution_count": 1385,
   "metadata": {},
   "outputs": [],
   "source": [
    "# hyperparameter space for SVR with rbf kernel\n",
    "svr_space = {'gamma': hp.loguniform('gamma', low=-3*np.log(10), high=2*np.log(10)),\n",
    "             'C': hp.loguniform('C', low=-3*np.log(10), high=2*np.log(10)),\n",
    "             'epsilon': hp.loguniform('epsilon', low=-3*np.log(10), high=2*np.log(10))\n",
    "            }\n",
    "\n",
    "# store trial objects for restarting training\n",
    "model_ho_results['clean_edit']['svr_tuned'] = {'trials': Trials(), 'params': None}\n",
    "model_ho_results['drop_edit']['svr_tuned'] = {'trials': Trials(), 'params': None}"
   ]
  },
  {
   "cell_type": "code",
   "execution_count": 1386,
   "metadata": {},
   "outputs": [
    {
     "name": "stdout",
     "output_type": "stream",
     "text": [
      "100%|██████████| 30/30 [01:02<00:00,  2.08s/it, best loss: 0.11317968005231405]\n",
      "100%|██████████| 30/30 [00:50<00:00,  1.70s/it, best loss: 0.11291110737824991]\n"
     ]
    }
   ],
   "source": [
    "# optimize hyperparameters\n",
    "model_ho_results['clean_edit']['svr_tuned'] = \\\n",
    "            ho_results(obj=ho_cv_rmse, space=svr_space, est_name='svr', \n",
    "                       X_train=X_ce_train, y_train=y_ce_train, max_evals=30,\n",
    "                       random_state=27,\n",
    "                       trials=model_ho_results['clean_edit']['svr_tuned']['trials'])\n",
    "model_ho_results['drop_edit']['svr_tuned'] = \\\n",
    "            ho_results(obj=ho_cv_rmse, space=svr_space, est_name='svr', \n",
    "                       X_train=X_de_train, y_train=y_de_train, max_evals=30,\n",
    "                       random_state=27,\n",
    "                       trials=model_ho_results['drop_edit']['svr_tuned']['trials'])"
   ]
  },
  {
   "cell_type": "code",
   "execution_count": 1387,
   "metadata": {},
   "outputs": [
    {
     "data": {
      "text/plain": [
       "SVR(C=28.094503723466488, cache_size=200, coef0=0.0, degree=3,\n",
       "    epsilon=0.005379135985017206, gamma=0.0011654380933167772, kernel='rbf',\n",
       "    max_iter=-1, shrinking=True, tol=0.001, verbose=False)"
      ]
     },
     "execution_count": 1387,
     "metadata": {},
     "output_type": "execute_result"
    }
   ],
   "source": [
    "# fit models with optimal hyperparameters\n",
    "svr_models['clean_edit']['svr_tuned'] = \\\n",
    "                        SVR(**model_ho_results['clean_edit']['svr_tuned']['params'])\n",
    "svr_models['drop_edit']['svr_tuned'] = \\\n",
    "                        SVR(**model_ho_results['drop_edit']['svr_tuned']['params'])\n",
    "svr_models['clean_edit']['svr_tuned'].fit(X_ce_train, y_ce_train)\n",
    "svr_models['drop_edit']['svr_tuned'].fit(X_de_train, y_de_train)"
   ]
  },
  {
   "cell_type": "code",
   "execution_count": 1388,
   "metadata": {},
   "outputs": [
    {
     "data": {
      "text/html": [
       "<div>\n",
       "<style scoped>\n",
       "    .dataframe tbody tr th:only-of-type {\n",
       "        vertical-align: middle;\n",
       "    }\n",
       "\n",
       "    .dataframe tbody tr th {\n",
       "        vertical-align: top;\n",
       "    }\n",
       "\n",
       "    .dataframe thead th {\n",
       "        text-align: right;\n",
       "    }\n",
       "</style>\n",
       "<table border=\"1\" class=\"dataframe\">\n",
       "  <thead>\n",
       "    <tr style=\"text-align: right;\">\n",
       "      <th></th>\n",
       "      <th>model</th>\n",
       "      <th>train_rmse</th>\n",
       "      <th>cv_rmse</th>\n",
       "    </tr>\n",
       "  </thead>\n",
       "  <tbody>\n",
       "    <tr>\n",
       "      <td>0</td>\n",
       "      <td>svr_tuned</td>\n",
       "      <td>0.0935794</td>\n",
       "      <td>0.111496</td>\n",
       "    </tr>\n",
       "    <tr>\n",
       "      <td>1</td>\n",
       "      <td>svr_def</td>\n",
       "      <td>0.120197</td>\n",
       "      <td>0.133815</td>\n",
       "    </tr>\n",
       "  </tbody>\n",
       "</table>\n",
       "</div>"
      ],
      "text/plain": [
       "       model train_rmse   cv_rmse\n",
       "0  svr_tuned  0.0935794  0.111496\n",
       "1    svr_def   0.120197  0.133815"
      ]
     },
     "execution_count": 1388,
     "metadata": {},
     "output_type": "execute_result"
    }
   ],
   "source": [
    "# compare SVR model performance on clean and edit datasets\n",
    "svr_comp_df = compare_model_performance(svr_models, model_data)\n",
    "svr_comp_df.sort_values(by='cv_rmse').reset_index(drop=True)"
   ]
  },
  {
   "cell_type": "markdown",
   "metadata": {},
   "source": [
    "As with all previous models, we're seeing better performance on `drop_edit`. Again, a higher train rmse on `drop_edit` but a lower cv rmse is a positive sign."
   ]
  },
  {
   "cell_type": "code",
   "execution_count": 1389,
   "metadata": {},
   "outputs": [],
   "source": [
    "# add tuned svr models\n",
    "models['clean_edit']['svr_tuned'] = svr_models['clean_edit']['svr_tuned']\n",
    "models['drop_edit']['svr_tuned'] = svr_models['drop_edit']['svr_tuned']"
   ]
  },
  {
   "cell_type": "markdown",
   "metadata": {
    "toc-hr-collapsed": true
   },
   "source": [
    "####  Gradient boosted trees"
   ]
  },
  {
   "cell_type": "markdown",
   "metadata": {},
   "source": [
    "##### Hyperparameter defaults for baseline"
   ]
  },
  {
   "cell_type": "code",
   "execution_count": 1390,
   "metadata": {},
   "outputs": [
    {
     "data": {
      "text/plain": [
       "XGBRegressor(base_score=0.5, booster='gbtree', colsample_bylevel=1,\n",
       "             colsample_bynode=1, colsample_bytree=1, gamma=0,\n",
       "             importance_type='gain', learning_rate=0.1, max_delta_step=0,\n",
       "             max_depth=3, min_child_weight=1, missing=None, n_estimators=100,\n",
       "             n_jobs=-1, nthread=None, objective='reg:squarederror',\n",
       "             random_state=27, reg_alpha=0, reg_lambda=1, scale_pos_weight=1,\n",
       "             seed=None, silent=None, subsample=1, verbosity=1)"
      ]
     },
     "execution_count": 1390,
     "metadata": {},
     "output_type": "execute_result"
    }
   ],
   "source": [
    "xgb_models = defaultdict(dict)\n",
    "xgb_models['clean_edit']['xgb_def'] = XGBRegressor(objective='reg:squarederror', random_state=27, n_jobs=-1)\n",
    "xgb_models['drop_edit']['xgb_def'] = XGBRegressor(objective='reg:squarederror', random_state=27, n_jobs=-1)\n",
    "xgb_models['clean_edit']['xgb_def'].fit(X_ce_train.values, y_ce_train.values)\n",
    "xgb_models['drop_edit']['xgb_def'].fit(X_de_train.values, y_de_train.values)"
   ]
  },
  {
   "cell_type": "markdown",
   "metadata": {},
   "source": [
    "##### Bayesian search"
   ]
  },
  {
   "cell_type": "code",
   "execution_count": 1391,
   "metadata": {},
   "outputs": [],
   "source": [
    "# hyperparameter spaces\n",
    "xgb_space = {'max_depth': ho_scope.int(hp.quniform('max_depth', low=1, high=3, q=1)),\n",
    "             'n_estimators': ho_scope.int(hp.quniform('n_estimators', low=100, high=500, q=50)),\n",
    "             'learning_rate': hp.loguniform('learning_rate', low=-4*np.log(10), high=0),\n",
    "             'gamma': hp.loguniform('gamma', low=-3*np.log(10), high=2*np.log(10)),\n",
    "             'min_child_weight': ho_scope.int(hp.quniform('min_child_weight', low=1, high=7, q=1)),\n",
    "             'subsample': hp.uniform('subsample', low=0.25, high=1),\n",
    "             'colsample_bytree': hp.uniform('colsample_bytree', low=0.25, high=1),\n",
    "             'colsample_bylevel': hp.uniform('colsample_bylevel', low=0.25, high=1),\n",
    "             'colsample_bynode': hp.uniform('colsample_bynode', low=0.25, high=1),\n",
    "             'reg_lambda': hp.loguniform('reg_lambda', low=-2*np.log(10), high=2*np.log(10)),\n",
    "             'reg_alpha': hp.loguniform('reg_alpha', low=-1*np.log(10), high=1*np.log(10)),\n",
    "            }\n",
    "\n",
    "# store trial objects for restarting training\n",
    "model_ho_results['clean_edit']['xgb_tuned'] = {'trials': Trials(), 'params': None}\n",
    "model_ho_results['drop_edit']['xgb_tuned'] = {'trials': Trials(), 'params': None}"
   ]
  },
  {
   "cell_type": "code",
   "execution_count": 1392,
   "metadata": {},
   "outputs": [
    {
     "name": "stdout",
     "output_type": "stream",
     "text": [
      "100%|██████████| 30/30 [05:24<00:00, 10.80s/it, best loss: 0.11902706872176314]\n",
      "100%|██████████| 30/30 [03:54<00:00,  7.81s/it, best loss: 0.12003678147118431]\n"
     ]
    }
   ],
   "source": [
    "# optimize hyperparameters\n",
    "model_ho_results['clean_edit']['xgb_tuned'] = \\\n",
    "            ho_results(obj=ho_cv_rmse, space=xgb_space, est_name='xgb',\n",
    "                       X_train=X_ce_train, y_train=y_ce_train, max_evals=30,\n",
    "                       random_state=27,\n",
    "                       trials=model_ho_results['clean_edit']['xgb_tuned']['trials'])\n",
    "model_ho_results['drop_edit']['xgb_tuned'] = \\\n",
    "            ho_results(obj=ho_cv_rmse, space=xgb_space, est_name='xgb',\n",
    "                       X_train=X_de_train, y_train=y_de_train, max_evals=30, \n",
    "                       random_state=27,\n",
    "                       trials=model_ho_results['drop_edit']['xgb_tuned']['trials'])"
   ]
  },
  {
   "cell_type": "code",
   "execution_count": 1393,
   "metadata": {},
   "outputs": [
    {
     "data": {
      "text/plain": [
       "XGBRegressor(base_score=0.5, booster='gbtree',\n",
       "             colsample_bylevel=0.6885917771162761,\n",
       "             colsample_bynode=0.4252781335948639,\n",
       "             colsample_bytree=0.5678139813133942, gamma=0.02390370868212828,\n",
       "             importance_type='gain', learning_rate=0.1652402855741861,\n",
       "             max_delta_step=0, max_depth=3, min_child_weight=7, missing=None,\n",
       "             n_estimators=350, n_jobs=-1, nthread=None,\n",
       "             objective='reg:squarederror', random_state=27,\n",
       "             reg_alpha=0.4425102485856861, reg_lambda=0.25636732822523806,\n",
       "             scale_pos_weight=1, seed=None, silent=None,\n",
       "             subsample=0.9015897658293557, verbosity=1)"
      ]
     },
     "execution_count": 1393,
     "metadata": {},
     "output_type": "execute_result"
    }
   ],
   "source": [
    "# convert params to int\n",
    "conv_params = ['max_depth', 'min_child_weight', 'n_estimators']\n",
    "model_ho_results['clean_edit']['xgb_tuned']['params'] = \\\n",
    "        convert_to_int(model_ho_results['clean_edit']['xgb_tuned']['params'], conv_params)\n",
    "model_ho_results['clean_edit']['xgb_tuned']['params'] = \\\n",
    "        convert_to_int(model_ho_results['clean_edit']['xgb_tuned']['params'], conv_params)\n",
    "\n",
    "# add and fit models with optimal hyperparameters\n",
    "fixed_params = {'objective': 'reg:squarederror', 'n_jobs': -1, 'random_state': 27}\n",
    "xgb_models['clean_edit']['xgb_tuned'] = \\\n",
    "        XGBRegressor(**{**model_ho_results['clean_edit']['xgb_tuned']['params'], \n",
    "                        **fixed_params})\n",
    "xgb_models['drop_edit']['xgb_tuned'] = \\\n",
    "        XGBRegressor(**{**model_ho_results['clean_edit']['xgb_tuned']['params'], \n",
    "                        **fixed_params})\n",
    "xgb_models['clean_edit']['xgb_tuned'].fit(X_ce_train.values, y_ce_train.values)\n",
    "xgb_models['drop_edit']['xgb_tuned'].fit(X_de_train.values, y_de_train.values)"
   ]
  },
  {
   "cell_type": "code",
   "execution_count": 1394,
   "metadata": {},
   "outputs": [
    {
     "data": {
      "text/html": [
       "<div>\n",
       "<style scoped>\n",
       "    .dataframe tbody tr th:only-of-type {\n",
       "        vertical-align: middle;\n",
       "    }\n",
       "\n",
       "    .dataframe tbody tr th {\n",
       "        vertical-align: top;\n",
       "    }\n",
       "\n",
       "    .dataframe thead th {\n",
       "        text-align: right;\n",
       "    }\n",
       "</style>\n",
       "<table border=\"1\" class=\"dataframe\">\n",
       "  <thead>\n",
       "    <tr style=\"text-align: right;\">\n",
       "      <th></th>\n",
       "      <th>model</th>\n",
       "      <th>train_rmse</th>\n",
       "      <th>cv_rmse</th>\n",
       "    </tr>\n",
       "  </thead>\n",
       "  <tbody>\n",
       "    <tr>\n",
       "      <td>0</td>\n",
       "      <td>xgb_tuned</td>\n",
       "      <td>0.0766636</td>\n",
       "      <td>0.119988</td>\n",
       "    </tr>\n",
       "    <tr>\n",
       "      <td>1</td>\n",
       "      <td>xgb_def</td>\n",
       "      <td>0.0876669</td>\n",
       "      <td>0.126037</td>\n",
       "    </tr>\n",
       "  </tbody>\n",
       "</table>\n",
       "</div>"
      ],
      "text/plain": [
       "       model train_rmse   cv_rmse\n",
       "0  xgb_tuned  0.0766636  0.119988\n",
       "1    xgb_def  0.0876669  0.126037"
      ]
     },
     "execution_count": 1394,
     "metadata": {},
     "output_type": "execute_result"
    }
   ],
   "source": [
    "# compare XGBoost models on clean_edit and drop_edit datasets\n",
    "xgb_comp_df = compare_model_performance(xgb_models, model_data)\n",
    "xgb_comp_df.sort_values(by='cv_rmse').reset_index(drop=True)"
   ]
  },
  {
   "cell_type": "markdown",
   "metadata": {},
   "source": [
    "In contrast to all previous models, the gradient boosted tree regressor had a lower cv rmse on `clean_edit`, but similarly to previous models train rmse was higher.\n",
    "\n",
    "We can rank the features by importance (in this case, the number of times the feature was used to split a tree across all trees in the forest)."
   ]
  },
  {
   "cell_type": "code",
   "execution_count": 1395,
   "metadata": {},
   "outputs": [
    {
     "data": {
      "image/png": "[encoded data removed]",
      "text/plain": [
       "<Figure size 1080x720 with 1 Axes>"
      ]
     },
     "metadata": {},
     "output_type": "display_data"
    }
   ],
   "source": [
    "# top 20 feature importances of xgb model on drop_edit data\n",
    "rank_xgb_features(xgb_models['drop_edit']['xgb_tuned'], X_de_train, 10, figsize=(15, 10),\n",
    "                  rotation=90)"
   ]
  },
  {
   "cell_type": "markdown",
   "metadata": {},
   "source": [
    "On the `drop_edit` data, the top ten features for the gradient boosted trees regression model seem quite different from the top ten features of [ridge regression](#Ridge-regressor). Only `OverallQual` and `log_GrLivArea` appear in both, and whereas both rank `OverallQual` third, `ridge` ranks `log_GrLivArea` first while `xgb` ranks it tenth. While the top `ridge` features seemed plausible and natural, some of the top `xgb` features seem more surpising, especially the highest ranked feature `GarageType_Detached`."
   ]
  },
  {
   "cell_type": "code",
   "execution_count": 1396,
   "metadata": {},
   "outputs": [],
   "source": [
    "# replace default models with tuned models\n",
    "models['clean_edit']['xgb_tuned'] = xgb_models['clean_edit']['xgb_tuned']\n",
    "models['drop_edit']['xgb_tuned'] = xgb_models['drop_edit']['xgb_tuned']"
   ]
  },
  {
   "cell_type": "markdown",
   "metadata": {},
   "source": [
    "#### Compare tuned models and save parameters"
   ]
  },
  {
   "cell_type": "code",
   "execution_count": 1397,
   "metadata": {},
   "outputs": [
    {
     "data": {
      "text/html": [
       "<div>\n",
       "<style scoped>\n",
       "    .dataframe tbody tr th:only-of-type {\n",
       "        vertical-align: middle;\n",
       "    }\n",
       "\n",
       "    .dataframe tbody tr th {\n",
       "        vertical-align: top;\n",
       "    }\n",
       "\n",
       "    .dataframe thead tr th {\n",
       "        text-align: left;\n",
       "    }\n",
       "</style>\n",
       "<table border=\"1\" class=\"dataframe\">\n",
       "  <thead>\n",
       "    <tr>\n",
       "      <th>data</th>\n",
       "      <th>model</th>\n",
       "      <th colspan=\"2\" halign=\"left\">clean_edit</th>\n",
       "      <th colspan=\"2\" halign=\"left\">drop_edit</th>\n",
       "    </tr>\n",
       "    <tr>\n",
       "      <th>performance</th>\n",
       "      <th></th>\n",
       "      <th>train_rmse</th>\n",
       "      <th>cv_rmse</th>\n",
       "      <th>train_rmse</th>\n",
       "      <th>cv_rmse</th>\n",
       "    </tr>\n",
       "  </thead>\n",
       "  <tbody>\n",
       "    <tr>\n",
       "      <td>0</td>\n",
       "      <td>ridge_tuned</td>\n",
       "      <td>0.0957901</td>\n",
       "      <td>0.113702</td>\n",
       "      <td>0.0950429</td>\n",
       "      <td>0.112909</td>\n",
       "    </tr>\n",
       "    <tr>\n",
       "      <td>1</td>\n",
       "      <td>svr_tuned</td>\n",
       "      <td>0.0893529</td>\n",
       "      <td>0.11379</td>\n",
       "      <td>0.0935794</td>\n",
       "      <td>0.112613</td>\n",
       "    </tr>\n",
       "    <tr>\n",
       "      <td>2</td>\n",
       "      <td>bridge_tuned</td>\n",
       "      <td>0.0955317</td>\n",
       "      <td>0.114311</td>\n",
       "      <td>0.0946328</td>\n",
       "      <td>0.113566</td>\n",
       "    </tr>\n",
       "    <tr>\n",
       "      <td>3</td>\n",
       "      <td>ridge</td>\n",
       "      <td>0.0948572</td>\n",
       "      <td>0.114539</td>\n",
       "      <td>0.094225</td>\n",
       "      <td>0.11429</td>\n",
       "    </tr>\n",
       "    <tr>\n",
       "      <td>4</td>\n",
       "      <td>bridge</td>\n",
       "      <td>0.0950012</td>\n",
       "      <td>0.114878</td>\n",
       "      <td>0.094478</td>\n",
       "      <td>0.114409</td>\n",
       "    </tr>\n",
       "    <tr>\n",
       "      <td>5</td>\n",
       "      <td>pls_tuned</td>\n",
       "      <td>0.0972731</td>\n",
       "      <td>0.116798</td>\n",
       "      <td>0.0945426</td>\n",
       "      <td>0.117231</td>\n",
       "    </tr>\n",
       "    <tr>\n",
       "      <td>6</td>\n",
       "      <td>xgb_tuned</td>\n",
       "      <td>0.077084</td>\n",
       "      <td>0.117524</td>\n",
       "      <td>0.0766636</td>\n",
       "      <td>0.115703</td>\n",
       "    </tr>\n",
       "    <tr>\n",
       "      <td>7</td>\n",
       "      <td>xgb</td>\n",
       "      <td>0.0853461</td>\n",
       "      <td>0.121176</td>\n",
       "      <td>0.0876669</td>\n",
       "      <td>0.123686</td>\n",
       "    </tr>\n",
       "    <tr>\n",
       "      <td>8</td>\n",
       "      <td>pls</td>\n",
       "      <td>0.122064</td>\n",
       "      <td>0.128254</td>\n",
       "      <td>0.130416</td>\n",
       "      <td>0.136609</td>\n",
       "    </tr>\n",
       "    <tr>\n",
       "      <td>9</td>\n",
       "      <td>svr</td>\n",
       "      <td>0.122741</td>\n",
       "      <td>0.134601</td>\n",
       "      <td>0.120197</td>\n",
       "      <td>0.131353</td>\n",
       "    </tr>\n",
       "  </tbody>\n",
       "</table>\n",
       "</div>"
      ],
      "text/plain": [
       "data                model clean_edit            drop_edit          \n",
       "performance               train_rmse   cv_rmse train_rmse   cv_rmse\n",
       "0             ridge_tuned  0.0957901  0.113702  0.0950429  0.112909\n",
       "1               svr_tuned  0.0893529   0.11379  0.0935794  0.112613\n",
       "2            bridge_tuned  0.0955317  0.114311  0.0946328  0.113566\n",
       "3                   ridge  0.0948572  0.114539   0.094225   0.11429\n",
       "4                  bridge  0.0950012  0.114878   0.094478  0.114409\n",
       "5               pls_tuned  0.0972731  0.116798  0.0945426  0.117231\n",
       "6               xgb_tuned   0.077084  0.117524  0.0766636  0.115703\n",
       "7                     xgb  0.0853461  0.121176  0.0876669  0.123686\n",
       "8                     pls   0.122064  0.128254   0.130416  0.136609\n",
       "9                     svr   0.122741  0.134601   0.120197  0.131353"
      ]
     },
     "execution_count": 1397,
     "metadata": {},
     "output_type": "execute_result"
    }
   ],
   "source": [
    "# compare results of tuned models\n",
    "tuned_comp_df = compare_performance(models, model_data, random_state=27)\n",
    "tuned_comp_df.sort_values(by=('clean_edit', 'cv_rmse')).reset_index(drop=True)"
   ]
  },
  {
   "cell_type": "code",
   "execution_count": 1398,
   "metadata": {},
   "outputs": [
    {
     "data": {
      "image/png": "[encoded data removed]",
      "text/plain": [
       "<Figure size 803.75x360 with 2 Axes>"
      ]
     },
     "metadata": {},
     "output_type": "display_data"
    }
   ],
   "source": [
    "# compare tuned model train and cv performance on clean and edit datasets\n",
    "plot_model_comp(tuned_comp_df, col='data', hue='performance', kind='bar', palette=data_palette)"
   ]
  },
  {
   "cell_type": "code",
   "execution_count": 1399,
   "metadata": {},
   "outputs": [
    {
     "data": {
      "image/png": "[encoded data removed]",
      "text/plain": [
       "<Figure size 801.875x360 with 2 Axes>"
      ]
     },
     "metadata": {},
     "output_type": "display_data"
    }
   ],
   "source": [
    "# compare clean and edit performance for train and cv error\n",
    "plot_model_comp(tuned_comp_df, col='performance', hue='data', kind='bar', palette=perf_palette)"
   ]
  },
  {
   "cell_type": "code",
   "execution_count": 1400,
   "metadata": {},
   "outputs": [],
   "source": [
    "# pickle hyperopt trials and results\n",
    "pickle_to_file(model_ho_results, '../training/model_tuning_results.pkl')\n",
    "\n",
    "# pickle tuned models\n",
    "pickle_to_file(models, '../training/tuned_models.pkl')"
   ]
  },
  {
   "cell_type": "markdown",
   "metadata": {
    "toc-hr-collapsed": false
   },
   "source": [
    "### Ensembles"
   ]
  },
  {
   "cell_type": "code",
   "execution_count": 1590,
   "metadata": {},
   "outputs": [],
   "source": [
    "# unpickle tuned models from last section\n",
    "tuned_models = pickle_from_file('../training/tuned_models.pkl')"
   ]
  },
  {
   "cell_type": "markdown",
   "metadata": {
    "toc-hr-collapsed": false
   },
   "source": [
    "#### Voting"
   ]
  },
  {
   "cell_type": "markdown",
   "metadata": {},
   "source": [
    "Voting ensembles predict a weighted average of base models. \n",
    "\n",
    "We'll use the implementation [`sklearn.ensemble.VotingRegressor`](https://scikit-learn.org/stable/modules/generated/sklearn.ensemble.VotingRegressor.html). Unfortunately `sklearn.PLSRegressor`'s `predict` method returns arrays of size `(n_samples, 1)` rather than `(n_samples,)` like all all other models. This throws an error when passed in as an estimator to `cross_val_score` so we won't use it as a base model. We also won't use `bridge` since its feature weights were nearly identical to `ridge`, so in the end our voting regressor will consist of three base models: ridge, support vector and gradient boosted tree regression."
   ]
  },
  {
   "cell_type": "code",
   "execution_count": 1591,
   "metadata": {},
   "outputs": [
    {
     "data": {
      "text/plain": [
       "dict_keys(['ridge', 'bridge', 'pls', 'svr', 'xgb', 'ridge_tuned', 'bridge_tuned', 'pls_tuned', 'svr_tuned', 'xgb_tuned'])"
      ]
     },
     "execution_count": 1591,
     "metadata": {},
     "output_type": "execute_result"
    }
   ],
   "source": [
    "tuned_models['clean_edit'].keys()"
   ]
  },
  {
   "cell_type": "code",
   "execution_count": 1592,
   "metadata": {},
   "outputs": [],
   "source": [
    "drop_models = ['ridge', 'bridge', 'pls', 'svr', 'xgb', 'bridge_tuned', \n",
    "               'pls_tuned']\n",
    "base_pretuned = remove_models(tuned_models, drop_models)"
   ]
  },
  {
   "cell_type": "markdown",
   "metadata": {},
   "source": [
    "##### Default base and uniform weights"
   ]
  },
  {
   "cell_type": "markdown",
   "metadata": {},
   "source": [
    "For a baseline, we'll look at a voting ensemble of default base models with uniform weights"
   ]
  },
  {
   "cell_type": "code",
   "execution_count": 1594,
   "metadata": {},
   "outputs": [],
   "source": [
    "%%capture\n",
    "# Default models for Voting Regressor\n",
    "base_def = [('ridge', Ridge()), \n",
    "            ('svr', SVR()), \n",
    "            ('xgb', XGBRegressor(objective='reg:squarederror', n_jobs=-1, random_state=27))]\n",
    "\n",
    "# Voting ensembles with uniform weights and untuned base models\n",
    "ensembles = defaultdict(dict)\n",
    "ensembles['clean_edit']['voter_def'] = VotingRegressor(base_def, n_jobs=-1)\n",
    "ensembles['drop_edit']['voter_def'] = VotingRegressor(base_def, n_jobs=-1)\n",
    "ensembles['clean_edit']['voter_def'].fit(X_ce_train.values, y_ce_train.values)\n",
    "ensembles['drop_edit']['voter_def'].fit(X_de_train.values, y_de_train.values)"
   ]
  },
  {
   "cell_type": "markdown",
   "metadata": {},
   "source": [
    "##### Pretuned base and uniform weights"
   ]
  },
  {
   "cell_type": "markdown",
   "metadata": {},
   "source": [
    "We also consider a voting ensemble with pretuned base models and uniform weights."
   ]
  },
  {
   "cell_type": "code",
   "execution_count": 1595,
   "metadata": {},
   "outputs": [],
   "source": [
    "%%capture\n",
    "# Voting ensmebles with uniform weights for pretuned base models\n",
    "ensembles['clean_edit']['voter_uniform_pretuned'] = \\\n",
    "         VotingRegressor(list(base_pretuned['clean_edit'].items()), n_jobs=-1)\n",
    "ensembles['drop_edit']['voter_uniform_pretuned'] = \\\n",
    "         VotingRegressor(list(base_pretuned['drop_edit'].items()), n_jobs=-1)\n",
    "ensembles['clean_edit']['voter_uniform_pretuned'].fit(X_ce_train.values, y_ce_train.values)\n",
    "ensembles['drop_edit']['voter_uniform_pretuned'].fit(X_de_train.values, y_de_train.values)"
   ]
  },
  {
   "cell_type": "code",
   "execution_count": 1596,
   "metadata": {},
   "outputs": [],
   "source": [
    "# voting ensemble hyperparameters for pretuned base\n",
    "weight_space = {'voter1': hp.uniform('voter1', low=0, high=1),\n",
    "               'voter2': hp.uniform('voter2', low=0, high=1),\n",
    "               'voter3': hp.uniform('voter3', low=0, high=1)\n",
    "              }\n",
    "\n",
    "voter_fixed_params = {'n_jobs': -1}\n",
    "\n",
    "\n",
    "# container for hyperparameter search trials and results\n",
    "ens_ho_results = defaultdict(dict)\n",
    "\n",
    "# store trial objects for restarting training\n",
    "ens_ho_results['clean_edit']['voter_pretuned'] = {'trials': Trials(), 'params': None}\n",
    "ens_ho_results['drop_edit']['voter_pretuned'] = {'trials': Trials(), 'params': None}"
   ]
  },
  {
   "cell_type": "code",
   "execution_count": 1597,
   "metadata": {},
   "outputs": [
    {
     "name": "stdout",
     "output_type": "stream",
     "text": [
      "100%|██████████| 25/25 [07:00<00:00, 16.81s/it, best loss: 0.1098890903795892]\n",
      "100%|██████████| 25/25 [10:40<00:00, 25.62s/it, best loss: 0.10953128539105009]\n"
     ]
    }
   ],
   "source": [
    "# optimize weights for voting ensemble with pretuned base\n",
    "ens_ho_results['clean_edit']['voter_pretuned'] = \\\n",
    "        ho_ens_results(obj=ho_ens_cv_rmse, space=weight_space, ens_name='voter', \n",
    "                       base_ests=base_pretuned['clean_edit'],\n",
    "                       X_train=X_ce_train, y_train=y_ce_train,\n",
    "                       fixed_params=voter_fixed_params,\n",
    "                       pretuned=True, random_state=27, max_evals=25,\n",
    "                       trials=ens_ho_results['clean_edit']['voter_pretuned']['trials'])\n",
    "ens_ho_results['drop_edit']['voter_pretuned'] = \\\n",
    "        ho_ens_results(obj=ho_ens_cv_rmse, space=weight_space, ens_name='voter', \n",
    "                       base_ests=base_pretuned['drop_edit'],\n",
    "                       X_train=X_de_train, y_train=y_de_train,\n",
    "                       fixed_params=voter_fixed_params,\n",
    "                       pretuned=True, random_state=27, max_evals=25,\n",
    "                       trials=ens_ho_results['drop_edit']['voter_pretuned']['trials'])"
   ]
  },
  {
   "cell_type": "code",
   "execution_count": 1598,
   "metadata": {},
   "outputs": [],
   "source": [
    "%%capture\n",
    "# store and normalize weights\n",
    "ce_pretuned_weights = list(ens_ho_results['clean_edit']['voter_pretuned']['params'].values())\n",
    "de_pretuned_weights = list(ens_ho_results['drop_edit']['voter_pretuned']['params'].values())\n",
    "ce_pretuned_weights = convert_and_normalize_weights(ce_pretuned_weights)\n",
    "de_pretuned_weights = convert_and_normalize_weights(de_pretuned_weights)\n",
    "\n",
    "# add and fit voting ensembles of pretuned base estimators with tuned weights\n",
    "ensembles['clean_edit']['voter_pretuned'] = \\\n",
    "                    VotingRegressor(list(base_pretuned['clean_edit'].items()), \n",
    "                                    weights=ce_pretuned_weights)\n",
    "ensembles['drop_edit']['voter_pretuned'] = \\\n",
    "                    VotingRegressor(list(base_pretuned['drop_edit'].items()), \n",
    "                                    weights=de_pretuned_weights)\n",
    "ensembles['clean_edit']['voter_pretuned'].fit(X_ce_train.values, y_ce_train.values)\n",
    "ensembles['drop_edit']['voter_pretuned'].fit(X_de_train.values, y_de_train.values)"
   ]
  },
  {
   "cell_type": "markdown",
   "metadata": {},
   "source": [
    "##### Fully tuned voter"
   ]
  },
  {
   "cell_type": "markdown",
   "metadata": {},
   "source": [
    "Finally, we'll tune a voting regressors base model hyperparameters and voting weights simultaneously with Bayesian search."
   ]
  },
  {
   "cell_type": "code",
   "execution_count": 1599,
   "metadata": {},
   "outputs": [],
   "source": [
    "# base hyperparameter spaces\n",
    "ridge_base_space = {'alpha_ridge': hp.loguniform('alpha_ridge', low=-3*np.log(10), high=2*np.log(10))}\n",
    "svr_base_space = {'gamma_svr': hp.loguniform('gamma_svr', low=-3*np.log(10), high=2*np.log(10)),\n",
    "                  'C_svr': hp.loguniform('C_svr', low=-3*np.log(10), high=2*np.log(10)),\n",
    "                  'epsilon_svr': hp.loguniform('epsilon_svr', low=-3*np.log(10), high=2*np.log(10))}\n",
    "xgb_base_space = {'max_depth_xgb': ho_scope.int(hp.quniform('max_depth_xgb', low=1, high=3, q=1)),\n",
    "                  'n_estimators_xgb': ho_scope.int(hp.quniform('n_estimators_xgb', low=100, high=500, q=50)),\n",
    "                  'learning_rate_xgb': hp.loguniform('learning_rate_xgb', low=-4*np.log(10), high=0),\n",
    "                  'gamma_xgb': hp.loguniform('gamma_xgb', low=-3*np.log(10), high=2*np.log(10)),\n",
    "                  'min_child_weight_xgb': ho_scope.int(hp.quniform('min_child_weight_xgb', low=1, high=7, q=1)),\n",
    "                  'subsample_xgb': hp.uniform('subsample_xgb', low=0.25, high=1),\n",
    "                  'colsample_bytree_xgb': hp.uniform('colsample_bytree_xgb', low=0.25, high=1),\n",
    "                  'colsample_bylevel_xgb': hp.uniform('colsample_bylevel_xgb', low=0.25, high=1),\n",
    "                  'colsample_bynode_xgb': hp.uniform('colsample_bynode_xgb', low=0.25, high=1),\n",
    "                  'reg_lambda_xgb': hp.loguniform('reg_lambda_xgb', low=-2*np.log(10), high=2*np.log(10)),\n",
    "                  'reg_alpha_xgb': hp.loguniform('reg_alpha_xgb', low=-1*np.log(10), high=1*np.log(10)),\n",
    "                 }\n",
    "\n",
    "# voting ensemble hyperparameters for untuned base\n",
    "base_space = {**ridge_base_space, **svr_base_space, **xgb_base_space}\n",
    "voter_space = {**base_space, **weight_space}\n",
    "\n",
    "# store trial objects for restarting training\n",
    "ens_ho_results['clean_edit']['voter_tuned'] = {'trials': Trials(), 'params': None}\n",
    "ens_ho_results['drop_edit']['voter_tuned'] = {'trials': Trials(), 'params': None}"
   ]
  },
  {
   "cell_type": "code",
   "execution_count": 1601,
   "metadata": {},
   "outputs": [
    {
     "name": "stdout",
     "output_type": "stream",
     "text": [
      "100%|██████████| 20/20 [06:35<00:00, 19.78s/it, best loss: 0.11158841479097051]\n",
      "100%|██████████| 20/20 [06:49<00:00, 20.46s/it, best loss: 0.11306091151391263]\n"
     ]
    }
   ],
   "source": [
    "# optimize all voting ensemble hyperparameters jointly\n",
    "ens_ho_results['clean_edit']['voter_tuned'] = \\\n",
    "            ho_ens_results(obj=ho_ens_cv_rmse, space=voter_space, ens_name='voter', \n",
    "                           X_train=X_ce_train, y_train=y_ce_train, \n",
    "                           fixed_params=voter_fixed_params,\n",
    "                           pretuned=False, random_state=27, max_evals=50,\n",
    "                           trials=ens_ho_results['clean_edit']['voter_tuned']['trials'])\n",
    "ens_ho_results['drop_edit']['voter_tuned'] = \\\n",
    "            ho_ens_results(obj=ho_ens_cv_rmse, space=voter_space, ens_name='voter', \n",
    "                           X_train=X_de_train, y_train=y_de_train, \n",
    "                           fixed_params=voter_fixed_params,\n",
    "                           pretuned=False, random_state=27, max_evals=50,\n",
    "                           trials=ens_ho_results['drop_edit']['voter_tuned']['trials'])"
   ]
  },
  {
   "cell_type": "code",
   "execution_count": 1602,
   "metadata": {},
   "outputs": [],
   "source": [
    "# add and fit fully tuned voting ensembles \n",
    "ensembles['clean_edit']['voter_tuned'] = \\\n",
    "            voter_from_search_params(ens_ho_results['clean_edit']['voter_tuned']['params'],\n",
    "                                     X_ce_train, y_ce_train, random_state=27)\n",
    "ensembles['drop_edit']['voter_tuned'] = \\\n",
    "            voter_from_search_params(ens_ho_results['drop_edit']['voter_tuned']['params'],\n",
    "                                     X_de_train, y_de_train, random_state=27)"
   ]
  },
  {
   "cell_type": "markdown",
   "metadata": {
    "toc-hr-collapsed": false
   },
   "source": [
    "#### Stacking"
   ]
  },
  {
   "cell_type": "markdown",
   "metadata": {},
   "source": [
    "Stacking ensembles fit a meta models to the predictions of base models. To avoid overfitting, one can use folds to generate base models predictions.\n",
    "We'll use the implementation [`mlxtend.StackingCVRegressor`](http://rasbt.github.io/mlxtend/user_guide/regressor/StackingCVRegressor/). We'll also choose our meta models from the set of base models (ridge, support vector, and gradient boosted tree regression)."
   ]
  },
  {
   "cell_type": "markdown",
   "metadata": {},
   "source": [
    "##### Default base and meta"
   ]
  },
  {
   "cell_type": "markdown",
   "metadata": {},
   "source": [
    "For a baseline, we'll consider stack ensembles for which both base and meta models have default parameters. We'll use all three base models for each, and vary the meta model across the base models."
   ]
  },
  {
   "cell_type": "code",
   "execution_count": 1603,
   "metadata": {},
   "outputs": [],
   "source": [
    "# add default base and meta without using features in secondary\n",
    "ensembles = add_stacks(ensembles, model_data, suffix='def', \n",
    "                       use_features_in_secondary=False, random_state=27)"
   ]
  },
  {
   "cell_type": "code",
   "execution_count": 1604,
   "metadata": {},
   "outputs": [],
   "source": [
    "# add default base and meta using features in secondary\n",
    "ensembles = add_stacks(ensembles, model_data, suffix='def', \n",
    "                       use_features_in_secondary=True, random_state=27)"
   ]
  },
  {
   "cell_type": "markdown",
   "metadata": {},
   "source": [
    "##### Pretuned base and meta"
   ]
  },
  {
   "cell_type": "markdown",
   "metadata": {},
   "source": [
    "Now we'll consider stack ensembles for which the base and meta models are already tuned. Again, we'll use all three base models and vary the meta model across the base models."
   ]
  },
  {
   "cell_type": "code",
   "execution_count": 1605,
   "metadata": {},
   "outputs": [],
   "source": [
    "# add pretuned base and meta without using features in secondary\n",
    "ensembles = add_stacks(ensembles, model_data, base_ests=base_pretuned, \n",
    "                       meta_ests=base_pretuned, suffix='pretuned', \n",
    "                       use_features_in_secondary=False, random_state=27)"
   ]
  },
  {
   "cell_type": "code",
   "execution_count": 1606,
   "metadata": {},
   "outputs": [],
   "source": [
    "# add pretuned base and meta using features in secondary\n",
    "ensembles = add_stacks(ensembles, model_data, base_ests=base_pretuned, \n",
    "                       meta_ests=base_pretuned, suffix='pretuned', \n",
    "                       use_features_in_secondary=True, random_state=27)"
   ]
  },
  {
   "cell_type": "markdown",
   "metadata": {
    "toc-hr-collapsed": true
   },
   "source": [
    "##### Fully tuned stacks"
   ]
  },
  {
   "cell_type": "markdown",
   "metadata": {},
   "source": [
    "Finally, we'll tune stack ensembles at once, that is we'll tune both base and meta models simultaneously. As before, we'll use all three base models and vary the meta model across the base models."
   ]
  },
  {
   "cell_type": "code",
   "execution_count": 1607,
   "metadata": {},
   "outputs": [],
   "source": [
    "# meta hyperparameter spaces\n",
    "ridge_meta_space = {'alpha_ridge_meta': hp.loguniform('alpha_ridge_meta', low=-3*np.log(10), high=2*np.log(10))}\n",
    "svr_meta_space = {'gamma_svr_meta': hp.loguniform('gamma_svr_meta', low=-3*np.log(10), high=2*np.log(10)),\n",
    "                  'C_svr_meta': hp.loguniform('C_svr_meta', low=-3*np.log(10), high=2*np.log(10)),\n",
    "                  'epsilon_svr_meta': hp.loguniform('epsilon_svr_meta', low=-3*np.log(10), high=2*np.log(10))}\n",
    "xgb_meta_space = {'max_depth_xgb_meta': ho_scope.int(hp.quniform('max_depth_xgb_meta', low=1, high=3, q=1)),\n",
    "                  'n_estimators_xgb_meta': ho_scope.int(hp.quniform('n_estimators_xgb_meta', low=100, high=500, q=50)),\n",
    "                  'learning_rate_xgb_meta': hp.loguniform('learning_rate_xgb_meta', low=-4*np.log(10), high=0),\n",
    "                  'gamma_xgb_meta': hp.loguniform('gamma_xgb_meta', low=-3*np.log(10), high=2*np.log(10)),\n",
    "                  'min_child_weight_xgb_meta': ho_scope.int(hp.quniform('min_child_weight_xgb_meta', low=1, high=7, q=1)),\n",
    "                  'subsample_xgb_meta': hp.uniform('subsample_xgb_meta', low=0.25, high=1),\n",
    "                  'colsample_bytree_xgb_meta': hp.uniform('colsample_bytree_xgb_meta', low=0.25, high=1),\n",
    "                  'colsample_bylevel_xgb_meta': hp.uniform('colsample_bylevel_xgb_meta', low=0.25, high=1),\n",
    "                  'colsample_bynode_xgb_meta': hp.uniform('colsample_bynode_xgb_meta', low=0.25, high=1),\n",
    "                  'reg_lambda_xgb_meta': hp.loguniform('reg_lambda_xgb_meta', low=-2*np.log(10), high=2*np.log(10)),\n",
    "                  'reg_alpha_xgb_meta': hp.loguniform('reg_alpha_xgb_meta', low=-1*np.log(10), high=1*np.log(10)),\n",
    "                 }"
   ]
  },
  {
   "cell_type": "markdown",
   "metadata": {},
   "source": [
    "###### `Ridge` meta"
   ]
  },
  {
   "cell_type": "code",
   "execution_count": 1608,
   "metadata": {},
   "outputs": [],
   "source": [
    "# ridge meta stack space\n",
    "ridge_stack_space = {**ridge_meta_space, **base_space}\n",
    "\n",
    "# store trial objects for restarting training\n",
    "ens_ho_results['clean_edit']['stack_ridge_tuned'] = {'trials': Trials(), 'params': None}\n",
    "ens_ho_results['drop_edit']['stack_ridge_tuned'] = {'trials': Trials(), 'params': None}"
   ]
  },
  {
   "cell_type": "code",
   "execution_count": null,
   "metadata": {},
   "outputs": [
    {
     "name": "stdout",
     "output_type": "stream",
     "text": [
      " 80%|████████  | 20/25 [24:55<06:20, 76.07s/it, best loss: 0.11125135004790514]"
     ]
    }
   ],
   "source": [
    "# tune ridge stack without features in secondary\n",
    "stack_fixed_params = {'n_jobs': -1, 'use_features_in_secondary': False}\n",
    "\n",
    "ens_ho_results['clean_edit']['stack_ridge_tuned'] = \\\n",
    "        ho_ens_results(obj=ho_ens_cv_rmse, space=ridge_stack_space, ens_name='stack', \n",
    "                       X_train=X_ce_train,  y_train=y_ce_train, meta_name='ridge', \n",
    "                       fixed_params=stack_fixed_params, pretuned=False, \n",
    "                       random_state=27, max_evals=50,\n",
    "                       trials=ens_ho_results['clean_edit']['stack_ridge_tuned']['trials'])\n",
    "ens_ho_results['drop_edit']['stack_ridge_tuned'] = \\\n",
    "        ho_ens_results(obj=ho_ens_cv_rmse, space=ridge_stack_space, ens_name='stack', \n",
    "                       X_train=X_de_train,  y_train=y_de_train, meta_name='ridge', \n",
    "                       fixed_params=stack_fixed_params, pretuned=False, \n",
    "                       random_state=27, max_evals=50,\n",
    "                       trials=ens_ho_results['drop_edit']['stack_ridge_tuned']['trials'])"
   ]
  },
  {
   "cell_type": "code",
   "execution_count": 1480,
   "metadata": {},
   "outputs": [],
   "source": [
    "# add and fit tuned ridge stacks without features in secondary\n",
    "ensembles['clean_edit']['stack_ridge_tuned'] = \\\n",
    "    stack_from_search_params(ens_ho_results['clean_edit']['stack_ridge_tuned']['params'], \n",
    "                             X_ce_train, y_ce_train, meta_name='ridge',\n",
    "                             random_state=27)\n",
    "ensembles['drop_edit']['stack_ridge_tuned'] = \\\n",
    "    stack_from_search_params(ens_ho_results['drop_edit']['stack_ridge_tuned']['params'], \n",
    "                             X_de_train, y_de_train, meta_name='ridge',\n",
    "                             random_state=27)"
   ]
  },
  {
   "cell_type": "code",
   "execution_count": 1429,
   "metadata": {},
   "outputs": [
    {
     "name": "stdout",
     "output_type": "stream",
     "text": [
      "100%|██████████| 1/1 [00:59<00:00, 59.89s/it, best loss: 0.1229223598094285]\n",
      "100%|██████████| 1/1 [00:47<00:00, 47.14s/it, best loss: 0.11799319809337952]\n"
     ]
    }
   ],
   "source": [
    "# store trial objects for restarting training\n",
    "ens_ho_results['clean_edit']['stack_ridge_tuned_second'] = \\\n",
    "            {'trials': Trials(), 'params': None}\n",
    "ens_ho_results['drop_edit']['stack_ridge_tuned_second'] = \\\n",
    "            {'trials': Trials(), 'params': None}\n",
    "\n",
    "# tune ridge stack using features in secondary\n",
    "stack_fixed_params['use_features_in_secondary'] = True\n",
    "\n",
    "ens_ho_results['clean_edit']['stack_ridge_tuned_second'] = \\\n",
    "        ho_ens_results(obj=ho_ens_cv_rmse, space=ridge_stack_space, ens_name='stack', \n",
    "                       X_train=X_ce_train, y_train=y_ce_train, meta_name='ridge', \n",
    "                       fixed_params=stack_fixed_params,\n",
    "                       pretuned=False, random_state=27, max_evals=1,\n",
    "                       trials=ens_ho_results['clean_edit']['stack_ridge_tuned_second']['trials'])\n",
    "ens_ho_results['drop_edit']['stack_ridge_tuned_second'] = \\\n",
    "        ho_ens_results(obj=ho_ens_cv_rmse, space=ridge_stack_space, ens_name='stack', \n",
    "                       X_train=X_de_train, y_train=y_de_train, meta_name='ridge', \n",
    "                       fixed_params=stack_fixed_params,\n",
    "                       pretuned=False, random_state=27, max_evals=1,\n",
    "                       trials=ens_ho_results['drop_edit']['stack_ridge_tuned_second']['trials'])"
   ]
  },
  {
   "cell_type": "code",
   "execution_count": 1481,
   "metadata": {},
   "outputs": [],
   "source": [
    "# add and fit tuned ridge stacks using features in secondary\n",
    "ensembles['clean_edit']['stack_ridge_tuned_second'] = \\\n",
    "    stack_from_search_params(ens_ho_results['clean_edit']['stack_ridge_tuned_second']['params'], \n",
    "                             X_ce_train, y_ce_train, meta_name='ridge',\n",
    "                             random_state=27)\n",
    "ensembles['drop_edit']['stack_ridge_tuned_second'] = \\\n",
    "    stack_from_search_params(ens_ho_results['drop_edit']['stack_ridge_tuned_second']['params'], \n",
    "                             X_de_train, y_de_train, meta_name='ridge',\n",
    "                             random_state=27)"
   ]
  },
  {
   "cell_type": "markdown",
   "metadata": {},
   "source": [
    "###### `SVR` meta"
   ]
  },
  {
   "cell_type": "code",
   "execution_count": 1432,
   "metadata": {},
   "outputs": [],
   "source": [
    "# svr meta stack space\n",
    "svr_stack_space = {**svr_meta_space, **base_space}\n",
    "\n",
    "# store trial objects for restarting training\n",
    "ens_ho_results['clean_edit']['stack_svr_tuned'] = {'trials': Trials(), 'params': None}\n",
    "ens_ho_results['drop_edit']['stack_svr_tuned'] = {'trials': Trials(), 'params': None}"
   ]
  },
  {
   "cell_type": "code",
   "execution_count": 1433,
   "metadata": {},
   "outputs": [
    {
     "name": "stdout",
     "output_type": "stream",
     "text": [
      "100%|██████████| 1/1 [00:35<00:00, 35.16s/it, best loss: 0.4005234251917311]\n",
      "100%|██████████| 1/1 [01:12<00:00, 72.27s/it, best loss: 0.3462948157592652]\n"
     ]
    }
   ],
   "source": [
    "# tune svr stack without features in secondary\n",
    "\n",
    "stack_fixed_params['use_features_in_secondary'] = False\n",
    "\n",
    "ens_ho_results['clean_edit']['stack_svr_tuned'] = \\\n",
    "        ho_ens_results(obj=ho_ens_cv_rmse, space=svr_stack_space, ens_name='stack', \n",
    "                       X_train=X_ce_train, y_train=y_ce_train, meta_name='svr', \n",
    "                       fixed_params=stack_fixed_params, pretuned=False, \n",
    "                       random_state=27, max_evals=1,\n",
    "                       trials=ens_ho_results['clean_edit']['stack_svr_tuned']['trials'])\n",
    "ens_ho_results['drop_edit']['stack_svr_tuned'] = \\\n",
    "        ho_ens_results(obj=ho_ens_cv_rmse, space=svr_stack_space, ens_name='stack', \n",
    "                       X_train=X_de_train, y_train=y_de_train, meta_name='svr', \n",
    "                       fixed_params=stack_fixed_params, pretuned=False, \n",
    "                       random_state=27, max_evals=1,\n",
    "                       trials=ens_ho_results['drop_edit']['stack_svr_tuned']['trials'])"
   ]
  },
  {
   "cell_type": "code",
   "execution_count": 1482,
   "metadata": {},
   "outputs": [],
   "source": [
    "# add and fit tuned svr stacks with features in secondary\n",
    "ensembles['clean_edit']['stack_svr_tuned'] = \\\n",
    "    stack_from_search_params(ens_ho_results['clean_edit']['stack_svr_tuned']['params'],\n",
    "                             X_ce_train, y_ce_train, meta_name='svr',\n",
    "                             random_state=27)\n",
    "ensembles['drop_edit']['stack_svr_tuned'] = \\\n",
    "    stack_from_search_params(ens_ho_results['drop_edit']['stack_svr_tuned']['params'],\n",
    "                             X_de_train, y_de_train, meta_name='svr',\n",
    "                             random_state=27)"
   ]
  },
  {
   "cell_type": "code",
   "execution_count": 1436,
   "metadata": {},
   "outputs": [
    {
     "name": "stdout",
     "output_type": "stream",
     "text": [
      "100%|██████████| 1/1 [01:03<00:00, 63.78s/it, best loss: 0.40052342519173106]\n",
      "100%|██████████| 1/1 [01:03<00:00, 63.31s/it, best loss: 0.1665094965161012]\n"
     ]
    }
   ],
   "source": [
    "# store trial objects for restarting training\n",
    "ens_ho_results['clean_edit']['stack_svr_tuned_second'] = \\\n",
    "            {'trials': Trials(), 'params': None}\n",
    "ens_ho_results['drop_edit']['stack_svr_tuned_second'] = \\\n",
    "            {'trials': Trials(), 'params': None}\n",
    "\n",
    "\n",
    "# tune svr stack using features in secondary\n",
    "stack_fixed_params['use_features_in_secondary'] = True\n",
    "\n",
    "ens_ho_results['clean_edit']['stack_svr_tuned_second'] = \\\n",
    "        ho_ens_results(obj=ho_ens_cv_rmse, space=svr_stack_space, ens_name='stack', \n",
    "                       X_train=X_ce_train, y_train=y_ce_train, meta_name='svr', \n",
    "                       fixed_params=stack_fixed_params, pretuned=False, \n",
    "                       random_state=27, max_evals=1,\n",
    "                       trials=ens_ho_results['clean_edit']['stack_svr_tuned_second']['trials'])\n",
    "ens_ho_results['drop_edit']['stack_svr_tuned_second'] = \\\n",
    "        ho_ens_results(obj=ho_ens_cv_rmse, space=svr_stack_space, ens_name='stack', \n",
    "                       X_train=X_de_train, y_train=y_de_train, meta_name='svr', \n",
    "                       fixed_params=stack_fixed_params, pretuned=False, \n",
    "                       random_state=27, max_evals=1,\n",
    "                       trials=ens_ho_results['drop_edit']['stack_svr_tuned_second']['trials'])"
   ]
  },
  {
   "cell_type": "code",
   "execution_count": 1483,
   "metadata": {},
   "outputs": [],
   "source": [
    "# add and fit tuned svr stacks using features in secondary\n",
    "ensembles['clean_edit']['stack_svr_tuned_second'] = \\\n",
    "    stack_from_search_params(ens_ho_results['clean_edit']['stack_svr_tuned_second']['params'], \n",
    "                             X_ce_train, y_ce_train, meta_name='ridge',\n",
    "                             random_state=27)\n",
    "ensembles['drop_edit']['stack_svr_tuned_second'] = \\\n",
    "    stack_from_search_params(ens_ho_results['drop_edit']['stack_svr_tuned_second']['params'], \n",
    "                             X_de_train, y_de_train, meta_name='ridge',\n",
    "                             random_state=27)"
   ]
  },
  {
   "cell_type": "markdown",
   "metadata": {},
   "source": [
    "###### `XGBRegressor` meta"
   ]
  },
  {
   "cell_type": "code",
   "execution_count": 1438,
   "metadata": {},
   "outputs": [],
   "source": [
    "# xgb meta stack space\n",
    "xgb_stack_space = {**xgb_meta_space, **base_space}\n",
    "\n",
    "# store trial objects for restarting training\n",
    "ens_ho_results['clean_edit']['stack_xgb_tuned'] = {'trials': Trials(), 'params': None}\n",
    "ens_ho_results['drop_edit']['stack_xgb_tuned'] = {'trials': Trials(), 'params': None}"
   ]
  },
  {
   "cell_type": "code",
   "execution_count": 1440,
   "metadata": {},
   "outputs": [
    {
     "name": "stdout",
     "output_type": "stream",
     "text": [
      "100%|██████████| 1/1 [00:52<00:00, 52.24s/it, best loss: 0.13351005822246187]\n",
      "100%|██████████| 1/1 [01:18<00:00, 78.42s/it, best loss: 9.19113670699257]\n"
     ]
    }
   ],
   "source": [
    "# tune xgb stack without features in secondary\n",
    "stack_fixed_params['use_features_in_secondary'] = False\n",
    "\n",
    "ens_ho_results['clean_edit']['stack_xgb_tuned'] = \\\n",
    "        ho_ens_results(obj=ho_ens_cv_rmse, space=xgb_stack_space, ens_name='stack', \n",
    "                       X_train=X_ce_train, y_train=y_ce_train, meta_name='xgb', \n",
    "                       fixed_params=stack_fixed_params, pretuned=False, \n",
    "                       random_state=27, max_evals=1,\n",
    "                       trials=ens_ho_results['clean_edit']['stack_xgb_tuned']['trials'])\n",
    "ens_ho_results['drop_edit']['stack_xgb_tuned'] = \\\n",
    "        ho_ens_results(obj=ho_ens_cv_rmse, space=xgb_stack_space, ens_name='stack', \n",
    "                       X_train=X_de_train, y_train=y_de_train, meta_name='xgb', \n",
    "                       fixed_params=stack_fixed_params, pretuned=False, \n",
    "                       random_state=27, max_evals=1,\n",
    "                       trials=ens_ho_results['drop_edit']['stack_xgb_tuned']['trials'])"
   ]
  },
  {
   "cell_type": "code",
   "execution_count": 1484,
   "metadata": {},
   "outputs": [],
   "source": [
    "# add and fit tuned xgb stacks without features in secondary\n",
    "ensembles['clean_edit']['stack_xgb_tuned'] = \\\n",
    "    stack_from_search_params(ens_ho_results['clean_edit']['stack_xgb_tuned']['params'], \n",
    "                             X_ce_train, y_ce_train, meta_name='xgb',\n",
    "                             random_state=27)\n",
    "ensembles['drop_edit']['stack_xgb_tuned'] = \\\n",
    "    stack_from_search_params(ens_ho_results['drop_edit']['stack_xgb_tuned']['params'], \n",
    "                             X_de_train, y_de_train, meta_name='xgb',\n",
    "                             random_state=27)"
   ]
  },
  {
   "cell_type": "code",
   "execution_count": 1443,
   "metadata": {},
   "outputs": [
    {
     "name": "stdout",
     "output_type": "stream",
     "text": [
      "100%|██████████| 1/1 [01:34<00:00, 94.12s/it, best loss: 7.074702769465503]\n",
      "100%|██████████| 1/1 [00:40<00:00, 40.69s/it, best loss: 0.14239546887911503]\n"
     ]
    }
   ],
   "source": [
    "# store trial objects for restarting training\n",
    "ens_ho_results['clean_edit']['stack_xgb_tuned_second'] = \\\n",
    "            {'trials': Trials(), 'params': None}\n",
    "ens_ho_results['drop_edit']['stack_xgb_tuned_second'] = \\\n",
    "            {'trials': Trials(), 'params': None}\n",
    "\n",
    "# tune xgb stack with features in secondary\n",
    "stack_fixed_params['use_features_in_secondary'] = True\n",
    "\n",
    "ens_ho_results['clean_edit']['stack_xgb_tuned_second'] = \\\n",
    "    ho_ens_results(obj=ho_ens_cv_rmse, space=xgb_stack_space, ens_name='stack', \n",
    "                   X_train=X_ce_train, y_train=y_ce_train, meta_name='xgb', \n",
    "                   fixed_params=stack_fixed_params, pretuned=False, \n",
    "                   random_state=27, max_evals=1,\n",
    "                   trials=ens_ho_results['clean_edit']['stack_xgb_tuned_second']['trials'])\n",
    "ens_ho_results['drop_edit']['stack_xgb_tuned_second'] = \\\n",
    "    ho_ens_results(obj=ho_ens_cv_rmse, space=xgb_stack_space, ens_name='stack', \n",
    "                   X_train=X_de_train, y_train=y_de_train, meta_name='xgb', \n",
    "                   fixed_params=stack_fixed_params, pretuned=False, \n",
    "                   random_state=27, max_evals=1,\n",
    "                   trials=ens_ho_results['drop_edit']['stack_xgb_tuned_second']['trials'])"
   ]
  },
  {
   "cell_type": "code",
   "execution_count": 1485,
   "metadata": {},
   "outputs": [],
   "source": [
    "# add and fit tuned xgb stacks with features in secondary\n",
    "ensembles['clean_edit']['stack_xgb_tuned_second'] = \\\n",
    "    stack_from_search_params(ens_ho_results['clean_edit']['stack_xgb_tuned_second']['params'], \n",
    "                             X_ce_train, y_ce_train, meta_name='xgb', random_state=27)\n",
    "ensembles['drop_edit']['stack_xgb_tuned_second'] = \\\n",
    "    stack_from_search_params(ens_ho_results['drop_edit']['stack_xgb_tuned_second']['params'], \n",
    "                             X_de_train, y_de_train, meta_name='xgb', random_state=27)"
   ]
  },
  {
   "cell_type": "markdown",
   "metadata": {},
   "source": [
    "##### Compare ensembles"
   ]
  },
  {
   "cell_type": "markdown",
   "metadata": {},
   "source": [
    "Now we look at the performance of all our ensemble models."
   ]
  },
  {
   "cell_type": "code",
   "execution_count": null,
   "metadata": {},
   "outputs": [],
   "source": [
    "# compare results of tuned models -- warning this takes a LONG time\n",
    "start = time.time()\n",
    "ens_comp_df = compare_performance(ensembles, model_data, random_state=27)\n",
    "ens_comp_df.sort_values(by=('drop_edit', 'cv_rmse')).reset_index(drop=True)\n",
    "end = time.time()"
   ]
  },
  {
   "cell_type": "code",
   "execution_count": null,
   "metadata": {},
   "outputs": [],
   "source": [
    "end - start"
   ]
  },
  {
   "cell_type": "code",
   "execution_count": null,
   "metadata": {},
   "outputs": [],
   "source": [
    "# compare tuned model train and cv performance on clean \n",
    "plot_model_comp(ens_comp_df, col='data', hue='performance', palette=data_palette, rotation=90)"
   ]
  },
  {
   "cell_type": "code",
   "execution_count": null,
   "metadata": {},
   "outputs": [],
   "source": [
    "# compare clean and edit performance for train and cv error\n",
    "plot_model_comp(ens_comp_df, col='performance', hue='data', palette=perf_palette, rotation=90)"
   ]
  },
  {
   "cell_type": "code",
   "execution_count": null,
   "metadata": {},
   "outputs": [],
   "source": [
    "# pickle tuned parameters\n",
    "save_tuned_models(ensembles, '../data/ens_tuned_params.pkl')"
   ]
  },
  {
   "cell_type": "markdown",
   "metadata": {},
   "source": [
    "## Predict and Evaluate"
   ]
  },
  {
   "cell_type": "markdown",
   "metadata": {},
   "source": [
    "To check our test prediction performance we need to submit to Kaggle. We'll submit predictions for the top 4 ensemble models for both versions of the data (`clean_edit` and `drop_edit`) and report them here."
   ]
  },
  {
   "cell_type": "code",
   "execution_count": null,
   "metadata": {},
   "outputs": [],
   "source": [
    "def save_top_model_predictions(ensembles, ens_comp_df, data_name, model_data, num_models, save_path):\n",
    "    top_df = ens_comp_df.sort_values(by=(data_name, 'cv_rmse'), ascending=False).head(num_models)\n",
    "    for model_name in top_df['model']:\n",
    "        X_test = model_data[data_name]['X_ ' + data_name + '_test']\n",
    "        # transform predictions for log_SalePrice back to SalePrice\n",
    "        y_pred = np.exp(ensembles[data_name][model_name].predict(X_test))\n",
    "        submit = pd.DataFrame({'Id':X_test.index, 'SalePrice': np.exp(y_pred)})\n",
    "\n",
    "    return submit"
   ]
  }
 ],
 "metadata": {
  "kernelspec": {
   "display_name": "Python [conda env:house_prices]",
   "language": "python",
   "name": "conda-env-house_prices-py"
  },
  "language_info": {
   "codemirror_mode": {
    "name": "ipython",
    "version": 3
   },
   "file_extension": ".py",
   "mimetype": "text/x-python",
   "name": "python",
   "nbconvert_exporter": "python",
   "pygments_lexer": "ipython3",
   "version": "3.7.3"
  },
  "latex_envs": {
   "LaTeX_envs_menu_present": true,
   "autoclose": false,
   "autocomplete": true,
   "bibliofile": "biblio.bib",
   "cite_by": "apalike",
   "current_citInitial": 1,
   "eqLabelWithNumbers": true,
   "eqNumInitial": 1,
   "hotkeys": {
    "equation": "Ctrl-E",
    "itemize": "Ctrl-I"
   },
   "labels_anchors": false,
   "latex_user_defs": false,
   "report_style_numbering": false,
   "user_envs_cfg": false
  },
  "toc": {
   "base_numbering": 1,
   "nav_menu": {},
   "number_sections": true,
   "sideBar": false,
   "skip_h1_title": false,
   "title_cell": "Table of Contents",
   "title_sidebar": "Contents",
   "toc_cell": false,
   "toc_position": {},
   "toc_section_display": true,
   "toc_window_display": false
  }
 },
 "nbformat": 4,
 "nbformat_minor": 4
}
