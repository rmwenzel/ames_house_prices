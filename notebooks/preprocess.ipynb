{
 "cells": [
  {
   "cell_type": "markdown",
   "metadata": {},
   "source": [
    "# Preprocessing"
   ]
  },
  {
   "cell_type": "code",
   "execution_count": 16,
   "metadata": {},
   "outputs": [],
   "source": [
    "import numpy as np\n",
    "import pandas as pd\n",
    "import seaborn as sns; sns.set_style('whitegrid')\n",
    "\n",
    "%matplotlib inline\n",
    "import matplotlib.pyplot as plt\n",
    "\n",
    "import warnings\n",
    "warnings.filterwarnings('ignore')"
   ]
  },
  {
   "cell_type": "markdown",
   "metadata": {},
   "source": [
    "## Load and inspect Data"
   ]
  },
  {
   "cell_type": "markdown",
   "metadata": {},
   "source": [
    "### Data description"
   ]
  },
  {
   "cell_type": "code",
   "execution_count": 17,
   "metadata": {},
   "outputs": [],
   "source": [
    "from preprocess import *\n",
    "desc = description('data_description.txt')\n",
    "desc.build_dict()\n",
    "desc.clean_dict()\n",
    "desc.clean_var_names()"
   ]
  },
  {
   "cell_type": "code",
   "execution_count": 18,
   "metadata": {},
   "outputs": [
    {
     "data": {
      "text/plain": [
       "['MSSubClass', 'MSZoning', 'LotFrontage', 'LotArea', 'Street']"
      ]
     },
     "execution_count": 18,
     "metadata": {},
     "output_type": "execute_result"
    }
   ],
   "source": [
    "list(desc.dict_.keys())[:5]"
   ]
  },
  {
   "cell_type": "code",
   "execution_count": 19,
   "metadata": {},
   "outputs": [
    {
     "data": {
      "text/plain": [
       "{'Description': ' Identifies the type of dwelling involved in the sale.',\n",
       " 'Values': {'20': '1-STORY 1946 & NEWER ALL STYLES',\n",
       "  '30': '1-STORY 1945 & OLDER',\n",
       "  '40': '1-STORY W/FINISHED ATTIC ALL AGES',\n",
       "  '45': '1-1/2 STORY - UNFINISHED ALL AGES',\n",
       "  '50': '1-1/2 STORY FINISHED ALL AGES',\n",
       "  '60': '2-STORY 1946 & NEWER',\n",
       "  '70': '2-STORY 1945 & OLDER',\n",
       "  '75': '2-1/2 STORY ALL AGES',\n",
       "  '80': 'SPLIT OR MULTI-LEVEL',\n",
       "  '85': 'SPLIT FOYER',\n",
       "  '90': 'DUPLEX - ALL STYLES AND AGES',\n",
       "  '120': '1-STORY PUD (Planned Unit Development) - 1946 & NEWER',\n",
       "  '150': '1-1/2 STORY PUD - ALL AGES',\n",
       "  '160': '2-STORY PUD - 1946 & NEWER',\n",
       "  '180': 'PUD - MULTILEVEL - INCL SPLIT LEV/FOYER',\n",
       "  '190': '2 FAMILY CONVERSION - ALL STYLES AND AGES'}}"
      ]
     },
     "execution_count": 19,
     "metadata": {},
     "output_type": "execute_result"
    }
   ],
   "source": [
    "desc.dict_['MSSubClass']"
   ]
  },
  {
   "cell_type": "markdown",
   "metadata": {},
   "source": [
    "### Dataframes"
   ]
  },
  {
   "cell_type": "code",
   "execution_count": 20,
   "metadata": {},
   "outputs": [],
   "source": [
    "train_df = pd.read_csv('train.csv', index_col='Id')\n",
    "test_df = pd.read_csv('test.csv', index_col='Id')\n",
    "full_df = pd.concat([train_df, test_df], keys=['train', 'test'], axis=0, sort=False)"
   ]
  },
  {
   "cell_type": "code",
   "execution_count": 23,
   "metadata": {},
   "outputs": [
    {
     "data": {
      "text/html": [
       "<div>\n",
       "<style scoped>\n",
       "    .dataframe tbody tr th:only-of-type {\n",
       "        vertical-align: middle;\n",
       "    }\n",
       "\n",
       "    .dataframe tbody tr th {\n",
       "        vertical-align: top;\n",
       "    }\n",
       "\n",
       "    .dataframe thead th {\n",
       "        text-align: right;\n",
       "    }\n",
       "</style>\n",
       "<table border=\"1\" class=\"dataframe\">\n",
       "  <thead>\n",
       "    <tr style=\"text-align: right;\">\n",
       "      <th></th>\n",
       "      <th></th>\n",
       "      <th>MSSubClass</th>\n",
       "      <th>MSZoning</th>\n",
       "      <th>LotFrontage</th>\n",
       "      <th>LotArea</th>\n",
       "      <th>Street</th>\n",
       "      <th>Alley</th>\n",
       "      <th>LotShape</th>\n",
       "      <th>LandContour</th>\n",
       "      <th>Utilities</th>\n",
       "      <th>LotConfig</th>\n",
       "      <th>...</th>\n",
       "      <th>PoolArea</th>\n",
       "      <th>PoolQC</th>\n",
       "      <th>Fence</th>\n",
       "      <th>MiscFeature</th>\n",
       "      <th>MiscVal</th>\n",
       "      <th>MoSold</th>\n",
       "      <th>YrSold</th>\n",
       "      <th>SaleType</th>\n",
       "      <th>SaleCondition</th>\n",
       "      <th>SalePrice</th>\n",
       "    </tr>\n",
       "    <tr>\n",
       "      <th></th>\n",
       "      <th>Id</th>\n",
       "      <th></th>\n",
       "      <th></th>\n",
       "      <th></th>\n",
       "      <th></th>\n",
       "      <th></th>\n",
       "      <th></th>\n",
       "      <th></th>\n",
       "      <th></th>\n",
       "      <th></th>\n",
       "      <th></th>\n",
       "      <th></th>\n",
       "      <th></th>\n",
       "      <th></th>\n",
       "      <th></th>\n",
       "      <th></th>\n",
       "      <th></th>\n",
       "      <th></th>\n",
       "      <th></th>\n",
       "      <th></th>\n",
       "      <th></th>\n",
       "      <th></th>\n",
       "    </tr>\n",
       "  </thead>\n",
       "  <tbody>\n",
       "    <tr>\n",
       "      <th rowspan=\"5\" valign=\"top\">train</th>\n",
       "      <th>1</th>\n",
       "      <td>60</td>\n",
       "      <td>RL</td>\n",
       "      <td>65.0</td>\n",
       "      <td>8450</td>\n",
       "      <td>Pave</td>\n",
       "      <td>NaN</td>\n",
       "      <td>Reg</td>\n",
       "      <td>Lvl</td>\n",
       "      <td>AllPub</td>\n",
       "      <td>Inside</td>\n",
       "      <td>...</td>\n",
       "      <td>0</td>\n",
       "      <td>NaN</td>\n",
       "      <td>NaN</td>\n",
       "      <td>NaN</td>\n",
       "      <td>0</td>\n",
       "      <td>2</td>\n",
       "      <td>2008</td>\n",
       "      <td>WD</td>\n",
       "      <td>Normal</td>\n",
       "      <td>208500.0</td>\n",
       "    </tr>\n",
       "    <tr>\n",
       "      <th>2</th>\n",
       "      <td>20</td>\n",
       "      <td>RL</td>\n",
       "      <td>80.0</td>\n",
       "      <td>9600</td>\n",
       "      <td>Pave</td>\n",
       "      <td>NaN</td>\n",
       "      <td>Reg</td>\n",
       "      <td>Lvl</td>\n",
       "      <td>AllPub</td>\n",
       "      <td>FR2</td>\n",
       "      <td>...</td>\n",
       "      <td>0</td>\n",
       "      <td>NaN</td>\n",
       "      <td>NaN</td>\n",
       "      <td>NaN</td>\n",
       "      <td>0</td>\n",
       "      <td>5</td>\n",
       "      <td>2007</td>\n",
       "      <td>WD</td>\n",
       "      <td>Normal</td>\n",
       "      <td>181500.0</td>\n",
       "    </tr>\n",
       "    <tr>\n",
       "      <th>3</th>\n",
       "      <td>60</td>\n",
       "      <td>RL</td>\n",
       "      <td>68.0</td>\n",
       "      <td>11250</td>\n",
       "      <td>Pave</td>\n",
       "      <td>NaN</td>\n",
       "      <td>IR1</td>\n",
       "      <td>Lvl</td>\n",
       "      <td>AllPub</td>\n",
       "      <td>Inside</td>\n",
       "      <td>...</td>\n",
       "      <td>0</td>\n",
       "      <td>NaN</td>\n",
       "      <td>NaN</td>\n",
       "      <td>NaN</td>\n",
       "      <td>0</td>\n",
       "      <td>9</td>\n",
       "      <td>2008</td>\n",
       "      <td>WD</td>\n",
       "      <td>Normal</td>\n",
       "      <td>223500.0</td>\n",
       "    </tr>\n",
       "    <tr>\n",
       "      <th>4</th>\n",
       "      <td>70</td>\n",
       "      <td>RL</td>\n",
       "      <td>60.0</td>\n",
       "      <td>9550</td>\n",
       "      <td>Pave</td>\n",
       "      <td>NaN</td>\n",
       "      <td>IR1</td>\n",
       "      <td>Lvl</td>\n",
       "      <td>AllPub</td>\n",
       "      <td>Corner</td>\n",
       "      <td>...</td>\n",
       "      <td>0</td>\n",
       "      <td>NaN</td>\n",
       "      <td>NaN</td>\n",
       "      <td>NaN</td>\n",
       "      <td>0</td>\n",
       "      <td>2</td>\n",
       "      <td>2006</td>\n",
       "      <td>WD</td>\n",
       "      <td>Abnorml</td>\n",
       "      <td>140000.0</td>\n",
       "    </tr>\n",
       "    <tr>\n",
       "      <th>5</th>\n",
       "      <td>60</td>\n",
       "      <td>RL</td>\n",
       "      <td>84.0</td>\n",
       "      <td>14260</td>\n",
       "      <td>Pave</td>\n",
       "      <td>NaN</td>\n",
       "      <td>IR1</td>\n",
       "      <td>Lvl</td>\n",
       "      <td>AllPub</td>\n",
       "      <td>FR2</td>\n",
       "      <td>...</td>\n",
       "      <td>0</td>\n",
       "      <td>NaN</td>\n",
       "      <td>NaN</td>\n",
       "      <td>NaN</td>\n",
       "      <td>0</td>\n",
       "      <td>12</td>\n",
       "      <td>2008</td>\n",
       "      <td>WD</td>\n",
       "      <td>Normal</td>\n",
       "      <td>250000.0</td>\n",
       "    </tr>\n",
       "  </tbody>\n",
       "</table>\n",
       "<p>5 rows × 80 columns</p>\n",
       "</div>"
      ],
      "text/plain": [
       "          MSSubClass MSZoning  LotFrontage  LotArea Street Alley LotShape  \\\n",
       "      Id                                                                    \n",
       "train 1           60       RL         65.0     8450   Pave   NaN      Reg   \n",
       "      2           20       RL         80.0     9600   Pave   NaN      Reg   \n",
       "      3           60       RL         68.0    11250   Pave   NaN      IR1   \n",
       "      4           70       RL         60.0     9550   Pave   NaN      IR1   \n",
       "      5           60       RL         84.0    14260   Pave   NaN      IR1   \n",
       "\n",
       "         LandContour Utilities LotConfig  ... PoolArea PoolQC Fence  \\\n",
       "      Id                                  ...                         \n",
       "train 1          Lvl    AllPub    Inside  ...        0    NaN   NaN   \n",
       "      2          Lvl    AllPub       FR2  ...        0    NaN   NaN   \n",
       "      3          Lvl    AllPub    Inside  ...        0    NaN   NaN   \n",
       "      4          Lvl    AllPub    Corner  ...        0    NaN   NaN   \n",
       "      5          Lvl    AllPub       FR2  ...        0    NaN   NaN   \n",
       "\n",
       "         MiscFeature MiscVal MoSold  YrSold  SaleType  SaleCondition  \\\n",
       "      Id                                                               \n",
       "train 1          NaN       0      2    2008        WD         Normal   \n",
       "      2          NaN       0      5    2007        WD         Normal   \n",
       "      3          NaN       0      9    2008        WD         Normal   \n",
       "      4          NaN       0      2    2006        WD        Abnorml   \n",
       "      5          NaN       0     12    2008        WD         Normal   \n",
       "\n",
       "          SalePrice  \n",
       "      Id             \n",
       "train 1    208500.0  \n",
       "      2    181500.0  \n",
       "      3    223500.0  \n",
       "      4    140000.0  \n",
       "      5    250000.0  \n",
       "\n",
       "[5 rows x 80 columns]"
      ]
     },
     "execution_count": 23,
     "metadata": {},
     "output_type": "execute_result"
    }
   ],
   "source": [
    "full_df.head()"
   ]
  },
  {
   "cell_type": "code",
   "execution_count": 27,
   "metadata": {},
   "outputs": [
    {
     "name": "stdout",
     "output_type": "stream",
     "text": [
      "<class 'pandas.core.frame.DataFrame'>\n",
      "MultiIndex: 2919 entries, (train, 1) to (test, 2919)\n",
      "Data columns (total 80 columns):\n",
      "MSSubClass       2919 non-null int64\n",
      "MSZoning         2915 non-null object\n",
      "LotFrontage      2433 non-null float64\n",
      "LotArea          2919 non-null int64\n",
      "Street           2919 non-null object\n",
      "Alley            198 non-null object\n",
      "LotShape         2919 non-null object\n",
      "LandContour      2919 non-null object\n",
      "Utilities        2917 non-null object\n",
      "LotConfig        2919 non-null object\n",
      "LandSlope        2919 non-null object\n",
      "Neighborhood     2919 non-null object\n",
      "Condition1       2919 non-null object\n",
      "Condition2       2919 non-null object\n",
      "BldgType         2919 non-null object\n",
      "HouseStyle       2919 non-null object\n",
      "OverallQual      2919 non-null int64\n",
      "OverallCond      2919 non-null int64\n",
      "YearBuilt        2919 non-null int64\n",
      "YearRemodAdd     2919 non-null int64\n",
      "RoofStyle        2919 non-null object\n",
      "RoofMatl         2919 non-null object\n",
      "Exterior1st      2918 non-null object\n",
      "Exterior2nd      2918 non-null object\n",
      "MasVnrType       2895 non-null object\n",
      "MasVnrArea       2896 non-null float64\n",
      "ExterQual        2919 non-null object\n",
      "ExterCond        2919 non-null object\n",
      "Foundation       2919 non-null object\n",
      "BsmtQual         2838 non-null object\n",
      "BsmtCond         2837 non-null object\n",
      "BsmtExposure     2837 non-null object\n",
      "BsmtFinType1     2840 non-null object\n",
      "BsmtFinSF1       2918 non-null float64\n",
      "BsmtFinType2     2839 non-null object\n",
      "BsmtFinSF2       2918 non-null float64\n",
      "BsmtUnfSF        2918 non-null float64\n",
      "TotalBsmtSF      2918 non-null float64\n",
      "Heating          2919 non-null object\n",
      "HeatingQC        2919 non-null object\n",
      "CentralAir       2919 non-null object\n",
      "Electrical       2918 non-null object\n",
      "1stFlrSF         2919 non-null int64\n",
      "2ndFlrSF         2919 non-null int64\n",
      "LowQualFinSF     2919 non-null int64\n",
      "GrLivArea        2919 non-null int64\n",
      "BsmtFullBath     2917 non-null float64\n",
      "BsmtHalfBath     2917 non-null float64\n",
      "FullBath         2919 non-null int64\n",
      "HalfBath         2919 non-null int64\n",
      "BedroomAbvGr     2919 non-null int64\n",
      "KitchenAbvGr     2919 non-null int64\n",
      "KitchenQual      2918 non-null object\n",
      "TotRmsAbvGrd     2919 non-null int64\n",
      "Functional       2917 non-null object\n",
      "Fireplaces       2919 non-null int64\n",
      "FireplaceQu      1499 non-null object\n",
      "GarageType       2762 non-null object\n",
      "GarageYrBlt      2760 non-null float64\n",
      "GarageFinish     2760 non-null object\n",
      "GarageCars       2918 non-null float64\n",
      "GarageArea       2918 non-null float64\n",
      "GarageQual       2760 non-null object\n",
      "GarageCond       2760 non-null object\n",
      "PavedDrive       2919 non-null object\n",
      "WoodDeckSF       2919 non-null int64\n",
      "OpenPorchSF      2919 non-null int64\n",
      "EnclosedPorch    2919 non-null int64\n",
      "3SsnPorch        2919 non-null int64\n",
      "ScreenPorch      2919 non-null int64\n",
      "PoolArea         2919 non-null int64\n",
      "PoolQC           10 non-null object\n",
      "Fence            571 non-null object\n",
      "MiscFeature      105 non-null object\n",
      "MiscVal          2919 non-null int64\n",
      "MoSold           2919 non-null int64\n",
      "YrSold           2919 non-null int64\n",
      "SaleType         2918 non-null object\n",
      "SaleCondition    2919 non-null object\n",
      "SalePrice        1460 non-null float64\n",
      "dtypes: float64(12), int64(25), object(43)\n",
      "memory usage: 1.8+ MB\n"
     ]
    }
   ],
   "source": [
    "full_df.info()"
   ]
  },
  {
   "cell_type": "markdown",
   "metadata": {},
   "source": [
    "## Clean data"
   ]
  },
  {
   "cell_type": "markdown",
   "metadata": {},
   "source": [
    "### Determine Categorical, Ordinal, and Quantitative Variables"
   ]
  },
  {
   "cell_type": "code",
   "execution_count": 30,
   "metadata": {},
   "outputs": [
    {
     "name": "stdout",
     "output_type": "stream",
     "text": [
      "MSSubClass: Identifies the type of dwelling involved in the sale.\n",
      "\n",
      "20 - 1-STORY 1946 & NEWER ALL STYLES\n",
      "30 - 1-STORY 1945 & OLDER\n",
      "40 - 1-STORY W/FINISHED ATTIC ALL AGES\n",
      "45 - 1-1/2 STORY - UNFINISHED ALL AGES\n",
      "50 - 1-1/2 STORY FINISHED ALL AGES\n",
      "60 - 2-STORY 1946 & NEWER\n",
      "70 - 2-STORY 1945 & OLDER\n",
      "75 - 2-1/2 STORY ALL AGES\n",
      "80 - SPLIT OR MULTI-LEVEL\n",
      "85 - SPLIT FOYER\n",
      "90 - DUPLEX - ALL STYLES AND AGES\n",
      "120 - 1-STORY PUD (Planned Unit Development) - 1946 & NEWER\n",
      "150 - 1-1/2 STORY PUD - ALL AGES\n",
      "160 - 2-STORY PUD - 1946 & NEWER\n",
      "180 - PUD - MULTILEVEL - INCL SPLIT LEV/FOYER\n",
      "190 - 2 FAMILY CONVERSION - ALL STYLES AND AGES\n",
      "\n",
      "\n",
      "MSZoning: Identifies the general zoning classification of the sale.\n",
      "\n",
      "A - Agriculture\n",
      "C - Commercial\n",
      "FV - Floating Village Residential\n",
      "I - Industrial\n",
      "RH - Residential High Density\n",
      "RL - Residential Low Density\n",
      "RP - Residential Low Density Park \n",
      "RM - Residential Medium Density\n",
      "\n",
      "\n",
      "LotFrontage: Linear feet of street connected to property\n",
      "\n",
      "\n",
      "\n",
      "LotArea: Lot size in square feet\n",
      "\n",
      "\n",
      "\n",
      "Street: Type of road access to property\n",
      "\n",
      "Grvl - Gravel\n",
      "Pave - Paved\n",
      "\n",
      "\n",
      "Alley: Type of alley access to property\n",
      "\n",
      "Grvl - Gravel\n",
      "Pave - Paved\n",
      "NA - No alley access\n",
      "\n",
      "\n",
      "LotShape: General shape of property\n",
      "\n",
      "Reg - Regular\n",
      "IR1 - Slightly irregular\n",
      "IR2 - Moderately Irregular\n",
      "IR3 - Irregular\n",
      "\n",
      "\n",
      "LandContour: Flatness of the property\n",
      "\n",
      "Lvl - Near Flat/Level\n",
      "Bnk - Banked - Quick and significant rise from street grade to building\n",
      "HLS - Hillside - Significant slope from side to side\n",
      "Low - Depression\n",
      "\n",
      "\n",
      "Utilities: Type of utilities available\n",
      "\n",
      "AllPub - All public Utilities (E,G,W,& S)\n",
      "NoSewr - Electricity, Gas, and Water (Septic Tank)\n",
      "NoSeWa - Electricity and Gas Only\n",
      "ELO - Electricity only\n",
      "\n",
      "\n",
      "LotConfig: Lot configuration\n",
      "\n",
      "Inside - Inside lot\n",
      "Corner - Corner lot\n",
      "CulDSac - Cul-de-sac\n",
      "FR2 - Frontage on 2 sides of property\n",
      "FR3 - Frontage on 3 sides of property\n",
      "\n",
      "\n",
      "LandSlope: Slope of property\n",
      "\n",
      "Gtl - Gentle slope\n",
      "Mod - Moderate Slope\n",
      "Sev - Severe Slope\n",
      "\n",
      "\n",
      "Neighborhood: Physical locations within Ames city limits\n",
      "\n",
      "Blmngtn - Bloomington Heights\n",
      "Blueste - Bluestem\n",
      "BrDale - Briardale\n",
      "BrkSide - Brookside\n",
      "ClearCr - Clear Creek\n",
      "CollgCr - College Creek\n",
      "Crawfor - Crawford\n",
      "Edwards - Edwards\n",
      "Gilbert - Gilbert\n",
      "IDOTRR - Iowa DOT and Rail Road\n",
      "MeadowV - Meadow Village\n",
      "Mitchel - Mitchell\n",
      "Names - North Ames\n",
      "NoRidge - Northridge\n",
      "NPkVill - Northpark Villa\n",
      "NridgHt - Northridge Heights\n",
      "NWAmes - Northwest Ames\n",
      "OldTown - Old Town\n",
      "SWISU - South & West of Iowa State University\n",
      "Sawyer - Sawyer\n",
      "SawyerW - Sawyer West\n",
      "Somerst - Somerset\n",
      "StoneBr - Stone Brook\n",
      "Timber - Timberland\n",
      "Veenker - Veenker\n",
      "\n",
      "\n",
      "Condition1: Proximity to various conditions\n",
      "\n",
      "Artery - Adjacent to arterial street\n",
      "Feedr - Adjacent to feeder street\n",
      "Norm - Normal\n",
      "RRNn - Within 200' of North-South Railroad\n",
      "RRAn - Adjacent to North-South Railroad\n",
      "PosN - Near positive off-site feature--park, greenbelt, etc.\n",
      "PosA - Adjacent to postive off-site feature\n",
      "RRNe - Within 200' of East-West Railroad\n",
      "RRAe - Adjacent to East-West Railroad\n",
      "\n",
      "\n",
      "Condition2: Proximity to various conditions (if more than one is present)\n",
      "\n",
      "Artery - Adjacent to arterial street\n",
      "Feedr - Adjacent to feeder street\n",
      "Norm - Normal\n",
      "RRNn - Within 200' of North-South Railroad\n",
      "RRAn - Adjacent to North-South Railroad\n",
      "PosN - Near positive off-site feature--park, greenbelt, etc.\n",
      "PosA - Adjacent to postive off-site feature\n",
      "RRNe - Within 200' of East-West Railroad\n",
      "RRAe - Adjacent to East-West Railroad\n",
      "\n",
      "\n",
      "BldgType: Type of dwelling\n",
      "\n",
      "1Fam - Single-family Detached\n",
      "2FmCon - Two-family Conversion; originally built as one-family dwelling\n",
      "Duplx - Duplex\n",
      "TwnhsE - Townhouse End Unit\n",
      "TwnhsI - Townhouse Inside Unit\n",
      "\n",
      "\n",
      "HouseStyle: Style of dwelling\n",
      "\n",
      "1Story - One story\n",
      "1.5Fin - One and one-half story: 2nd level finished\n",
      "1.5Unf - One and one-half story: 2nd level unfinished\n",
      "2Story - Two story\n",
      "2.5Fin - Two and one-half story: 2nd level finished\n",
      "2.5Unf - Two and one-half story: 2nd level unfinished\n",
      "SFoyer - Split Foyer\n",
      "SLvl - Split Level\n",
      "\n",
      "\n",
      "OverallQual: Rates the overall material and finish of the house\n",
      "\n",
      "10 - Very Excellent\n",
      "9 - Excellent\n",
      "8 - Very Good\n",
      "7 - Good\n",
      "6 - Above Average\n",
      "5 - Average\n",
      "4 - Below Average\n",
      "3 - Fair\n",
      "2 - Poor\n",
      "1 - Very Poor\n",
      "\n",
      "\n",
      "OverallCond: Rates the overall condition of the house\n",
      "\n",
      "10 - Very Excellent\n",
      "9 - Excellent\n",
      "8 - Very Good\n",
      "7 - Good\n",
      "6 - Above Average\n",
      "5 - Average\n",
      "4 - Below Average\n",
      "3 - Fair\n",
      "2 - Poor\n",
      "1 - Very Poor\n",
      "\n",
      "\n",
      "YearBuilt: Original construction date\n",
      "\n",
      "\n",
      "\n",
      "YearRemodAdd: Remodel date (same as construction date if no remodeling or additions)\n",
      "\n",
      "\n",
      "\n",
      "RoofStyle: Type of roof\n",
      "\n",
      "Flat - Flat\n",
      "Gable - Gable\n",
      "Gambrel - Gabrel (Barn)\n",
      "Hip - Hip\n",
      "Mansard - Mansard\n",
      "Shed - Shed\n",
      "\n",
      "\n",
      "RoofMatl: Roof material\n",
      "\n",
      "ClyTile - Clay or Tile\n",
      "CompShg - Standard (Composite) Shingle\n",
      "Membran - Membrane\n",
      "Metal - Metal\n",
      "Roll - Roll\n",
      "Tar&Grv - Gravel & Tar\n",
      "WdShake - Wood Shakes\n",
      "WdShngl - Wood Shingles\n",
      "\n",
      "\n",
      "Exterior1st: Exterior covering on house\n",
      "\n",
      "AsbShng - Asbestos Shingles\n",
      "AsphShn - Asphalt Shingles\n",
      "BrkComm - Brick Common\n",
      "BrkFace - Brick Face\n",
      "CBlock - Cinder Block\n",
      "CemntBd - Cement Board\n",
      "HdBoard - Hard Board\n",
      "ImStucc - Imitation Stucco\n",
      "MetalSd - Metal Siding\n",
      "Other - Other\n",
      "Plywood - Plywood\n",
      "PreCast - PreCast\n",
      "Stone - Stone\n",
      "Stucco - Stucco\n",
      "VinylSd - Vinyl Siding\n",
      "Sdng - Wood Siding\n",
      "WdShing - Wood Shingles\n",
      "\n",
      "\n",
      "Exterior2nd: Exterior covering on house (if more than one material)\n",
      "\n",
      "AsbShng - Asbestos Shingles\n",
      "AsphShn - Asphalt Shingles\n",
      "BrkComm - Brick Common\n",
      "BrkFace - Brick Face\n",
      "CBlock - Cinder Block\n",
      "CemntBd - Cement Board\n",
      "HdBoard - Hard Board\n",
      "ImStucc - Imitation Stucco\n",
      "MetalSd - Metal Siding\n",
      "Other - Other\n",
      "Plywood - Plywood\n",
      "PreCast - PreCast\n",
      "Stone - Stone\n",
      "Stucco - Stucco\n",
      "VinylSd - Vinyl Siding\n",
      "Sdng - Wood Siding\n",
      "WdShing - Wood Shingles\n",
      "\n",
      "\n",
      "MasVnrType: Masonry veneer type\n",
      "\n",
      "BrkCmn - Brick Common\n",
      "BrkFace - Brick Face\n",
      "CBlock - Cinder Block\n",
      "None - None\n",
      "Stone - Stone\n",
      "\n",
      "\n",
      "MasVnrArea: Masonry veneer area in square feet\n",
      "\n",
      "\n",
      "\n",
      "ExterQual: Evaluates the quality of the material on the exterior \n",
      "\n",
      "Ex - Excellent\n",
      "Gd - Good\n",
      "TA - Average/Typical\n",
      "Fa - Fair\n",
      "Po - Poor\n",
      "\n",
      "\n",
      "ExterCond: Evaluates the present condition of the material on the exterior\n",
      "\n",
      "Ex - Excellent\n",
      "Gd - Good\n",
      "TA - Average/Typical\n",
      "Fa - Fair\n",
      "Po - Poor\n",
      "\n",
      "\n",
      "Foundation: Type of foundation\n",
      "\n",
      "BrkTil - Brick & Tile\n",
      "CBlock - Cinder Block\n",
      "PConc - Poured Contrete\n",
      "Slab - Slab\n",
      "Stone - Stone\n",
      "Wood - Wood\n",
      "\n",
      "\n",
      "BsmtQual: Evaluates the height of the basement\n",
      "\n",
      "Ex - Excellent (100+ inches)\n",
      "Gd - Good (90-99 inches)\n",
      "TA - Typical (80-89 inches)\n",
      "Fa - Fair (70-79 inches)\n",
      "Po - Poor (<70 inches\n",
      "NA - No Basement\n",
      "\n",
      "\n",
      "BsmtCond: Evaluates the general condition of the basement\n",
      "\n",
      "Ex - Excellent\n",
      "Gd - Good\n",
      "TA - Typical - slight dampness allowed\n",
      "Fa - Fair - dampness or some cracking or settling\n",
      "Po - Poor - Severe cracking, settling, or wetness\n",
      "NA - No Basement\n",
      "\n",
      "\n",
      "BsmtExposure: Refers to walkout or garden level walls\n",
      "\n",
      "Gd - Good Exposure\n",
      "Av - Average Exposure (split levels or foyers typically score average or above)\n",
      "Mn - Mimimum Exposure\n",
      "No - No Exposure\n",
      "NA - No Basement\n",
      "\n",
      "\n",
      "BsmtFinType1: Rating of basement finished area\n",
      "\n",
      "GLQ - Good Living Quarters\n",
      "ALQ - Average Living Quarters\n",
      "BLQ - Below Average Living Quarters\n",
      "Rec - Average Rec Room\n",
      "LwQ - Low Quality\n",
      "Unf - Unfinshed\n",
      "NA - No Basement\n",
      "\n",
      "\n",
      "BsmtFinSF1: Type 1 finished square feet\n",
      "\n",
      "\n",
      "\n",
      "BsmtFinType2: Rating of basement finished area (if multiple types)\n",
      "\n",
      "GLQ - Good Living Quarters\n",
      "ALQ - Average Living Quarters\n",
      "BLQ - Below Average Living Quarters\n",
      "Rec - Average Rec Room\n",
      "LwQ - Low Quality\n",
      "Unf - Unfinshed\n",
      "NA - No Basement\n",
      "\n",
      "\n",
      "BsmtFinSF2: Type 2 finished square feet\n",
      "\n",
      "\n",
      "\n",
      "BsmtUnfSF: Unfinished square feet of basement area\n",
      "\n",
      "\n",
      "\n",
      "TotalBsmtSF: Total square feet of basement area\n",
      "\n",
      "\n",
      "\n",
      "Heating: Type of heating\n",
      "\n",
      "Floor - Floor Furnace\n",
      "GasA - Gas forced warm air furnace\n",
      "GasW - Gas hot water or steam heat\n",
      "Grav - Gravity furnace\n",
      "OthW - Hot water or steam heat other than gas\n",
      "Wall - Wall furnace\n",
      "\n",
      "\n",
      "HeatingQC: Heating quality and condition\n",
      "\n",
      "Ex - Excellent\n",
      "Gd - Good\n",
      "TA - Average/Typical\n",
      "Fa - Fair\n",
      "Po - Poor\n",
      "\n",
      "\n",
      "CentralAir: Central air conditioning\n",
      "\n",
      "N - No\n",
      "Y - Yes\n",
      "\n",
      "\n",
      "Electrical: Electrical system\n",
      "\n",
      "SBrkr - Standard Circuit Breakers & Romex\n",
      "FuseA - Fuse Box over 60 AMP and all Romex wiring (Average)\n",
      "FuseF - 60 AMP Fuse Box and mostly Romex wiring (Fair)\n",
      "FuseP - 60 AMP Fuse Box and mostly knob & tube wiring (poor)\n",
      "Mix - Mixed\n",
      "\n",
      "\n",
      "1stFlrSF: First Floor square feet\n",
      "\n",
      "\n",
      "\n",
      "2ndFlrSF: Second floor square feet\n",
      "\n",
      "\n",
      "\n",
      "LowQualFinSF: Low quality finished square feet (all floors)\n",
      "\n",
      "\n",
      "\n",
      "GrLivArea: Above grade (ground) living area square feet\n",
      "\n",
      "\n",
      "\n",
      "BsmtFullBath: Basement full bathrooms\n",
      "\n",
      "\n",
      "\n",
      "BsmtHalfBath: Basement half bathrooms\n",
      "\n",
      "\n",
      "\n",
      "FullBath: Full bathrooms above grade\n",
      "\n",
      "\n",
      "\n",
      "HalfBath: Half baths above grade\n",
      "\n",
      "\n",
      "\n",
      "BedroomAbvGr: Bedrooms above grade (does NOT include basement bedrooms)\n",
      "\n",
      "\n",
      "\n",
      "KitchenAbvGr: Kitchens above grade\n",
      "\n",
      "\n",
      "\n",
      "KitchenQual: Kitchen quality\n",
      "\n",
      "Ex - Excellent\n",
      "Gd - Good\n",
      "TA - Typical/Average\n",
      "Fa - Fair\n",
      "Po - Poor\n",
      "\n",
      "\n",
      "TotRmsAbvGrd: Total rooms above grade (does not include bathrooms)\n",
      "\n",
      "\n",
      "\n",
      "Functional: Home functionality (Assume typical unless deductions are warranted)\n",
      "\n",
      "Typ - Typical Functionality\n",
      "Min1 - Minor Deductions 1\n",
      "Min2 - Minor Deductions 2\n",
      "Mod - Moderate Deductions\n",
      "Maj1 - Major Deductions 1\n",
      "Maj2 - Major Deductions 2\n",
      "Sev - Severely Damaged\n",
      "Sal - Salvage only\n",
      "\n",
      "\n",
      "Fireplaces: Number of fireplaces\n",
      "\n",
      "\n",
      "\n",
      "FireplaceQu: Fireplace quality\n",
      "\n",
      "Ex - Excellent - Exceptional Masonry Fireplace\n",
      "Gd - Good - Masonry Fireplace in main level\n",
      "TA - Average - Prefabricated Fireplace in main living area or Masonry Fireplace in basement\n",
      "Fa - Fair - Prefabricated Fireplace in basement\n",
      "Po - Poor - Ben Franklin Stove\n",
      "NA - No Fireplace\n",
      "\n",
      "\n",
      "GarageType: Garage location\n",
      "\n",
      "2Types - More than one type of garage\n",
      "Attchd - Attached to home\n",
      "Basment - Basement Garage\n",
      "BuiltIn - Built-In (Garage part of house - typically has room above garage)\n",
      "CarPort - Car Port\n",
      "Detchd - Detached from home\n",
      "NA - No Garage\n",
      "\n",
      "\n",
      "GarageYrBlt: Year garage was built\n",
      "\n",
      "\n",
      "\n",
      "GarageFinish: Interior finish of the garage\n",
      "\n",
      "Fin - Finished\n",
      "RFn - Rough Finished\n",
      "Unf - Unfinished\n",
      "NA - No Garage\n",
      "\n",
      "\n",
      "GarageCars: Size of garage in car capacity\n",
      "\n",
      "\n",
      "\n",
      "GarageArea: Size of garage in square feet\n",
      "\n",
      "\n",
      "\n",
      "GarageQual: Garage quality\n",
      "\n",
      "Ex - Excellent\n",
      "Gd - Good\n",
      "TA - Typical/Average\n",
      "Fa - Fair\n",
      "Po - Poor\n",
      "NA - No Garage\n",
      "\n",
      "\n",
      "GarageCond: Garage condition\n",
      "\n",
      "Ex - Excellent\n",
      "Gd - Good\n",
      "TA - Typical/Average\n",
      "Fa - Fair\n",
      "Po - Poor\n",
      "NA - No Garage\n",
      "\n",
      "\n",
      "PavedDrive: Paved driveway\n",
      "\n",
      "Y - Paved \n",
      "P - Partial Pavement\n",
      "N - Dirt/Gravel\n",
      "\n",
      "\n",
      "WoodDeckSF: Wood deck area in square feet\n",
      "\n",
      "\n",
      "\n",
      "OpenPorchSF: Open porch area in square feet\n",
      "\n",
      "\n",
      "\n",
      "EnclosedPorch: Enclosed porch area in square feet\n",
      "\n",
      "\n",
      "\n",
      "3SsnPorch: Three season porch area in square feet\n",
      "\n",
      "\n",
      "\n",
      "ScreenPorch: Screen porch area in square feet\n",
      "\n",
      "\n",
      "\n",
      "PoolArea: Pool area in square feet\n",
      "\n",
      "\n",
      "\n",
      "PoolQC: Pool quality\n",
      "\n",
      "Ex - Excellent\n",
      "Gd - Good\n",
      "TA - Average/Typical\n",
      "Fa - Fair\n",
      "NA - No Pool\n",
      "\n",
      "\n",
      "Fence: Fence quality\n",
      "\n",
      "GdPrv - Good Privacy\n",
      "MnPrv - Minimum Privacy\n",
      "GdWo - Good Wood\n",
      "MnWw - Minimum Wood/Wire\n",
      "NA - No Fence\n",
      "\n",
      "\n",
      "MiscFeature: Miscellaneous feature not covered in other categories\n",
      "\n",
      "Elev - Elevator\n",
      "Gar2 - 2nd Garage (if not described in garage section)\n",
      "Othr - Other\n",
      "Shed - Shed (over 100 SF)\n",
      "TenC - Tennis Court\n",
      "NA - None\n",
      "\n",
      "\n",
      "MiscVal: $Value of miscellaneous feature\n",
      "\n",
      "\n",
      "\n",
      "MoSold: Month Sold (MM)\n",
      "\n",
      "\n",
      "\n",
      "YrSold: Year Sold (YYYY)\n",
      "\n",
      "\n",
      "\n",
      "SaleType: Type of sale\n",
      "\n",
      "WD - Warranty Deed - Conventional\n",
      "CWD - Warranty Deed - Cash\n",
      "VWD - Warranty Deed - VA Loan\n",
      "New - Home just constructed and sold\n",
      "COD - Court Officer Deed/Estate\n",
      "Con - Contract 15% Down payment regular terms\n",
      "ConLw - Contract Low Down payment and low interest\n",
      "ConLI - Contract Low Interest\n",
      "ConLD - Contract Low Down\n",
      "Oth - Other\n",
      "\n",
      "\n",
      "SaleCondition: Condition of sale\n",
      "\n",
      "Normal - Normal Sale\n",
      "Abnorml - Abnormal Sale -  trade, foreclosure, short sale\n",
      "AdjLand - Adjoining Land Purchase\n",
      "Alloca - Allocation - two linked properties with separate deeds, typically condo with a garage unit\n",
      "Family - Sale between family members\n",
      "Partial - Home was not completed when last assessed (associated with New Homes)\n",
      "\n",
      "\n"
     ]
    }
   ],
   "source": [
    "# view description of all variables except sale price\n",
    "cols = list(full_df.columns)\n",
    "cols.remove('SalePrice')\n",
    "for col in cols:\n",
    "    print(col + ':' + desc.dict_[col]['Description'] + '\\n')\n",
    "    try:\n",
    "        for val in desc.dict_[col]['Values']:\n",
    "            print(val + ' - ' + desc.dict_[col]['Values'][val])\n",
    "    except KeyError:\n",
    "        pass\n",
    "    except TypeError:\n",
    "        pass\n",
    "    print('\\n')"
   ]
  },
  {
   "cell_type": "code",
   "execution_count": 31,
   "metadata": {},
   "outputs": [],
   "source": [
    "# split variables into categorical, ordinal, quantitative\n",
    "cat_cols = ['MSSubClass', 'MSZoning', 'Street', 'LandContour', 'LotConfig', 'Neighborhood', \n",
    "            'Condition1', 'Condition2', 'BldgType', 'HouseStyle', 'RoofStyle', 'RoofMatl', \n",
    "            'Exterior1st', 'Exterior2nd', 'MasVnrType', 'Foundation', 'Heating', 'CentralAir', \n",
    "            'Electrical', 'GarageType', 'MiscFeature', 'SaleType', 'SaleCondition', 'Alley']\n",
    "ord_cols = ['LotShape', 'Utilities', 'LandSlope', 'OverallQual', 'OverallCond', 'ExterQual', \n",
    "            'ExterCond', 'BsmtQual', 'BsmtCond', 'BsmtExposure', 'BsmtFinType1', 'BsmtFinType2',\n",
    "            'HeatingQC', 'BsmtFullBath', 'BsmtHalfBath', 'FullBath', 'HalfBath', 'BedroomAbvGr', \n",
    "            'KitchenAbvGr', 'KitchenQual', 'TotRmsAbvGrd', 'Functional', 'Fireplaces', 'FireplaceQu'\n",
    "            'GarageFinish', 'GarageCars', 'GarageQual', 'GarageCond', 'PavedDrive', 'PoolQC', 'Fence']\n",
    "quant_cols = ['LotFrontage', 'LotArea', 'YearBuilt', 'YearRemodAdd', 'MasVnrArea', 'BsmtFinSF1', \n",
    "              'BsmtFinSF2', 'BsmtUnfSF', 'TotalBsmtSF', '1stFlrSF', '2ndFlrSF', 'LowQualFinSF', \n",
    "              'GrLivArea', 'GarageYrBlt', 'GarageArea', 'WoodDeckSF', 'OpenPorchSF', \n",
    "              'EnclosedPorch', '3SsnPorch', 'ScreenPorch', 'PoolArea', 'MiscVal', 'MoSold', 'YrSold', 'SalePrice']"
   ]
  },
  {
   "cell_type": "code",
   "execution_count": 35,
   "metadata": {
    "scrolled": true
   },
   "outputs": [
    {
     "data": {
      "text/plain": [
       "array([nan, 'MnPrv', 'GdWo', 'GdPrv', 'MnWw'], dtype=object)"
      ]
     },
     "execution_count": 35,
     "metadata": {},
     "output_type": "execute_result"
    }
   ],
   "source": [
    "full_df['Fence'].unique()"
   ]
  },
  {
   "cell_type": "code",
   "execution_count": 36,
   "metadata": {},
   "outputs": [
    {
     "data": {
      "text/plain": [
       "<matplotlib.axes._subplots.AxesSubplot at 0x1a11db2630>"
      ]
     },
     "execution_count": 36,
     "metadata": {},
     "output_type": "execute_result"
    },
    {
     "data": {
      "image/png": "[encoded data removed]",
      "text/plain": [
       "<Figure size 432x288 with 1 Axes>"
      ]
     },
     "metadata": {
      "needs_background": "light"
     },
     "output_type": "display_data"
    }
   ],
   "source": [
    "sns.countplot(full_df['Fence'])"
   ]
  },
  {
   "cell_type": "markdown",
   "metadata": {},
   "source": [
    "### Drop obvious variables"
   ]
  },
  {
   "cell_type": "code",
   "execution_count": 32,
   "metadata": {},
   "outputs": [],
   "source": [
    "# drop columns with too many missing values\n",
    "notna_col_mask = ~ (full_df.isna().sum()/len(full_df) > 0.20)\n",
    "notna_col_mask.loc['SalePrice'] = True\n",
    "full_edit = full_df.loc[: , notna_col_mask]\n",
    "\n",
    "# drop associated columns\n",
    "full_edit = full_edit.drop(columns=['MiscVal'])\n",
    "# drop outliers in OverallQual\n",
    "idx = full_edit[(full_edit['OverallQual'] < 5) & (full_edit['SalePrice'] > 200000)].index[0][1]\n",
    "full_edit = full_edit.drop(labels=[idx], axis=0, level='Id')\n",
    "# drop outliers in GrLivArea\n",
    "idx = full_edit[(full_edit['GrLivArea'] > 4000) & (full_edit['SalePrice'] < 300000)].index[0][1]\n",
    "full_edit = full_edit.drop(labels=[idx], axis=0, level='Id')"
   ]
  },
  {
   "cell_type": "code",
   "execution_count": 33,
   "metadata": {},
   "outputs": [],
   "source": [
    "# drop categorical variables with low number of class and extremely unbalanced distributions\n",
    "unbalanced_cols = ['Street', 'Utilities']\n",
    "full_edit = full_edit.drop(columns=unbalanced_cols)"
   ]
  },
  {
   "cell_type": "markdown",
   "metadata": {},
   "source": [
    "### Impute Missing Values"
   ]
  },
  {
   "cell_type": "markdown",
   "metadata": {},
   "source": [
    "#### Inspect train and test distributions of missing values"
   ]
  },
  {
   "cell_type": "code",
   "execution_count": 72,
   "metadata": {
    "scrolled": false
   },
   "outputs": [
    {
     "data": {
      "text/plain": [
       "(array([ 0,  1,  2,  3,  4,  5,  6,  7,  8,  9, 10, 11, 12, 13, 14, 15, 16,\n",
       "        17, 18, 19, 20, 21, 22, 23, 24, 25, 26, 27]),\n",
       " <a list of 28 Text xticklabel objects>)"
      ]
     },
     "execution_count": 72,
     "metadata": {},
     "output_type": "execute_result"
    },
    {
     "data": {
      "image/png": "[encoded data removed]",
      "text/plain": [
       "<Figure size 1080x504 with 1 Axes>"
      ]
     },
     "metadata": {
      "needs_background": "light"
     },
     "output_type": "display_data"
    }
   ],
   "source": [
    "# plot distribution of missing train values\n",
    "train_missing = full_edit.drop(columns=['SalePrice']).loc['train'].loc[ : , full_edit.isna().any()].isna().sum()\n",
    "train_missing_dist = train_missing/train_missing.sum()\n",
    "plt.figure(figsize=(15, 7))\n",
    "sns.barplot(x=train_missing_dist.index, y=train_missing_dist.values)\n",
    "plt.xticks(rotation=60)\n"
   ]
  },
  {
   "cell_type": "code",
   "execution_count": 73,
   "metadata": {},
   "outputs": [
    {
     "data": {
      "text/plain": [
       "(array([ 0,  1,  2,  3,  4,  5,  6,  7,  8,  9, 10, 11, 12, 13, 14, 15, 16,\n",
       "        17, 18, 19, 20, 21, 22, 23, 24, 25, 26, 27]),\n",
       " <a list of 28 Text xticklabel objects>)"
      ]
     },
     "execution_count": 73,
     "metadata": {},
     "output_type": "execute_result"
    },
    {
     "data": {
      "image/png": "[encoded data removed]",
      "text/plain": [
       "<Figure size 1080x504 with 1 Axes>"
      ]
     },
     "metadata": {
      "needs_background": "light"
     },
     "output_type": "display_data"
    }
   ],
   "source": [
    "# plot distribution of missing test values\n",
    "test_missing = full_edit.loc['test'].drop(columns=['SalePrice']).loc[ : , full_edit.isna().any()].isna().sum()\n",
    "test_missing_dist = test_missing/test_missing.sum()\n",
    "plt.figure(figsize=(15, 7))\n",
    "sns.barplot(x=test_missing_dist.index, y=test_missing_dist.values)\n",
    "plt.xticks(rotation=60)"
   ]
  },
  {
   "cell_type": "code",
   "execution_count": 74,
   "metadata": {},
   "outputs": [
    {
     "data": {
      "text/plain": [
       "set()"
      ]
     },
     "execution_count": 74,
     "metadata": {},
     "output_type": "execute_result"
    }
   ],
   "source": [
    "# check which columns the training set is missing values that the test set isn't\n",
    "train_missing_cols = set(full_edit.loc['train'].drop(columns=['SalePrice']).loc[ : , full_edit.isna().any()].columns)\n",
    "test_missing_cols = set(full_edit.loc['test'].drop(columns=['SalePrice']).loc[ : , full_edit.isna().any()].columns)\n",
    "train_missing_cols.difference(test_missing_cols)"
   ]
  },
  {
   "cell_type": "code",
   "execution_count": 75,
   "metadata": {},
   "outputs": [
    {
     "data": {
      "text/plain": [
       "set()"
      ]
     },
     "execution_count": 75,
     "metadata": {},
     "output_type": "execute_result"
    }
   ],
   "source": [
    "# check which columns the test set is missing values that the trainin set isn't\n",
    "test_missing_cols.difference(train_missing_cols)"
   ]
  },
  {
   "cell_type": "code",
   "execution_count": 76,
   "metadata": {},
   "outputs": [
    {
     "data": {
      "text/plain": [
       "'KL divergence of test missing from train missing is 0.03357306854134871'"
      ]
     },
     "execution_count": 76,
     "metadata": {},
     "output_type": "execute_result"
    }
   ],
   "source": [
    "# measure similarity of distributions using KL divergence\n",
    "\n",
    "from scipy.stats import entropy\n",
    "from itertools import product\n",
    "\n",
    "# ignore one column where training set isn't missing a value but test set it\n",
    "\n",
    "# joint entropy of missing train and test values\n",
    "train_missing_dist.loc['Electrical'] = 0\n",
    "kl = entropy(train_missing_dist, test_missing_dist)\n",
    "f'KL divergence of test missing from train missing is {kl}'"
   ]
  },
  {
   "cell_type": "markdown",
   "metadata": {},
   "source": [
    "#### Inspect columns with missing values"
   ]
  },
  {
   "cell_type": "code",
   "execution_count": 77,
   "metadata": {
    "scrolled": true
   },
   "outputs": [
    {
     "data": {
      "text/plain": [
       "MSZoning           4\n",
       "LotFrontage      486\n",
       "Exterior1st        1\n",
       "Exterior2nd        1\n",
       "MasVnrType        24\n",
       "MasVnrArea        23\n",
       "BsmtQual          81\n",
       "BsmtCond          82\n",
       "BsmtExposure      82\n",
       "BsmtFinType1      79\n",
       "BsmtFinSF1         1\n",
       "BsmtFinType2      80\n",
       "BsmtFinSF2         1\n",
       "BsmtUnfSF          1\n",
       "TotalBsmtSF        1\n",
       "Electrical         1\n",
       "BsmtFullBath       2\n",
       "BsmtHalfBath       2\n",
       "KitchenQual        1\n",
       "Functional         2\n",
       "GarageType       157\n",
       "GarageYrBlt      159\n",
       "GarageFinish     159\n",
       "GarageCars         1\n",
       "GarageArea         1\n",
       "GarageQual       159\n",
       "GarageCond       159\n",
       "SaleType           1\n",
       "SalePrice       1459\n",
       "dtype: int64"
      ]
     },
     "execution_count": 77,
     "metadata": {},
     "output_type": "execute_result"
    }
   ],
   "source": [
    "# df of columns missing values\n",
    "null_df = full_edit.loc[:, full_edit.isna().any()]\n",
    "null_df.isna().sum()"
   ]
  },
  {
   "cell_type": "code",
   "execution_count": 78,
   "metadata": {},
   "outputs": [
    {
     "name": "stdout",
     "output_type": "stream",
     "text": [
      "Categorical columns with null entries\n"
     ]
    },
    {
     "data": {
      "text/plain": [
       "['MSZoning',\n",
       " 'GarageType',\n",
       " 'MasVnrType',\n",
       " 'Exterior2nd',\n",
       " 'SaleType',\n",
       " 'Electrical',\n",
       " 'Exterior1st']"
      ]
     },
     "execution_count": 78,
     "metadata": {},
     "output_type": "execute_result"
    }
   ],
   "source": [
    "print('Categorical columns with null entries')\n",
    "null_cat_cols = list(set(null_df.columns).intersection(set(cat_cols)))\n",
    "null_cat_cols"
   ]
  },
  {
   "cell_type": "code",
   "execution_count": 79,
   "metadata": {},
   "outputs": [
    {
     "name": "stdout",
     "output_type": "stream",
     "text": [
      "Ordinal columns with null entries\n"
     ]
    },
    {
     "data": {
      "text/plain": [
       "['BsmtExposure',\n",
       " 'BsmtCond',\n",
       " 'Functional',\n",
       " 'BsmtFullBath',\n",
       " 'BsmtQual',\n",
       " 'GarageQual',\n",
       " 'GarageCars',\n",
       " 'KitchenQual',\n",
       " 'GarageFinish',\n",
       " 'GarageCond',\n",
       " 'BsmtFinType1',\n",
       " 'BsmtHalfBath']"
      ]
     },
     "execution_count": 79,
     "metadata": {},
     "output_type": "execute_result"
    }
   ],
   "source": [
    "print('Ordinal columns with null entries')\n",
    "null_ord_cols = list(set(null_df.columns).intersection(set(ord_cols)))\n",
    "null_ord_cols"
   ]
  },
  {
   "cell_type": "code",
   "execution_count": 80,
   "metadata": {
    "scrolled": false
   },
   "outputs": [
    {
     "name": "stdout",
     "output_type": "stream",
     "text": [
      "Qualitative columns with null entries\n"
     ]
    },
    {
     "data": {
      "text/plain": [
       "['TotalBsmtSF',\n",
       " 'GarageArea',\n",
       " 'MasVnrArea',\n",
       " 'BsmtFinSF2',\n",
       " 'BsmtUnfSF',\n",
       " 'GarageYrBlt',\n",
       " 'LotFrontage',\n",
       " 'BsmtFinSF1']"
      ]
     },
     "execution_count": 80,
     "metadata": {},
     "output_type": "execute_result"
    }
   ],
   "source": [
    "# quantitative columns with null entries\n",
    "print('Qualitative columns with null entries')\n",
    "null_quant_cols = list(set(null_df.columns).intersection(set(quant_cols)))\n",
    "null_quant_cols"
   ]
  },
  {
   "cell_type": "markdown",
   "metadata": {},
   "source": [
    "#### Numerically encode ordinals"
   ]
  },
  {
   "cell_type": "code",
   "execution_count": 81,
   "metadata": {},
   "outputs": [
    {
     "name": "stdout",
     "output_type": "stream",
     "text": [
      "<class 'pandas.core.frame.DataFrame'>\n",
      "MultiIndex: 2919 entries, (train, 1) to (test, 2919)\n",
      "Data columns (total 26 columns):\n",
      "BsmtCond        2837 non-null object\n",
      "BsmtQual        2838 non-null object\n",
      "ExterQual       2919 non-null object\n",
      "GarageCars      2918 non-null float64\n",
      "GarageFinish    2760 non-null object\n",
      "BedroomAbvGr    2919 non-null int64\n",
      "BsmtFinType1    2840 non-null object\n",
      "PavedDrive      2919 non-null object\n",
      "FullBath        2919 non-null int64\n",
      "BsmtExposure    2837 non-null object\n",
      "OverallQual     2919 non-null int64\n",
      "GarageCond      2760 non-null object\n",
      "LotShape        2919 non-null object\n",
      "OverallCond     2919 non-null int64\n",
      "TotRmsAbvGrd    2919 non-null int64\n",
      "BsmtHalfBath    2917 non-null float64\n",
      "HalfBath        2919 non-null int64\n",
      "Functional      2917 non-null object\n",
      "GarageQual      2760 non-null object\n",
      "KitchenQual     2918 non-null object\n",
      "ExterCond       2919 non-null object\n",
      "Fireplaces      2919 non-null int64\n",
      "BsmtFullBath    2917 non-null float64\n",
      "LandSlope       2919 non-null object\n",
      "KitchenAbvGr    2919 non-null int64\n",
      "HeatingQC       2919 non-null object\n",
      "dtypes: float64(3), int64(8), object(15)\n",
      "memory usage: 624.4+ KB\n"
     ]
    }
   ],
   "source": [
    "edit_ord_cols = list(set(full_edit.columns).intersection(ord_cols))\n",
    "full_edit[edit_ord_cols].info()"
   ]
  },
  {
   "cell_type": "code",
   "execution_count": 82,
   "metadata": {},
   "outputs": [],
   "source": [
    "from numpy import nan\n",
    "\n",
    "ords = {col:None for col in edit_ord_cols if full_edit[col].dtype == 'O'}"
   ]
  },
  {
   "cell_type": "code",
   "execution_count": 83,
   "metadata": {},
   "outputs": [],
   "source": [
    "ords['GarageCond'] = {nan: 0, 'Po': 1, 'Fa': 2, 'TA': 3, 'Gd': 4, 'Ex': 5}\n",
    "ords['BsmtCond'] = ords['GarageCond'].copy()\n",
    "ords['BsmtCond'].pop('Ex')\n",
    "ords['LandSlope'] = {'Gtl': 0, 'Mod': 1, 'Sev': 2}\n",
    "ords['PavedDrive'] = {'N': 0, 'P': 1, 'Y': 2}\n",
    "ords['GarageFinish'] = {nan: 0, 'Unf': 1, 'RFn': 2, 'Fin': 3}\n",
    "ords['BsmtQual'] = {nan: 0, 'Fa': 1, 'TA': 2, 'Gd': 3, 'Ex': 4}\n",
    "ords['GarageQual'] = ords['GarageCond'].copy()\n",
    "ords['LotShape'] = {'Reg': 0, 'IR1': 1, 'IR2': 2, 'IR3': 3}\n",
    "ords['Functional'] = {name:i for (i, name) in enumerate(reversed(full_edit['Functional'].unique()[:-1]))}\n",
    "ords['Functional'][nan] = nan\n",
    "ords['ExterCond'] = ords['GarageCond'].copy()\n",
    "ords['ExterQual'] = {'Fa': 0, 'TA': 1, 'Gd': 2, 'Ex': 3}\n",
    "ords['HeatingQC'] = ords['GarageCond'].copy()\n",
    "ords['KitchenQual'] = ords['BsmtQual'].copy()\n",
    "ords['BsmtFinType1'] = {nan: 0, 'Unf': 1, 'LwQ': 2, 'Rec': 3, 'BLQ': 4, 'ALQ': 5, 'GLQ': 6}\n",
    "ords['BsmtFinType2'] = ords['BsmtFinType1'].copy()\n",
    "ords['BsmtExposure'] = {nan: 0, 'No': 1, 'Mn': 2, 'Av': 3, 'Gd': 4}"
   ]
  },
  {
   "cell_type": "code",
   "execution_count": 84,
   "metadata": {},
   "outputs": [
    {
     "data": {
      "text/plain": [
       "{'BsmtCond': {nan: 0, 'Po': 1, 'Fa': 2, 'TA': 3, 'Gd': 4},\n",
       " 'BsmtQual': {nan: 0, 'Fa': 1, 'TA': 2, 'Gd': 3, 'Ex': 4},\n",
       " 'ExterQual': {'Fa': 0, 'TA': 1, 'Gd': 2, 'Ex': 3},\n",
       " 'GarageFinish': {nan: 0, 'Unf': 1, 'RFn': 2, 'Fin': 3},\n",
       " 'BsmtFinType1': {nan: 0,\n",
       "  'Unf': 1,\n",
       "  'LwQ': 2,\n",
       "  'Rec': 3,\n",
       "  'BLQ': 4,\n",
       "  'ALQ': 5,\n",
       "  'GLQ': 6},\n",
       " 'PavedDrive': {'N': 0, 'P': 1, 'Y': 2},\n",
       " 'BsmtExposure': {nan: 0, 'No': 1, 'Mn': 2, 'Av': 3, 'Gd': 4},\n",
       " 'GarageCond': {nan: 0, 'Po': 1, 'Fa': 2, 'TA': 3, 'Gd': 4, 'Ex': 5},\n",
       " 'LotShape': {'Reg': 0, 'IR1': 1, 'IR2': 2, 'IR3': 3},\n",
       " 'Functional': {'Sev': 0,\n",
       "  'Maj2': 1,\n",
       "  'Mod': 2,\n",
       "  'Min2': 3,\n",
       "  'Maj1': 4,\n",
       "  'Min1': 5,\n",
       "  'Typ': 6,\n",
       "  nan: nan},\n",
       " 'GarageQual': {nan: 0, 'Po': 1, 'Fa': 2, 'TA': 3, 'Gd': 4, 'Ex': 5},\n",
       " 'KitchenQual': {nan: 0, 'Fa': 1, 'TA': 2, 'Gd': 3, 'Ex': 4},\n",
       " 'ExterCond': {nan: 0, 'Po': 1, 'Fa': 2, 'TA': 3, 'Gd': 4, 'Ex': 5},\n",
       " 'LandSlope': {'Gtl': 0, 'Mod': 1, 'Sev': 2},\n",
       " 'HeatingQC': {nan: 0, 'Po': 1, 'Fa': 2, 'TA': 3, 'Gd': 4, 'Ex': 5},\n",
       " 'BsmtFinType2': {nan: 0,\n",
       "  'Unf': 1,\n",
       "  'LwQ': 2,\n",
       "  'Rec': 3,\n",
       "  'BLQ': 4,\n",
       "  'ALQ': 5,\n",
       "  'GLQ': 6}}"
      ]
     },
     "execution_count": 84,
     "metadata": {},
     "output_type": "execute_result"
    }
   ],
   "source": [
    "ords"
   ]
  },
  {
   "cell_type": "code",
   "execution_count": 85,
   "metadata": {},
   "outputs": [],
   "source": [
    "def return_val(col):\n",
    "    def f(x):\n",
    "        return ords[col][x]\n",
    "    return f\n",
    "\n",
    "for col in ords:\n",
    "    full_edit.loc[:, col] = full_edit[col].map(return_val(col))"
   ]
  },
  {
   "cell_type": "code",
   "execution_count": 86,
   "metadata": {},
   "outputs": [
    {
     "name": "stdout",
     "output_type": "stream",
     "text": [
      "<class 'pandas.core.frame.DataFrame'>\n",
      "MultiIndex: 2919 entries, (train, 1) to (test, 2919)\n",
      "Data columns (total 26 columns):\n",
      "BsmtCond        2919 non-null int64\n",
      "BsmtQual        2919 non-null int64\n",
      "ExterQual       2919 non-null int64\n",
      "GarageCars      2918 non-null float64\n",
      "GarageFinish    2919 non-null int64\n",
      "BedroomAbvGr    2919 non-null int64\n",
      "BsmtFinType1    2919 non-null int64\n",
      "PavedDrive      2919 non-null int64\n",
      "FullBath        2919 non-null int64\n",
      "BsmtExposure    2919 non-null int64\n",
      "OverallQual     2919 non-null int64\n",
      "GarageCond      2919 non-null int64\n",
      "LotShape        2919 non-null int64\n",
      "OverallCond     2919 non-null int64\n",
      "TotRmsAbvGrd    2919 non-null int64\n",
      "BsmtHalfBath    2917 non-null float64\n",
      "HalfBath        2919 non-null int64\n",
      "Functional      2917 non-null float64\n",
      "GarageQual      2919 non-null int64\n",
      "KitchenQual     2919 non-null int64\n",
      "ExterCond       2919 non-null int64\n",
      "Fireplaces      2919 non-null int64\n",
      "BsmtFullBath    2917 non-null float64\n",
      "LandSlope       2919 non-null int64\n",
      "KitchenAbvGr    2919 non-null int64\n",
      "HeatingQC       2919 non-null int64\n",
      "dtypes: float64(4), int64(22)\n",
      "memory usage: 704.4+ KB\n"
     ]
    }
   ],
   "source": [
    "full_edit[edit_ord_cols].info()"
   ]
  },
  {
   "cell_type": "markdown",
   "metadata": {},
   "source": [
    "#### Impute for columns with low numbers of missing values by hand"
   ]
  },
  {
   "cell_type": "code",
   "execution_count": 87,
   "metadata": {},
   "outputs": [
    {
     "data": {
      "text/plain": [
       "MSZoning         4\n",
       "GarageType     157\n",
       "MasVnrType      24\n",
       "Exterior2nd      1\n",
       "SaleType         1\n",
       "Electrical       1\n",
       "Exterior1st      1\n",
       "dtype: int64"
      ]
     },
     "execution_count": 87,
     "metadata": {},
     "output_type": "execute_result"
    }
   ],
   "source": [
    "# counts of missing categoricals\n",
    "null_cat_counts = full_edit[null_cat_cols].isna().sum()\n",
    "null_cat_counts"
   ]
  },
  {
   "cell_type": "code",
   "execution_count": 88,
   "metadata": {
    "scrolled": true
   },
   "outputs": [
    {
     "data": {
      "text/plain": [
       "BsmtExposure    0\n",
       "BsmtCond        0\n",
       "Functional      2\n",
       "BsmtFullBath    2\n",
       "BsmtQual        0\n",
       "GarageQual      0\n",
       "GarageCars      1\n",
       "KitchenQual     0\n",
       "GarageFinish    0\n",
       "GarageCond      0\n",
       "BsmtFinType1    0\n",
       "BsmtHalfBath    2\n",
       "dtype: int64"
      ]
     },
     "execution_count": 88,
     "metadata": {},
     "output_type": "execute_result"
    }
   ],
   "source": [
    "# counts of missing ordinals\n",
    "null_ord_counts = full_edit[null_ord_cols].isna().sum()\n",
    "null_ord_counts"
   ]
  },
  {
   "cell_type": "code",
   "execution_count": 89,
   "metadata": {
    "scrolled": false
   },
   "outputs": [
    {
     "data": {
      "text/plain": [
       "TotalBsmtSF      1\n",
       "GarageArea       1\n",
       "MasVnrArea      23\n",
       "BsmtFinSF2       1\n",
       "BsmtUnfSF        1\n",
       "GarageYrBlt    159\n",
       "LotFrontage    486\n",
       "BsmtFinSF1       1\n",
       "dtype: int64"
      ]
     },
     "execution_count": 89,
     "metadata": {},
     "output_type": "execute_result"
    }
   ],
   "source": [
    "# counts of missing quantitatives\n",
    "null_quant_counts = full_edit[null_quant_cols].isna().sum()\n",
    "null_quant_counts"
   ]
  },
  {
   "cell_type": "code",
   "execution_count": 90,
   "metadata": {},
   "outputs": [],
   "source": [
    "# impute columns with low number of missing vals by hand\n",
    "\n",
    "cat_hi_missing_cols = null_cat_counts[null_cat_counts > 4].index\n",
    "cat_lo_missing_cols = list(set(null_cat_cols).difference(set(cat_hi_missing_cols)))\n",
    "\n",
    "ord_hi_missing_cols = null_ord_counts[null_ord_counts > 2].index\n",
    "ord_lo_missing_cols = list(set(null_ord_cols).difference(set(ord_hi_missing_cols)))\n",
    "\n",
    "quant_hi_missing_cols = null_quant_counts[null_quant_counts > 1].index\n",
    "quant_lo_missing_cols = list(set(null_quant_cols).difference(set(quant_hi_missing_cols)))\n",
    "\n",
    "missing_values = {**{col: full_edit[col].value_counts().idxmax() for col in cat_lo_missing_cols}, \n",
    "                  **{col: full_edit[col].median() for col in ord_lo_missing_cols + quant_lo_missing_cols}\n",
    "                 }\n",
    "\n",
    "full_edit = full_edit.fillna(value=missing_values)"
   ]
  },
  {
   "cell_type": "code",
   "execution_count": 91,
   "metadata": {
    "scrolled": false
   },
   "outputs": [
    {
     "data": {
      "text/plain": [
       "LotFrontage     486\n",
       "MasVnrType       24\n",
       "MasVnrArea       23\n",
       "GarageType      157\n",
       "GarageYrBlt     159\n",
       "SalePrice      1459\n",
       "dtype: int64"
      ]
     },
     "execution_count": 91,
     "metadata": {},
     "output_type": "execute_result"
    }
   ],
   "source": [
    "# update null df\n",
    "null_df = full_edit.loc[:, full_edit.isna().any()]\n",
    "null_df.isna().sum()"
   ]
  },
  {
   "cell_type": "code",
   "execution_count": 115,
   "metadata": {},
   "outputs": [
    {
     "data": {
      "text/plain": [
       "True"
      ]
     },
     "execution_count": 115,
     "metadata": {},
     "output_type": "execute_result"
    }
   ],
   "source": [
    "not 0"
   ]
  },
  {
   "cell_type": "code",
   "execution_count": 92,
   "metadata": {},
   "outputs": [],
   "source": [
    "# update edit columns types\n",
    "edit_cat_cols = list(set(full_edit.columns).intersection(cat_cols))\n",
    "edit_ord_cols = list(set(full_edit.columns).intersection(ord_cols))\n",
    "edit_quant_cols = list(set(full_edit.columns).intersection(quant_cols))"
   ]
  },
  {
   "cell_type": "code",
   "execution_count": 93,
   "metadata": {},
   "outputs": [],
   "source": [
    "# update null columns types\n",
    "null_cat_cols = list(set(null_df.columns).intersection(set(edit_cat_cols)))\n",
    "null_ord_cols = list(set(null_df.columns).intersection(set(edit_ord_cols)))\n",
    "null_quant_cols = list(set(null_df.columns).intersection(set(edit_quant_cols)))"
   ]
  },
  {
   "cell_type": "markdown",
   "metadata": {},
   "source": [
    "#### Impute missing categorical values with multinomial regression"
   ]
  },
  {
   "cell_type": "code",
   "execution_count": 94,
   "metadata": {},
   "outputs": [
    {
     "data": {
      "image/png": "[encoded data removed]",
      "text/plain": [
       "<Figure size 1440x360 with 2 Axes>"
      ]
     },
     "metadata": {
      "needs_background": "light"
     },
     "output_type": "display_data"
    }
   ],
   "source": [
    "fig, _ = plt.subplots(nrows=1, ncols=2, figsize=(20, 5))\n",
    "for (i, col) in enumerate(null_cat_cols):\n",
    "    plt.subplot(1, 2, i + 1)\n",
    "    sns.countplot(x=col, data=full_edit)"
   ]
  },
  {
   "cell_type": "markdown",
   "metadata": {},
   "source": [
    "##### Impute `MasVnrType`"
   ]
  },
  {
   "cell_type": "code",
   "execution_count": 95,
   "metadata": {},
   "outputs": [
    {
     "ename": "NameError",
     "evalue": "name 'XGBClassifier' is not defined",
     "output_type": "error",
     "traceback": [
      "\u001b[0;31m---------------------------------------------------------------------------\u001b[0m",
      "\u001b[0;31mNameError\u001b[0m                                 Traceback (most recent call last)",
      "\u001b[0;32m~/Documents/code/git_repos/kaggle/house_prices/house_prices.py\u001b[0m in \u001b[0;36m<module>\u001b[0;34m\u001b[0m\n\u001b[1;32m    220\u001b[0m \u001b[0my\u001b[0m \u001b[0;34m=\u001b[0m \u001b[0mMasVnrType_le\u001b[0m\u001b[0;34m.\u001b[0m\u001b[0mfit_transform\u001b[0m\u001b[0;34m(\u001b[0m\u001b[0my\u001b[0m\u001b[0;34m)\u001b[0m\u001b[0;34m\u001b[0m\u001b[0;34m\u001b[0m\u001b[0m\n\u001b[1;32m    221\u001b[0m \u001b[0mX_sc\u001b[0m \u001b[0;34m=\u001b[0m \u001b[0mMinMaxScaler\u001b[0m\u001b[0;34m(\u001b[0m\u001b[0;34m)\u001b[0m\u001b[0;34m.\u001b[0m\u001b[0mfit_transform\u001b[0m\u001b[0;34m(\u001b[0m\u001b[0mX\u001b[0m\u001b[0;34m)\u001b[0m\u001b[0;34m\u001b[0m\u001b[0;34m\u001b[0m\u001b[0m\n\u001b[0;32m--> 222\u001b[0;31m \u001b[0mxgb_clf\u001b[0m \u001b[0;34m=\u001b[0m \u001b[0mXGBClassifier\u001b[0m\u001b[0;34m(\u001b[0m\u001b[0;34m)\u001b[0m\u001b[0;34m\u001b[0m\u001b[0;34m\u001b[0m\u001b[0m\n\u001b[0m\u001b[1;32m    223\u001b[0m \u001b[0mxgb_clf\u001b[0m\u001b[0;34m.\u001b[0m\u001b[0mfit\u001b[0m\u001b[0;34m(\u001b[0m\u001b[0mX_sc\u001b[0m\u001b[0;34m,\u001b[0m \u001b[0my\u001b[0m\u001b[0;34m)\u001b[0m\u001b[0;34m\u001b[0m\u001b[0;34m\u001b[0m\u001b[0m\n\u001b[1;32m    224\u001b[0m \u001b[0mMasVnrType_pred_df\u001b[0m \u001b[0;34m=\u001b[0m \u001b[0mMasVnrType_imp_df\u001b[0m\u001b[0;34m.\u001b[0m\u001b[0mdrop\u001b[0m\u001b[0;34m(\u001b[0m\u001b[0mcolumns\u001b[0m\u001b[0;34m=\u001b[0m\u001b[0;34m[\u001b[0m\u001b[0;34m'MasVnrType'\u001b[0m\u001b[0;34m]\u001b[0m\u001b[0;34m)\u001b[0m\u001b[0;34m\u001b[0m\u001b[0;34m\u001b[0m\u001b[0m\n",
      "\u001b[0;31mNameError\u001b[0m: name 'XGBClassifier' is not defined"
     ]
    },
    {
     "data": {
      "text/plain": [
       "<Figure size 432x288 with 0 Axes>"
      ]
     },
     "metadata": {},
     "output_type": "display_data"
    }
   ],
   "source": [
    "from sklearn.preprocessing import LabelEncoder, MinMaxScaler\n",
    "from sklearn.linear_model import LogisticRegression\n",
    "from sklearn.model_selection import train_test_split, GridSearchCV, cross_val_score\n",
    "\n",
    "%run house_prices"
   ]
  },
  {
   "cell_type": "code",
   "execution_count": 96,
   "metadata": {},
   "outputs": [],
   "source": [
    "# get dummies for all variables except one we're imputing\n",
    "dummy_columns = list(set(edit_cat_cols).difference({'MasVnrType'}))\n",
    "\n",
    "# drop Sales price columns since were using full train + test and half is missing\n",
    "MasVnrType_imp_df = pd.get_dummies(full_edit, columns=dummy_columns).drop(columns=['SalePrice'])\n",
    "\n",
    "# drop null variables for logistic regression\n",
    "data = MasVnrType_imp_df.dropna()\n",
    "\n",
    "# predictors and reponse\n",
    "X, y = data.drop(columns=['MasVnrType']), data['MasVnrType']\n",
    "\n",
    "# numerically encode response\n",
    "MasVnrType_le = LabelEncoder()\n",
    "y = MasVnrType_le.fit_transform(y)\n",
    "\n",
    "# scale\n",
    "X_sc = MinMaxScaler().fit_transform(X)"
   ]
  },
  {
   "cell_type": "code",
   "execution_count": 97,
   "metadata": {},
   "outputs": [
    {
     "name": "stdout",
     "output_type": "stream",
     "text": [
      "3.94 s ± 0 ns per loop (mean ± std. dev. of 1 run, 1 loop each)\n"
     ]
    }
   ],
   "source": [
    "from xgboost import XGBClassifier\n",
    "\n",
    "xgb_clf = XGBClassifier()\n",
    "%timeit -n1 -r1 xgb_clf.fit(X_sc, y)"
   ]
  },
  {
   "cell_type": "code",
   "execution_count": 98,
   "metadata": {},
   "outputs": [
    {
     "data": {
      "text/plain": [
       "0.9329237991734498"
      ]
     },
     "execution_count": 98,
     "metadata": {},
     "output_type": "execute_result"
    }
   ],
   "source": [
    "np.mean(cross_val_score(estimator=xgb_clf, \n",
    "                                                  X=X_sc, \n",
    "                                                  y=y,\n",
    "                                                  cv=10,\n",
    "                                                  scoring='accuracy',\n",
    "                                                  n_jobs=-1,\n",
    "                                                 )              \n",
    "                                 )"
   ]
  },
  {
   "cell_type": "code",
   "execution_count": 99,
   "metadata": {},
   "outputs": [],
   "source": [
    "# df for prediction\n",
    "MasVnrType_pred_df = MasVnrType_imp_df.drop(columns=['MasVnrType'])\n",
    "\n",
    "# fill quantitative columns with median values so estimator can predict\n",
    "missing_quant_values = {col: full_edit[col].dropna().median() for col in null_quant_cols}\n",
    "MasVnrType_pred_df = MasVnrType_pred_df.fillna(value=missing_quant_values)\n",
    "\n",
    "# scale\n",
    "X_pred_df = MinMaxScaler().fit_transform(MasVnrType_pred_df)\n",
    "\n",
    "# impute MasVnrType values\n",
    "y_pred = xgb_clf.predict(X_pred_df)\n",
    "full_edit.loc[:, 'MasVnrType'] = MasVnrType_le.inverse_transform(y_pred)"
   ]
  },
  {
   "cell_type": "markdown",
   "metadata": {},
   "source": [
    "##### Impute `GarageType`"
   ]
  },
  {
   "cell_type": "code",
   "execution_count": 101,
   "metadata": {},
   "outputs": [],
   "source": [
    "# get dummies for all variables except one we're imputing\n",
    "dummy_columns = list(set(edit_cat_cols).difference({'GarageType'}))\n",
    "\n",
    "# drop Sales price columns since were using full train + test and half is missing\n",
    "GarageType_imp_df = pd.get_dummies(full_edit, columns=dummy_columns).drop(columns=['SalePrice'])\n",
    "\n",
    "# drop null variables for logistic regression\n",
    "data = GarageType_imp_df.dropna()\n",
    "\n",
    "# predictors and reponse\n",
    "X, y = data.drop(columns=['GarageType']), data['GarageType']\n",
    "\n",
    "# numerically encode response\n",
    "GarageType_le = LabelEncoder()\n",
    "y = GarageType_le.fit_transform(y)\n",
    "\n",
    "# scale\n",
    "X_sc = MinMaxScaler().fit_transform(X)"
   ]
  },
  {
   "cell_type": "code",
   "execution_count": 102,
   "metadata": {},
   "outputs": [
    {
     "name": "stdout",
     "output_type": "stream",
     "text": [
      "6.8 s ± 0 ns per loop (mean ± std. dev. of 1 run, 1 loop each)\n"
     ]
    }
   ],
   "source": [
    "xgb_clf = XGBClassifier()\n",
    "%timeit -n1 -r1 xgb_clf.fit(X_sc, y)"
   ]
  },
  {
   "cell_type": "code",
   "execution_count": 104,
   "metadata": {},
   "outputs": [
    {
     "data": {
      "text/plain": [
       "0.8564016958084497"
      ]
     },
     "execution_count": 104,
     "metadata": {},
     "output_type": "execute_result"
    }
   ],
   "source": [
    "np.mean(cross_val_score(estimator=xgb_clf, \n",
    "                                                  X=X_sc, \n",
    "                                                  y=y,\n",
    "                                                  cv=10,\n",
    "                                                  scoring='accuracy',\n",
    "                                                  n_jobs=-1,\n",
    "                                                 )              \n",
    "                                 )"
   ]
  },
  {
   "cell_type": "code",
   "execution_count": 105,
   "metadata": {},
   "outputs": [],
   "source": [
    "# df for prediction\n",
    "GarageType_pred_df = GarageType_imp_df.drop(columns=['GarageType'])\n",
    "\n",
    "# fill quantitative columns with median values so estimator can predict\n",
    "GarageType_pred_df = GarageType_pred_df.fillna(value=missing_quant_values)\n",
    "\n",
    "# scale\n",
    "X_pred_df = MinMaxScaler().fit_transform(GarageType_pred_df)\n",
    "\n",
    "# impute GarageType values\n",
    "y_pred = xgb_clf.predict(X_pred_df)\n",
    "full_edit.loc[:, 'GarageType'] = GarageType_le.inverse_transform(y_pred)"
   ]
  },
  {
   "cell_type": "markdown",
   "metadata": {},
   "source": [
    "#### Impute missing ordinal and quantitative with predictive mean matching"
   ]
  },
  {
   "cell_type": "code",
   "execution_count": 106,
   "metadata": {},
   "outputs": [
    {
     "data": {
      "text/plain": [
       "LotFrontage     486\n",
       "MasVnrArea       23\n",
       "GarageYrBlt     159\n",
       "SalePrice      1459\n",
       "dtype: int64"
      ]
     },
     "execution_count": 106,
     "metadata": {},
     "output_type": "execute_result"
    }
   ],
   "source": [
    "full_edit.loc[:, full_edit.isna().any()].isna().sum()"
   ]
  },
  {
   "cell_type": "code",
   "execution_count": 107,
   "metadata": {},
   "outputs": [],
   "source": [
    "from statsmodels.imputation.mice import MICEData\n",
    "\n",
    "data = pd.get_dummies(full_edit, columns=edit_cat_cols)\n",
    "cols = edit_ord_cols + edit_quant_cols + ['SalePrice']\n",
    "data.loc[:, cols] = (data[cols] - data[cols].min())/(data[cols].max() - data[cols].min())\n",
    "\n",
    "# handle problematic column names\n",
    "rename_cols = {'1stFlrSF': 'FirstFlrSF', '2ndFlrSF': 'SecondFlrSF', '3SsnPorch': 'ThreeSsnPorch',\n",
    "               'HouseStyle_1.5Fin': 'HouseStyle_One_and_half_Fin', \n",
    "               'HouseStyle_1.5Unf': 'HouseStyle_One_and_half_Unf',\n",
    "               'HouseStyle_2.5Fin': 'HouseStyle_Two_and_half_Fin', \n",
    "               'HouseStyle_2.5Unf': 'HouseStyle_Two_and_half_Unf', \n",
    "               'Exterior2nd_Brk Cmn': 'Exterior2nd_BrkCmn',\n",
    "               'Exterior2nd_Wd Shng': 'Exterior2nd_WdShng',\n",
    "               'Exterior2nd_Wd Sdng': 'Exterior2nd_WdSdng',\n",
    "               'Exterior1st_Wd Sdng': 'Exterior1st_WdSdng',\n",
    "               'MSZoning_C (all)': 'MSZoning_C',\n",
    "               'RoofMatl_Tar&Grv': 'RoofMatl_TarGrv'\n",
    "               }\n",
    "data = data.rename(index=str, columns=rename_cols)"
   ]
  },
  {
   "cell_type": "code",
   "execution_count": 108,
   "metadata": {},
   "outputs": [
    {
     "data": {
      "text/plain": [
       "LotFrontage     486\n",
       "MasVnrArea       23\n",
       "GarageYrBlt     159\n",
       "SalePrice      1459\n",
       "dtype: int64"
      ]
     },
     "execution_count": 108,
     "metadata": {},
     "output_type": "execute_result"
    }
   ],
   "source": [
    "data.loc[ : , data.isna().any()].isna().sum()"
   ]
  },
  {
   "cell_type": "code",
   "execution_count": 109,
   "metadata": {
    "scrolled": true
   },
   "outputs": [
    {
     "name": "stdout",
     "output_type": "stream",
     "text": [
      "1min 2s ± 0 ns per loop (mean ± std. dev. of 1 run, 1 loop each)\n"
     ]
    }
   ],
   "source": [
    "# create MICED data instance\n",
    "data_imp = MICEData(data, perturbation_method='boot')\n",
    "\n",
    "# impute missing quantitatives\n",
    "%timeit -n1 -r1 data_imp.update_all(n_iter=10)"
   ]
  },
  {
   "cell_type": "code",
   "execution_count": 110,
   "metadata": {},
   "outputs": [
    {
     "data": {
      "image/png": "[encoded data removed]",
      "text/plain": [
       "<Figure size 1440x432 with 3 Axes>"
      ]
     },
     "metadata": {
      "needs_background": "light"
     },
     "output_type": "display_data"
    }
   ],
   "source": [
    "fig, _ = plt.subplots(nrows=1, ncols=3, figsize=(20, 6))\n",
    "for (i, col) in enumerate(null_quant_cols):\n",
    "    plt.subplot(1, 3, i + 1)\n",
    "    sns.distplot(full_edit[col].dropna())"
   ]
  },
  {
   "cell_type": "code",
   "execution_count": 111,
   "metadata": {
    "scrolled": false
   },
   "outputs": [
    {
     "data": {
      "image/png": "[encoded data removed]",
      "text/plain": [
       "<Figure size 1440x432 with 3 Axes>"
      ]
     },
     "metadata": {
      "needs_background": "light"
     },
     "output_type": "display_data"
    }
   ],
   "source": [
    "fig, _ = plt.subplots(nrows=1, ncols=3, figsize=(20, 6))\n",
    "for (i, col) in enumerate(null_quant_cols):\n",
    "    plt.subplot(1, 3, i + 1)\n",
    "    sns.distplot(data_imp.data[col])"
   ]
  },
  {
   "cell_type": "code",
   "execution_count": 112,
   "metadata": {},
   "outputs": [
    {
     "data": {
      "text/plain": [
       "SalePrice    1459\n",
       "dtype: int64"
      ]
     },
     "execution_count": 112,
     "metadata": {},
     "output_type": "execute_result"
    }
   ],
   "source": [
    "for col in null_quant_cols:\n",
    "    data.loc[: ,  col] = data_imp.data[col].values\n",
    "    \n",
    "data.loc[ : , data.isna().any()].isna().sum()"
   ]
  },
  {
   "cell_type": "markdown",
   "metadata": {},
   "source": [
    "#### ALTERNATIVE: Impute all missing values with `xgboost`"
   ]
  }
 ],
 "metadata": {
  "kernelspec": {
   "display_name": "Python 3",
   "language": "python",
   "name": "python3"
  },
  "language_info": {
   "codemirror_mode": {
    "name": "ipython",
    "version": 3
   },
   "file_extension": ".py",
   "mimetype": "text/x-python",
   "name": "python",
   "nbconvert_exporter": "python",
   "pygments_lexer": "ipython3",
   "version": "3.7.3"
  },
  "latex_envs": {
   "LaTeX_envs_menu_present": true,
   "autoclose": false,
   "autocomplete": true,
   "bibliofile": "biblio.bib",
   "cite_by": "apalike",
   "current_citInitial": 1,
   "eqLabelWithNumbers": true,
   "eqNumInitial": 1,
   "hotkeys": {
    "equation": "Ctrl-E",
    "itemize": "Ctrl-I"
   },
   "labels_anchors": false,
   "latex_user_defs": false,
   "report_style_numbering": false,
   "user_envs_cfg": false
  },
  "toc": {
   "base_numbering": 1,
   "nav_menu": {},
   "number_sections": true,
   "sideBar": false,
   "skip_h1_title": true,
   "title_cell": "Table of Contents",
   "title_sidebar": "Contents",
   "toc_cell": false,
   "toc_position": {
    "height": "287px",
    "left": "1065px",
    "top": "138px",
    "width": "159.359px"
   },
   "toc_section_display": false,
   "toc_window_display": true
  }
 },
 "nbformat": 4,
 "nbformat_minor": 2
}
