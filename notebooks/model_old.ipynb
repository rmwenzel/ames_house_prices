{
 "cells": [
  {
   "cell_type": "markdown",
   "metadata": {},
   "source": [
    "# Modeling and predicting `SalePrice`"
   ]
  },
  {
   "cell_type": "markdown",
   "metadata": {},
   "source": [
    "# Load and inspect data"
   ]
  },
  {
   "cell_type": "code",
   "execution_count": 1,
   "metadata": {},
   "outputs": [],
   "source": [
    "import numpy as np\n",
    "import pandas as pd\n",
    "\n",
    "%matplotlib inline\n",
    "import matplotlib.pyplot as plt\n",
    "\n",
    "import warnings\n",
    "warnings.filterwarnings('ignore')\n",
    "\n",
    "from preprocess import data_plus, hp_df_plus, description"
   ]
  },
  {
   "cell_type": "code",
   "execution_count": 2,
   "metadata": {},
   "outputs": [
    {
     "data": {
      "text/html": [
       "<div>\n",
       "<style scoped>\n",
       "    .dataframe tbody tr th:only-of-type {\n",
       "        vertical-align: middle;\n",
       "    }\n",
       "\n",
       "    .dataframe tbody tr th {\n",
       "        vertical-align: top;\n",
       "    }\n",
       "\n",
       "    .dataframe thead th {\n",
       "        text-align: right;\n",
       "    }\n",
       "</style>\n",
       "<table border=\"1\" class=\"dataframe\">\n",
       "  <thead>\n",
       "    <tr style=\"text-align: right;\">\n",
       "      <th></th>\n",
       "      <th></th>\n",
       "      <th>OverallQual</th>\n",
       "      <th>OverallCond</th>\n",
       "      <th>ExterQual</th>\n",
       "      <th>ExterCond</th>\n",
       "      <th>BsmtQual</th>\n",
       "      <th>BsmtCond</th>\n",
       "      <th>BsmtExposure</th>\n",
       "      <th>BsmtFinType1</th>\n",
       "      <th>HeatingQC</th>\n",
       "      <th>FullBath</th>\n",
       "      <th>...</th>\n",
       "      <th>GarageType_Basment</th>\n",
       "      <th>GarageType_BuiltIn</th>\n",
       "      <th>GarageType_CarPort</th>\n",
       "      <th>GarageType_Detchd</th>\n",
       "      <th>SaleCondition_Abnorml</th>\n",
       "      <th>SaleCondition_AdjLand</th>\n",
       "      <th>SaleCondition_Alloca</th>\n",
       "      <th>SaleCondition_Family</th>\n",
       "      <th>SaleCondition_Normal</th>\n",
       "      <th>SaleCondition_Partial</th>\n",
       "    </tr>\n",
       "    <tr>\n",
       "      <th>split</th>\n",
       "      <th>Id</th>\n",
       "      <th></th>\n",
       "      <th></th>\n",
       "      <th></th>\n",
       "      <th></th>\n",
       "      <th></th>\n",
       "      <th></th>\n",
       "      <th></th>\n",
       "      <th></th>\n",
       "      <th></th>\n",
       "      <th></th>\n",
       "      <th></th>\n",
       "      <th></th>\n",
       "      <th></th>\n",
       "      <th></th>\n",
       "      <th></th>\n",
       "      <th></th>\n",
       "      <th></th>\n",
       "      <th></th>\n",
       "      <th></th>\n",
       "      <th></th>\n",
       "      <th></th>\n",
       "    </tr>\n",
       "  </thead>\n",
       "  <tbody>\n",
       "    <tr>\n",
       "      <th rowspan=\"5\" valign=\"top\">train</th>\n",
       "      <th>1</th>\n",
       "      <td>0.657759</td>\n",
       "      <td>-0.517236</td>\n",
       "      <td>1.060445</td>\n",
       "      <td>-0.238371</td>\n",
       "      <td>0.622962</td>\n",
       "      <td>0.118007</td>\n",
       "      <td>-0.588375</td>\n",
       "      <td>1.166364</td>\n",
       "      <td>0.892827</td>\n",
       "      <td>0.792856</td>\n",
       "      <td>...</td>\n",
       "      <td>-0.101991</td>\n",
       "      <td>-0.172285</td>\n",
       "      <td>-0.069481</td>\n",
       "      <td>-0.478016</td>\n",
       "      <td>-0.272917</td>\n",
       "      <td>-0.052468</td>\n",
       "      <td>-0.091129</td>\n",
       "      <td>-0.117974</td>\n",
       "      <td>0.466058</td>\n",
       "      <td>-0.303651</td>\n",
       "    </tr>\n",
       "    <tr>\n",
       "      <th>2</th>\n",
       "      <td>-0.069369</td>\n",
       "      <td>2.177448</td>\n",
       "      <td>-0.689349</td>\n",
       "      <td>-0.238371</td>\n",
       "      <td>0.622962</td>\n",
       "      <td>0.118007</td>\n",
       "      <td>2.234662</td>\n",
       "      <td>0.691806</td>\n",
       "      <td>0.892827</td>\n",
       "      <td>0.792856</td>\n",
       "      <td>...</td>\n",
       "      <td>-0.101991</td>\n",
       "      <td>-0.172285</td>\n",
       "      <td>-0.069481</td>\n",
       "      <td>-0.478016</td>\n",
       "      <td>-0.272917</td>\n",
       "      <td>-0.052468</td>\n",
       "      <td>-0.091129</td>\n",
       "      <td>-0.117974</td>\n",
       "      <td>0.466058</td>\n",
       "      <td>-0.303651</td>\n",
       "    </tr>\n",
       "    <tr>\n",
       "      <th>3</th>\n",
       "      <td>0.657759</td>\n",
       "      <td>-0.517236</td>\n",
       "      <td>1.060445</td>\n",
       "      <td>-0.238371</td>\n",
       "      <td>0.622962</td>\n",
       "      <td>0.118007</td>\n",
       "      <td>0.352637</td>\n",
       "      <td>1.166364</td>\n",
       "      <td>0.892827</td>\n",
       "      <td>0.792856</td>\n",
       "      <td>...</td>\n",
       "      <td>-0.101991</td>\n",
       "      <td>-0.172285</td>\n",
       "      <td>-0.069481</td>\n",
       "      <td>-0.478016</td>\n",
       "      <td>-0.272917</td>\n",
       "      <td>-0.052468</td>\n",
       "      <td>-0.091129</td>\n",
       "      <td>-0.117974</td>\n",
       "      <td>0.466058</td>\n",
       "      <td>-0.303651</td>\n",
       "    </tr>\n",
       "    <tr>\n",
       "      <th>4</th>\n",
       "      <td>0.657759</td>\n",
       "      <td>-0.517236</td>\n",
       "      <td>-0.689349</td>\n",
       "      <td>-0.238371</td>\n",
       "      <td>-0.653628</td>\n",
       "      <td>1.927866</td>\n",
       "      <td>-0.588375</td>\n",
       "      <td>0.691806</td>\n",
       "      <td>-0.149520</td>\n",
       "      <td>-1.026343</td>\n",
       "      <td>...</td>\n",
       "      <td>-0.101991</td>\n",
       "      <td>-0.172285</td>\n",
       "      <td>-0.069481</td>\n",
       "      <td>-0.478016</td>\n",
       "      <td>3.664116</td>\n",
       "      <td>-0.052468</td>\n",
       "      <td>-0.091129</td>\n",
       "      <td>-0.117974</td>\n",
       "      <td>-2.145658</td>\n",
       "      <td>-0.303651</td>\n",
       "    </tr>\n",
       "    <tr>\n",
       "      <th>5</th>\n",
       "      <td>1.384886</td>\n",
       "      <td>-0.517236</td>\n",
       "      <td>1.060445</td>\n",
       "      <td>-0.238371</td>\n",
       "      <td>0.622962</td>\n",
       "      <td>0.118007</td>\n",
       "      <td>1.293650</td>\n",
       "      <td>1.166364</td>\n",
       "      <td>0.892827</td>\n",
       "      <td>0.792856</td>\n",
       "      <td>...</td>\n",
       "      <td>-0.101991</td>\n",
       "      <td>-0.172285</td>\n",
       "      <td>-0.069481</td>\n",
       "      <td>-0.478016</td>\n",
       "      <td>-0.272917</td>\n",
       "      <td>-0.052468</td>\n",
       "      <td>-0.091129</td>\n",
       "      <td>-0.117974</td>\n",
       "      <td>0.466058</td>\n",
       "      <td>-0.303651</td>\n",
       "    </tr>\n",
       "  </tbody>\n",
       "</table>\n",
       "<p>5 rows × 118 columns</p>\n",
       "</div>"
      ],
      "text/plain": [
       "          OverallQual  OverallCond  ExterQual  ExterCond  BsmtQual  BsmtCond  \\\n",
       "split Id                                                                       \n",
       "train 1      0.657759    -0.517236   1.060445  -0.238371  0.622962  0.118007   \n",
       "      2     -0.069369     2.177448  -0.689349  -0.238371  0.622962  0.118007   \n",
       "      3      0.657759    -0.517236   1.060445  -0.238371  0.622962  0.118007   \n",
       "      4      0.657759    -0.517236  -0.689349  -0.238371 -0.653628  1.927866   \n",
       "      5      1.384886    -0.517236   1.060445  -0.238371  0.622962  0.118007   \n",
       "\n",
       "          BsmtExposure  BsmtFinType1  HeatingQC  FullBath  ...  \\\n",
       "split Id                                                   ...   \n",
       "train 1      -0.588375      1.166364   0.892827  0.792856  ...   \n",
       "      2       2.234662      0.691806   0.892827  0.792856  ...   \n",
       "      3       0.352637      1.166364   0.892827  0.792856  ...   \n",
       "      4      -0.588375      0.691806  -0.149520 -1.026343  ...   \n",
       "      5       1.293650      1.166364   0.892827  0.792856  ...   \n",
       "\n",
       "          GarageType_Basment  GarageType_BuiltIn  GarageType_CarPort  \\\n",
       "split Id                                                               \n",
       "train 1            -0.101991           -0.172285           -0.069481   \n",
       "      2            -0.101991           -0.172285           -0.069481   \n",
       "      3            -0.101991           -0.172285           -0.069481   \n",
       "      4            -0.101991           -0.172285           -0.069481   \n",
       "      5            -0.101991           -0.172285           -0.069481   \n",
       "\n",
       "          GarageType_Detchd  SaleCondition_Abnorml  SaleCondition_AdjLand  \\\n",
       "split Id                                                                    \n",
       "train 1           -0.478016              -0.272917              -0.052468   \n",
       "      2           -0.478016              -0.272917              -0.052468   \n",
       "      3           -0.478016              -0.272917              -0.052468   \n",
       "      4           -0.478016               3.664116              -0.052468   \n",
       "      5           -0.478016              -0.272917              -0.052468   \n",
       "\n",
       "          SaleCondition_Alloca  SaleCondition_Family  SaleCondition_Normal  \\\n",
       "split Id                                                                     \n",
       "train 1              -0.091129             -0.117974              0.466058   \n",
       "      2              -0.091129             -0.117974              0.466058   \n",
       "      3              -0.091129             -0.117974              0.466058   \n",
       "      4              -0.091129             -0.117974             -2.145658   \n",
       "      5              -0.091129             -0.117974              0.466058   \n",
       "\n",
       "          SaleCondition_Partial  \n",
       "split Id                         \n",
       "train 1               -0.303651  \n",
       "      2               -0.303651  \n",
       "      3               -0.303651  \n",
       "      4               -0.303651  \n",
       "      5               -0.303651  \n",
       "\n",
       "[5 rows x 118 columns]"
      ]
     },
     "execution_count": 2,
     "metadata": {},
     "output_type": "execute_result"
    }
   ],
   "source": [
    "# load preprocessed data\n",
    "hp_data = data_plus({df_name: hp_df_plus(pd.read_csv(df_name + '.csv',\n",
    "                                         index_col=['split', 'Id']))\n",
    "                     for df_name in ['orig', 'edit', 'model']})\n",
    "orig, edit, model = (hp_data.dfs['orig'], hp_data.dfs['edit'],\n",
    "                     hp_data.dfs['model'])\n",
    "\n",
    "model.head()"
   ]
  },
  {
   "cell_type": "code",
   "execution_count": 3,
   "metadata": {
    "scrolled": true
   },
   "outputs": [
    {
     "name": "stdout",
     "output_type": "stream",
     "text": [
      "<class 'preprocess.hp_df_plus'>\n",
      "MultiIndex: 2916 entries, (train, 1) to (test, 2919)\n",
      "Columns: 118 entries, OverallQual to SaleCondition_Partial\n",
      "dtypes: float64(118)\n",
      "memory usage: 2.7+ MB\n"
     ]
    }
   ],
   "source": [
    "model.info()"
   ]
  },
  {
   "cell_type": "markdown",
   "metadata": {
    "toc-hr-collapsed": false
   },
   "source": [
    "# Individual Models"
   ]
  },
  {
   "cell_type": "code",
   "execution_count": 4,
   "metadata": {},
   "outputs": [],
   "source": [
    "# train and test split\n",
    "X, y = model.drop(columns=['log_SalePrice']), model['log_SalePrice']\n",
    "X_train, X_test, y_train = X.loc['train', :], X.loc['test', :], y.loc['train', :], "
   ]
  },
  {
   "cell_type": "code",
   "execution_count": 5,
   "metadata": {},
   "outputs": [
    {
     "data": {
      "text/html": [
       "<div>\n",
       "<style scoped>\n",
       "    .dataframe tbody tr th:only-of-type {\n",
       "        vertical-align: middle;\n",
       "    }\n",
       "\n",
       "    .dataframe tbody tr th {\n",
       "        vertical-align: top;\n",
       "    }\n",
       "\n",
       "    .dataframe thead th {\n",
       "        text-align: right;\n",
       "    }\n",
       "</style>\n",
       "<table border=\"1\" class=\"dataframe\">\n",
       "  <thead>\n",
       "    <tr style=\"text-align: right;\">\n",
       "      <th></th>\n",
       "      <th>OverallQual</th>\n",
       "      <th>OverallCond</th>\n",
       "      <th>ExterQual</th>\n",
       "      <th>ExterCond</th>\n",
       "      <th>BsmtQual</th>\n",
       "      <th>BsmtCond</th>\n",
       "      <th>BsmtExposure</th>\n",
       "      <th>BsmtFinType1</th>\n",
       "      <th>HeatingQC</th>\n",
       "      <th>FullBath</th>\n",
       "      <th>...</th>\n",
       "      <th>GarageType_Basment</th>\n",
       "      <th>GarageType_BuiltIn</th>\n",
       "      <th>GarageType_CarPort</th>\n",
       "      <th>GarageType_Detchd</th>\n",
       "      <th>SaleCondition_Abnorml</th>\n",
       "      <th>SaleCondition_AdjLand</th>\n",
       "      <th>SaleCondition_Alloca</th>\n",
       "      <th>SaleCondition_Family</th>\n",
       "      <th>SaleCondition_Normal</th>\n",
       "      <th>SaleCondition_Partial</th>\n",
       "    </tr>\n",
       "    <tr>\n",
       "      <th>Id</th>\n",
       "      <th></th>\n",
       "      <th></th>\n",
       "      <th></th>\n",
       "      <th></th>\n",
       "      <th></th>\n",
       "      <th></th>\n",
       "      <th></th>\n",
       "      <th></th>\n",
       "      <th></th>\n",
       "      <th></th>\n",
       "      <th></th>\n",
       "      <th></th>\n",
       "      <th></th>\n",
       "      <th></th>\n",
       "      <th></th>\n",
       "      <th></th>\n",
       "      <th></th>\n",
       "      <th></th>\n",
       "      <th></th>\n",
       "      <th></th>\n",
       "      <th></th>\n",
       "    </tr>\n",
       "  </thead>\n",
       "  <tbody>\n",
       "    <tr>\n",
       "      <th>1</th>\n",
       "      <td>0.657759</td>\n",
       "      <td>-0.517236</td>\n",
       "      <td>1.060445</td>\n",
       "      <td>-0.238371</td>\n",
       "      <td>0.622962</td>\n",
       "      <td>0.118007</td>\n",
       "      <td>-0.588375</td>\n",
       "      <td>1.166364</td>\n",
       "      <td>0.892827</td>\n",
       "      <td>0.792856</td>\n",
       "      <td>...</td>\n",
       "      <td>-0.101991</td>\n",
       "      <td>-0.172285</td>\n",
       "      <td>-0.069481</td>\n",
       "      <td>-0.478016</td>\n",
       "      <td>-0.272917</td>\n",
       "      <td>-0.052468</td>\n",
       "      <td>-0.091129</td>\n",
       "      <td>-0.117974</td>\n",
       "      <td>0.466058</td>\n",
       "      <td>-0.303651</td>\n",
       "    </tr>\n",
       "    <tr>\n",
       "      <th>2</th>\n",
       "      <td>-0.069369</td>\n",
       "      <td>2.177448</td>\n",
       "      <td>-0.689349</td>\n",
       "      <td>-0.238371</td>\n",
       "      <td>0.622962</td>\n",
       "      <td>0.118007</td>\n",
       "      <td>2.234662</td>\n",
       "      <td>0.691806</td>\n",
       "      <td>0.892827</td>\n",
       "      <td>0.792856</td>\n",
       "      <td>...</td>\n",
       "      <td>-0.101991</td>\n",
       "      <td>-0.172285</td>\n",
       "      <td>-0.069481</td>\n",
       "      <td>-0.478016</td>\n",
       "      <td>-0.272917</td>\n",
       "      <td>-0.052468</td>\n",
       "      <td>-0.091129</td>\n",
       "      <td>-0.117974</td>\n",
       "      <td>0.466058</td>\n",
       "      <td>-0.303651</td>\n",
       "    </tr>\n",
       "    <tr>\n",
       "      <th>3</th>\n",
       "      <td>0.657759</td>\n",
       "      <td>-0.517236</td>\n",
       "      <td>1.060445</td>\n",
       "      <td>-0.238371</td>\n",
       "      <td>0.622962</td>\n",
       "      <td>0.118007</td>\n",
       "      <td>0.352637</td>\n",
       "      <td>1.166364</td>\n",
       "      <td>0.892827</td>\n",
       "      <td>0.792856</td>\n",
       "      <td>...</td>\n",
       "      <td>-0.101991</td>\n",
       "      <td>-0.172285</td>\n",
       "      <td>-0.069481</td>\n",
       "      <td>-0.478016</td>\n",
       "      <td>-0.272917</td>\n",
       "      <td>-0.052468</td>\n",
       "      <td>-0.091129</td>\n",
       "      <td>-0.117974</td>\n",
       "      <td>0.466058</td>\n",
       "      <td>-0.303651</td>\n",
       "    </tr>\n",
       "    <tr>\n",
       "      <th>4</th>\n",
       "      <td>0.657759</td>\n",
       "      <td>-0.517236</td>\n",
       "      <td>-0.689349</td>\n",
       "      <td>-0.238371</td>\n",
       "      <td>-0.653628</td>\n",
       "      <td>1.927866</td>\n",
       "      <td>-0.588375</td>\n",
       "      <td>0.691806</td>\n",
       "      <td>-0.149520</td>\n",
       "      <td>-1.026343</td>\n",
       "      <td>...</td>\n",
       "      <td>-0.101991</td>\n",
       "      <td>-0.172285</td>\n",
       "      <td>-0.069481</td>\n",
       "      <td>-0.478016</td>\n",
       "      <td>3.664116</td>\n",
       "      <td>-0.052468</td>\n",
       "      <td>-0.091129</td>\n",
       "      <td>-0.117974</td>\n",
       "      <td>-2.145658</td>\n",
       "      <td>-0.303651</td>\n",
       "    </tr>\n",
       "    <tr>\n",
       "      <th>5</th>\n",
       "      <td>1.384886</td>\n",
       "      <td>-0.517236</td>\n",
       "      <td>1.060445</td>\n",
       "      <td>-0.238371</td>\n",
       "      <td>0.622962</td>\n",
       "      <td>0.118007</td>\n",
       "      <td>1.293650</td>\n",
       "      <td>1.166364</td>\n",
       "      <td>0.892827</td>\n",
       "      <td>0.792856</td>\n",
       "      <td>...</td>\n",
       "      <td>-0.101991</td>\n",
       "      <td>-0.172285</td>\n",
       "      <td>-0.069481</td>\n",
       "      <td>-0.478016</td>\n",
       "      <td>-0.272917</td>\n",
       "      <td>-0.052468</td>\n",
       "      <td>-0.091129</td>\n",
       "      <td>-0.117974</td>\n",
       "      <td>0.466058</td>\n",
       "      <td>-0.303651</td>\n",
       "    </tr>\n",
       "  </tbody>\n",
       "</table>\n",
       "<p>5 rows × 117 columns</p>\n",
       "</div>"
      ],
      "text/plain": [
       "    OverallQual  OverallCond  ExterQual  ExterCond  BsmtQual  BsmtCond  \\\n",
       "Id                                                                       \n",
       "1      0.657759    -0.517236   1.060445  -0.238371  0.622962  0.118007   \n",
       "2     -0.069369     2.177448  -0.689349  -0.238371  0.622962  0.118007   \n",
       "3      0.657759    -0.517236   1.060445  -0.238371  0.622962  0.118007   \n",
       "4      0.657759    -0.517236  -0.689349  -0.238371 -0.653628  1.927866   \n",
       "5      1.384886    -0.517236   1.060445  -0.238371  0.622962  0.118007   \n",
       "\n",
       "    BsmtExposure  BsmtFinType1  HeatingQC  FullBath  ...  GarageType_Basment  \\\n",
       "Id                                                   ...                       \n",
       "1      -0.588375      1.166364   0.892827  0.792856  ...           -0.101991   \n",
       "2       2.234662      0.691806   0.892827  0.792856  ...           -0.101991   \n",
       "3       0.352637      1.166364   0.892827  0.792856  ...           -0.101991   \n",
       "4      -0.588375      0.691806  -0.149520 -1.026343  ...           -0.101991   \n",
       "5       1.293650      1.166364   0.892827  0.792856  ...           -0.101991   \n",
       "\n",
       "    GarageType_BuiltIn  GarageType_CarPort  GarageType_Detchd  \\\n",
       "Id                                                              \n",
       "1            -0.172285           -0.069481          -0.478016   \n",
       "2            -0.172285           -0.069481          -0.478016   \n",
       "3            -0.172285           -0.069481          -0.478016   \n",
       "4            -0.172285           -0.069481          -0.478016   \n",
       "5            -0.172285           -0.069481          -0.478016   \n",
       "\n",
       "    SaleCondition_Abnorml  SaleCondition_AdjLand  SaleCondition_Alloca  \\\n",
       "Id                                                                       \n",
       "1               -0.272917              -0.052468             -0.091129   \n",
       "2               -0.272917              -0.052468             -0.091129   \n",
       "3               -0.272917              -0.052468             -0.091129   \n",
       "4                3.664116              -0.052468             -0.091129   \n",
       "5               -0.272917              -0.052468             -0.091129   \n",
       "\n",
       "    SaleCondition_Family  SaleCondition_Normal  SaleCondition_Partial  \n",
       "Id                                                                     \n",
       "1              -0.117974              0.466058              -0.303651  \n",
       "2              -0.117974              0.466058              -0.303651  \n",
       "3              -0.117974              0.466058              -0.303651  \n",
       "4              -0.117974             -2.145658              -0.303651  \n",
       "5              -0.117974              0.466058              -0.303651  \n",
       "\n",
       "[5 rows x 117 columns]"
      ]
     },
     "execution_count": 5,
     "metadata": {},
     "output_type": "execute_result"
    }
   ],
   "source": [
    "X_train.head()"
   ]
  },
  {
   "cell_type": "code",
   "execution_count": 6,
   "metadata": {},
   "outputs": [
    {
     "data": {
      "text/html": [
       "<div>\n",
       "<style scoped>\n",
       "    .dataframe tbody tr th:only-of-type {\n",
       "        vertical-align: middle;\n",
       "    }\n",
       "\n",
       "    .dataframe tbody tr th {\n",
       "        vertical-align: top;\n",
       "    }\n",
       "\n",
       "    .dataframe thead th {\n",
       "        text-align: right;\n",
       "    }\n",
       "</style>\n",
       "<table border=\"1\" class=\"dataframe\">\n",
       "  <thead>\n",
       "    <tr style=\"text-align: right;\">\n",
       "      <th></th>\n",
       "      <th>OverallQual</th>\n",
       "      <th>OverallCond</th>\n",
       "      <th>ExterQual</th>\n",
       "      <th>ExterCond</th>\n",
       "      <th>BsmtQual</th>\n",
       "      <th>BsmtCond</th>\n",
       "      <th>BsmtExposure</th>\n",
       "      <th>BsmtFinType1</th>\n",
       "      <th>HeatingQC</th>\n",
       "      <th>FullBath</th>\n",
       "      <th>...</th>\n",
       "      <th>GarageType_Basment</th>\n",
       "      <th>GarageType_BuiltIn</th>\n",
       "      <th>GarageType_CarPort</th>\n",
       "      <th>GarageType_Detchd</th>\n",
       "      <th>SaleCondition_Abnorml</th>\n",
       "      <th>SaleCondition_AdjLand</th>\n",
       "      <th>SaleCondition_Alloca</th>\n",
       "      <th>SaleCondition_Family</th>\n",
       "      <th>SaleCondition_Normal</th>\n",
       "      <th>SaleCondition_Partial</th>\n",
       "    </tr>\n",
       "    <tr>\n",
       "      <th>Id</th>\n",
       "      <th></th>\n",
       "      <th></th>\n",
       "      <th></th>\n",
       "      <th></th>\n",
       "      <th></th>\n",
       "      <th></th>\n",
       "      <th></th>\n",
       "      <th></th>\n",
       "      <th></th>\n",
       "      <th></th>\n",
       "      <th></th>\n",
       "      <th></th>\n",
       "      <th></th>\n",
       "      <th></th>\n",
       "      <th></th>\n",
       "      <th></th>\n",
       "      <th></th>\n",
       "      <th></th>\n",
       "      <th></th>\n",
       "      <th></th>\n",
       "      <th></th>\n",
       "    </tr>\n",
       "  </thead>\n",
       "  <tbody>\n",
       "    <tr>\n",
       "      <th>1461</th>\n",
       "      <td>-0.796497</td>\n",
       "      <td>0.380992</td>\n",
       "      <td>-0.689349</td>\n",
       "      <td>-0.238371</td>\n",
       "      <td>-0.653628</td>\n",
       "      <td>0.118007</td>\n",
       "      <td>-0.588375</td>\n",
       "      <td>-0.257310</td>\n",
       "      <td>-1.191866</td>\n",
       "      <td>-1.026343</td>\n",
       "      <td>...</td>\n",
       "      <td>-0.101991</td>\n",
       "      <td>-0.172285</td>\n",
       "      <td>-0.069481</td>\n",
       "      <td>-0.478016</td>\n",
       "      <td>-0.272917</td>\n",
       "      <td>-0.052468</td>\n",
       "      <td>-0.091129</td>\n",
       "      <td>-0.117974</td>\n",
       "      <td>0.466058</td>\n",
       "      <td>-0.303651</td>\n",
       "    </tr>\n",
       "    <tr>\n",
       "      <th>1462</th>\n",
       "      <td>-0.069369</td>\n",
       "      <td>0.380992</td>\n",
       "      <td>-0.689349</td>\n",
       "      <td>-0.238371</td>\n",
       "      <td>-0.653628</td>\n",
       "      <td>0.118007</td>\n",
       "      <td>-0.588375</td>\n",
       "      <td>0.691806</td>\n",
       "      <td>-1.191866</td>\n",
       "      <td>-1.026343</td>\n",
       "      <td>...</td>\n",
       "      <td>-0.101991</td>\n",
       "      <td>-0.172285</td>\n",
       "      <td>-0.069481</td>\n",
       "      <td>-0.478016</td>\n",
       "      <td>-0.272917</td>\n",
       "      <td>-0.052468</td>\n",
       "      <td>-0.091129</td>\n",
       "      <td>-0.117974</td>\n",
       "      <td>0.466058</td>\n",
       "      <td>-0.303651</td>\n",
       "    </tr>\n",
       "    <tr>\n",
       "      <th>1463</th>\n",
       "      <td>-0.796497</td>\n",
       "      <td>-0.517236</td>\n",
       "      <td>-0.689349</td>\n",
       "      <td>-0.238371</td>\n",
       "      <td>0.622962</td>\n",
       "      <td>0.118007</td>\n",
       "      <td>-0.588375</td>\n",
       "      <td>1.166364</td>\n",
       "      <td>-0.149520</td>\n",
       "      <td>0.792856</td>\n",
       "      <td>...</td>\n",
       "      <td>-0.101991</td>\n",
       "      <td>-0.172285</td>\n",
       "      <td>-0.069481</td>\n",
       "      <td>-0.478016</td>\n",
       "      <td>-0.272917</td>\n",
       "      <td>-0.052468</td>\n",
       "      <td>-0.091129</td>\n",
       "      <td>-0.117974</td>\n",
       "      <td>0.466058</td>\n",
       "      <td>-0.303651</td>\n",
       "    </tr>\n",
       "    <tr>\n",
       "      <th>1464</th>\n",
       "      <td>-0.069369</td>\n",
       "      <td>0.380992</td>\n",
       "      <td>-0.689349</td>\n",
       "      <td>-0.238371</td>\n",
       "      <td>-0.653628</td>\n",
       "      <td>0.118007</td>\n",
       "      <td>-0.588375</td>\n",
       "      <td>1.166364</td>\n",
       "      <td>0.892827</td>\n",
       "      <td>0.792856</td>\n",
       "      <td>...</td>\n",
       "      <td>-0.101991</td>\n",
       "      <td>-0.172285</td>\n",
       "      <td>-0.069481</td>\n",
       "      <td>-0.478016</td>\n",
       "      <td>-0.272917</td>\n",
       "      <td>-0.052468</td>\n",
       "      <td>-0.091129</td>\n",
       "      <td>-0.117974</td>\n",
       "      <td>0.466058</td>\n",
       "      <td>-0.303651</td>\n",
       "    </tr>\n",
       "    <tr>\n",
       "      <th>1465</th>\n",
       "      <td>1.384886</td>\n",
       "      <td>-0.517236</td>\n",
       "      <td>1.060445</td>\n",
       "      <td>-0.238371</td>\n",
       "      <td>0.622962</td>\n",
       "      <td>0.118007</td>\n",
       "      <td>-0.588375</td>\n",
       "      <td>0.691806</td>\n",
       "      <td>0.892827</td>\n",
       "      <td>0.792856</td>\n",
       "      <td>...</td>\n",
       "      <td>-0.101991</td>\n",
       "      <td>-0.172285</td>\n",
       "      <td>-0.069481</td>\n",
       "      <td>-0.478016</td>\n",
       "      <td>-0.272917</td>\n",
       "      <td>-0.052468</td>\n",
       "      <td>-0.091129</td>\n",
       "      <td>-0.117974</td>\n",
       "      <td>0.466058</td>\n",
       "      <td>-0.303651</td>\n",
       "    </tr>\n",
       "  </tbody>\n",
       "</table>\n",
       "<p>5 rows × 117 columns</p>\n",
       "</div>"
      ],
      "text/plain": [
       "      OverallQual  OverallCond  ExterQual  ExterCond  BsmtQual  BsmtCond  \\\n",
       "Id                                                                         \n",
       "1461    -0.796497     0.380992  -0.689349  -0.238371 -0.653628  0.118007   \n",
       "1462    -0.069369     0.380992  -0.689349  -0.238371 -0.653628  0.118007   \n",
       "1463    -0.796497    -0.517236  -0.689349  -0.238371  0.622962  0.118007   \n",
       "1464    -0.069369     0.380992  -0.689349  -0.238371 -0.653628  0.118007   \n",
       "1465     1.384886    -0.517236   1.060445  -0.238371  0.622962  0.118007   \n",
       "\n",
       "      BsmtExposure  BsmtFinType1  HeatingQC  FullBath  ...  \\\n",
       "Id                                                     ...   \n",
       "1461     -0.588375     -0.257310  -1.191866 -1.026343  ...   \n",
       "1462     -0.588375      0.691806  -1.191866 -1.026343  ...   \n",
       "1463     -0.588375      1.166364  -0.149520  0.792856  ...   \n",
       "1464     -0.588375      1.166364   0.892827  0.792856  ...   \n",
       "1465     -0.588375      0.691806   0.892827  0.792856  ...   \n",
       "\n",
       "      GarageType_Basment  GarageType_BuiltIn  GarageType_CarPort  \\\n",
       "Id                                                                 \n",
       "1461           -0.101991           -0.172285           -0.069481   \n",
       "1462           -0.101991           -0.172285           -0.069481   \n",
       "1463           -0.101991           -0.172285           -0.069481   \n",
       "1464           -0.101991           -0.172285           -0.069481   \n",
       "1465           -0.101991           -0.172285           -0.069481   \n",
       "\n",
       "      GarageType_Detchd  SaleCondition_Abnorml  SaleCondition_AdjLand  \\\n",
       "Id                                                                      \n",
       "1461          -0.478016              -0.272917              -0.052468   \n",
       "1462          -0.478016              -0.272917              -0.052468   \n",
       "1463          -0.478016              -0.272917              -0.052468   \n",
       "1464          -0.478016              -0.272917              -0.052468   \n",
       "1465          -0.478016              -0.272917              -0.052468   \n",
       "\n",
       "      SaleCondition_Alloca  SaleCondition_Family  SaleCondition_Normal  \\\n",
       "Id                                                                       \n",
       "1461             -0.091129             -0.117974              0.466058   \n",
       "1462             -0.091129             -0.117974              0.466058   \n",
       "1463             -0.091129             -0.117974              0.466058   \n",
       "1464             -0.091129             -0.117974              0.466058   \n",
       "1465             -0.091129             -0.117974              0.466058   \n",
       "\n",
       "      SaleCondition_Partial  \n",
       "Id                           \n",
       "1461              -0.303651  \n",
       "1462              -0.303651  \n",
       "1463              -0.303651  \n",
       "1464              -0.303651  \n",
       "1465              -0.303651  \n",
       "\n",
       "[5 rows x 117 columns]"
      ]
     },
     "execution_count": 6,
     "metadata": {},
     "output_type": "execute_result"
    }
   ],
   "source": [
    "X_test.head()"
   ]
  },
  {
   "cell_type": "markdown",
   "metadata": {},
   "source": [
    "## `sklearn` models"
   ]
  },
  {
   "cell_type": "code",
   "execution_count": 8,
   "metadata": {},
   "outputs": [],
   "source": [
    "from sklearn.linear_model import LinearRegression, Lasso, Ridge, BayesianRidge\n",
    "from sklearn.cross_decomposition import PLSRegression\n",
    "from sklearn.svm import SVR\n",
    "from sklearn.neighbors import KNeighborsRegressor\n",
    "from sklearn.neural_network import MLPRegressor\n",
    "from sklearn.tree import DecisionTreeRegressor, ExtraTreeRegressor\n",
    "\n",
    "from sklearn.metrics import mean_squared_error\n",
    "from sklearn.model_selection import KFold, cross_val_score\n",
    "\n",
    ")"
   ]
  },
  {
   "cell_type": "code",
   "execution_count": 9,
   "metadata": {},
   "outputs": [
    {
     "data": {
      "text/html": [
       "<div>\n",
       "<style scoped>\n",
       "    .dataframe tbody tr th:only-of-type {\n",
       "        vertical-align: middle;\n",
       "    }\n",
       "\n",
       "    .dataframe tbody tr th {\n",
       "        vertical-align: top;\n",
       "    }\n",
       "\n",
       "    .dataframe thead th {\n",
       "        text-align: right;\n",
       "    }\n",
       "</style>\n",
       "<table border=\"1\" class=\"dataframe\">\n",
       "  <thead>\n",
       "    <tr style=\"text-align: right;\">\n",
       "      <th></th>\n",
       "      <th>train_rmse</th>\n",
       "      <th>cv_rmse</th>\n",
       "    </tr>\n",
       "  </thead>\n",
       "  <tbody>\n",
       "    <tr>\n",
       "      <th>lasso</th>\n",
       "      <td>0.399555</td>\n",
       "      <td>0.399685</td>\n",
       "    </tr>\n",
       "    <tr>\n",
       "      <th>ridge</th>\n",
       "      <td>0.104347</td>\n",
       "      <td>0.115097</td>\n",
       "    </tr>\n",
       "    <tr>\n",
       "      <th>bayes_ridge</th>\n",
       "      <td>0.104781</td>\n",
       "      <td>0.114942</td>\n",
       "    </tr>\n",
       "    <tr>\n",
       "      <th>plsreg</th>\n",
       "      <td>0.127295</td>\n",
       "      <td>0.131832</td>\n",
       "    </tr>\n",
       "    <tr>\n",
       "      <th>svr</th>\n",
       "      <td>0.0744879</td>\n",
       "      <td>0.149396</td>\n",
       "    </tr>\n",
       "    <tr>\n",
       "      <th>knn</th>\n",
       "      <td>0.146542</td>\n",
       "      <td>0.185313</td>\n",
       "    </tr>\n",
       "    <tr>\n",
       "      <th>mlp</th>\n",
       "      <td>0.19272</td>\n",
       "      <td>1.41366</td>\n",
       "    </tr>\n",
       "    <tr>\n",
       "      <th>dec_tree</th>\n",
       "      <td>0.00103961</td>\n",
       "      <td>0.189558</td>\n",
       "    </tr>\n",
       "    <tr>\n",
       "      <th>extra_tree</th>\n",
       "      <td>0.00103939</td>\n",
       "      <td>0.212456</td>\n",
       "    </tr>\n",
       "  </tbody>\n",
       "</table>\n",
       "</div>"
      ],
      "text/plain": [
       "             train_rmse   cv_rmse\n",
       "lasso          0.399555  0.399685\n",
       "ridge          0.104347  0.115097\n",
       "bayes_ridge    0.104781  0.114942\n",
       "plsreg         0.127295  0.131832\n",
       "svr           0.0744879  0.149396\n",
       "knn            0.146542  0.185313\n",
       "mlp             0.19272   1.41366\n",
       "dec_tree     0.00103961  0.189558\n",
       "extra_tree   0.00103939  0.212456"
      ]
     },
     "execution_count": 9,
     "metadata": {},
     "output_type": "execute_result"
    }
   ],
   "source": [
    "sklearn_models_df = pd.DataFrame(columns=['train_rmse', 'cv_rmse'], index=models.keys())\n",
    "\n",
    "kf = KFold(n_splits=10, shuffle=True, random_state=27)\n",
    "\n",
    "for model in models: \n",
    "    train_rmse = np.sqrt(mean_squared_error(models[model].predict(X_train), y_train))\n",
    "    cv_rmse = np.sqrt(-np.mean(cross_val_score(estimator=models[model], \n",
    "                                                  X=X_train, \n",
    "                                                  y=y_train,\n",
    "                                                  cv=kf,\n",
    "                                                  scoring='neg_mean_squared_error',\n",
    "                                                  n_jobs=-1)))\n",
    "    sklearn_models_df.loc[model, 'train_rmse'] = train_rmse\n",
    "    sklearn_models_df.loc[model, 'cv_rmse'] = cv_rmse\n",
    "    \n",
    "sklearn_models_df"
   ]
  },
  {
   "cell_type": "markdown",
   "metadata": {
    "toc-hr-collapsed": false
   },
   "source": [
    "## Ridge regressor"
   ]
  },
  {
   "cell_type": "markdown",
   "metadata": {},
   "source": [
    "### Hyperparameter defaults for baseline"
   ]
  },
  {
   "cell_type": "code",
   "execution_count": 10,
   "metadata": {
    "scrolled": true
   },
   "outputs": [
    {
     "name": "stdout",
     "output_type": "stream",
     "text": [
      "6.32 ms ± 0 ns per loop (mean ± std. dev. of 1 run, 1 loop each)\n"
     ]
    }
   ],
   "source": [
    "ridge_default = Ridge()\n",
    "%timeit -n1 -r1 ridge_default.fit(X_train, y_train)"
   ]
  },
  {
   "cell_type": "code",
   "execution_count": 11,
   "metadata": {},
   "outputs": [
    {
     "data": {
      "text/plain": [
       "0.9317968947876267"
      ]
     },
     "execution_count": 11,
     "metadata": {},
     "output_type": "execute_result"
    }
   ],
   "source": [
    "# R^2 of model\n",
    "ridge_default.score(X_train, y_train)"
   ]
  },
  {
   "cell_type": "code",
   "execution_count": 31,
   "metadata": {},
   "outputs": [
    {
     "data": {
      "text/plain": [
       "{'alpha': 1.0,\n",
       " 'copy_X': True,\n",
       " 'fit_intercept': True,\n",
       " 'max_iter': None,\n",
       " 'normalize': False,\n",
       " 'random_state': None,\n",
       " 'solver': 'auto',\n",
       " 'tol': 0.001}"
      ]
     },
     "execution_count": 31,
     "metadata": {},
     "output_type": "execute_result"
    }
   ],
   "source": [
    "ridge_default.get_params()"
   ]
  },
  {
   "cell_type": "code",
   "execution_count": 20,
   "metadata": {},
   "outputs": [
    {
     "data": {
      "text/html": [
       "<div>\n",
       "<style scoped>\n",
       "    .dataframe tbody tr th:only-of-type {\n",
       "        vertical-align: middle;\n",
       "    }\n",
       "\n",
       "    .dataframe tbody tr th {\n",
       "        vertical-align: top;\n",
       "    }\n",
       "\n",
       "    .dataframe thead th {\n",
       "        text-align: right;\n",
       "    }\n",
       "</style>\n",
       "<table border=\"1\" class=\"dataframe\">\n",
       "  <thead>\n",
       "    <tr style=\"text-align: right;\">\n",
       "      <th></th>\n",
       "      <th>train_rmse</th>\n",
       "      <th>cv_rmse</th>\n",
       "    </tr>\n",
       "  </thead>\n",
       "  <tbody>\n",
       "    <tr>\n",
       "      <th>ridge_default</th>\n",
       "      <td>0.104347</td>\n",
       "      <td>0.115097</td>\n",
       "    </tr>\n",
       "  </tbody>\n",
       "</table>\n",
       "</div>"
      ],
      "text/plain": [
       "              train_rmse   cv_rmse\n",
       "ridge_default   0.104347  0.115097"
      ]
     },
     "execution_count": 20,
     "metadata": {},
     "output_type": "execute_result"
    }
   ],
   "source": [
    "ridge_default_cv_rmse = np.sqrt(-np.mean(cross_val_score(estimator=ridge_default, \n",
    "                                                         X=X_train, \n",
    "                                                         y=y_train,\n",
    "                                                         cv=kf,\n",
    "                                                         scoring='neg_mean_squared_error',\n",
    "                                                         n_jobs=-1)))\n",
    "\n",
    "ridge_default_train_rmse = np.sqrt(mean_squared_error(ridge_default.predict(X_train),\n",
    "                                               y_train))\n",
    "\n",
    "reg_results_df = pd.DataFrame(columns=['train_rmse', 'cv_rmse'])\n",
    "reg_results_df.loc['ridge_default', 'train_rmse'] = ridge_default_train_rmse\n",
    "reg_results_df.loc['ridge_default', 'cv_rmse'] = ridge_default_cv_rmse\n",
    "reg_results_df"
   ]
  },
  {
   "cell_type": "markdown",
   "metadata": {},
   "source": [
    "### Tuning with `hyperopt`"
   ]
  },
  {
   "cell_type": "code",
   "execution_count": 21,
   "metadata": {},
   "outputs": [],
   "source": [
    "from hyperopt import fmin, hp, tpe, Trials, space_eval, STATUS_OK\n",
    "from hyperopt.pyll import scope as ho_scope\n",
    "from hyperopt.pyll.stochastic import sample as ho_sample\n",
    "from functools import partial\n",
    "\n",
    "ridge_space = {'alpha': hp.uniform('alpha', low=-3*np.log(10), high=2*np.log(10))}\n",
    "\n",
    "\n",
    "def ho_cv_rmse(search_params, X=X, y=y, fixed_params={}, est_name='bayes_ridge'):\n",
    "    if est_name == 'ridge':\n",
    "        est = Ridge(**{**search_params, **fixed_params})\n",
    "    if est_name == 'bayes_ridge':\n",
    "        est = BayesianRidge(**{**search_params, **fixed_params})\n",
    "    return np.sqrt(-np.mean(cross_val_score(estimator=est, \n",
    "                                                  X=X, \n",
    "                                                  y=y,\n",
    "                                                  cv=kf,\n",
    "                                                  scoring='neg_mean_squared_error',\n",
    "                                                  n_jobs=-1)))"
   ]
  },
  {
   "cell_type": "code",
   "execution_count": 22,
   "metadata": {},
   "outputs": [
    {
     "name": "stdout",
     "output_type": "stream",
     "text": [
      "100%|██████████| 30/30 [00:05<00:00,  5.53it/s, best loss: 0.11502748578035261]\n",
      "100%|██████████| 30/30 [00:04<00:00,  6.80it/s, best loss: 0.11502711967176131]\n",
      "100%|██████████| 30/30 [00:04<00:00,  7.01it/s, best loss: 0.11502699315783346]\n",
      "100%|██████████| 30/30 [00:04<00:00,  6.20it/s, best loss: 0.11502714534128888]\n",
      "100%|██████████| 30/30 [00:04<00:00,  8.45it/s, best loss: 0.11502728066328158]\n"
     ]
    }
   ],
   "source": [
    "n = 5\n",
    "ridge_bests = {}\n",
    "\n",
    "for i in range(n):\n",
    "    ridge_bests[i] ="
   ]
  },
  {
   "cell_type": "code",
   "execution_count": 32,
   "metadata": {},
   "outputs": [
    {
     "data": {
      "text/plain": [
       "{'alpha': 4.599743103330274,\n",
       " 'copy_X': True,\n",
       " 'fit_intercept': True,\n",
       " 'max_iter': None,\n",
       " 'normalize': False,\n",
       " 'random_state': None,\n",
       " 'solver': 'auto',\n",
       " 'tol': 0.001}"
      ]
     },
     "execution_count": 32,
     "metadata": {},
     "output_type": "execute_result"
    }
   ],
   "source": [
    "ridge_ho = Ridge(**ridge_bests[2])\n",
    "ridge_ho.get_params()"
   ]
  },
  {
   "cell_type": "code",
   "execution_count": 23,
   "metadata": {
    "scrolled": true
   },
   "outputs": [
    {
     "data": {
      "text/html": [
       "<div>\n",
       "<style scoped>\n",
       "    .dataframe tbody tr th:only-of-type {\n",
       "        vertical-align: middle;\n",
       "    }\n",
       "\n",
       "    .dataframe tbody tr th {\n",
       "        vertical-align: top;\n",
       "    }\n",
       "\n",
       "    .dataframe thead th {\n",
       "        text-align: right;\n",
       "    }\n",
       "</style>\n",
       "<table border=\"1\" class=\"dataframe\">\n",
       "  <thead>\n",
       "    <tr style=\"text-align: right;\">\n",
       "      <th></th>\n",
       "      <th>train_rmse</th>\n",
       "      <th>cv_rmse</th>\n",
       "    </tr>\n",
       "  </thead>\n",
       "  <tbody>\n",
       "    <tr>\n",
       "      <th>ridge_default</th>\n",
       "      <td>0.104347</td>\n",
       "      <td>0.115097</td>\n",
       "    </tr>\n",
       "    <tr>\n",
       "      <th>ridge_ho</th>\n",
       "      <td>0.104362</td>\n",
       "      <td>0.115027</td>\n",
       "    </tr>\n",
       "  </tbody>\n",
       "</table>\n",
       "</div>"
      ],
      "text/plain": [
       "              train_rmse   cv_rmse\n",
       "ridge_default   0.104347  0.115097\n",
       "ridge_ho        0.104362  0.115027"
      ]
     },
     "execution_count": 23,
     "metadata": {},
     "output_type": "execute_result"
    }
   ],
   "source": [
    "ridge_ho_cv_rmse = np.sqrt(-np.mean(cross_val_score(estimator=ridge_ho, \n",
    "                                                         X=X_train, \n",
    "                                                         y=y_train,\n",
    "                                                         cv=kf,\n",
    "                                                         scoring='neg_mean_squared_error',\n",
    "                                                         n_jobs=-1)))\n",
    "ridge_ho.fit(X_train, y_train)\n",
    "ridge_ho_train_rmse = np.sqrt(mean_squared_error(ridge_ho.predict(X_train),\n",
    "                                               y_train))\n",
    "reg_results_df.loc['ridge_ho', 'train_rmse'] = ridge_ho_train_rmse\n",
    "reg_results_df.loc['ridge_ho', 'cv_rmse'] = ridge_ho_cv_rmse\n",
    "reg_results_df"
   ]
  },
  {
   "cell_type": "markdown",
   "metadata": {
    "toc-hr-collapsed": false
   },
   "source": [
    "## SVR"
   ]
  },
  {
   "cell_type": "markdown",
   "metadata": {},
   "source": [
    "### Linear and rbf defaults for baseline"
   ]
  },
  {
   "cell_type": "code",
   "execution_count": 81,
   "metadata": {},
   "outputs": [],
   "source": [
    "svr_linear_default = SVR(kernel='linear')\n",
    "svr_rbf_default = SVR(kernel='rbf')"
   ]
  },
  {
   "cell_type": "code",
   "execution_count": 82,
   "metadata": {
    "scrolled": true
   },
   "outputs": [
    {
     "name": "stdout",
     "output_type": "stream",
     "text": [
      "167 ms ± 0 ns per loop (mean ± std. dev. of 1 run, 1 loop each)\n"
     ]
    }
   ],
   "source": [
    "%%timeit -n1 -r1 svr_linear_default.fit(X_train, y_train)\n",
    "svr_rbf_default.fit(X_train, y_train)"
   ]
  },
  {
   "cell_type": "code",
   "execution_count": 83,
   "metadata": {},
   "outputs": [
    {
     "data": {
      "text/plain": [
       "0.9289393830305982"
      ]
     },
     "execution_count": 83,
     "metadata": {},
     "output_type": "execute_result"
    }
   ],
   "source": [
    "svr_linear_default.score(X_train, y_train)"
   ]
  },
  {
   "cell_type": "code",
   "execution_count": 84,
   "metadata": {},
   "outputs": [
    {
     "data": {
      "text/plain": [
       "0.9652448852452377"
      ]
     },
     "execution_count": 84,
     "metadata": {},
     "output_type": "execute_result"
    }
   ],
   "source": [
    "svr_rbf_default.score(X_train, y_train)"
   ]
  },
  {
   "cell_type": "code",
   "execution_count": 85,
   "metadata": {},
   "outputs": [
    {
     "data": {
      "text/plain": [
       "{'C': 1.0,\n",
       " 'cache_size': 200,\n",
       " 'coef0': 0.0,\n",
       " 'degree': 3,\n",
       " 'epsilon': 0.1,\n",
       " 'gamma': 'auto_deprecated',\n",
       " 'kernel': 'linear',\n",
       " 'max_iter': -1,\n",
       " 'shrinking': True,\n",
       " 'tol': 0.001,\n",
       " 'verbose': False}"
      ]
     },
     "execution_count": 85,
     "metadata": {},
     "output_type": "execute_result"
    }
   ],
   "source": [
    "svr_linear_default.get_params()"
   ]
  },
  {
   "cell_type": "code",
   "execution_count": 86,
   "metadata": {},
   "outputs": [
    {
     "data": {
      "text/plain": [
       "{'C': 1.0,\n",
       " 'cache_size': 200,\n",
       " 'coef0': 0.0,\n",
       " 'degree': 3,\n",
       " 'epsilon': 0.1,\n",
       " 'gamma': 'auto_deprecated',\n",
       " 'kernel': 'rbf',\n",
       " 'max_iter': -1,\n",
       " 'shrinking': True,\n",
       " 'tol': 0.001,\n",
       " 'verbose': False}"
      ]
     },
     "execution_count": 86,
     "metadata": {},
     "output_type": "execute_result"
    }
   ],
   "source": [
    "svr_rbf_default.get_params()"
   ]
  },
  {
   "cell_type": "code",
   "execution_count": 88,
   "metadata": {},
   "outputs": [
    {
     "data": {
      "text/html": [
       "<div>\n",
       "<style scoped>\n",
       "    .dataframe tbody tr th:only-of-type {\n",
       "        vertical-align: middle;\n",
       "    }\n",
       "\n",
       "    .dataframe tbody tr th {\n",
       "        vertical-align: top;\n",
       "    }\n",
       "\n",
       "    .dataframe thead th {\n",
       "        text-align: right;\n",
       "    }\n",
       "</style>\n",
       "<table border=\"1\" class=\"dataframe\">\n",
       "  <thead>\n",
       "    <tr style=\"text-align: right;\">\n",
       "      <th></th>\n",
       "      <th>train_rmse</th>\n",
       "      <th>cv_rmse</th>\n",
       "    </tr>\n",
       "  </thead>\n",
       "  <tbody>\n",
       "    <tr>\n",
       "      <th>ridge_default</th>\n",
       "      <td>0.104347</td>\n",
       "      <td>0.115097</td>\n",
       "    </tr>\n",
       "    <tr>\n",
       "      <th>ridge_ho</th>\n",
       "      <td>0.104362</td>\n",
       "      <td>0.115027</td>\n",
       "    </tr>\n",
       "    <tr>\n",
       "      <th>svr_default</th>\n",
       "      <td>0.10651</td>\n",
       "      <td>0.115355</td>\n",
       "    </tr>\n",
       "    <tr>\n",
       "      <th>svr_linear_default</th>\n",
       "      <td>0.10651</td>\n",
       "      <td>0.115355</td>\n",
       "    </tr>\n",
       "    <tr>\n",
       "      <th>svr_rbf_default</th>\n",
       "      <td>0.0744879</td>\n",
       "      <td>0.149396</td>\n",
       "    </tr>\n",
       "  </tbody>\n",
       "</table>\n",
       "</div>"
      ],
      "text/plain": [
       "                   train_rmse   cv_rmse\n",
       "ridge_default        0.104347  0.115097\n",
       "ridge_ho             0.104362  0.115027\n",
       "svr_default           0.10651  0.115355\n",
       "svr_linear_default    0.10651  0.115355\n",
       "svr_rbf_default     0.0744879  0.149396"
      ]
     },
     "execution_count": 88,
     "metadata": {},
     "output_type": "execute_result"
    }
   ],
   "source": [
    "svr_lin_def_cv_rmse = np.sqrt(-np.mean(cross_val_score(estimator=svr_linear_default, \n",
    "                                                         X=X_train, \n",
    "                                                         y=y_train,\n",
    "                                                         cv=kf,\n",
    "                                                         scoring='neg_mean_squared_error',\n",
    "                                                         n_jobs=-1)))\n",
    "\n",
    "svr_lin_def_train_rmse = np.sqrt(mean_squared_error(svr_linear_default.predict(X_train),\n",
    "                                               y_train))\n",
    "\n",
    "svr_rbf_def_cv_rmse = np.sqrt(-np.mean(cross_val_score(estimator=svr_rbf_default, \n",
    "                                                         X=X_train, \n",
    "                                                         y=y_train,\n",
    "                                                         cv=kf,\n",
    "                                                         scoring='neg_mean_squared_error',\n",
    "                                                         n_jobs=-1)))\n",
    "\n",
    "svr_rbf_def_train_rmse = np.sqrt(mean_squared_error(svr_rbf_default.predict(X_train),\n",
    "                                               y_train))\n",
    "\n",
    "reg_results_df.loc['svr_linear_default', 'train_rmse'] = svr_lin_def_train_rmse\n",
    "reg_results_df.loc['svr_linear_default', 'cv_rmse'] = svr_lin_def_cv_rmse\n",
    "reg_results_df.loc['svr_rbf_default', 'train_rmse'] = svr_rbf_def_train_rmse\n",
    "reg_results_df.loc['svr_rbf_default', 'cv_rmse'] = svr_rbf_def_cv_rmse\n",
    "\n",
    "reg_results_df"
   ]
  },
  {
   "cell_type": "markdown",
   "metadata": {},
   "source": [
    "### Tuning with `hyperopt`"
   ]
  },
  {
   "cell_type": "code",
   "execution_count": 106,
   "metadata": {},
   "outputs": [],
   "source": [
    "from hyperopt import fmin, hp, tpe, Trials, space_eval, STATUS_OK\n",
    "from hyperopt.pyll import scope as ho_scope\n",
    "from hyperopt.pyll.stochastic import sample as ho_sample\n",
    "from functools import partial\n",
    "\n",
    "svr_linear_space = {'kernel': 'linear',\n",
    "                    'C': hp.loguniform('C', low=-3*np.log(10), high=2*np.log(10))\n",
    "                    }\n",
    "svr_poly_space = {'kernel': 'poly',\n",
    "                  'degree': hp.choice('degree', [2, 3]),\n",
    "                  'coef0': 1,\n",
    "                  'C': hp.loguniform('C', low=-3*np.log(10), high=2*np.log(10)),\n",
    "                  'gamma': hp.loguniform('gamma', low=-3*np.log(10), high=1*np.log(10))\n",
    "                    }\n",
    "svr_rbf_space = {'kernel': 'rbf',\n",
    "                 'C': hp.loguniform('C', low=-3*np.log(10), high=2*np.log(10)),\n",
    "                 'gamma': hp.loguniform('gamma', low=-3*np.log(10), high=1*np.log(10))\n",
    "                 }"
   ]
  },
  {
   "cell_type": "code",
   "execution_count": 116,
   "metadata": {},
   "outputs": [],
   "source": [
    "def ho_cv_rmse(search_params, X=X, y=y, fixed_params={}, est_name='bayes_ridge'):\n",
    "    params = {**search_params, **fixed_params}\n",
    "    if est_name == 'ridge':\n",
    "        est = Ridge(**params)\n",
    "    if est_name == 'bayes_ridge':\n",
    "        est = BayesianRidge(**params)\n",
    "    if est_name == 'svr':\n",
    "        est = SVR(**params)\n",
    "    return np.sqrt(-np.mean(cross_val_score(estimator=est, \n",
    "                                                  X=X, \n",
    "                                                  y=y,\n",
    "                                                  cv=kf,\n",
    "                                                  scoring='neg_mean_squared_error',\n",
    "                                                  n_jobs=-1)))"
   ]
  },
  {
   "cell_type": "code",
   "execution_count": 121,
   "metadata": {
    "scrolled": true
   },
   "outputs": [
    {
     "name": "stdout",
     "output_type": "stream",
     "text": [
      "100%|██████████| 10/10 [1:14:41<00:00, 402.75s/it, best loss: 0.11534403524449688]\n",
      "100%|██████████| 10/10 [25:03<00:00, 90.09s/it, best loss: 0.11537511209234422]\n",
      "100%|██████████| 10/10 [48:59<00:00, 719.45s/it, best loss: 0.11540454129207825]\n",
      "100%|██████████| 10/10 [7:12:44<00:00, 5890.25s/it, best loss: 0.11537764429643868] \n",
      " 80%|████████  | 8/10 [1:44:50<08:33, 256.94s/it, best loss: 0.11543028069127077]   \n"
     ]
    },
    {
     "ename": "KeyboardInterrupt",
     "evalue": "",
     "output_type": "error",
     "traceback": [
      "\u001b[0;31m---------------------------------------------------------------------------\u001b[0m",
      "\u001b[0;31mKeyboardInterrupt\u001b[0m                         Traceback (most recent call last)",
      "\u001b[0;32m<ipython-input-121-a9f632017cdd>\u001b[0m in \u001b[0;36m<module>\u001b[0;34m\u001b[0m\n\u001b[1;32m      5\u001b[0m                     \u001b[0mspace\u001b[0m\u001b[0;34m=\u001b[0m\u001b[0msvr_linear_space\u001b[0m\u001b[0;34m,\u001b[0m\u001b[0;34m\u001b[0m\u001b[0;34m\u001b[0m\u001b[0m\n\u001b[1;32m      6\u001b[0m                     \u001b[0malgo\u001b[0m\u001b[0;34m=\u001b[0m\u001b[0mtpe\u001b[0m\u001b[0;34m.\u001b[0m\u001b[0msuggest\u001b[0m\u001b[0;34m,\u001b[0m\u001b[0;34m\u001b[0m\u001b[0;34m\u001b[0m\u001b[0m\n\u001b[0;32m----> 7\u001b[0;31m                     max_evals=10)\n\u001b[0m",
      "\u001b[0;32m/anaconda3/envs/house_prices/lib/python3.7/site-packages/hyperopt/fmin.py\u001b[0m in \u001b[0;36mfmin\u001b[0;34m(fn, space, algo, max_evals, trials, rstate, allow_trials_fmin, pass_expr_memo_ctrl, catch_eval_exceptions, verbose, return_argmin, points_to_evaluate, max_queue_len, show_progressbar)\u001b[0m\n\u001b[1;32m    405\u001b[0m                     show_progressbar=show_progressbar)\n\u001b[1;32m    406\u001b[0m     \u001b[0mrval\u001b[0m\u001b[0;34m.\u001b[0m\u001b[0mcatch_eval_exceptions\u001b[0m \u001b[0;34m=\u001b[0m \u001b[0mcatch_eval_exceptions\u001b[0m\u001b[0;34m\u001b[0m\u001b[0;34m\u001b[0m\u001b[0m\n\u001b[0;32m--> 407\u001b[0;31m     \u001b[0mrval\u001b[0m\u001b[0;34m.\u001b[0m\u001b[0mexhaust\u001b[0m\u001b[0;34m(\u001b[0m\u001b[0;34m)\u001b[0m\u001b[0;34m\u001b[0m\u001b[0;34m\u001b[0m\u001b[0m\n\u001b[0m\u001b[1;32m    408\u001b[0m     \u001b[0;32mif\u001b[0m \u001b[0mreturn_argmin\u001b[0m\u001b[0;34m:\u001b[0m\u001b[0;34m\u001b[0m\u001b[0;34m\u001b[0m\u001b[0m\n\u001b[1;32m    409\u001b[0m         \u001b[0;32mreturn\u001b[0m \u001b[0mtrials\u001b[0m\u001b[0;34m.\u001b[0m\u001b[0margmin\u001b[0m\u001b[0;34m\u001b[0m\u001b[0;34m\u001b[0m\u001b[0m\n",
      "\u001b[0;32m/anaconda3/envs/house_prices/lib/python3.7/site-packages/hyperopt/fmin.py\u001b[0m in \u001b[0;36mexhaust\u001b[0;34m(self)\u001b[0m\n\u001b[1;32m    260\u001b[0m     \u001b[0;32mdef\u001b[0m \u001b[0mexhaust\u001b[0m\u001b[0;34m(\u001b[0m\u001b[0mself\u001b[0m\u001b[0;34m)\u001b[0m\u001b[0;34m:\u001b[0m\u001b[0;34m\u001b[0m\u001b[0;34m\u001b[0m\u001b[0m\n\u001b[1;32m    261\u001b[0m         \u001b[0mn_done\u001b[0m \u001b[0;34m=\u001b[0m \u001b[0mlen\u001b[0m\u001b[0;34m(\u001b[0m\u001b[0mself\u001b[0m\u001b[0;34m.\u001b[0m\u001b[0mtrials\u001b[0m\u001b[0;34m)\u001b[0m\u001b[0;34m\u001b[0m\u001b[0;34m\u001b[0m\u001b[0m\n\u001b[0;32m--> 262\u001b[0;31m         \u001b[0mself\u001b[0m\u001b[0;34m.\u001b[0m\u001b[0mrun\u001b[0m\u001b[0;34m(\u001b[0m\u001b[0mself\u001b[0m\u001b[0;34m.\u001b[0m\u001b[0mmax_evals\u001b[0m \u001b[0;34m-\u001b[0m \u001b[0mn_done\u001b[0m\u001b[0;34m,\u001b[0m \u001b[0mblock_until_done\u001b[0m\u001b[0;34m=\u001b[0m\u001b[0mself\u001b[0m\u001b[0;34m.\u001b[0m\u001b[0masynchronous\u001b[0m\u001b[0;34m)\u001b[0m\u001b[0;34m\u001b[0m\u001b[0;34m\u001b[0m\u001b[0m\n\u001b[0m\u001b[1;32m    263\u001b[0m         \u001b[0mself\u001b[0m\u001b[0;34m.\u001b[0m\u001b[0mtrials\u001b[0m\u001b[0;34m.\u001b[0m\u001b[0mrefresh\u001b[0m\u001b[0;34m(\u001b[0m\u001b[0;34m)\u001b[0m\u001b[0;34m\u001b[0m\u001b[0;34m\u001b[0m\u001b[0m\n\u001b[1;32m    264\u001b[0m         \u001b[0;32mreturn\u001b[0m \u001b[0mself\u001b[0m\u001b[0;34m\u001b[0m\u001b[0;34m\u001b[0m\u001b[0m\n",
      "\u001b[0;32m/anaconda3/envs/house_prices/lib/python3.7/site-packages/hyperopt/fmin.py\u001b[0m in \u001b[0;36mrun\u001b[0;34m(self, N, block_until_done)\u001b[0m\n\u001b[1;32m    225\u001b[0m                     \u001b[0;32melse\u001b[0m\u001b[0;34m:\u001b[0m\u001b[0;34m\u001b[0m\u001b[0;34m\u001b[0m\u001b[0m\n\u001b[1;32m    226\u001b[0m                         \u001b[0;31m# -- loop over trials and do the jobs directly\u001b[0m\u001b[0;34m\u001b[0m\u001b[0;34m\u001b[0m\u001b[0;34m\u001b[0m\u001b[0m\n\u001b[0;32m--> 227\u001b[0;31m                         \u001b[0mself\u001b[0m\u001b[0;34m.\u001b[0m\u001b[0mserial_evaluate\u001b[0m\u001b[0;34m(\u001b[0m\u001b[0;34m)\u001b[0m\u001b[0;34m\u001b[0m\u001b[0;34m\u001b[0m\u001b[0m\n\u001b[0m\u001b[1;32m    228\u001b[0m \u001b[0;34m\u001b[0m\u001b[0m\n\u001b[1;32m    229\u001b[0m                     \u001b[0;32mtry\u001b[0m\u001b[0;34m:\u001b[0m\u001b[0;34m\u001b[0m\u001b[0;34m\u001b[0m\u001b[0m\n",
      "\u001b[0;32m/anaconda3/envs/house_prices/lib/python3.7/site-packages/hyperopt/fmin.py\u001b[0m in \u001b[0;36mserial_evaluate\u001b[0;34m(self, N)\u001b[0m\n\u001b[1;32m    139\u001b[0m                 \u001b[0mctrl\u001b[0m \u001b[0;34m=\u001b[0m \u001b[0mbase\u001b[0m\u001b[0;34m.\u001b[0m\u001b[0mCtrl\u001b[0m\u001b[0;34m(\u001b[0m\u001b[0mself\u001b[0m\u001b[0;34m.\u001b[0m\u001b[0mtrials\u001b[0m\u001b[0;34m,\u001b[0m \u001b[0mcurrent_trial\u001b[0m\u001b[0;34m=\u001b[0m\u001b[0mtrial\u001b[0m\u001b[0;34m)\u001b[0m\u001b[0;34m\u001b[0m\u001b[0;34m\u001b[0m\u001b[0m\n\u001b[1;32m    140\u001b[0m                 \u001b[0;32mtry\u001b[0m\u001b[0;34m:\u001b[0m\u001b[0;34m\u001b[0m\u001b[0;34m\u001b[0m\u001b[0m\n\u001b[0;32m--> 141\u001b[0;31m                     \u001b[0mresult\u001b[0m \u001b[0;34m=\u001b[0m \u001b[0mself\u001b[0m\u001b[0;34m.\u001b[0m\u001b[0mdomain\u001b[0m\u001b[0;34m.\u001b[0m\u001b[0mevaluate\u001b[0m\u001b[0;34m(\u001b[0m\u001b[0mspec\u001b[0m\u001b[0;34m,\u001b[0m \u001b[0mctrl\u001b[0m\u001b[0;34m)\u001b[0m\u001b[0;34m\u001b[0m\u001b[0;34m\u001b[0m\u001b[0m\n\u001b[0m\u001b[1;32m    142\u001b[0m                 \u001b[0;32mexcept\u001b[0m \u001b[0mException\u001b[0m \u001b[0;32mas\u001b[0m \u001b[0me\u001b[0m\u001b[0;34m:\u001b[0m\u001b[0;34m\u001b[0m\u001b[0;34m\u001b[0m\u001b[0m\n\u001b[1;32m    143\u001b[0m                     \u001b[0mlogger\u001b[0m\u001b[0;34m.\u001b[0m\u001b[0minfo\u001b[0m\u001b[0;34m(\u001b[0m\u001b[0;34m'job exception: %s'\u001b[0m \u001b[0;34m%\u001b[0m \u001b[0mstr\u001b[0m\u001b[0;34m(\u001b[0m\u001b[0me\u001b[0m\u001b[0;34m)\u001b[0m\u001b[0;34m)\u001b[0m\u001b[0;34m\u001b[0m\u001b[0;34m\u001b[0m\u001b[0m\n",
      "\u001b[0;32m/anaconda3/envs/house_prices/lib/python3.7/site-packages/hyperopt/base.py\u001b[0m in \u001b[0;36mevaluate\u001b[0;34m(self, config, ctrl, attach_attachments)\u001b[0m\n\u001b[1;32m    842\u001b[0m                 \u001b[0mmemo\u001b[0m\u001b[0;34m=\u001b[0m\u001b[0mmemo\u001b[0m\u001b[0;34m,\u001b[0m\u001b[0;34m\u001b[0m\u001b[0;34m\u001b[0m\u001b[0m\n\u001b[1;32m    843\u001b[0m                 print_node_on_error=self.rec_eval_print_node_on_error)\n\u001b[0;32m--> 844\u001b[0;31m             \u001b[0mrval\u001b[0m \u001b[0;34m=\u001b[0m \u001b[0mself\u001b[0m\u001b[0;34m.\u001b[0m\u001b[0mfn\u001b[0m\u001b[0;34m(\u001b[0m\u001b[0mpyll_rval\u001b[0m\u001b[0;34m)\u001b[0m\u001b[0;34m\u001b[0m\u001b[0;34m\u001b[0m\u001b[0m\n\u001b[0m\u001b[1;32m    845\u001b[0m \u001b[0;34m\u001b[0m\u001b[0m\n\u001b[1;32m    846\u001b[0m         \u001b[0;32mif\u001b[0m \u001b[0misinstance\u001b[0m\u001b[0;34m(\u001b[0m\u001b[0mrval\u001b[0m\u001b[0;34m,\u001b[0m \u001b[0;34m(\u001b[0m\u001b[0mfloat\u001b[0m\u001b[0;34m,\u001b[0m \u001b[0mint\u001b[0m\u001b[0;34m,\u001b[0m \u001b[0mnp\u001b[0m\u001b[0;34m.\u001b[0m\u001b[0mnumber\u001b[0m\u001b[0;34m)\u001b[0m\u001b[0;34m)\u001b[0m\u001b[0;34m:\u001b[0m\u001b[0;34m\u001b[0m\u001b[0;34m\u001b[0m\u001b[0m\n",
      "\u001b[0;32m<ipython-input-116-54d76f6f318c>\u001b[0m in \u001b[0;36mho_cv_rmse\u001b[0;34m(search_params, X, y, fixed_params, est_name)\u001b[0m\n\u001b[1;32m     12\u001b[0m                                                   \u001b[0mcv\u001b[0m\u001b[0;34m=\u001b[0m\u001b[0mkf\u001b[0m\u001b[0;34m,\u001b[0m\u001b[0;34m\u001b[0m\u001b[0;34m\u001b[0m\u001b[0m\n\u001b[1;32m     13\u001b[0m                                                   \u001b[0mscoring\u001b[0m\u001b[0;34m=\u001b[0m\u001b[0;34m'neg_mean_squared_error'\u001b[0m\u001b[0;34m,\u001b[0m\u001b[0;34m\u001b[0m\u001b[0;34m\u001b[0m\u001b[0m\n\u001b[0;32m---> 14\u001b[0;31m                                                   n_jobs=-1)))\n\u001b[0m",
      "\u001b[0;32m/anaconda3/envs/house_prices/lib/python3.7/site-packages/sklearn/model_selection/_validation.py\u001b[0m in \u001b[0;36mcross_val_score\u001b[0;34m(estimator, X, y, groups, scoring, cv, n_jobs, verbose, fit_params, pre_dispatch, error_score)\u001b[0m\n\u001b[1;32m    387\u001b[0m                                 \u001b[0mfit_params\u001b[0m\u001b[0;34m=\u001b[0m\u001b[0mfit_params\u001b[0m\u001b[0;34m,\u001b[0m\u001b[0;34m\u001b[0m\u001b[0;34m\u001b[0m\u001b[0m\n\u001b[1;32m    388\u001b[0m                                 \u001b[0mpre_dispatch\u001b[0m\u001b[0;34m=\u001b[0m\u001b[0mpre_dispatch\u001b[0m\u001b[0;34m,\u001b[0m\u001b[0;34m\u001b[0m\u001b[0;34m\u001b[0m\u001b[0m\n\u001b[0;32m--> 389\u001b[0;31m                                 error_score=error_score)\n\u001b[0m\u001b[1;32m    390\u001b[0m     \u001b[0;32mreturn\u001b[0m \u001b[0mcv_results\u001b[0m\u001b[0;34m[\u001b[0m\u001b[0;34m'test_score'\u001b[0m\u001b[0;34m]\u001b[0m\u001b[0;34m\u001b[0m\u001b[0;34m\u001b[0m\u001b[0m\n\u001b[1;32m    391\u001b[0m \u001b[0;34m\u001b[0m\u001b[0m\n",
      "\u001b[0;32m/anaconda3/envs/house_prices/lib/python3.7/site-packages/sklearn/model_selection/_validation.py\u001b[0m in \u001b[0;36mcross_validate\u001b[0;34m(estimator, X, y, groups, scoring, cv, n_jobs, verbose, fit_params, pre_dispatch, return_train_score, return_estimator, error_score)\u001b[0m\n\u001b[1;32m    229\u001b[0m             \u001b[0mreturn_times\u001b[0m\u001b[0;34m=\u001b[0m\u001b[0;32mTrue\u001b[0m\u001b[0;34m,\u001b[0m \u001b[0mreturn_estimator\u001b[0m\u001b[0;34m=\u001b[0m\u001b[0mreturn_estimator\u001b[0m\u001b[0;34m,\u001b[0m\u001b[0;34m\u001b[0m\u001b[0;34m\u001b[0m\u001b[0m\n\u001b[1;32m    230\u001b[0m             error_score=error_score)\n\u001b[0;32m--> 231\u001b[0;31m         for train, test in cv.split(X, y, groups))\n\u001b[0m\u001b[1;32m    232\u001b[0m \u001b[0;34m\u001b[0m\u001b[0m\n\u001b[1;32m    233\u001b[0m     \u001b[0mzipped_scores\u001b[0m \u001b[0;34m=\u001b[0m \u001b[0mlist\u001b[0m\u001b[0;34m(\u001b[0m\u001b[0mzip\u001b[0m\u001b[0;34m(\u001b[0m\u001b[0;34m*\u001b[0m\u001b[0mscores\u001b[0m\u001b[0;34m)\u001b[0m\u001b[0;34m)\u001b[0m\u001b[0;34m\u001b[0m\u001b[0;34m\u001b[0m\u001b[0m\n",
      "\u001b[0;32m/anaconda3/envs/house_prices/lib/python3.7/site-packages/joblib/parallel.py\u001b[0m in \u001b[0;36m__call__\u001b[0;34m(self, iterable)\u001b[0m\n\u001b[1;32m    928\u001b[0m \u001b[0;34m\u001b[0m\u001b[0m\n\u001b[1;32m    929\u001b[0m             \u001b[0;32mwith\u001b[0m \u001b[0mself\u001b[0m\u001b[0;34m.\u001b[0m\u001b[0m_backend\u001b[0m\u001b[0;34m.\u001b[0m\u001b[0mretrieval_context\u001b[0m\u001b[0;34m(\u001b[0m\u001b[0;34m)\u001b[0m\u001b[0;34m:\u001b[0m\u001b[0;34m\u001b[0m\u001b[0;34m\u001b[0m\u001b[0m\n\u001b[0;32m--> 930\u001b[0;31m                 \u001b[0mself\u001b[0m\u001b[0;34m.\u001b[0m\u001b[0mretrieve\u001b[0m\u001b[0;34m(\u001b[0m\u001b[0;34m)\u001b[0m\u001b[0;34m\u001b[0m\u001b[0;34m\u001b[0m\u001b[0m\n\u001b[0m\u001b[1;32m    931\u001b[0m             \u001b[0;31m# Make sure that we get a last message telling us we are done\u001b[0m\u001b[0;34m\u001b[0m\u001b[0;34m\u001b[0m\u001b[0;34m\u001b[0m\u001b[0m\n\u001b[1;32m    932\u001b[0m             \u001b[0melapsed_time\u001b[0m \u001b[0;34m=\u001b[0m \u001b[0mtime\u001b[0m\u001b[0;34m.\u001b[0m\u001b[0mtime\u001b[0m\u001b[0;34m(\u001b[0m\u001b[0;34m)\u001b[0m \u001b[0;34m-\u001b[0m \u001b[0mself\u001b[0m\u001b[0;34m.\u001b[0m\u001b[0m_start_time\u001b[0m\u001b[0;34m\u001b[0m\u001b[0;34m\u001b[0m\u001b[0m\n",
      "\u001b[0;32m/anaconda3/envs/house_prices/lib/python3.7/site-packages/joblib/parallel.py\u001b[0m in \u001b[0;36mretrieve\u001b[0;34m(self)\u001b[0m\n\u001b[1;32m    831\u001b[0m             \u001b[0;32mtry\u001b[0m\u001b[0;34m:\u001b[0m\u001b[0;34m\u001b[0m\u001b[0;34m\u001b[0m\u001b[0m\n\u001b[1;32m    832\u001b[0m                 \u001b[0;32mif\u001b[0m \u001b[0mgetattr\u001b[0m\u001b[0;34m(\u001b[0m\u001b[0mself\u001b[0m\u001b[0;34m.\u001b[0m\u001b[0m_backend\u001b[0m\u001b[0;34m,\u001b[0m \u001b[0;34m'supports_timeout'\u001b[0m\u001b[0;34m,\u001b[0m \u001b[0;32mFalse\u001b[0m\u001b[0;34m)\u001b[0m\u001b[0;34m:\u001b[0m\u001b[0;34m\u001b[0m\u001b[0;34m\u001b[0m\u001b[0m\n\u001b[0;32m--> 833\u001b[0;31m                     \u001b[0mself\u001b[0m\u001b[0;34m.\u001b[0m\u001b[0m_output\u001b[0m\u001b[0;34m.\u001b[0m\u001b[0mextend\u001b[0m\u001b[0;34m(\u001b[0m\u001b[0mjob\u001b[0m\u001b[0;34m.\u001b[0m\u001b[0mget\u001b[0m\u001b[0;34m(\u001b[0m\u001b[0mtimeout\u001b[0m\u001b[0;34m=\u001b[0m\u001b[0mself\u001b[0m\u001b[0;34m.\u001b[0m\u001b[0mtimeout\u001b[0m\u001b[0;34m)\u001b[0m\u001b[0;34m)\u001b[0m\u001b[0;34m\u001b[0m\u001b[0;34m\u001b[0m\u001b[0m\n\u001b[0m\u001b[1;32m    834\u001b[0m                 \u001b[0;32melse\u001b[0m\u001b[0;34m:\u001b[0m\u001b[0;34m\u001b[0m\u001b[0;34m\u001b[0m\u001b[0m\n\u001b[1;32m    835\u001b[0m                     \u001b[0mself\u001b[0m\u001b[0;34m.\u001b[0m\u001b[0m_output\u001b[0m\u001b[0;34m.\u001b[0m\u001b[0mextend\u001b[0m\u001b[0;34m(\u001b[0m\u001b[0mjob\u001b[0m\u001b[0;34m.\u001b[0m\u001b[0mget\u001b[0m\u001b[0;34m(\u001b[0m\u001b[0;34m)\u001b[0m\u001b[0;34m)\u001b[0m\u001b[0;34m\u001b[0m\u001b[0;34m\u001b[0m\u001b[0m\n",
      "\u001b[0;32m/anaconda3/envs/house_prices/lib/python3.7/site-packages/joblib/_parallel_backends.py\u001b[0m in \u001b[0;36mwrap_future_result\u001b[0;34m(future, timeout)\u001b[0m\n\u001b[1;32m    519\u001b[0m         AsyncResults.get from multiprocessing.\"\"\"\n\u001b[1;32m    520\u001b[0m         \u001b[0;32mtry\u001b[0m\u001b[0;34m:\u001b[0m\u001b[0;34m\u001b[0m\u001b[0;34m\u001b[0m\u001b[0m\n\u001b[0;32m--> 521\u001b[0;31m             \u001b[0;32mreturn\u001b[0m \u001b[0mfuture\u001b[0m\u001b[0;34m.\u001b[0m\u001b[0mresult\u001b[0m\u001b[0;34m(\u001b[0m\u001b[0mtimeout\u001b[0m\u001b[0;34m=\u001b[0m\u001b[0mtimeout\u001b[0m\u001b[0;34m)\u001b[0m\u001b[0;34m\u001b[0m\u001b[0;34m\u001b[0m\u001b[0m\n\u001b[0m\u001b[1;32m    522\u001b[0m         \u001b[0;32mexcept\u001b[0m \u001b[0mLokyTimeoutError\u001b[0m\u001b[0;34m:\u001b[0m\u001b[0;34m\u001b[0m\u001b[0;34m\u001b[0m\u001b[0m\n\u001b[1;32m    523\u001b[0m             \u001b[0;32mraise\u001b[0m \u001b[0mTimeoutError\u001b[0m\u001b[0;34m(\u001b[0m\u001b[0;34m)\u001b[0m\u001b[0;34m\u001b[0m\u001b[0;34m\u001b[0m\u001b[0m\n",
      "\u001b[0;32m/anaconda3/envs/house_prices/lib/python3.7/concurrent/futures/_base.py\u001b[0m in \u001b[0;36mresult\u001b[0;34m(self, timeout)\u001b[0m\n\u001b[1;32m    425\u001b[0m                 \u001b[0;32mreturn\u001b[0m \u001b[0mself\u001b[0m\u001b[0;34m.\u001b[0m\u001b[0m__get_result\u001b[0m\u001b[0;34m(\u001b[0m\u001b[0;34m)\u001b[0m\u001b[0;34m\u001b[0m\u001b[0;34m\u001b[0m\u001b[0m\n\u001b[1;32m    426\u001b[0m \u001b[0;34m\u001b[0m\u001b[0m\n\u001b[0;32m--> 427\u001b[0;31m             \u001b[0mself\u001b[0m\u001b[0;34m.\u001b[0m\u001b[0m_condition\u001b[0m\u001b[0;34m.\u001b[0m\u001b[0mwait\u001b[0m\u001b[0;34m(\u001b[0m\u001b[0mtimeout\u001b[0m\u001b[0;34m)\u001b[0m\u001b[0;34m\u001b[0m\u001b[0;34m\u001b[0m\u001b[0m\n\u001b[0m\u001b[1;32m    428\u001b[0m \u001b[0;34m\u001b[0m\u001b[0m\n\u001b[1;32m    429\u001b[0m             \u001b[0;32mif\u001b[0m \u001b[0mself\u001b[0m\u001b[0;34m.\u001b[0m\u001b[0m_state\u001b[0m \u001b[0;32min\u001b[0m \u001b[0;34m[\u001b[0m\u001b[0mCANCELLED\u001b[0m\u001b[0;34m,\u001b[0m \u001b[0mCANCELLED_AND_NOTIFIED\u001b[0m\u001b[0;34m]\u001b[0m\u001b[0;34m:\u001b[0m\u001b[0;34m\u001b[0m\u001b[0;34m\u001b[0m\u001b[0m\n",
      "\u001b[0;32m/anaconda3/envs/house_prices/lib/python3.7/threading.py\u001b[0m in \u001b[0;36mwait\u001b[0;34m(self, timeout)\u001b[0m\n\u001b[1;32m    294\u001b[0m         \u001b[0;32mtry\u001b[0m\u001b[0;34m:\u001b[0m    \u001b[0;31m# restore state no matter what (e.g., KeyboardInterrupt)\u001b[0m\u001b[0;34m\u001b[0m\u001b[0;34m\u001b[0m\u001b[0m\n\u001b[1;32m    295\u001b[0m             \u001b[0;32mif\u001b[0m \u001b[0mtimeout\u001b[0m \u001b[0;32mis\u001b[0m \u001b[0;32mNone\u001b[0m\u001b[0;34m:\u001b[0m\u001b[0;34m\u001b[0m\u001b[0;34m\u001b[0m\u001b[0m\n\u001b[0;32m--> 296\u001b[0;31m                 \u001b[0mwaiter\u001b[0m\u001b[0;34m.\u001b[0m\u001b[0macquire\u001b[0m\u001b[0;34m(\u001b[0m\u001b[0;34m)\u001b[0m\u001b[0;34m\u001b[0m\u001b[0;34m\u001b[0m\u001b[0m\n\u001b[0m\u001b[1;32m    297\u001b[0m                 \u001b[0mgotit\u001b[0m \u001b[0;34m=\u001b[0m \u001b[0;32mTrue\u001b[0m\u001b[0;34m\u001b[0m\u001b[0;34m\u001b[0m\u001b[0m\n\u001b[1;32m    298\u001b[0m             \u001b[0;32melse\u001b[0m\u001b[0;34m:\u001b[0m\u001b[0;34m\u001b[0m\u001b[0;34m\u001b[0m\u001b[0m\n",
      "\u001b[0;31mKeyboardInterrupt\u001b[0m: "
     ]
    }
   ],
   "source": [
    "svr_linear_bests = {}\n",
    "\n",
    "for i in range(5):\n",
    "    svr_bests[i] = fmin(fn=partial(ho_cv_rmse, X=X_train, y=y_train, fixed_params={}, est_name='svr'),\n",
    "                    space=svr_linear_space,\n",
    "                    algo=tpe.suggest,\n",
    "                    max_evals=10)"
   ]
  },
  {
   "cell_type": "code",
   "execution_count": 120,
   "metadata": {
    "scrolled": true
   },
   "outputs": [
    {
     "name": "stdout",
     "output_type": "stream",
     "text": [
      "100%|██████████| 15/15 [00:13<00:00,  1.07it/s, best loss: 0.11459005026379632]\n",
      "100%|██████████| 15/15 [00:13<00:00,  1.51it/s, best loss: 0.11421792117235245]\n",
      "100%|██████████| 15/15 [00:13<00:00,  1.28it/s, best loss: 0.12290414478507768]\n",
      "100%|██████████| 15/15 [00:12<00:00,  1.40it/s, best loss: 0.11722992668889326]\n",
      "100%|██████████| 15/15 [00:11<00:00,  1.52it/s, best loss: 0.11839211727841359]\n",
      "100%|██████████| 15/15 [00:17<00:00,  1.09s/it, best loss: 0.11627180600094764]\n",
      "100%|██████████| 15/15 [00:13<00:00,  1.20s/it, best loss: 0.11437353145665849]\n",
      "100%|██████████| 15/15 [00:12<00:00,  1.27s/it, best loss: 0.11596856054301904]\n",
      "100%|██████████| 15/15 [00:13<00:00,  1.02s/it, best loss: 0.11427179866631931]\n",
      "100%|██████████| 15/15 [00:11<00:00,  1.03it/s, best loss: 0.11482981625195116]\n",
      "100%|██████████| 15/15 [00:12<00:00,  1.07it/s, best loss: 0.11842427449668386]\n",
      "100%|██████████| 15/15 [00:15<00:00,  1.23s/it, best loss: 0.11388307144590508]\n",
      "100%|██████████| 15/15 [00:12<00:00,  1.39it/s, best loss: 0.12126803368601684]\n",
      "100%|██████████| 15/15 [00:14<00:00,  1.30it/s, best loss: 0.12523171375060474]\n",
      "100%|██████████| 15/15 [00:14<00:00,  1.26it/s, best loss: 0.12212762180926538]\n",
      "100%|██████████| 15/15 [00:14<00:00,  1.32it/s, best loss: 0.1147468484649305]\n",
      "100%|██████████| 15/15 [00:15<00:00,  1.16s/it, best loss: 0.11518552524003878]\n",
      "100%|██████████| 15/15 [00:14<00:00,  1.08s/it, best loss: 0.12235033445142339]\n",
      "100%|██████████| 15/15 [00:13<00:00,  1.05s/it, best loss: 0.12020806537349278]\n",
      "100%|██████████| 15/15 [00:15<00:00,  1.07s/it, best loss: 0.12362209851379824]\n"
     ]
    }
   ],
   "source": [
    "svr_poly_bests = {}\n",
    "\n",
    "for i in range(20):\n",
    "    svr_poly_bests[i] = fmin(fn=partial(ho_cv_rmse, X=X_train, y=y_train, fixed_params={}, est_name='svr'),\n",
    "                    space=svr_poly_space,\n",
    "                    algo=tpe.suggest,\n",
    "                    max_evals=15)"
   ]
  },
  {
   "cell_type": "code",
   "execution_count": 97,
   "metadata": {
    "scrolled": true
   },
   "outputs": [
    {
     "ename": "TypeError",
     "evalue": "__init__() got an unexpected keyword argument 'C_poly'",
     "output_type": "error",
     "traceback": [
      "\u001b[0;31m---------------------------------------------------------------------------\u001b[0m",
      "\u001b[0;31mTypeError\u001b[0m                                 Traceback (most recent call last)",
      "\u001b[0;32m<ipython-input-97-a333925e08e3>\u001b[0m in \u001b[0;36m<module>\u001b[0;34m\u001b[0m\n\u001b[0;32m----> 1\u001b[0;31m \u001b[0msvr_ho\u001b[0m \u001b[0;34m=\u001b[0m \u001b[0mSVR\u001b[0m\u001b[0;34m(\u001b[0m\u001b[0;34m**\u001b[0m\u001b[0msvr_bests\u001b[0m\u001b[0;34m[\u001b[0m\u001b[0;36m7\u001b[0m\u001b[0;34m]\u001b[0m\u001b[0;34m)\u001b[0m\u001b[0;34m\u001b[0m\u001b[0;34m\u001b[0m\u001b[0m\n\u001b[0m\u001b[1;32m      2\u001b[0m \u001b[0;34m\u001b[0m\u001b[0m\n\u001b[1;32m      3\u001b[0m svr_ho_cv_rmse = np.sqrt(-np.mean(cross_val_score(estimator=svr_ho, \n\u001b[1;32m      4\u001b[0m                                                          \u001b[0mX\u001b[0m\u001b[0;34m=\u001b[0m\u001b[0mX_train\u001b[0m\u001b[0;34m,\u001b[0m\u001b[0;34m\u001b[0m\u001b[0;34m\u001b[0m\u001b[0m\n\u001b[1;32m      5\u001b[0m                                                          \u001b[0my\u001b[0m\u001b[0;34m=\u001b[0m\u001b[0my_train\u001b[0m\u001b[0;34m,\u001b[0m\u001b[0;34m\u001b[0m\u001b[0;34m\u001b[0m\u001b[0m\n",
      "\u001b[0;31mTypeError\u001b[0m: __init__() got an unexpected keyword argument 'C_poly'"
     ]
    }
   ],
   "source": [
    "svr_ho = SVR(**svr_bests[7])\n",
    "\n",
    "svr_ho_cv_rmse = np.sqrt(-np.mean(cross_val_score(estimator=svr_ho, \n",
    "                                                         X=X_train, \n",
    "                                                         y=y_train,\n",
    "                                                         cv=10,\n",
    "                                                         scoring='neg_mean_squared_error',\n",
    "                                                         n_jobs=-1)))\n",
    "svr_ho.fit(X_train, y_train)\n",
    "svr_ho_train_rmse = np.sqrt(mean_squared_error(svr_ho.predict(X_train),\n",
    "                                               y_train))\n",
    "reg_results_df.loc['svr_ho', 'train_rmse'] = svr_ho_train_rmse\n",
    "reg_results_df.loc['svr_ho', 'cv_rmse'] = svr_ho_cv_rmse\n",
    "reg_results_df"
   ]
  },
  {
   "cell_type": "code",
   "execution_count": 26,
   "metadata": {},
   "outputs": [],
   "source": [
    "svr_default_cv_rmse = np.sqrt(-np.mean(cross_val_score(estimator=svr_default, \n",
    "                                                         X=X_train, \n",
    "                                                         y=y_train,\n",
    "                                                         cv=kf,\n",
    "                                                         scoring='neg_mean_squared_error',\n",
    "                                                         n_jobs=-1)))\n",
    "\n",
    "svr_default_train_rmse = np.sqrt(mean_squared_error(svr_default.predict(X_train),\n",
    "                                               y_train))\n"
   ]
  },
  {
   "cell_type": "code",
   "execution_count": 28,
   "metadata": {},
   "outputs": [
    {
     "data": {
      "text/html": [
       "<div>\n",
       "<style scoped>\n",
       "    .dataframe tbody tr th:only-of-type {\n",
       "        vertical-align: middle;\n",
       "    }\n",
       "\n",
       "    .dataframe tbody tr th {\n",
       "        vertical-align: top;\n",
       "    }\n",
       "\n",
       "    .dataframe thead th {\n",
       "        text-align: right;\n",
       "    }\n",
       "</style>\n",
       "<table border=\"1\" class=\"dataframe\">\n",
       "  <thead>\n",
       "    <tr style=\"text-align: right;\">\n",
       "      <th></th>\n",
       "      <th>train_rmse</th>\n",
       "      <th>cv_rmse</th>\n",
       "    </tr>\n",
       "  </thead>\n",
       "  <tbody>\n",
       "    <tr>\n",
       "      <th>ridge_default</th>\n",
       "      <td>0.104347</td>\n",
       "      <td>0.115097</td>\n",
       "    </tr>\n",
       "    <tr>\n",
       "      <th>ridge_ho</th>\n",
       "      <td>0.104362</td>\n",
       "      <td>0.115027</td>\n",
       "    </tr>\n",
       "    <tr>\n",
       "      <th>svr_default</th>\n",
       "      <td>0.0744879</td>\n",
       "      <td>0.149396</td>\n",
       "    </tr>\n",
       "  </tbody>\n",
       "</table>\n",
       "</div>"
      ],
      "text/plain": [
       "              train_rmse   cv_rmse\n",
       "ridge_default   0.104347  0.115097\n",
       "ridge_ho        0.104362  0.115027\n",
       "svr_default    0.0744879  0.149396"
      ]
     },
     "execution_count": 28,
     "metadata": {},
     "output_type": "execute_result"
    }
   ],
   "source": [
    "reg_results_df.loc['svr_default', 'train_rmse'] = svr_default_train_rmse\n",
    "reg_results_df.loc['svr_default', 'cv_rmse'] = svr_default_cv_rmse\n",
    "reg_results_df"
   ]
  },
  {
   "cell_type": "markdown",
   "metadata": {
    "heading_collapsed": true
   },
   "source": [
    "### Tuning `alpha` with `GridSearchCV`"
   ]
  },
  {
   "cell_type": "code",
   "execution_count": null,
   "metadata": {
    "hidden": true
   },
   "outputs": [],
   "source": [
    "from sklearn.model_selection import GridSearchCV\n",
    "\n",
    "params = {'alpha': np.linspace(0, 2, 100)}\n",
    "ridge_search = GridSearchCV(estimator=Ridge(),\n",
    "                            param_grid=params,\n",
    "                            scoring='neg_mean_squared_error',\n",
    "                            n_jobs=-1)\n",
    "%timeit -n1 -r1 ridge_search.fit(X_train, y_train)"
   ]
  },
  {
   "cell_type": "code",
   "execution_count": null,
   "metadata": {
    "hidden": true
   },
   "outputs": [],
   "source": [
    "ridge_search.best_params_"
   ]
  },
  {
   "cell_type": "code",
   "execution_count": null,
   "metadata": {
    "hidden": true,
    "scrolled": true
   },
   "outputs": [],
   "source": [
    "ridge_grid = Ridge(**ridge_search.best_params_)\n",
    "ridge_grid.fit(X_train, y_train)\n",
    "ridge_grid_train_rmse = np.sqrt(mean_squared_error(ridge_grid.predict(X_train),\n",
    "                                               y_train))\n",
    "ridge_grid_cv_rmse = np.sqrt(-ridge_search.best_score_)\n",
    "reg_results_df.loc['ridge_grid', 'train_rmse'] = ridge_grid_train_rmse\n",
    "reg_results_df.loc['ridge_grid', 'cv_rmse'] = ridge_grid_cv_rmse\n",
    "reg_results_df"
   ]
  },
  {
   "cell_type": "markdown",
   "metadata": {
    "toc-hr-collapsed": true
   },
   "source": [
    "## Bayesian Ridge regressor"
   ]
  },
  {
   "cell_type": "markdown",
   "metadata": {},
   "source": [
    "### Hyperparameter defaults for baseline"
   ]
  },
  {
   "cell_type": "code",
   "execution_count": null,
   "metadata": {
    "scrolled": true
   },
   "outputs": [],
   "source": [
    "bayes_ridge_default = BayesianRidge()\n",
    "%timeit -n1 -r1 bayes_ridge_default.fit(X_train, y_train)"
   ]
  },
  {
   "cell_type": "markdown",
   "metadata": {
    "toc-hr-collapsed": true
   },
   "source": [
    "## SVR"
   ]
  },
  {
   "cell_type": "code",
   "execution_count": null,
   "metadata": {},
   "outputs": [],
   "source": []
  },
  {
   "cell_type": "code",
   "execution_count": null,
   "metadata": {},
   "outputs": [],
   "source": [
    "# R^2 of model\n",
    "bayes_ridge_default.score(X_train, y_train)"
   ]
  },
  {
   "cell_type": "code",
   "execution_count": null,
   "metadata": {},
   "outputs": [],
   "source": [
    "bayes_ridge_default_cv_rmse = np.sqrt(-np.mean(cross_val_score(estimator=bayes_ridge_default, \n",
    "                                                         X=X_train, \n",
    "                                                         y=y_train,\n",
    "                                                         cv=10,\n",
    "                                                         scoring='neg_mean_squared_error',\n",
    "                                                         n_jobs=-1)))\n",
    "\n",
    "bayes_ridge_default_train_rmse = np.sqrt(mean_squared_error(bayes_ridge_default.predict(X_train),\n",
    "                                               y_train))\n",
    "reg_results_df.loc['bayes_ridge_default', 'train_rmse'] = bayes_ridge_default_train_rmse\n",
    "reg_results_df.loc['bayes_ridge_default', 'cv_rmse'] = bayes_ridge_default_cv_rmse\n",
    "reg_results_df"
   ]
  },
  {
   "cell_type": "markdown",
   "metadata": {},
   "source": [
    "### Tuning with `hyperopt`"
   ]
  },
  {
   "cell_type": "code",
   "execution_count": null,
   "metadata": {},
   "outputs": [],
   "source": [
    "from hyperopt import fmin, hp, tpe, Trials, space_eval, STATUS_OK\n",
    "from hyperopt.pyll import scope as ho_scope\n",
    "from hyperopt.pyll.stochastic import sample as ho_sample\n",
    "from functools import partial\n",
    "\n",
    "bayes_ridge_space = {'alpha_1': hp.loguniform('alpha_1', low=-9*np.log(10), high=3*np.log(10)),\n",
    "                     'alpha_2': hp.loguniform('alpha_2', low=-9*np.log(10), high=3*np.log(10)),\n",
    "                     'lambda_1': hp.loguniform('lambda_1', low=-9*np.log(10), high=3*np.log(10)),\n",
    "                     'lambda_2': hp.loguniform('lambda_2', low=-9*np.log(10), high=3*np.log(10))}\n",
    "\n",
    "\n",
    "def ho_cv_rmse(search_params, X=X, y=y, fixed_params={}, est_name='bayes_ridge'):\n",
    "    if est_name == 'bayes_ridge':\n",
    "        est = BayesianRidge(**{**search_params, **fixed_params})\n",
    "    return np.sqrt(-np.mean(cross_val_score(estimator=est, \n",
    "                                                  X=X, \n",
    "                                                  y=y,\n",
    "                                                  cv=10,\n",
    "                                                  scoring='neg_mean_squared_error',\n",
    "                                                  n_jobs=-1)))"
   ]
  },
  {
   "cell_type": "code",
   "execution_count": null,
   "metadata": {},
   "outputs": [],
   "source": [
    "n = 5\n",
    "bayes_ridge_bests = {}\n",
    "\n",
    "for i in range(n):\n",
    "    bayes_ridge_bests[i] = fmin(fn=partial(ho_cv_rmse, X=X_train, y=y_train, fixed_params={}, est_name='bayes_ridge'),\n",
    "                    space=bayes_ridge_space,\n",
    "                    algo=tpe.suggest,\n",
    "                    max_evals=30)"
   ]
  },
  {
   "cell_type": "code",
   "execution_count": null,
   "metadata": {
    "scrolled": true
   },
   "outputs": [],
   "source": [
    "bayes_ridge_ho = BayesianRidge(**bayes_ridge_bests[1])\n",
    "\n",
    "bayes_ridge_ho_cv_rmse = np.sqrt(-np.mean(cross_val_score(estimator=bayes_ridge_ho, \n",
    "                                                         X=X_train, \n",
    "                                                         y=y_train,\n",
    "                                                         cv=10,\n",
    "                                                         scoring='neg_mean_squared_error',\n",
    "                                                         n_jobs=-1)))\n",
    "bayes_ridge_ho.fit(X_train, y_train)\n",
    "bayes_ridge_ho_train_rmse = np.sqrt(mean_squared_error(bayes_ridge_ho.predict(X_train),\n",
    "                                               y_train))\n",
    "reg_results_df.loc['bayes_ridge_ho', 'train_rmse'] = bayes_ridge_ho_train_rmse\n",
    "reg_results_df.loc['bayes_ridge_ho', 'cv_rmse'] = bayes_ridge_ho_cv_rmse\n",
    "reg_results_df"
   ]
  },
  {
   "cell_type": "markdown",
   "metadata": {
    "toc-hr-collapsed": true
   },
   "source": [
    "##  `XGBRegressor`"
   ]
  },
  {
   "cell_type": "markdown",
   "metadata": {},
   "source": [
    "### Hyperparameter defaults for baseline"
   ]
  },
  {
   "cell_type": "code",
   "execution_count": null,
   "metadata": {
    "scrolled": true
   },
   "outputs": [],
   "source": [
    "from xgboost import XGBRegressor\n",
    "\n",
    "xgbreg_default = XGBRegressor(objective='reg:squarederror', verbosity=1, n_jobs=-1, random_state=27)\n",
    "%timeit -n1 -r1 xgbreg_default.fit(X_train.values, y_train.values)"
   ]
  },
  {
   "cell_type": "code",
   "execution_count": null,
   "metadata": {},
   "outputs": [],
   "source": [
    "# R^2 of model\n",
    "xgbreg_default.score(X_train.values, y_train.values)"
   ]
  },
  {
   "cell_type": "code",
   "execution_count": null,
   "metadata": {},
   "outputs": [],
   "source": [
    "xgbreg_default_cv_rmse = np.sqrt(-np.mean(cross_val_score(estimator=xgbreg_default, \n",
    "                                                  X=X_train.values, \n",
    "                                                  y=y_train.values,\n",
    "                                                  cv=10,\n",
    "                                                  scoring='neg_mean_squared_error',\n",
    "                                                  n_jobs=-1)))\n",
    "\n",
    "xgbreg_default_train_rmse = np.sqrt(mean_squared_error(xgbreg_default.predict(X_train.values),\n",
    "                                               y_train.values))\n",
    "\n",
    "reg_results_df.loc['xgbreg_default', 'train_rmse'] = xgbreg_default_train_rmse\n",
    "reg_results_df.loc['xgbreg_default', 'cv_rmse'] = xgbreg_default_cv_rmse\n",
    "reg_results_df"
   ]
  },
  {
   "cell_type": "markdown",
   "metadata": {},
   "source": [
    "### Tuning with `hyperopt`"
   ]
  },
  {
   "cell_type": "code",
   "execution_count": null,
   "metadata": {},
   "outputs": [],
   "source": [
    "xgbreg_space = {'max_depth': ho_scope.int(hp.quniform('max_depth', low=1, high=3, q=1)),\n",
    "                 'n_estimators': ho_scope.int(hp.quniform('n_estimators', low=100, high=500, q=50)),\n",
    "                'learning_rate': hp.loguniform('learning_rate', low=-4*np.log(10), high=0),\n",
    "                'gamma': hp.loguniform('gamma', low=-3*np.log(10), high=2*np.log(10)),\n",
    "                'min_child_weight': ho_scope.int(hp.quniform('min_child_weight', low=1, high=7, q=1)),\n",
    "                'subsample': hp.uniform('subsample', low=0.25, high=1),\n",
    "                'colsample_bytree': hp.uniform('colsample_bytree', low=0.25, high=1),\n",
    "                'colsample_bylevel': hp.uniform('colsample_bylevel', low=0.25, high=1),\n",
    "                'colsample_bynode': hp.uniform('colsample_bynode', low=0.25, high=1),\n",
    "                'reg_lambda': hp.loguniform('reg_lambda', low=-2*np.log(10), high=2*np.log(10)),\n",
    "                'reg_alpha': hp.loguniform('reg_alpha', low=-1*np.log(10), high=1*np.log(10)),\n",
    "                }\n",
    "\n",
    "fixed_params = {'objective': 'reg:squarederror',\n",
    "                'n_jobs': -1,\n",
    "                'random_state': 27,\n",
    "               }\n",
    "\n",
    "def ho_cv_rmse(search_params, X=X, y=y, fixed_params={}, est_name='bayes_ridge'):\n",
    "    if est_name == 'bayes_ridge':\n",
    "        est = BayesianRidge(**{**search_params, **fixed_params})\n",
    "    elif est_name == 'xgb_reg':\n",
    "        est = XGBRegressor(**{**search_params, **fixed_params})\n",
    "    return np.sqrt(-np.mean(cross_val_score(estimator=est, \n",
    "                                            X=X, \n",
    "                                            y=y,\n",
    "                                            cv=10,\n",
    "                                            scoring='neg_mean_squared_error',\n",
    "                                            n_jobs=-1)))"
   ]
  },
  {
   "cell_type": "code",
   "execution_count": null,
   "metadata": {
    "scrolled": true
   },
   "outputs": [],
   "source": [
    "n = 10\n",
    "bests = {}\n",
    "\n",
    "for i in range(n):\n",
    "    bests[i] = fmin(fn=partial(ho_cv_rmse, X=X_train.values, y=y_train.values, fixed_params=fixed_params, est_name='xgb_reg'),\n",
    "                    space=xgbreg_space,\n",
    "                    algo=tpe.suggest,\n",
    "                    max_evals=10)"
   ]
  },
  {
   "cell_type": "code",
   "execution_count": null,
   "metadata": {},
   "outputs": [],
   "source": [
    "params = {**fixed_params, **bests[4]}\n",
    "for param in ['max_depth', 'min_child_weight', 'n_estimators']:\n",
    "    params[param] = int(params[param])\n",
    "params\n",
    "\n",
    "xgbreg_ho = XGBRegressor(**params)\n",
    "xgbreg_ho.fit(X_train.values, y_train.values)"
   ]
  },
  {
   "cell_type": "code",
   "execution_count": null,
   "metadata": {},
   "outputs": [],
   "source": [
    "xgbreg_ho_cv_rmse = np.sqrt(-np.mean(cross_val_score(estimator=xgbreg_ho, \n",
    "                                                  X=X_train.values,\n",
    "                                                  y=y_train.values,\n",
    "                                                  cv=10,\n",
    "                                                  scoring='neg_mean_squared_error',\n",
    "                                                  n_jobs=-1,\n",
    "                                                 )              \n",
    "                                 )\n",
    "                          )\n",
    "\n",
    "xgbreg_ho.fit(X_train.values, y_train.values)\n",
    "xgbreg_ho_train_rmse = np.sqrt(mean_squared_error(xgbreg_ho.predict(X_train.values),\n",
    "                                               y_train.values\n",
    "                                              )\n",
    "                            )"
   ]
  },
  {
   "cell_type": "code",
   "execution_count": null,
   "metadata": {
    "scrolled": true
   },
   "outputs": [],
   "source": [
    "reg_results_df.loc['xgbreg_ho', 'train_rmse'] = xgbreg_ho_train_rmse\n",
    "reg_results_df.loc['xgbreg_ho', 'cv_rmse'] = xgbreg_ho_cv_rmse\n",
    "reg_results_df"
   ]
  },
  {
   "cell_type": "markdown",
   "metadata": {
    "toc-hr-collapsed": false
   },
   "source": [
    "# Ensembles"
   ]
  },
  {
   "cell_type": "markdown",
   "metadata": {},
   "source": [
    "## `sklearn` ensemble estimators"
   ]
  },
  {
   "cell_type": "code",
   "execution_count": null,
   "metadata": {},
   "outputs": [],
   "source": [
    "from sklearn.ensemble import (AdaBoostRegressor, BaggingRegressor, ExtraTreesRegressor, GradientBoostingRegressor,\n",
    "                              RandomForestRegressor)\n",
    "\n",
    "random_state = 27\n",
    "ensembles = {'ada': AdaBoostRegressor(random_state=random_state), 'bag': BaggingRegressor(),\n",
    "             'extree': ExtraTreesRegressor(), 'gb': GradientBoostingRegressor(),\n",
    "             'rf': RandomForestRegressor()}\n",
    "    \n",
    "sklearn_ensembles_df = pd.DataFrame(columns=['train_rmse', 'cv_rmse'], index=ensembles.keys())\n",
    "\n",
    "for model in ensembles:\n",
    "    ensembles[model].fit(X_train, y_train)\n",
    "    train_rmse = np.sqrt(mean_squared_error(ensembles[model].predict(X_train), y_train))\n",
    "    cv_rmse = np.sqrt(-np.mean(cross_val_score(estimator=ensembles[model], \n",
    "                                                  X=X_train, \n",
    "                                                  y=y_train,\n",
    "                                                  cv=10,\n",
    "                                                  scoring='neg_mean_squared_error',\n",
    "                                                  n_jobs=-1)))\n",
    "    sklearn_ensembles_df.loc[model, 'train_rmse'] = train_rmse\n",
    "    sklearn_ensembles_df.loc[model, 'cv_rmse'] = cv_rmse\n",
    "    \n",
    "sklearn_ensembles_df"
   ]
  },
  {
   "cell_type": "markdown",
   "metadata": {},
   "source": [
    "## Voting"
   ]
  },
  {
   "cell_type": "code",
   "execution_count": null,
   "metadata": {},
   "outputs": [],
   "source": [
    "from sklearn.ensemble import VotingRegressor\n",
    "\n",
    "voters = []"
   ]
  },
  {
   "cell_type": "markdown",
   "metadata": {},
   "source": [
    "## Stacking"
   ]
  },
  {
   "cell_type": "markdown",
   "metadata": {},
   "source": [
    "### Ridge base and xgbreg meta"
   ]
  },
  {
   "cell_type": "markdown",
   "metadata": {},
   "source": [
    "#### Defaults"
   ]
  },
  {
   "cell_type": "code",
   "execution_count": null,
   "metadata": {},
   "outputs": [],
   "source": [
    "from mlxtend.regressor import StackingCVRegressor\n",
    "\n",
    "bases = [Ridge() for i in range(5)]\n",
    "meta = XGBRegressor(**fixed_params)\n",
    "ridge_base_xgb_meta = StackingCVRegressor(regressors=bases, meta_regressor=meta, random_state=27, n_jobs=-1)"
   ]
  },
  {
   "cell_type": "code",
   "execution_count": null,
   "metadata": {
    "scrolled": true
   },
   "outputs": [],
   "source": [
    "ridge_base_xgb_meta_cv_rmse = np.sqrt(-np.mean(cross_val_score(estimator=ridge_base_xgb_meta, \n",
    "                                                  X=X_train.values,\n",
    "                                                  y=y_train.values,\n",
    "                                                  cv=10,\n",
    "                                                  scoring='neg_mean_squared_error',\n",
    "                                                  n_jobs=-1)))\n",
    "\n",
    "ridge_base_xgb_meta.fit(X_train.values, y_train.values)\n",
    "ridge_base_xgb_meta_train_rmse = np.sqrt(mean_squared_error(ridge_base_xgb_meta.predict(X_train.values),\n",
    "                                               y_train.values))\n",
    "\n",
    "reg_results_df.loc['ridge_base_xgb_meta', 'train_rmse'] = ridge_base_xgb_meta_train_rmse\n",
    "reg_results_df.loc['ridge_base_xgb_meta', 'cv_rmse'] = ridge_base_xgb_meta_cv_rmse\n",
    "reg_results_df"
   ]
  },
  {
   "cell_type": "markdown",
   "metadata": {},
   "source": [
    "#### Tuned"
   ]
  },
  {
   "cell_type": "code",
   "execution_count": null,
   "metadata": {},
   "outputs": [],
   "source": [
    "from sklearn.base import clone\n",
    "bases = [clone(bayes_ridge_ho) for i in range(5)]\n",
    "meta = xgbreg_ho\n",
    "tuned_ridge_base_xgb_meta = StackingCVRegressor(regressors=bases, meta_regressor=meta, random_state=27, n_jobs=-1)"
   ]
  },
  {
   "cell_type": "code",
   "execution_count": null,
   "metadata": {},
   "outputs": [],
   "source": [
    "tuned_ridge_base_xgb_meta_cv_rmse = np.sqrt(-np.mean(cross_val_score(estimator=tuned_ridge_base_xgb_meta, \n",
    "                                                  X=X_train.values,\n",
    "                                                  y=y_train.values,\n",
    "                                                  cv=10,\n",
    "                                                  scoring='neg_mean_squared_error',\n",
    "                                                  n_jobs=-1)))\n",
    "\n",
    "tuned_ridge_base_xgb_meta.fit(X_train.values, y_train.values)\n",
    "tuned_ridge_base_xgb_meta_train_rmse = np.sqrt(mean_squared_error(tuned_ridge_base_xgb_meta.predict(X_train.values),\n",
    "                                               y_train.values))\n",
    "\n",
    "reg_results_df.loc['tuned_ridge_base_xgb_meta', 'train_rmse'] = tuned_ridge_base_xgb_meta_train_rmse\n",
    "reg_results_df.loc['tuned_ridge_base_xgb_meta', 'cv_rmse'] = tuned_ridge_base_xgb_meta_cv_rmse\n",
    "reg_results_df"
   ]
  },
  {
   "cell_type": "markdown",
   "metadata": {},
   "source": [
    "### Stacking tuned ridge meta and xgbreg bases"
   ]
  },
  {
   "cell_type": "code",
   "execution_count": null,
   "metadata": {},
   "outputs": [],
   "source": [
    "bases = [clone(xgbreg_ho) for i in range(5)]\n",
    "meta = bayes_ridge_ho\n",
    "tuned_ridge_meta_xgb_base = StackingCVRegressor(regressors=bases, meta_regressor=meta, random_state=27)"
   ]
  },
  {
   "cell_type": "code",
   "execution_count": null,
   "metadata": {},
   "outputs": [],
   "source": [
    "tuned_ridge_meta_xgb_base_cv_rmse = np.sqrt(-np.mean(cross_val_score(estimator=tuned_ridge_meta_xgb_base, \n",
    "                                                  X=X_train.values,\n",
    "                                                  y=y_train.values,\n",
    "                                                  cv=10,\n",
    "                                                  scoring='neg_mean_squared_error',\n",
    "                                                  n_jobs=-1)))\n",
    "\n",
    "tuned_ridge_meta_xgb_base.fit(X_train.values, y_train.values)\n",
    "tuned_ridge_meta_xgb_base_train_rmse = np.sqrt(mean_squared_error(tuned_ridge_meta_xgb_base.predict(X_train.values),\n",
    "                                               y_train.values))\n",
    "\n",
    "reg_results_df.loc['tuned_ridge_meta_xgb_base', 'train_rmse'] = tuned_ridge_meta_xgb_base_train_rmse\n",
    "reg_results_df.loc['tuned_ridge_meta_xgb_base', 'cv_rmse'] = tuned_ridge_meta_xgb_base_cv_rmse\n",
    "reg_results_df"
   ]
  },
  {
   "cell_type": "markdown",
   "metadata": {},
   "source": [
    "### Mixing ridge and xgb base, with ridge meta"
   ]
  },
  {
   "cell_type": "code",
   "execution_count": null,
   "metadata": {},
   "outputs": [],
   "source": [
    "bases1 = [clone(xgbreg_ho) for i in range(1)]\n",
    "bases2 = [clone(bayes_ridge_ho) for i in range(1)]\n",
    "bases = bases1 + bases2\n",
    "\n",
    "meta = bayes_ridge_ho\n",
    "tuned_ridge_meta_mixed_base = StackingCVRegressor(regressors=bases, meta_regressor=meta, random_state=27)"
   ]
  },
  {
   "cell_type": "code",
   "execution_count": null,
   "metadata": {},
   "outputs": [],
   "source": [
    "tuned_ridge_meta_mixed_base_cv_rmse = np.sqrt(-np.mean(cross_val_score(estimator=tuned_ridge_meta_mixed_base, \n",
    "                                                  X=X_train.values,\n",
    "                                                  y=y_train.values,\n",
    "                                                  cv=10,\n",
    "                                                  scoring='neg_mean_squared_error',\n",
    "                                                  n_jobs=-1)))\n",
    "\n",
    "tuned_ridge_meta_mixed_base.fit(X_train.values, y_train.values)\n",
    "tuned_ridge_meta_mixed_base_train_rmse = np.sqrt(mean_squared_error(tuned_ridge_meta_mixed_base.predict(X_train.values),\n",
    "                                               y_train.values))\n",
    "\n",
    "reg_results_df.loc['tuned_ridge_meta_mixed_base', 'train_rmse'] = tuned_ridge_meta_mixed_base_train_rmse\n",
    "reg_results_df.loc['tuned_ridge_meta_mixed_base', 'cv_rmse'] = tuned_ridge_meta_mixed_base_cv_rmse\n",
    "reg_results_df"
   ]
  },
  {
   "cell_type": "markdown",
   "metadata": {},
   "source": [
    "### Mixing ridge and xgb base, with xgb meta"
   ]
  },
  {
   "cell_type": "code",
   "execution_count": null,
   "metadata": {},
   "outputs": [],
   "source": [
    "bases1 = [clone(xgbreg_ho) for i in range(3)]\n",
    "bases2 = [clone(bayes_ridge_ho) for i in range(3)]\n",
    "bases = bases1 + bases2\n",
    "\n",
    "meta = xgbreg_ho\n",
    "tuned_xgb_meta_mixed_base = StackingCVRegressor(regressors=bases, meta_regressor=meta, random_state=27)"
   ]
  },
  {
   "cell_type": "code",
   "execution_count": null,
   "metadata": {},
   "outputs": [],
   "source": [
    "tuned_xgb_meta_mixed_base_cv_rmse = np.sqrt(-np.mean(cross_val_score(estimator=tuned_xgb_meta_mixed_base, \n",
    "                                                  X=X_train.values,\n",
    "                                                  y=y_train.values,\n",
    "                                                  cv=10,\n",
    "                                                  scoring='neg_mean_squared_error',\n",
    "                                                  n_jobs=-1)))\n",
    "\n",
    "tuned_xgb_meta_mixed_base.fit(X_train.values, y_train.values)\n",
    "tuned_xgb_meta_mixed_base_train_rmse = np.sqrt(mean_squared_error(tuned_xgb_meta_mixed_base.predict(X_train.values),\n",
    "                                               y_train.values))\n",
    "\n",
    "reg_results_df.loc['tuned_xgb_meta_mixed_base', 'train_rmse'] = tuned_xgb_meta_mixed_base_train_rmse\n",
    "reg_results_df.loc['tuned_xgb_meta_mixed_base', 'cv_rmse'] = tuned_xgb_meta_mixed_base_cv_rmse\n",
    "reg_results_df"
   ]
  },
  {
   "cell_type": "markdown",
   "metadata": {},
   "source": [
    "### Tuning stack with `hyperopt`"
   ]
  },
  {
   "cell_type": "markdown",
   "metadata": {},
   "source": [
    "#### Mixed base, ridge meta, pretuned base"
   ]
  },
  {
   "cell_type": "code",
   "execution_count": null,
   "metadata": {},
   "outputs": [],
   "source": [
    "def pretuned_base_cv_rmse(bridge_sample, bases=bases, X=X, y=y):\n",
    "    meta = BayesianRidge(**bridge_sample)\n",
    "    \n",
    "    stack_reg = StackingCVRegressor(regressors=bases, meta_regressor=meta, random_state=27)\n",
    "    loss = np.sqrt(-np.mean(cross_val_score(estimator=stack_reg, \n",
    "                                                  X=X.values, \n",
    "                                                  y=y.values,\n",
    "                                                  cv=10,\n",
    "                                                  scoring='neg_mean_squared_error',\n",
    "                                                  n_jobs=-1)))\n",
    "    return {'loss': loss, 'status': STATUS_OK}"
   ]
  },
  {
   "cell_type": "code",
   "execution_count": null,
   "metadata": {},
   "outputs": [],
   "source": [
    "n_runs = 10\n",
    "\n",
    "bases1 = [clone(xgbreg_ho) for i in range(2)]\n",
    "bases2 = [clone(bayes_ridge_ho) for i in range(2)]\n",
    "bases = bases1 + bases2\n",
    "\n",
    "pretuned_base_bests = {}\n",
    "\n",
    "for i in range(n_runs):\n",
    "    trials = Trials()\n",
    "    pretuned_base_bests[i] = fmin(fn=partial(pretuned_base_cv_rmse, bases=bases, \n",
    "                                             X=X_train, y=y_train),\n",
    "                                  space=bayes_ridge_space,\n",
    "                                  algo=tpe.suggest,\n",
    "                                  max_evals=5,\n",
    "                                  trials=trials)"
   ]
  },
  {
   "cell_type": "code",
   "execution_count": null,
   "metadata": {},
   "outputs": [],
   "source": [
    "pretuned_base_params = pretuned_base_bests[4]\n",
    "meta = BayesianRidge(**pretuned_base_params)\n",
    "pretuned_base = StackingCVRegressor(regressors=bases, meta_regressor=meta, random_state=27)"
   ]
  },
  {
   "cell_type": "code",
   "execution_count": null,
   "metadata": {},
   "outputs": [],
   "source": [
    "pretuned_base_cv_rmse = np.sqrt(-np.mean(cross_val_score(estimator=pretuned_base, \n",
    "                                                  X=X_train.values,\n",
    "                                                  y=y_train.values,\n",
    "                                                  cv=10,\n",
    "                                                  scoring='neg_mean_squared_error',\n",
    "                                                  n_jobs=-1)))\n",
    "\n",
    "pretuned_base.fit(X_train.values, y_train.values)\n",
    "pretuned_base_train_rmse = np.sqrt(mean_squared_error(pretuned_base.predict(X_train.values),\n",
    "                                               y_train.values))\n",
    "\n",
    "reg_results_df.loc['pretuned_base', 'train_rmse'] = pretuned_base_train_rmse\n",
    "reg_results_df.loc['pretuned_base', 'cv_rmse'] = pretuned_base_cv_rmse\n",
    "reg_results_df"
   ]
  },
  {
   "cell_type": "markdown",
   "metadata": {},
   "source": [
    "#### Mixed base, ridge meta, tune full stack at once"
   ]
  },
  {
   "cell_type": "code",
   "execution_count": null,
   "metadata": {},
   "outputs": [],
   "source": [
    "import copy\n",
    "\n",
    "def stack_hyp_space(num_base=3):\n",
    "    sample_space = {}\n",
    "    for i in range(num_base):\n",
    "        sample_space['xgb' + str(i)] = {'max_depth': ho_scope.int(hp.quniform('xgb_' + str(i) + '-max_depth', low=2, high=6, q=1)),\n",
    "                     'n_estimators': ho_scope.int(hp.quniform('xgb_' + str(i) + '-n_estimators', low=100, high=500, q=50)),\n",
    "                     'learning_rate': hp.loguniform('xgb_' + str(i) + '-learning_rate', low=-4*np.log(10), high=0),\n",
    "                     'gamma': hp.loguniform('xgb_' + str(i) + '-gamma', low=-3*np.log(10), high=2*np.log(10)),\n",
    "                     'min_child_weight': ho_scope.int(hp.quniform('xgb_' + str(i) + '-min_child_weight', low=2, high=6, q=1)),\n",
    "                     'subsample': hp.uniform('xgb_' + str(i) + '-subsample', low=0.25, high=1),\n",
    "                     'colsample_bytree': hp.uniform('xgb_' + str(i) + '-colsample_bytree', low=0.25, high=1),\n",
    "                     'colsample_bylevel': hp.uniform('xgb_' + str(i) + '-colsample_bylevel', low=0.25, high=1),\n",
    "                     'colsample_bynode': hp.uniform('xgb_' + str(i) + '-colsample_bynode', low=0.25, high=1),\n",
    "                     'reg_lambda': hp.loguniform('xgb_' + str(i) + '-reg_lambda', low=-3*np.log(10), high=3*np.log(10)),\n",
    "                     'reg_alpha': hp.loguniform('xgb_' + str(i) + '-reg_alpha', low=-3*np.log(10), high=3*np.log(10)),\n",
    "                     }\n",
    "        sample_space['bridge' + str(i)] = {'alpha_1': hp.loguniform('bridge_' + str(i) + '-alpha_1', low=-9*np.log(10), high=3*np.log(10)),\n",
    "                     'alpha_2': hp.loguniform('bridge_' + str(i) + '-alpha_2', low=-9*np.log(10), high=3*np.log(10)),\n",
    "                     'lambda_1': hp.loguniform('bridge_' + str(i) + '-lambda_1', low=-9*np.log(10), high=3*np.log(10)),\n",
    "                     'lambda_2': hp.loguniform('bridge_' + str(i) + '-lambda_2', low=-9*np.log(10), high=3*np.log(10))}\n",
    "            \n",
    "        sample_space['bridge_meta'] = {'alpha_1': hp.loguniform('bridge_meta-alpha_1', low=-9*np.log(10), high=3*np.log(10)),\n",
    "                     'alpha_2': hp.loguniform('bridge_meta-alpha_2', low=-9*np.log(10), high=3*np.log(10)),\n",
    "                     'lambda_1': hp.loguniform('bridge_meta-lambda_1', low=-9*np.log(10), high=3*np.log(10)),\n",
    "                     'lambda_2': hp.loguniform('bridge_meta-lambda_2', low=-9*np.log(10), high=3*np.log(10))}\n",
    "    \n",
    "    return sample_space\n",
    "\n",
    "xgb_fixed_params = {'objective': 'reg:squarederror',\n",
    "                    'n_jobs': -1,\n",
    "                     'random_state': 27,\n",
    "                    }"
   ]
  },
  {
   "cell_type": "code",
   "execution_count": null,
   "metadata": {},
   "outputs": [],
   "source": [
    "def stack_cv_rmse(sample, X=X, y=y, fixed_params={}):\n",
    "    bases = []\n",
    "    for name in sample:\n",
    "        # bases\n",
    "        if 'xgb' in name and 'meta' not in name:\n",
    "            params = {**sample[name], **fixed_params['xgb']}\n",
    "            bases += [XGBRegressor(**params)]\n",
    "        elif 'bridge' in name and 'meta' not in name:\n",
    "            params = {**sample[name], **fixed_params['bridge']}\n",
    "            bases += [BayesianRidge(**params)]\n",
    "        # meta\n",
    "        elif 'xgb' in name and 'meta' in name:\n",
    "            params = {**sample[name], **fixed_params['xgb']}\n",
    "            meta = XGBRegressor(**params)\n",
    "        elif 'bridge' in name and 'meta' in name:\n",
    "            params = {**sample[name], **fixed_params['bridge']}\n",
    "            meta = BayesianRidge(**params)\n",
    "    \n",
    "    stack_reg = StackingCVRegressor(regressors=bases, meta_regressor=meta, random_state=27)\n",
    "    loss = np.sqrt(-np.mean(cross_val_score(estimator=stack_reg, \n",
    "                                                  X=X.values, \n",
    "                                                  y=y.values,\n",
    "                                                  cv=10,\n",
    "                                                  scoring='neg_mean_squared_error',\n",
    "                                                  n_jobs=-1)))\n",
    "    return {'loss': loss, 'status': STATUS_OK}"
   ]
  },
  {
   "cell_type": "code",
   "execution_count": null,
   "metadata": {},
   "outputs": [],
   "source": [
    "n_base = 1\n",
    "n_runs = 10\n",
    "space = stack_hyp_space(3)\n",
    "bests = {}\n",
    "\n",
    "for i in range(n_runs):\n",
    "    trials = Trials()\n",
    "    bests[i] = fmin(fn=partial(stack_cv_rmse, X=X_train, y=y_train, fixed_params=stack_fix_params),\n",
    "                    space=space,\n",
    "                    algo=tpe.suggest,\n",
    "                    max_evals=10,\n",
    "                    trials=trials)"
   ]
  },
  {
   "cell_type": "code",
   "execution_count": null,
   "metadata": {},
   "outputs": [],
   "source": [
    "bests[3]"
   ]
  },
  {
   "cell_type": "code",
   "execution_count": null,
   "metadata": {},
   "outputs": [],
   "source": [
    "full_stack_tuned_cv_rmse = np.sqrt(-np.mean(cross_val_score(estimator=full_stack_tuned, \n",
    "                                                  X=X_train.values,\n",
    "                                                  y=y_train.values,\n",
    "                                                  cv=10,\n",
    "                                                  scoring='neg_mean_squared_error',\n",
    "                                                  n_jobs=-1)))\n",
    "\n",
    "full_stack_tuned.fit(X_train.values, y_train.values)\n",
    "full_stack_tuned_train_rmse = np.sqrt(mean_squared_error(full_stack_tuned.predict(X_train.values),\n",
    "                                               y_train.values))\n",
    "\n",
    "reg_results_df.loc['full_stack_tuned', 'train_rmse'] = full_stack_tuned_train_rmse\n",
    "reg_results_df.loc['full_stack_tuned', 'cv_rmse'] = full_stack_tuned_cv_rmse\n",
    "reg_results_df"
   ]
  },
  {
   "cell_type": "markdown",
   "metadata": {},
   "source": [
    "#### Voting meta meta"
   ]
  },
  {
   "cell_type": "markdown",
   "metadata": {},
   "source": [
    "#### Neural Network meta, mixed base"
   ]
  },
  {
   "cell_type": "markdown",
   "metadata": {},
   "source": [
    "#### Neural Network meta meta"
   ]
  },
  {
   "cell_type": "markdown",
   "metadata": {},
   "source": [
    "# Submit"
   ]
  },
  {
   "cell_type": "code",
   "execution_count": null,
   "metadata": {
    "scrolled": true
   },
   "outputs": [],
   "source": [
    "submit = pd.DataFrame({'Id': X_test.index, 'SalePrice': np.exp(pretuned_base.predict(X_test.values))})"
   ]
  },
  {
   "cell_type": "code",
   "execution_count": null,
   "metadata": {},
   "outputs": [],
   "source": [
    "submit.to_csv('try_again.csv', index=False)\n",
    "check = pd.read_csv('try_again.csv', index_col=0)\n",
    "check.head()"
   ]
  }
 ],
 "metadata": {
  "kernelspec": {
   "display_name": "Python [conda env:house_prices]",
   "language": "python",
   "name": "conda-env-house_prices-py"
  },
  "language_info": {
   "codemirror_mode": {
    "name": "ipython",
    "version": 3
   },
   "file_extension": ".py",
   "mimetype": "text/x-python",
   "name": "python",
   "nbconvert_exporter": "python",
   "pygments_lexer": "ipython3",
   "version": "3.7.3"
  },
  "latex_envs": {
   "LaTeX_envs_menu_present": true,
   "autoclose": false,
   "autocomplete": true,
   "bibliofile": "biblio.bib",
   "cite_by": "apalike",
   "current_citInitial": 1,
   "eqLabelWithNumbers": true,
   "eqNumInitial": 1,
   "hotkeys": {
    "equation": "Ctrl-E",
    "itemize": "Ctrl-I"
   },
   "labels_anchors": false,
   "latex_user_defs": false,
   "report_style_numbering": false,
   "user_envs_cfg": false
  },
  "toc": {
   "base_numbering": 1,
   "nav_menu": {},
   "number_sections": true,
   "sideBar": false,
   "skip_h1_title": false,
   "title_cell": "Table of Contents",
   "title_sidebar": "Contents",
   "toc_cell": false,
   "toc_position": {
    "height": "312px",
    "left": "878px",
    "top": "131px",
    "width": "376.344px"
   },
   "toc_section_display": false,
   "toc_window_display": true
  }
 },
 "nbformat": 4,
 "nbformat_minor": 4
}
