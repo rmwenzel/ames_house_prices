{
 "cells": [
  {
   "cell_type": "markdown",
   "metadata": {},
   "source": [
    "# Processing and cleaning the Ames housing dataset"
   ]
  },
  {
   "cell_type": "markdown",
   "metadata": {},
   "source": [
    " The original dataset is available [here](http://www.amstat.org/publications/jse/v19n3/decock/AmesHousing.xls). A version of the dataset is available [on Kaggle](https://www.kaggle.com/c/house-prices-advanced-regression-techniques). This is the dataset we'll be working with.\n",
    " \n",
    "In this notebook, we'll do preliminary processing and cleaning of the original dataset. In later notebooks we'll [explore the cleaned data and select/engineer features](eda.ipynb/#Exploratory-analysis-of-Ames-housing-dataset) and [model and predict sale prices](model.ipynb/#Modeling-and-predicting-SalePrice). Local copies of all datasets are in `house_prices/data`."
   ]
  },
  {
   "cell_type": "markdown",
   "metadata": {},
   "source": [
    "## Setup"
   ]
  },
  {
   "cell_type": "code",
   "execution_count": 2,
   "metadata": {},
   "outputs": [],
   "source": [
    "# standard imports\n",
    "%matplotlib inline\n",
    "import sys\n",
    "import os\n",
    "from numpy import nan\n",
    "\n",
    "# add parent directory for importing custom classes\n",
    "pardir = os.path.abspath(os.path.join(os.getcwd(), os.pardir))\n",
    "sys.path.append(pardir)\n",
    "\n",
    "# custom class for data description\n",
    "from codes.process import *"
   ]
  },
  {
   "cell_type": "markdown",
   "metadata": {
    "toc-hr-collapsed": true
   },
   "source": [
    "## Load and inspect Data"
   ]
  },
  {
   "cell_type": "markdown",
   "metadata": {},
   "source": [
    "### Variable descriptions"
   ]
  },
  {
   "cell_type": "markdown",
   "metadata": {},
   "source": [
    "A description of the dataset variables is available in `data/data_description.txt`, but it requires a little bit of preprocessing. The custom augmented `dict` class `DataDescription` contains code to do this (see `house_prices/codes/preprocess.py`)"
   ]
  },
  {
   "cell_type": "code",
   "execution_count": 3,
   "metadata": {},
   "outputs": [],
   "source": [
    "desc = DataDescription('../data/data_description.txt')"
   ]
  },
  {
   "cell_type": "code",
   "execution_count": 4,
   "metadata": {},
   "outputs": [
    {
     "data": {
      "text/plain": [
       "['MSSubClass', 'MSZoning', 'LotFrontage', 'LotArea', 'Street']"
      ]
     },
     "execution_count": 4,
     "metadata": {},
     "output_type": "execute_result"
    }
   ],
   "source": [
    "# First five variable names\n",
    "list(desc.keys())[:5]"
   ]
  },
  {
   "cell_type": "code",
   "execution_count": 5,
   "metadata": {},
   "outputs": [
    {
     "data": {
      "text/plain": [
       "{'Description': ' Identifies the type of dwelling involved in the sale.',\n",
       " 'Values': {'20': '1-STORY 1946 & NEWER ALL STYLES',\n",
       "  '30': '1-STORY 1945 & OLDER',\n",
       "  '40': '1-STORY W/FINISHED ATTIC ALL AGES',\n",
       "  '45': '1-1/2 STORY - UNFINISHED ALL AGES',\n",
       "  '50': '1-1/2 STORY FINISHED ALL AGES',\n",
       "  '60': '2-STORY 1946 & NEWER',\n",
       "  '70': '2-STORY 1945 & OLDER',\n",
       "  '75': '2-1/2 STORY ALL AGES',\n",
       "  '80': 'SPLIT OR MULTI-LEVEL',\n",
       "  '85': 'SPLIT FOYER',\n",
       "  '90': 'DUPLEX - ALL STYLES AND AGES',\n",
       "  '120': '1-STORY PUD (Planned Unit Development) - 1946 & NEWER',\n",
       "  '150': '1-1/2 STORY PUD - ALL AGES',\n",
       "  '160': '2-STORY PUD - 1946 & NEWER',\n",
       "  '180': 'PUD - MULTILEVEL - INCL SPLIT LEV/FOYER',\n",
       "  '190': '2 FAMILY CONVERSION - ALL STYLES AND AGES'}}"
      ]
     },
     "execution_count": 5,
     "metadata": {},
     "output_type": "execute_result"
    }
   ],
   "source": [
    "# First variable description and values\n",
    "desc['MSSubClass']"
   ]
  },
  {
   "cell_type": "markdown",
   "metadata": {},
   "source": [
    "### Load into `DataFrame`"
   ]
  },
  {
   "cell_type": "markdown",
   "metadata": {},
   "source": [
    "We'll combine training and test data into a single `DataFrame`"
   ]
  },
  {
   "cell_type": "code",
   "execution_count": 6,
   "metadata": {},
   "outputs": [],
   "source": [
    "train = pd.read_csv('../data/train.csv', index_col='Id')\n",
    "test = pd.read_csv('../data/test.csv', index_col='Id')\n",
    "full = pd.concat([train, test], keys=['train', 'test'], axis=0, sort=False)"
   ]
  },
  {
   "cell_type": "code",
   "execution_count": 7,
   "metadata": {},
   "outputs": [
    {
     "data": {
      "text/html": [
       "<div>\n",
       "<style scoped>\n",
       "    .dataframe tbody tr th:only-of-type {\n",
       "        vertical-align: middle;\n",
       "    }\n",
       "\n",
       "    .dataframe tbody tr th {\n",
       "        vertical-align: top;\n",
       "    }\n",
       "\n",
       "    .dataframe thead th {\n",
       "        text-align: right;\n",
       "    }\n",
       "</style>\n",
       "<table border=\"1\" class=\"dataframe\">\n",
       "  <thead>\n",
       "    <tr style=\"text-align: right;\">\n",
       "      <th></th>\n",
       "      <th></th>\n",
       "      <th>MSSubClass</th>\n",
       "      <th>MSZoning</th>\n",
       "      <th>LotFrontage</th>\n",
       "      <th>LotArea</th>\n",
       "      <th>Street</th>\n",
       "      <th>Alley</th>\n",
       "      <th>LotShape</th>\n",
       "      <th>LandContour</th>\n",
       "      <th>Utilities</th>\n",
       "      <th>LotConfig</th>\n",
       "      <th>...</th>\n",
       "      <th>PoolArea</th>\n",
       "      <th>PoolQC</th>\n",
       "      <th>Fence</th>\n",
       "      <th>MiscFeature</th>\n",
       "      <th>MiscVal</th>\n",
       "      <th>MoSold</th>\n",
       "      <th>YrSold</th>\n",
       "      <th>SaleType</th>\n",
       "      <th>SaleCondition</th>\n",
       "      <th>SalePrice</th>\n",
       "    </tr>\n",
       "    <tr>\n",
       "      <th></th>\n",
       "      <th>Id</th>\n",
       "      <th></th>\n",
       "      <th></th>\n",
       "      <th></th>\n",
       "      <th></th>\n",
       "      <th></th>\n",
       "      <th></th>\n",
       "      <th></th>\n",
       "      <th></th>\n",
       "      <th></th>\n",
       "      <th></th>\n",
       "      <th></th>\n",
       "      <th></th>\n",
       "      <th></th>\n",
       "      <th></th>\n",
       "      <th></th>\n",
       "      <th></th>\n",
       "      <th></th>\n",
       "      <th></th>\n",
       "      <th></th>\n",
       "      <th></th>\n",
       "      <th></th>\n",
       "    </tr>\n",
       "  </thead>\n",
       "  <tbody>\n",
       "    <tr>\n",
       "      <td rowspan=\"5\" valign=\"top\">train</td>\n",
       "      <td>1</td>\n",
       "      <td>60</td>\n",
       "      <td>RL</td>\n",
       "      <td>65.0</td>\n",
       "      <td>8450</td>\n",
       "      <td>Pave</td>\n",
       "      <td>NaN</td>\n",
       "      <td>Reg</td>\n",
       "      <td>Lvl</td>\n",
       "      <td>AllPub</td>\n",
       "      <td>Inside</td>\n",
       "      <td>...</td>\n",
       "      <td>0</td>\n",
       "      <td>NaN</td>\n",
       "      <td>NaN</td>\n",
       "      <td>NaN</td>\n",
       "      <td>0</td>\n",
       "      <td>2</td>\n",
       "      <td>2008</td>\n",
       "      <td>WD</td>\n",
       "      <td>Normal</td>\n",
       "      <td>208500.0</td>\n",
       "    </tr>\n",
       "    <tr>\n",
       "      <td>2</td>\n",
       "      <td>20</td>\n",
       "      <td>RL</td>\n",
       "      <td>80.0</td>\n",
       "      <td>9600</td>\n",
       "      <td>Pave</td>\n",
       "      <td>NaN</td>\n",
       "      <td>Reg</td>\n",
       "      <td>Lvl</td>\n",
       "      <td>AllPub</td>\n",
       "      <td>FR2</td>\n",
       "      <td>...</td>\n",
       "      <td>0</td>\n",
       "      <td>NaN</td>\n",
       "      <td>NaN</td>\n",
       "      <td>NaN</td>\n",
       "      <td>0</td>\n",
       "      <td>5</td>\n",
       "      <td>2007</td>\n",
       "      <td>WD</td>\n",
       "      <td>Normal</td>\n",
       "      <td>181500.0</td>\n",
       "    </tr>\n",
       "    <tr>\n",
       "      <td>3</td>\n",
       "      <td>60</td>\n",
       "      <td>RL</td>\n",
       "      <td>68.0</td>\n",
       "      <td>11250</td>\n",
       "      <td>Pave</td>\n",
       "      <td>NaN</td>\n",
       "      <td>IR1</td>\n",
       "      <td>Lvl</td>\n",
       "      <td>AllPub</td>\n",
       "      <td>Inside</td>\n",
       "      <td>...</td>\n",
       "      <td>0</td>\n",
       "      <td>NaN</td>\n",
       "      <td>NaN</td>\n",
       "      <td>NaN</td>\n",
       "      <td>0</td>\n",
       "      <td>9</td>\n",
       "      <td>2008</td>\n",
       "      <td>WD</td>\n",
       "      <td>Normal</td>\n",
       "      <td>223500.0</td>\n",
       "    </tr>\n",
       "    <tr>\n",
       "      <td>4</td>\n",
       "      <td>70</td>\n",
       "      <td>RL</td>\n",
       "      <td>60.0</td>\n",
       "      <td>9550</td>\n",
       "      <td>Pave</td>\n",
       "      <td>NaN</td>\n",
       "      <td>IR1</td>\n",
       "      <td>Lvl</td>\n",
       "      <td>AllPub</td>\n",
       "      <td>Corner</td>\n",
       "      <td>...</td>\n",
       "      <td>0</td>\n",
       "      <td>NaN</td>\n",
       "      <td>NaN</td>\n",
       "      <td>NaN</td>\n",
       "      <td>0</td>\n",
       "      <td>2</td>\n",
       "      <td>2006</td>\n",
       "      <td>WD</td>\n",
       "      <td>Abnorml</td>\n",
       "      <td>140000.0</td>\n",
       "    </tr>\n",
       "    <tr>\n",
       "      <td>5</td>\n",
       "      <td>60</td>\n",
       "      <td>RL</td>\n",
       "      <td>84.0</td>\n",
       "      <td>14260</td>\n",
       "      <td>Pave</td>\n",
       "      <td>NaN</td>\n",
       "      <td>IR1</td>\n",
       "      <td>Lvl</td>\n",
       "      <td>AllPub</td>\n",
       "      <td>FR2</td>\n",
       "      <td>...</td>\n",
       "      <td>0</td>\n",
       "      <td>NaN</td>\n",
       "      <td>NaN</td>\n",
       "      <td>NaN</td>\n",
       "      <td>0</td>\n",
       "      <td>12</td>\n",
       "      <td>2008</td>\n",
       "      <td>WD</td>\n",
       "      <td>Normal</td>\n",
       "      <td>250000.0</td>\n",
       "    </tr>\n",
       "  </tbody>\n",
       "</table>\n",
       "<p>5 rows × 80 columns</p>\n",
       "</div>"
      ],
      "text/plain": [
       "          MSSubClass MSZoning  LotFrontage  LotArea Street Alley LotShape  \\\n",
       "      Id                                                                    \n",
       "train 1           60       RL         65.0     8450   Pave   NaN      Reg   \n",
       "      2           20       RL         80.0     9600   Pave   NaN      Reg   \n",
       "      3           60       RL         68.0    11250   Pave   NaN      IR1   \n",
       "      4           70       RL         60.0     9550   Pave   NaN      IR1   \n",
       "      5           60       RL         84.0    14260   Pave   NaN      IR1   \n",
       "\n",
       "         LandContour Utilities LotConfig  ... PoolArea PoolQC Fence  \\\n",
       "      Id                                  ...                         \n",
       "train 1          Lvl    AllPub    Inside  ...        0    NaN   NaN   \n",
       "      2          Lvl    AllPub       FR2  ...        0    NaN   NaN   \n",
       "      3          Lvl    AllPub    Inside  ...        0    NaN   NaN   \n",
       "      4          Lvl    AllPub    Corner  ...        0    NaN   NaN   \n",
       "      5          Lvl    AllPub       FR2  ...        0    NaN   NaN   \n",
       "\n",
       "         MiscFeature MiscVal MoSold  YrSold  SaleType  SaleCondition  \\\n",
       "      Id                                                               \n",
       "train 1          NaN       0      2    2008        WD         Normal   \n",
       "      2          NaN       0      5    2007        WD         Normal   \n",
       "      3          NaN       0      9    2008        WD         Normal   \n",
       "      4          NaN       0      2    2006        WD        Abnorml   \n",
       "      5          NaN       0     12    2008        WD         Normal   \n",
       "\n",
       "          SalePrice  \n",
       "      Id             \n",
       "train 1    208500.0  \n",
       "      2    181500.0  \n",
       "      3    223500.0  \n",
       "      4    140000.0  \n",
       "      5    250000.0  \n",
       "\n",
       "[5 rows x 80 columns]"
      ]
     },
     "execution_count": 7,
     "metadata": {},
     "output_type": "execute_result"
    }
   ],
   "source": [
    "full.head()"
   ]
  },
  {
   "cell_type": "code",
   "execution_count": 8,
   "metadata": {},
   "outputs": [
    {
     "name": "stdout",
     "output_type": "stream",
     "text": [
      "<class 'pandas.core.frame.DataFrame'>\n",
      "MultiIndex: 2919 entries, (train, 1) to (test, 2919)\n",
      "Data columns (total 80 columns):\n",
      "MSSubClass       2919 non-null int64\n",
      "MSZoning         2915 non-null object\n",
      "LotFrontage      2433 non-null float64\n",
      "LotArea          2919 non-null int64\n",
      "Street           2919 non-null object\n",
      "Alley            198 non-null object\n",
      "LotShape         2919 non-null object\n",
      "LandContour      2919 non-null object\n",
      "Utilities        2917 non-null object\n",
      "LotConfig        2919 non-null object\n",
      "LandSlope        2919 non-null object\n",
      "Neighborhood     2919 non-null object\n",
      "Condition1       2919 non-null object\n",
      "Condition2       2919 non-null object\n",
      "BldgType         2919 non-null object\n",
      "HouseStyle       2919 non-null object\n",
      "OverallQual      2919 non-null int64\n",
      "OverallCond      2919 non-null int64\n",
      "YearBuilt        2919 non-null int64\n",
      "YearRemodAdd     2919 non-null int64\n",
      "RoofStyle        2919 non-null object\n",
      "RoofMatl         2919 non-null object\n",
      "Exterior1st      2918 non-null object\n",
      "Exterior2nd      2918 non-null object\n",
      "MasVnrType       2895 non-null object\n",
      "MasVnrArea       2896 non-null float64\n",
      "ExterQual        2919 non-null object\n",
      "ExterCond        2919 non-null object\n",
      "Foundation       2919 non-null object\n",
      "BsmtQual         2838 non-null object\n",
      "BsmtCond         2837 non-null object\n",
      "BsmtExposure     2837 non-null object\n",
      "BsmtFinType1     2840 non-null object\n",
      "BsmtFinSF1       2918 non-null float64\n",
      "BsmtFinType2     2839 non-null object\n",
      "BsmtFinSF2       2918 non-null float64\n",
      "BsmtUnfSF        2918 non-null float64\n",
      "TotalBsmtSF      2918 non-null float64\n",
      "Heating          2919 non-null object\n",
      "HeatingQC        2919 non-null object\n",
      "CentralAir       2919 non-null object\n",
      "Electrical       2918 non-null object\n",
      "1stFlrSF         2919 non-null int64\n",
      "2ndFlrSF         2919 non-null int64\n",
      "LowQualFinSF     2919 non-null int64\n",
      "GrLivArea        2919 non-null int64\n",
      "BsmtFullBath     2917 non-null float64\n",
      "BsmtHalfBath     2917 non-null float64\n",
      "FullBath         2919 non-null int64\n",
      "HalfBath         2919 non-null int64\n",
      "BedroomAbvGr     2919 non-null int64\n",
      "KitchenAbvGr     2919 non-null int64\n",
      "KitchenQual      2918 non-null object\n",
      "TotRmsAbvGrd     2919 non-null int64\n",
      "Functional       2917 non-null object\n",
      "Fireplaces       2919 non-null int64\n",
      "FireplaceQu      1499 non-null object\n",
      "GarageType       2762 non-null object\n",
      "GarageYrBlt      2760 non-null float64\n",
      "GarageFinish     2760 non-null object\n",
      "GarageCars       2918 non-null float64\n",
      "GarageArea       2918 non-null float64\n",
      "GarageQual       2760 non-null object\n",
      "GarageCond       2760 non-null object\n",
      "PavedDrive       2919 non-null object\n",
      "WoodDeckSF       2919 non-null int64\n",
      "OpenPorchSF      2919 non-null int64\n",
      "EnclosedPorch    2919 non-null int64\n",
      "3SsnPorch        2919 non-null int64\n",
      "ScreenPorch      2919 non-null int64\n",
      "PoolArea         2919 non-null int64\n",
      "PoolQC           10 non-null object\n",
      "Fence            571 non-null object\n",
      "MiscFeature      105 non-null object\n",
      "MiscVal          2919 non-null int64\n",
      "MoSold           2919 non-null int64\n",
      "YrSold           2919 non-null int64\n",
      "SaleType         2918 non-null object\n",
      "SaleCondition    2919 non-null object\n",
      "SalePrice        1460 non-null float64\n",
      "dtypes: float64(12), int64(25), object(43)\n",
      "memory usage: 1.8+ MB\n"
     ]
    }
   ],
   "source": [
    "full.info()"
   ]
  },
  {
   "cell_type": "markdown",
   "metadata": {},
   "source": [
    "We can see some cleanup and preprocessing will be necessary. For example, there are quite a few missing values, and more than half the variables have been have been cast to `pandas` catch-all `object` dtype.\n",
    "\n",
    "About half of the data is training data and half is testing data - observations from the testing data have `NaN` values for `SalePrice`"
   ]
  },
  {
   "cell_type": "code",
   "execution_count": 9,
   "metadata": {},
   "outputs": [
    {
     "data": {
      "text/plain": [
       "(1460, 80)"
      ]
     },
     "execution_count": 9,
     "metadata": {},
     "output_type": "execute_result"
    }
   ],
   "source": [
    "# shape of training data\n",
    "full.loc['train'].shape"
   ]
  },
  {
   "cell_type": "code",
   "execution_count": 10,
   "metadata": {},
   "outputs": [
    {
     "data": {
      "text/plain": [
       "(1459, 80)"
      ]
     },
     "execution_count": 10,
     "metadata": {},
     "output_type": "execute_result"
    }
   ],
   "source": [
    "# shape of training data\n",
    "full.loc['test'].shape"
   ]
  },
  {
   "cell_type": "markdown",
   "metadata": {
    "toc-hr-collapsed": false
   },
   "source": [
    "## Clean data"
   ]
  },
  {
   "cell_type": "markdown",
   "metadata": {},
   "source": [
    "Note: all the functions in [this section](#Drop-problematic-variables-and-observations) are rolled into `HPDataFramePlus` methods `encode_ords, drop_probs`\n",
    "\n",
    "Before we clean any data, we'll store the original dataset so we have an unadulaterated copy"
   ]
  },
  {
   "cell_type": "code",
   "execution_count": 11,
   "metadata": {},
   "outputs": [],
   "source": [
    "# create instance of HPDataFramePlus for full dataset\n",
    "orig = HPDataFramePlus(data=full)"
   ]
  },
  {
   "cell_type": "markdown",
   "metadata": {},
   "source": [
    "### Classify variables by kind"
   ]
  },
  {
   "cell_type": "markdown",
   "metadata": {},
   "source": [
    "Since it doesn't affect the data, we'll group variables in the original dataset into categorical, ordinal and quantitative kinds. We'll use the custom class `HPDataFramePlus` which contains helpful methods"
   ]
  },
  {
   "cell_type": "code",
   "execution_count": 12,
   "metadata": {},
   "outputs": [
    {
     "name": "stdout",
     "output_type": "stream",
     "text": [
      "MSSubClass: Identifies the type of dwelling involved in the sale.\n",
      "\n",
      "\t 20 - 1-STORY 1946 & NEWER ALL STYLES\n",
      "\t 30 - 1-STORY 1945 & OLDER\n",
      "\t 40 - 1-STORY W/FINISHED ATTIC ALL AGES\n",
      "\t 45 - 1-1/2 STORY - UNFINISHED ALL AGES\n",
      "\t 50 - 1-1/2 STORY FINISHED ALL AGES\n",
      "\t 60 - 2-STORY 1946 & NEWER\n",
      "\t 70 - 2-STORY 1945 & OLDER\n",
      "\t 75 - 2-1/2 STORY ALL AGES\n",
      "\t 80 - SPLIT OR MULTI-LEVEL\n",
      "\t 85 - SPLIT FOYER\n",
      "\t 90 - DUPLEX - ALL STYLES AND AGES\n",
      "\t 120 - 1-STORY PUD (Planned Unit Development) - 1946 & NEWER\n",
      "\t 150 - 1-1/2 STORY PUD - ALL AGES\n",
      "\t 160 - 2-STORY PUD - 1946 & NEWER\n",
      "\t 180 - PUD - MULTILEVEL - INCL SPLIT LEV/FOYER\n",
      "\t 190 - 2 FAMILY CONVERSION - ALL STYLES AND AGES\n",
      "\n",
      "\n",
      "MSZoning: Identifies the general zoning classification of the sale.\n",
      "\n",
      "\t A - Agriculture\n",
      "\t C - Commercial\n",
      "\t FV - Floating Village Residential\n",
      "\t I - Industrial\n",
      "\t RH - Residential High Density\n",
      "\t RL - Residential Low Density\n",
      "\t RP - Residential Low Density Park \n",
      "\t RM - Residential Medium Density\n",
      "\n",
      "\n",
      "LotFrontage: Linear feet of street connected to property\n",
      "\n",
      "\n",
      "\n",
      "LotArea: Lot size in square feet\n",
      "\n",
      "\n",
      "\n",
      "Street: Type of road access to property\n",
      "\n",
      "\t Grvl - Gravel\n",
      "\t Pave - Paved\n",
      "\n",
      "\n",
      "Alley: Type of alley access to property\n",
      "\n",
      "\t Grvl - Gravel\n",
      "\t Pave - Paved\n",
      "\t NA - No alley access\n",
      "\n",
      "\n",
      "LotShape: General shape of property\n",
      "\n",
      "\t Reg - Regular\n",
      "\t IR1 - Slightly irregular\n",
      "\t IR2 - Moderately Irregular\n",
      "\t IR3 - Irregular\n",
      "\n",
      "\n",
      "LandContour: Flatness of the property\n",
      "\n",
      "\t Lvl - Near Flat/Level\n",
      "\t Bnk - Banked - Quick and significant rise from street grade to building\n",
      "\t HLS - Hillside - Significant slope from side to side\n",
      "\t Low - Depression\n",
      "\n",
      "\n",
      "Utilities: Type of utilities available\n",
      "\n",
      "\t AllPub - All public Utilities (E,G,W,& S)\n",
      "\t NoSewr - Electricity, Gas, and Water (Septic Tank)\n",
      "\t NoSeWa - Electricity and Gas Only\n",
      "\t ELO - Electricity only\n",
      "\n",
      "\n",
      "LotConfig: Lot configuration\n",
      "\n",
      "\t Inside - Inside lot\n",
      "\t Corner - Corner lot\n",
      "\t CulDSac - Cul-de-sac\n",
      "\t FR2 - Frontage on 2 sides of property\n",
      "\t FR3 - Frontage on 3 sides of property\n",
      "\n",
      "\n",
      "LandSlope: Slope of property\n",
      "\n",
      "\t Gtl - Gentle slope\n",
      "\t Mod - Moderate Slope\n",
      "\t Sev - Severe Slope\n",
      "\n",
      "\n",
      "Neighborhood: Physical locations within Ames city limits\n",
      "\n",
      "\t Blmngtn - Bloomington Heights\n",
      "\t Blueste - Bluestem\n",
      "\t BrDale - Briardale\n",
      "\t BrkSide - Brookside\n",
      "\t ClearCr - Clear Creek\n",
      "\t CollgCr - College Creek\n",
      "\t Crawfor - Crawford\n",
      "\t Edwards - Edwards\n",
      "\t Gilbert - Gilbert\n",
      "\t IDOTRR - Iowa DOT and Rail Road\n",
      "\t MeadowV - Meadow Village\n",
      "\t Mitchel - Mitchell\n",
      "\t Names - North Ames\n",
      "\t NoRidge - Northridge\n",
      "\t NPkVill - Northpark Villa\n",
      "\t NridgHt - Northridge Heights\n",
      "\t NWAmes - Northwest Ames\n",
      "\t OldTown - Old Town\n",
      "\t SWISU - South & West of Iowa State University\n",
      "\t Sawyer - Sawyer\n",
      "\t SawyerW - Sawyer West\n",
      "\t Somerst - Somerset\n",
      "\t StoneBr - Stone Brook\n",
      "\t Timber - Timberland\n",
      "\t Veenker - Veenker\n",
      "\n",
      "\n",
      "Condition1: Proximity to various conditions\n",
      "\n",
      "\t Artery - Adjacent to arterial street\n",
      "\t Feedr - Adjacent to feeder street\n",
      "\t Norm - Normal\n",
      "\t RRNn - Within 200' of North-South Railroad\n",
      "\t RRAn - Adjacent to North-South Railroad\n",
      "\t PosN - Near positive off-site feature--park, greenbelt, etc.\n",
      "\t PosA - Adjacent to postive off-site feature\n",
      "\t RRNe - Within 200' of East-West Railroad\n",
      "\t RRAe - Adjacent to East-West Railroad\n",
      "\n",
      "\n",
      "Condition2: Proximity to various conditions (if more than one is present)\n",
      "\n",
      "\t Artery - Adjacent to arterial street\n",
      "\t Feedr - Adjacent to feeder street\n",
      "\t Norm - Normal\n",
      "\t RRNn - Within 200' of North-South Railroad\n",
      "\t RRAn - Adjacent to North-South Railroad\n",
      "\t PosN - Near positive off-site feature--park, greenbelt, etc.\n",
      "\t PosA - Adjacent to postive off-site feature\n",
      "\t RRNe - Within 200' of East-West Railroad\n",
      "\t RRAe - Adjacent to East-West Railroad\n",
      "\n",
      "\n",
      "BldgType: Type of dwelling\n",
      "\n",
      "\t 1Fam - Single-family Detached\n",
      "\t 2FmCon - Two-family Conversion; originally built as one-family dwelling\n",
      "\t Duplx - Duplex\n",
      "\t TwnhsE - Townhouse End Unit\n",
      "\t TwnhsI - Townhouse Inside Unit\n",
      "\n",
      "\n",
      "HouseStyle: Style of dwelling\n",
      "\n",
      "\t 1Story - One story\n",
      "\t 1.5Fin - One and one-half story: 2nd level finished\n",
      "\t 1.5Unf - One and one-half story: 2nd level unfinished\n",
      "\t 2Story - Two story\n",
      "\t 2.5Fin - Two and one-half story: 2nd level finished\n",
      "\t 2.5Unf - Two and one-half story: 2nd level unfinished\n",
      "\t SFoyer - Split Foyer\n",
      "\t SLvl - Split Level\n",
      "\n",
      "\n",
      "OverallQual: Rates the overall material and finish of the house\n",
      "\n",
      "\t 10 - Very Excellent\n",
      "\t 9 - Excellent\n",
      "\t 8 - Very Good\n",
      "\t 7 - Good\n",
      "\t 6 - Above Average\n",
      "\t 5 - Average\n",
      "\t 4 - Below Average\n",
      "\t 3 - Fair\n",
      "\t 2 - Poor\n",
      "\t 1 - Very Poor\n",
      "\n",
      "\n",
      "OverallCond: Rates the overall condition of the house\n",
      "\n",
      "\t 10 - Very Excellent\n",
      "\t 9 - Excellent\n",
      "\t 8 - Very Good\n",
      "\t 7 - Good\n",
      "\t 6 - Above Average\n",
      "\t 5 - Average\n",
      "\t 4 - Below Average\n",
      "\t 3 - Fair\n",
      "\t 2 - Poor\n",
      "\t 1 - Very Poor\n",
      "\n",
      "\n",
      "YearBuilt: Original construction date\n",
      "\n",
      "\n",
      "\n",
      "YearRemodAdd: Remodel date (same as construction date if no remodeling or additions)\n",
      "\n",
      "\n",
      "\n",
      "RoofStyle: Type of roof\n",
      "\n",
      "\t Flat - Flat\n",
      "\t Gable - Gable\n",
      "\t Gambrel - Gabrel (Barn)\n",
      "\t Hip - Hip\n",
      "\t Mansard - Mansard\n",
      "\t Shed - Shed\n",
      "\n",
      "\n",
      "RoofMatl: Roof material\n",
      "\n",
      "\t ClyTile - Clay or Tile\n",
      "\t CompShg - Standard (Composite) Shingle\n",
      "\t Membran - Membrane\n",
      "\t Metal - Metal\n",
      "\t Roll - Roll\n",
      "\t Tar&Grv - Gravel & Tar\n",
      "\t WdShake - Wood Shakes\n",
      "\t WdShngl - Wood Shingles\n",
      "\n",
      "\n",
      "Exterior1st: Exterior covering on house\n",
      "\n",
      "\t AsbShng - Asbestos Shingles\n",
      "\t AsphShn - Asphalt Shingles\n",
      "\t BrkComm - Brick Common\n",
      "\t BrkFace - Brick Face\n",
      "\t CBlock - Cinder Block\n",
      "\t CemntBd - Cement Board\n",
      "\t HdBoard - Hard Board\n",
      "\t ImStucc - Imitation Stucco\n",
      "\t MetalSd - Metal Siding\n",
      "\t Other - Other\n",
      "\t Plywood - Plywood\n",
      "\t PreCast - PreCast\n",
      "\t Stone - Stone\n",
      "\t Stucco - Stucco\n",
      "\t VinylSd - Vinyl Siding\n",
      "\t Wd - Wood Siding\n",
      "\t WdShing - Wood Shingles\n",
      "\n",
      "\n",
      "Exterior2nd: Exterior covering on house (if more than one material)\n",
      "\n",
      "\t AsbShng - Asbestos Shingles\n",
      "\t AsphShn - Asphalt Shingles\n",
      "\t BrkComm - Brick Common\n",
      "\t BrkFace - Brick Face\n",
      "\t CBlock - Cinder Block\n",
      "\t CemntBd - Cement Board\n",
      "\t HdBoard - Hard Board\n",
      "\t ImStucc - Imitation Stucco\n",
      "\t MetalSd - Metal Siding\n",
      "\t Other - Other\n",
      "\t Plywood - Plywood\n",
      "\t PreCast - PreCast\n",
      "\t Stone - Stone\n",
      "\t Stucco - Stucco\n",
      "\t VinylSd - Vinyl Siding\n",
      "\t Wd - Wood Siding\n",
      "\t WdShing - Wood Shingles\n",
      "\n",
      "\n",
      "MasVnrType: Masonry veneer type\n",
      "\n",
      "\t BrkCmn - Brick Common\n",
      "\t BrkFace - Brick Face\n",
      "\t CBlock - Cinder Block\n",
      "\t None - None\n",
      "\t Stone - Stone\n",
      "\n",
      "\n",
      "MasVnrArea: Masonry veneer area in square feet\n",
      "\n",
      "\n",
      "\n",
      "ExterQual: Evaluates the quality of the material on the exterior \n",
      "\n",
      "\t Ex - Excellent\n",
      "\t Gd - Good\n",
      "\t TA - Average/Typical\n",
      "\t Fa - Fair\n",
      "\t Po - Poor\n",
      "\n",
      "\n",
      "ExterCond: Evaluates the present condition of the material on the exterior\n",
      "\n",
      "\t Ex - Excellent\n",
      "\t Gd - Good\n",
      "\t TA - Average/Typical\n",
      "\t Fa - Fair\n",
      "\t Po - Poor\n",
      "\n",
      "\n",
      "Foundation: Type of foundation\n",
      "\n",
      "\t BrkTil - Brick & Tile\n",
      "\t CBlock - Cinder Block\n",
      "\t PConc - Poured Contrete\n",
      "\t Slab - Slab\n",
      "\t Stone - Stone\n",
      "\t Wood - Wood\n",
      "\n",
      "\n",
      "BsmtQual: Evaluates the height of the basement\n",
      "\n",
      "\t Ex - Excellent (100+ inches)\n",
      "\t Gd - Good (90-99 inches)\n",
      "\t TA - Typical (80-89 inches)\n",
      "\t Fa - Fair (70-79 inches)\n",
      "\t Po - Poor (<70 inches\n",
      "\t NA - No Basement\n",
      "\n",
      "\n",
      "BsmtCond: Evaluates the general condition of the basement\n",
      "\n",
      "\t Ex - Excellent\n",
      "\t Gd - Good\n",
      "\t TA - Typical - slight dampness allowed\n",
      "\t Fa - Fair - dampness or some cracking or settling\n",
      "\t Po - Poor - Severe cracking, settling, or wetness\n",
      "\t NA - No Basement\n",
      "\n",
      "\n",
      "BsmtExposure: Refers to walkout or garden level walls\n",
      "\n",
      "\t Gd - Good Exposure\n",
      "\t Av - Average Exposure (split levels or foyers typically score average or above)\n",
      "\t Mn - Mimimum Exposure\n",
      "\t No - No Exposure\n",
      "\t NA - No Basement\n",
      "\n",
      "\n",
      "BsmtFinType1: Rating of basement finished area\n",
      "\n",
      "\t GLQ - Good Living Quarters\n",
      "\t ALQ - Average Living Quarters\n",
      "\t BLQ - Below Average Living Quarters\n",
      "\t Rec - Average Rec Room\n",
      "\t LwQ - Low Quality\n",
      "\t Unf - Unfinshed\n",
      "\t NA - No Basement\n",
      "\n",
      "\n",
      "BsmtFinSF1: Type 1 finished square feet\n",
      "\n",
      "\n",
      "\n",
      "BsmtFinType2: Rating of basement finished area (if multiple types)\n",
      "\n",
      "\t GLQ - Good Living Quarters\n",
      "\t ALQ - Average Living Quarters\n",
      "\t BLQ - Below Average Living Quarters\n",
      "\t Rec - Average Rec Room\n",
      "\t LwQ - Low Quality\n",
      "\t Unf - Unfinshed\n",
      "\t NA - No Basement\n",
      "\n",
      "\n",
      "BsmtFinSF2: Type 2 finished square feet\n",
      "\n",
      "\n",
      "\n",
      "BsmtUnfSF: Unfinished square feet of basement area\n",
      "\n",
      "\n",
      "\n",
      "TotalBsmtSF: Total square feet of basement area\n",
      "\n",
      "\n",
      "\n",
      "Heating: Type of heating\n",
      "\n",
      "\t Floor - Floor Furnace\n",
      "\t GasA - Gas forced warm air furnace\n",
      "\t GasW - Gas hot water or steam heat\n",
      "\t Grav - Gravity furnace\n",
      "\t OthW - Hot water or steam heat other than gas\n",
      "\t Wall - Wall furnace\n",
      "\n",
      "\n",
      "HeatingQC: Heating quality and condition\n",
      "\n",
      "\t Ex - Excellent\n",
      "\t Gd - Good\n",
      "\t TA - Average/Typical\n",
      "\t Fa - Fair\n",
      "\t Po - Poor\n",
      "\n",
      "\n",
      "CentralAir: Central air conditioning\n",
      "\n",
      "\t N - No\n",
      "\t Y - Yes\n",
      "\n",
      "\n",
      "Electrical: Electrical system\n",
      "\n",
      "\t SBrkr - Standard Circuit Breakers & Romex\n",
      "\t FuseA - Fuse Box over 60 AMP and all Romex wiring (Average)\n",
      "\t FuseF - 60 AMP Fuse Box and mostly Romex wiring (Fair)\n",
      "\t FuseP - 60 AMP Fuse Box and mostly knob & tube wiring (poor)\n",
      "\t Mix - Mixed\n",
      "\n",
      "\n",
      "1stFlrSF: First Floor square feet\n",
      "\n",
      "\n",
      "\n",
      "2ndFlrSF: Second floor square feet\n",
      "\n",
      "\n",
      "\n",
      "LowQualFinSF: Low quality finished square feet (all floors)\n",
      "\n",
      "\n",
      "\n",
      "GrLivArea: Above grade (ground) living area square feet\n",
      "\n",
      "\n",
      "\n",
      "BsmtFullBath: Basement full bathrooms\n",
      "\n",
      "\n",
      "\n",
      "BsmtHalfBath: Basement half bathrooms\n",
      "\n",
      "\n",
      "\n",
      "FullBath: Full bathrooms above grade\n",
      "\n",
      "\n",
      "\n",
      "HalfBath: Half baths above grade\n",
      "\n",
      "\n",
      "\n",
      "BedroomAbvGr: Bedrooms above grade (does NOT include basement bedrooms)\n",
      "\n",
      "\n",
      "\n",
      "KitchenAbvGr: Kitchens above grade\n",
      "\n",
      "\n",
      "\n",
      "KitchenQual: Kitchen quality\n",
      "\n",
      "\t Ex - Excellent\n",
      "\t Gd - Good\n",
      "\t TA - Typical/Average\n",
      "\t Fa - Fair\n",
      "\t Po - Poor\n",
      "\n",
      "\n",
      "TotRmsAbvGrd: Total rooms above grade (does not include bathrooms)\n",
      "\n",
      "\n",
      "\n",
      "Functional: Home functionality (Assume typical unless deductions are warranted)\n",
      "\n",
      "\t Typ - Typical Functionality\n",
      "\t Min1 - Minor Deductions 1\n",
      "\t Min2 - Minor Deductions 2\n",
      "\t Mod - Moderate Deductions\n",
      "\t Maj1 - Major Deductions 1\n",
      "\t Maj2 - Major Deductions 2\n",
      "\t Sev - Severely Damaged\n",
      "\t Sal - Salvage only\n",
      "\n",
      "\n",
      "Fireplaces: Number of fireplaces\n",
      "\n",
      "\n",
      "\n",
      "FireplaceQu: Fireplace quality\n",
      "\n",
      "\t Ex - Excellent - Exceptional Masonry Fireplace\n",
      "\t Gd - Good - Masonry Fireplace in main level\n",
      "\t TA - Average - Prefabricated Fireplace in main living area or Masonry Fireplace in basement\n",
      "\t Fa - Fair - Prefabricated Fireplace in basement\n",
      "\t Po - Poor - Ben Franklin Stove\n",
      "\t NA - No Fireplace\n",
      "\n",
      "\n",
      "GarageType: Garage location\n",
      "\n",
      "\t 2Types - More than one type of garage\n",
      "\t Attchd - Attached to home\n",
      "\t Basment - Basement Garage\n",
      "\t BuiltIn - Built-In (Garage part of house - typically has room above garage)\n",
      "\t CarPort - Car Port\n",
      "\t Detchd - Detached from home\n",
      "\t NA - No Garage\n",
      "\n",
      "\n",
      "GarageYrBlt: Year garage was built\n",
      "\n",
      "\n",
      "\n",
      "GarageFinish: Interior finish of the garage\n",
      "\n",
      "\t Fin - Finished\n",
      "\t RFn - Rough Finished\n",
      "\t Unf - Unfinished\n",
      "\t NA - No Garage\n",
      "\n",
      "\n",
      "GarageCars: Size of garage in car capacity\n",
      "\n",
      "\n",
      "\n",
      "GarageArea: Size of garage in square feet\n",
      "\n",
      "\n",
      "\n",
      "GarageQual: Garage quality\n",
      "\n",
      "\t Ex - Excellent\n",
      "\t Gd - Good\n",
      "\t TA - Typical/Average\n",
      "\t Fa - Fair\n",
      "\t Po - Poor\n",
      "\t NA - No Garage\n",
      "\n",
      "\n",
      "GarageCond: Garage condition\n",
      "\n",
      "\t Ex - Excellent\n",
      "\t Gd - Good\n",
      "\t TA - Typical/Average\n",
      "\t Fa - Fair\n",
      "\t Po - Poor\n",
      "\t NA - No Garage\n",
      "\n",
      "\n",
      "PavedDrive: Paved driveway\n",
      "\n",
      "\t Y - Paved \n",
      "\t P - Partial Pavement\n",
      "\t N - Dirt/Gravel\n",
      "\n",
      "\n",
      "WoodDeckSF: Wood deck area in square feet\n",
      "\n",
      "\n",
      "\n",
      "OpenPorchSF: Open porch area in square feet\n",
      "\n",
      "\n",
      "\n",
      "EnclosedPorch: Enclosed porch area in square feet\n",
      "\n",
      "\n",
      "\n",
      "3SsnPorch: Three season porch area in square feet\n",
      "\n",
      "\n",
      "\n",
      "ScreenPorch: Screen porch area in square feet\n",
      "\n",
      "\n",
      "\n",
      "PoolArea: Pool area in square feet\n",
      "\n",
      "\n",
      "\n",
      "PoolQC: Pool quality\n",
      "\n",
      "\t Ex - Excellent\n",
      "\t Gd - Good\n",
      "\t TA - Average/Typical\n",
      "\t Fa - Fair\n",
      "\t NA - No Pool\n",
      "\n",
      "\n",
      "Fence: Fence quality\n",
      "\n",
      "\t GdPrv - Good Privacy\n",
      "\t MnPrv - Minimum Privacy\n",
      "\t GdWo - Good Wood\n",
      "\t MnWw - Minimum Wood/Wire\n",
      "\t NA - No Fence\n",
      "\n",
      "\n",
      "MiscFeature: Miscellaneous feature not covered in other categories\n",
      "\n",
      "\t Elev - Elevator\n",
      "\t Gar2 - 2nd Garage (if not described in garage section)\n",
      "\t Othr - Other\n",
      "\t Shed - Shed (over 100 SF)\n",
      "\t TenC - Tennis Court\n",
      "\t NA - None\n",
      "\n",
      "\n",
      "MiscVal: $Value of miscellaneous feature\n",
      "\n",
      "\n",
      "\n",
      "MoSold: Month Sold (MM)\n",
      "\n",
      "\n",
      "\n",
      "YrSold: Year Sold (YYYY)\n",
      "\n",
      "\n",
      "\n",
      "SaleType: Type of sale\n",
      "\n",
      "\t WD - Warranty Deed - Conventional\n",
      "\t CWD - Warranty Deed - Cash\n",
      "\t VWD - Warranty Deed - VA Loan\n",
      "\t New - Home just constructed and sold\n",
      "\t COD - Court Officer Deed/Estate\n",
      "\t Con - Contract 15% Down payment regular terms\n",
      "\t ConLw - Contract Low Down payment and low interest\n",
      "\t ConLI - Contract Low Interest\n",
      "\t ConLD - Contract Low Down\n",
      "\t Oth - Other\n",
      "\n",
      "\n",
      "SaleCondition: Condition of sale\n",
      "\n",
      "\t Normal - Normal Sale\n",
      "\t Abnorml - Abnormal Sale -  trade, foreclosure, short sale\n",
      "\t AdjLand - Adjoining Land Purchase\n",
      "\t Alloca - Allocation - two linked properties with separate deeds, typically condo with a garage unit\n",
      "\t Family - Sale between family members\n",
      "\t Partial - Home was not completed when last assessed (associated with New Homes)\n",
      "\n",
      "\n"
     ]
    }
   ],
   "source": [
    "# set description attribute\n",
    "orig.desc = desc\n",
    "\n",
    "# view description of all variables except sale price\n",
    "cols = list(full.columns)\n",
    "cols.remove('SalePrice')\n",
    "orig.print_desc(cols)"
   ]
  },
  {
   "cell_type": "markdown",
   "metadata": {},
   "source": [
    "To classify the variables, there's really no alternative here than to carefully inspect the variable descriptions and determine which is which. To clarify our terms:\n",
    "\n",
    "- Categorical variables are discrete variables with no ordering (although they may have a numerical encoding)\n",
    "- Ordinal variables are discrete numeric variables, hence they have an ordering (and should be numerically encoded)\n",
    "- Quantiative variables are continuous numeric variables"
   ]
  },
  {
   "cell_type": "code",
   "execution_count": 13,
   "metadata": {},
   "outputs": [],
   "source": [
    "# split variables into categorical, ordinal, quantitative\n",
    "cat_cols = ['MSSubClass', 'MSZoning', 'Street', 'LandContour', 'LotConfig', 'Neighborhood', \n",
    "            'Condition1', 'Condition2', 'BldgType', 'HouseStyle', 'RoofStyle', 'RoofMatl', \n",
    "            'Exterior1st', 'Exterior2nd', 'MasVnrType', 'Foundation', 'Heating', 'CentralAir', \n",
    "            'Electrical', 'GarageType', 'MiscFeature', 'SaleType', 'SaleCondition', 'Alley']\n",
    "ord_cols = ['LotShape', 'Utilities', 'LandSlope', 'OverallQual', 'OverallCond', 'ExterQual', \n",
    "            'ExterCond', 'BsmtQual', 'BsmtCond', 'BsmtExposure', 'BsmtFinType1', 'BsmtFinType2',\n",
    "            'HeatingQC', 'BsmtFullBath', 'BsmtHalfBath', 'FullBath', 'HalfBath', 'BedroomAbvGr', \n",
    "            'KitchenAbvGr', 'KitchenQual', 'TotRmsAbvGrd', 'Functional', 'Fireplaces', 'FireplaceQu',\n",
    "            'GarageFinish', 'GarageCars', 'GarageQual', 'GarageCond', 'PavedDrive', 'PoolQC', 'Fence',\n",
    "            'MoSold', 'YrSold']\n",
    "quant_cols = ['LotFrontage', 'LotArea', 'YearBuilt', 'YearRemodAdd', 'MasVnrArea', 'BsmtFinSF1', \n",
    "              'BsmtFinSF2', 'BsmtUnfSF', 'TotalBsmtSF', '1stFlrSF', '2ndFlrSF', 'LowQualFinSF', \n",
    "              'GrLivArea', 'GarageYrBlt', 'GarageArea', 'WoodDeckSF', 'OpenPorchSF', \n",
    "              'EnclosedPorch', '3SsnPorch', 'ScreenPorch', 'PoolArea', 'MiscVal',\n",
    "              'SalePrice']\n",
    "\n",
    "# group columns by kind\n",
    "col_kinds = {'cat': cat_cols, 'ord': ord_cols, 'quant': quant_cols}\n",
    "\n",
    "# set col_kinds attribute\n",
    "orig.col_kinds = col_kinds"
   ]
  },
  {
   "cell_type": "markdown",
   "metadata": {},
   "source": [
    "Now the cleaning begins."
   ]
  },
  {
   "cell_type": "code",
   "execution_count": 14,
   "metadata": {},
   "outputs": [],
   "source": [
    "# create new dataframe for cleaned data and set attributes\n",
    "clean = HPDataFramePlus(data=full)\n",
    "clean.col_kinds = orig.col_kinds\n",
    "clean.desc = orig.desc"
   ]
  },
  {
   "cell_type": "markdown",
   "metadata": {},
   "source": [
    "### Encode variables"
   ]
  },
  {
   "cell_type": "markdown",
   "metadata": {},
   "source": [
    "Before we can clean, we need to make sure all variables are encoded appropriately. Let's compare the dtypes of our dataframe with the variable types"
   ]
  },
  {
   "cell_type": "code",
   "execution_count": 15,
   "metadata": {},
   "outputs": [
    {
     "name": "stdout",
     "output_type": "stream",
     "text": [
      "<class 'pandas.core.frame.DataFrame'>\n",
      "MultiIndex: 2919 entries, (train, 1) to (test, 2919)\n",
      "Data columns (total 24 columns):\n",
      "MSSubClass       2919 non-null int64\n",
      "MSZoning         2915 non-null object\n",
      "Street           2919 non-null object\n",
      "LandContour      2919 non-null object\n",
      "LotConfig        2919 non-null object\n",
      "Neighborhood     2919 non-null object\n",
      "Condition1       2919 non-null object\n",
      "Condition2       2919 non-null object\n",
      "BldgType         2919 non-null object\n",
      "HouseStyle       2919 non-null object\n",
      "RoofStyle        2919 non-null object\n",
      "RoofMatl         2919 non-null object\n",
      "Exterior1st      2918 non-null object\n",
      "Exterior2nd      2918 non-null object\n",
      "MasVnrType       2895 non-null object\n",
      "Foundation       2919 non-null object\n",
      "Heating          2919 non-null object\n",
      "CentralAir       2919 non-null object\n",
      "Electrical       2918 non-null object\n",
      "GarageType       2762 non-null object\n",
      "MiscFeature      105 non-null object\n",
      "SaleType         2918 non-null object\n",
      "SaleCondition    2919 non-null object\n",
      "Alley            198 non-null object\n",
      "dtypes: int64(1), object(23)\n",
      "memory usage: 578.8+ KB\n"
     ]
    }
   ],
   "source": [
    "# dtypes for categorical variables\n",
    "clean.data[clean.col_kinds['cat']].info()"
   ]
  },
  {
   "cell_type": "code",
   "execution_count": 16,
   "metadata": {},
   "outputs": [
    {
     "name": "stdout",
     "output_type": "stream",
     "text": [
      "<class 'pandas.core.frame.DataFrame'>\n",
      "MultiIndex: 2919 entries, (train, 1) to (test, 2919)\n",
      "Data columns (total 33 columns):\n",
      "LotShape        2919 non-null object\n",
      "Utilities       2917 non-null object\n",
      "LandSlope       2919 non-null object\n",
      "OverallQual     2919 non-null int64\n",
      "OverallCond     2919 non-null int64\n",
      "ExterQual       2919 non-null object\n",
      "ExterCond       2919 non-null object\n",
      "BsmtQual        2838 non-null object\n",
      "BsmtCond        2837 non-null object\n",
      "BsmtExposure    2837 non-null object\n",
      "BsmtFinType1    2840 non-null object\n",
      "BsmtFinType2    2839 non-null object\n",
      "HeatingQC       2919 non-null object\n",
      "BsmtFullBath    2917 non-null float64\n",
      "BsmtHalfBath    2917 non-null float64\n",
      "FullBath        2919 non-null int64\n",
      "HalfBath        2919 non-null int64\n",
      "BedroomAbvGr    2919 non-null int64\n",
      "KitchenAbvGr    2919 non-null int64\n",
      "KitchenQual     2918 non-null object\n",
      "TotRmsAbvGrd    2919 non-null int64\n",
      "Functional      2917 non-null object\n",
      "Fireplaces      2919 non-null int64\n",
      "FireplaceQu     1499 non-null object\n",
      "GarageFinish    2760 non-null object\n",
      "GarageCars      2918 non-null float64\n",
      "GarageQual      2760 non-null object\n",
      "GarageCond      2760 non-null object\n",
      "PavedDrive      2919 non-null object\n",
      "PoolQC          10 non-null object\n",
      "Fence           571 non-null object\n",
      "MoSold          2919 non-null int64\n",
      "YrSold          2919 non-null int64\n",
      "dtypes: float64(3), int64(10), object(20)\n",
      "memory usage: 784.1+ KB\n"
     ]
    }
   ],
   "source": [
    "# dtypes for ordinal variables\n",
    "clean.data[clean.col_kinds['ord']].info()"
   ]
  },
  {
   "cell_type": "code",
   "execution_count": 17,
   "metadata": {},
   "outputs": [
    {
     "name": "stdout",
     "output_type": "stream",
     "text": [
      "<class 'pandas.core.frame.DataFrame'>\n",
      "MultiIndex: 2919 entries, (train, 1) to (test, 2919)\n",
      "Data columns (total 23 columns):\n",
      "LotFrontage      2433 non-null float64\n",
      "LotArea          2919 non-null int64\n",
      "YearBuilt        2919 non-null int64\n",
      "YearRemodAdd     2919 non-null int64\n",
      "MasVnrArea       2896 non-null float64\n",
      "BsmtFinSF1       2918 non-null float64\n",
      "BsmtFinSF2       2918 non-null float64\n",
      "BsmtUnfSF        2918 non-null float64\n",
      "TotalBsmtSF      2918 non-null float64\n",
      "1stFlrSF         2919 non-null int64\n",
      "2ndFlrSF         2919 non-null int64\n",
      "LowQualFinSF     2919 non-null int64\n",
      "GrLivArea        2919 non-null int64\n",
      "GarageYrBlt      2760 non-null float64\n",
      "GarageArea       2918 non-null float64\n",
      "WoodDeckSF       2919 non-null int64\n",
      "OpenPorchSF      2919 non-null int64\n",
      "EnclosedPorch    2919 non-null int64\n",
      "3SsnPorch        2919 non-null int64\n",
      "ScreenPorch      2919 non-null int64\n",
      "PoolArea         2919 non-null int64\n",
      "MiscVal          2919 non-null int64\n",
      "SalePrice        1460 non-null float64\n",
      "dtypes: float64(9), int64(14)\n",
      "memory usage: 556.0+ KB\n"
     ]
    }
   ],
   "source": [
    "# dtypes for quantitative variables\n",
    "clean.data[clean.col_kinds['quant']].info()"
   ]
  },
  {
   "cell_type": "markdown",
   "metadata": {},
   "source": [
    "Categorical and quantitative dtypes look good, but we'll need to deal with the ordinal variables."
   ]
  },
  {
   "cell_type": "code",
   "execution_count": 18,
   "metadata": {},
   "outputs": [
    {
     "name": "stdout",
     "output_type": "stream",
     "text": [
      "LotShape: General shape of property\n",
      "\n",
      "\t Reg - Regular\n",
      "\t IR1 - Slightly irregular\n",
      "\t IR2 - Moderately Irregular\n",
      "\t IR3 - Irregular\n",
      "\n",
      "\n",
      "Utilities: Type of utilities available\n",
      "\n",
      "\t AllPub - All public Utilities (E,G,W,& S)\n",
      "\t NoSewr - Electricity, Gas, and Water (Septic Tank)\n",
      "\t NoSeWa - Electricity and Gas Only\n",
      "\t ELO - Electricity only\n",
      "\n",
      "\n",
      "LandSlope: Slope of property\n",
      "\n",
      "\t Gtl - Gentle slope\n",
      "\t Mod - Moderate Slope\n",
      "\t Sev - Severe Slope\n",
      "\n",
      "\n",
      "OverallQual: Rates the overall material and finish of the house\n",
      "\n",
      "\t 10 - Very Excellent\n",
      "\t 9 - Excellent\n",
      "\t 8 - Very Good\n",
      "\t 7 - Good\n",
      "\t 6 - Above Average\n",
      "\t 5 - Average\n",
      "\t 4 - Below Average\n",
      "\t 3 - Fair\n",
      "\t 2 - Poor\n",
      "\t 1 - Very Poor\n",
      "\n",
      "\n",
      "OverallCond: Rates the overall condition of the house\n",
      "\n",
      "\t 10 - Very Excellent\n",
      "\t 9 - Excellent\n",
      "\t 8 - Very Good\n",
      "\t 7 - Good\n",
      "\t 6 - Above Average\n",
      "\t 5 - Average\n",
      "\t 4 - Below Average\n",
      "\t 3 - Fair\n",
      "\t 2 - Poor\n",
      "\t 1 - Very Poor\n",
      "\n",
      "\n",
      "ExterQual: Evaluates the quality of the material on the exterior \n",
      "\n",
      "\t Ex - Excellent\n",
      "\t Gd - Good\n",
      "\t TA - Average/Typical\n",
      "\t Fa - Fair\n",
      "\t Po - Poor\n",
      "\n",
      "\n",
      "ExterCond: Evaluates the present condition of the material on the exterior\n",
      "\n",
      "\t Ex - Excellent\n",
      "\t Gd - Good\n",
      "\t TA - Average/Typical\n",
      "\t Fa - Fair\n",
      "\t Po - Poor\n",
      "\n",
      "\n",
      "BsmtQual: Evaluates the height of the basement\n",
      "\n",
      "\t Ex - Excellent (100+ inches)\n",
      "\t Gd - Good (90-99 inches)\n",
      "\t TA - Typical (80-89 inches)\n",
      "\t Fa - Fair (70-79 inches)\n",
      "\t Po - Poor (<70 inches\n",
      "\t NA - No Basement\n",
      "\n",
      "\n",
      "BsmtCond: Evaluates the general condition of the basement\n",
      "\n",
      "\t Ex - Excellent\n",
      "\t Gd - Good\n",
      "\t TA - Typical - slight dampness allowed\n",
      "\t Fa - Fair - dampness or some cracking or settling\n",
      "\t Po - Poor - Severe cracking, settling, or wetness\n",
      "\t NA - No Basement\n",
      "\n",
      "\n",
      "BsmtExposure: Refers to walkout or garden level walls\n",
      "\n",
      "\t Gd - Good Exposure\n",
      "\t Av - Average Exposure (split levels or foyers typically score average or above)\n",
      "\t Mn - Mimimum Exposure\n",
      "\t No - No Exposure\n",
      "\t NA - No Basement\n",
      "\n",
      "\n",
      "BsmtFinType1: Rating of basement finished area\n",
      "\n",
      "\t GLQ - Good Living Quarters\n",
      "\t ALQ - Average Living Quarters\n",
      "\t BLQ - Below Average Living Quarters\n",
      "\t Rec - Average Rec Room\n",
      "\t LwQ - Low Quality\n",
      "\t Unf - Unfinshed\n",
      "\t NA - No Basement\n",
      "\n",
      "\n",
      "BsmtFinType2: Rating of basement finished area (if multiple types)\n",
      "\n",
      "\t GLQ - Good Living Quarters\n",
      "\t ALQ - Average Living Quarters\n",
      "\t BLQ - Below Average Living Quarters\n",
      "\t Rec - Average Rec Room\n",
      "\t LwQ - Low Quality\n",
      "\t Unf - Unfinshed\n",
      "\t NA - No Basement\n",
      "\n",
      "\n",
      "HeatingQC: Heating quality and condition\n",
      "\n",
      "\t Ex - Excellent\n",
      "\t Gd - Good\n",
      "\t TA - Average/Typical\n",
      "\t Fa - Fair\n",
      "\t Po - Poor\n",
      "\n",
      "\n",
      "BsmtFullBath: Basement full bathrooms\n",
      "\n",
      "\n",
      "\n",
      "BsmtHalfBath: Basement half bathrooms\n",
      "\n",
      "\n",
      "\n",
      "FullBath: Full bathrooms above grade\n",
      "\n",
      "\n",
      "\n",
      "HalfBath: Half baths above grade\n",
      "\n",
      "\n",
      "\n",
      "BedroomAbvGr: Bedrooms above grade (does NOT include basement bedrooms)\n",
      "\n",
      "\n",
      "\n",
      "KitchenAbvGr: Kitchens above grade\n",
      "\n",
      "\n",
      "\n",
      "KitchenQual: Kitchen quality\n",
      "\n",
      "\t Ex - Excellent\n",
      "\t Gd - Good\n",
      "\t TA - Typical/Average\n",
      "\t Fa - Fair\n",
      "\t Po - Poor\n",
      "\n",
      "\n",
      "TotRmsAbvGrd: Total rooms above grade (does not include bathrooms)\n",
      "\n",
      "\n",
      "\n",
      "Functional: Home functionality (Assume typical unless deductions are warranted)\n",
      "\n",
      "\t Typ - Typical Functionality\n",
      "\t Min1 - Minor Deductions 1\n",
      "\t Min2 - Minor Deductions 2\n",
      "\t Mod - Moderate Deductions\n",
      "\t Maj1 - Major Deductions 1\n",
      "\t Maj2 - Major Deductions 2\n",
      "\t Sev - Severely Damaged\n",
      "\t Sal - Salvage only\n",
      "\n",
      "\n",
      "Fireplaces: Number of fireplaces\n",
      "\n",
      "\n",
      "\n",
      "FireplaceQu: Fireplace quality\n",
      "\n",
      "\t Ex - Excellent - Exceptional Masonry Fireplace\n",
      "\t Gd - Good - Masonry Fireplace in main level\n",
      "\t TA - Average - Prefabricated Fireplace in main living area or Masonry Fireplace in basement\n",
      "\t Fa - Fair - Prefabricated Fireplace in basement\n",
      "\t Po - Poor - Ben Franklin Stove\n",
      "\t NA - No Fireplace\n",
      "\n",
      "\n",
      "GarageFinish: Interior finish of the garage\n",
      "\n",
      "\t Fin - Finished\n",
      "\t RFn - Rough Finished\n",
      "\t Unf - Unfinished\n",
      "\t NA - No Garage\n",
      "\n",
      "\n",
      "GarageCars: Size of garage in car capacity\n",
      "\n",
      "\n",
      "\n",
      "GarageQual: Garage quality\n",
      "\n",
      "\t Ex - Excellent\n",
      "\t Gd - Good\n",
      "\t TA - Typical/Average\n",
      "\t Fa - Fair\n",
      "\t Po - Poor\n",
      "\t NA - No Garage\n",
      "\n",
      "\n",
      "GarageCond: Garage condition\n",
      "\n",
      "\t Ex - Excellent\n",
      "\t Gd - Good\n",
      "\t TA - Typical/Average\n",
      "\t Fa - Fair\n",
      "\t Po - Poor\n",
      "\t NA - No Garage\n",
      "\n",
      "\n",
      "PavedDrive: Paved driveway\n",
      "\n",
      "\t Y - Paved \n",
      "\t P - Partial Pavement\n",
      "\t N - Dirt/Gravel\n",
      "\n",
      "\n",
      "PoolQC: Pool quality\n",
      "\n",
      "\t Ex - Excellent\n",
      "\t Gd - Good\n",
      "\t TA - Average/Typical\n",
      "\t Fa - Fair\n",
      "\t NA - No Pool\n",
      "\n",
      "\n",
      "Fence: Fence quality\n",
      "\n",
      "\t GdPrv - Good Privacy\n",
      "\t MnPrv - Minimum Privacy\n",
      "\t GdWo - Good Wood\n",
      "\t MnWw - Minimum Wood/Wire\n",
      "\t NA - No Fence\n",
      "\n",
      "\n",
      "MoSold: Month Sold (MM)\n",
      "\n",
      "\n",
      "\n",
      "YrSold: Year Sold (YYYY)\n",
      "\n",
      "\n",
      "\n"
     ]
    }
   ],
   "source": [
    "# inspect description of ordinal variables\n",
    "clean.print_desc(clean.col_kinds['ord'])"
   ]
  },
  {
   "cell_type": "markdown",
   "metadata": {},
   "source": [
    "Upon careful reflection, we'll encode the ordinal variable values by hand (taking care to distinguish between values of 0 and truly missing values)"
   ]
  },
  {
   "cell_type": "code",
   "execution_count": 19,
   "metadata": {},
   "outputs": [],
   "source": [
    "# encode ordinal variable values in dictionary by hand when needed\n",
    "ords = {}\n",
    "ords['GarageCond'] = {np.nan: 0, 'Po': 1, 'Fa': 2, 'TA': 3, 'Gd': 4, 'Ex': 5}\n",
    "ords['BsmtCond'] = ords['GarageCond'].copy()\n",
    "ords['BsmtCond'].pop('Ex')\n",
    "ords['LandSlope'] = {'Gtl': 0, 'Mod': 1, 'Sev': 2}\n",
    "ords['PavedDrive'] = {'N': 0, 'P': 1, 'Y': 2}\n",
    "ords['GarageFinish'] = {nan: 0, 'Unf': 1, 'RFn': 2, 'Fin': 3}\n",
    "ords['BsmtQual'] = {nan: 0, 'Fa': 1, 'TA': 2, 'Gd': 3, 'Ex': 4}\n",
    "ords['GarageQual'] = ords['GarageCond'].copy()\n",
    "ords['LotShape'] = {'Reg': 0, 'IR1': 1, 'IR2': 2, 'IR3': 3}\n",
    "ords['Functional'] = {name: i for (i, name) in\n",
    "                      enumerate(reversed(\n",
    "                        orig.data['Functional'].unique()[:-1]))}\n",
    "ords['Functional'][nan] = nan\n",
    "ords['ExterCond'] = ords['GarageCond'].copy()\n",
    "ords['ExterQual'] = {'Fa': 0, 'TA': 1, 'Gd': 2, 'Ex': 3}\n",
    "ords['HeatingQC'] = ords['GarageCond'].copy()\n",
    "ords['KitchenQual'] = ords['BsmtQual'].copy()\n",
    "ords['BsmtFinType1'] = {nan: 0, 'Unf': 1, 'LwQ': 2, 'Rec': 3, 'BLQ': 4,\n",
    "                        'ALQ': 5, 'GLQ': 6}\n",
    "ords['BsmtFinType2'] = ords['BsmtFinType1'].copy()\n",
    "ords['BsmtExposure'] = {nan: 0, 'No': 1, 'Mn': 2, 'Av': 3, 'Gd': 4}\n",
    "ords['Fence'] = {nan: 0, 'MnPrv': 1, 'MnWw': 2, 'GdWo': 3, 'GdPrv': 4}\n",
    "ords['FireplaceQu'] = ords['GarageCond'].copy()\n",
    "ords['PoolQC'] = ords['BsmtQual'].copy()\n",
    "ords['Utilities'] = {nan: nan, 'ELO': 0, 'NoSeWa': 1, 'NoSewr': 2, 'AllPub': 3}\n",
    "\n",
    "# perform encoding\n",
    "clean.data = clean.encode_ords(mapper=ords)"
   ]
  },
  {
   "cell_type": "markdown",
   "metadata": {},
   "source": [
    "### Drop problematic variables and observations"
   ]
  },
  {
   "cell_type": "markdown",
   "metadata": {},
   "source": [
    "Now that all variables are properly encoded, we can drop those with too many missing values immediately. We'll be somewhat conservative and drop variables missing $>20\\%$ of values"
   ]
  },
  {
   "cell_type": "code",
   "execution_count": 20,
   "metadata": {},
   "outputs": [],
   "source": [
    "# create a new dataframe for cleaning\n",
    "clean.data = drop_mostly_missing_cols(clean)\n",
    "clean.update_col_kinds(clean.col_kinds)"
   ]
  },
  {
   "cell_type": "markdown",
   "metadata": {},
   "source": [
    "We'll also drop some well-known outlying observations (at least, well-known on Kaggle ) in the training data. Dropping outliers is (for good reason) very controversial, and one should take great care in doing so. The justification for it depends on context, however. In our case, the end goal is to predict `SalePrice` accuractely. If dropping outliers improves the ability of our prediction model to generalize, than this may provide some retroactive justification.\n",
    "\n",
    "First we'll plot the outliers (identifying them by their relationship to `SalePrice`)"
   ]
  },
  {
   "cell_type": "code",
   "execution_count": 21,
   "metadata": {},
   "outputs": [
    {
     "data": {
      "image/png": "[encoded data removed]",
      "text/plain": [
       "<Figure size 1080x720 with 2 Axes>"
      ]
     },
     "metadata": {},
     "output_type": "display_data"
    }
   ],
   "source": [
    "# plot variables which contain well-known outliers\n",
    "plot_outliers(clean)"
   ]
  },
  {
   "cell_type": "markdown",
   "metadata": {},
   "source": [
    "Kagglers seem to frequently conclude that the outliers are the house with overall quality 4 but a sale price of more than \\\\$250,000, and the two houses with more than 4500 sq ft of general living area but sale prices less than \\\\$300,000.\n",
    "\n",
    "Whether this is well-justified, and how much it's an example of groupthink, is a matter for debate. But it seems to regularly improve the predictive capability of models, so we'll follow suit."
   ]
  },
  {
   "cell_type": "code",
   "execution_count": 22,
   "metadata": {},
   "outputs": [],
   "source": [
    "# drop well-known outliers\n",
    "clean.data = drop_outliers(clean)\n",
    "clean.update_col_kinds(clean.col_kinds)"
   ]
  },
  {
   "cell_type": "markdown",
   "metadata": {
    "toc-hr-collapsed": true
   },
   "source": [
    "### Missing Values"
   ]
  },
  {
   "cell_type": "markdown",
   "metadata": {},
   "source": [
    "Our dataset is missing a lot of values!"
   ]
  },
  {
   "cell_type": "code",
   "execution_count": 26,
   "metadata": {},
   "outputs": [
    {
     "data": {
      "text/plain": [
       "MSZoning          4\n",
       "LotFrontage     485\n",
       "Utilities         2\n",
       "Exterior1st       1\n",
       "Exterior2nd       1\n",
       "MasVnrType       24\n",
       "MasVnrArea       23\n",
       "BsmtFinSF1        1\n",
       "BsmtFinSF2        1\n",
       "BsmtUnfSF         1\n",
       "TotalBsmtSF       1\n",
       "Electrical        1\n",
       "BsmtFullBath      2\n",
       "BsmtHalfBath      2\n",
       "Functional        2\n",
       "GarageType      157\n",
       "GarageYrBlt     159\n",
       "GarageCars        1\n",
       "GarageArea        1\n",
       "SaleType          1\n",
       "dtype: int64"
      ]
     },
     "execution_count": 26,
     "metadata": {},
     "output_type": "execute_result"
    }
   ],
   "source": [
    "# counts of missing values by variable, excluding SalePrice\n",
    "clean.na_counts().drop('SalePrice')"
   ]
  },
  {
   "cell_type": "markdown",
   "metadata": {},
   "source": [
    "#### Inspect train and test distributions of missing values"
   ]
  },
  {
   "cell_type": "markdown",
   "metadata": {},
   "source": [
    " Before we get into imputing them, to inform our choice of methods, let's see how their distributions might differ across training and test sets. We want to be careful imputing missing values when those missing values are distributed unevenly across train and test sets if our goal is prediction, since our imputation could introduce further difference between train and test sets."
   ]
  },
  {
   "cell_type": "code",
   "execution_count": 29,
   "metadata": {},
   "outputs": [
    {
     "data": {
      "image/png": "[encoded data removed]",
      "text/plain": [
       "<Figure size 1080x432 with 2 Axes>"
      ]
     },
     "metadata": {},
     "output_type": "display_data"
    }
   ],
   "source": [
    "# plot distributions of missing values in train and test sets\n",
    "plot_train_and_test_missing_values(clean)"
   ]
  },
  {
   "cell_type": "code",
   "execution_count": 24,
   "metadata": {},
   "outputs": [
    {
     "data": {
      "text/plain": [
       "['Electrical']"
      ]
     },
     "execution_count": 24,
     "metadata": {},
     "output_type": "execute_result"
    }
   ],
   "source": [
    "# variables missing values in train but not test set\n",
    "train_missing = HPDataFramePlus(data=clean.data.loc['train', :]).na_counts()\n",
    "test_missing = HPDataFramePlus(data=clean.data.loc['test', :]).na_counts()\n",
    "train_not_test = list(set(train_missing.index).difference(test_missing.index))\n",
    "train_not_test"
   ]
  },
  {
   "cell_type": "code",
   "execution_count": 25,
   "metadata": {},
   "outputs": [
    {
     "data": {
      "text/plain": [
       "['BsmtHalfBath',\n",
       " 'GarageCars',\n",
       " 'SalePrice',\n",
       " 'Utilities',\n",
       " 'BsmtFinSF1',\n",
       " 'BsmtUnfSF',\n",
       " 'GarageArea',\n",
       " 'Functional',\n",
       " 'Exterior2nd',\n",
       " 'SaleType',\n",
       " 'MSZoning',\n",
       " 'BsmtFullBath',\n",
       " 'BsmtFinSF2',\n",
       " 'TotalBsmtSF',\n",
       " 'Exterior1st']"
      ]
     },
     "execution_count": 25,
     "metadata": {},
     "output_type": "execute_result"
    }
   ],
   "source": [
    "# variables missing values in test but not train set\n",
    "test_not_train = list(set(test_missing.index).difference(train_missing.index))\n",
    "test_not_train"
   ]
  },
  {
   "cell_type": "code",
   "execution_count": 26,
   "metadata": {},
   "outputs": [
    {
     "data": {
      "text/plain": [
       "Electrical    1\n",
       "dtype: int64"
      ]
     },
     "execution_count": 26,
     "metadata": {},
     "output_type": "execute_result"
    }
   ],
   "source": [
    "# count of variables missing values in train but not test set\n",
    "train_missing.loc[train_not_test]"
   ]
  },
  {
   "cell_type": "code",
   "execution_count": 27,
   "metadata": {},
   "outputs": [
    {
     "data": {
      "text/plain": [
       "BsmtHalfBath    2\n",
       "GarageCars      1\n",
       "Utilities       2\n",
       "BsmtFinSF1      1\n",
       "BsmtUnfSF       1\n",
       "GarageArea      1\n",
       "Functional      2\n",
       "Exterior2nd     1\n",
       "SaleType        1\n",
       "MSZoning        4\n",
       "BsmtFullBath    2\n",
       "BsmtFinSF2      1\n",
       "TotalBsmtSF     1\n",
       "Exterior1st     1\n",
       "dtype: int64"
      ]
     },
     "execution_count": 27,
     "metadata": {},
     "output_type": "execute_result"
    }
   ],
   "source": [
    "# count of variables missing values in test but not train\n",
    "test_missing.loc[test_not_train].drop(index=['SalePrice'])"
   ]
  },
  {
   "cell_type": "markdown",
   "metadata": {},
   "source": [
    "Since there are so few missing values for variables which are missing values in the train set not the test set (or vice versa), we won't worry about imputing them. \n",
    "\n",
    "Now let's look at the distributions of variables missing in both train and test sets"
   ]
  },
  {
   "cell_type": "code",
   "execution_count": 31,
   "metadata": {},
   "outputs": [
    {
     "data": {
      "image/png": "[encoded data removed]",
      "text/plain": [
       "<Figure size 1080x432 with 2 Axes>"
      ]
     },
     "metadata": {},
     "output_type": "display_data"
    }
   ],
   "source": [
    "#Plot distributions variables missing both train and test values.\n",
    "plot_both_train_and_test_missing_values(clean)"
   ]
  },
  {
   "cell_type": "markdown",
   "metadata": {},
   "source": [
    "For variables missing values in both sets, the distributions are very similar, so we'll go ahead and impute these values"
   ]
  },
  {
   "cell_type": "markdown",
   "metadata": {},
   "source": [
    "#### Impute small numbers of missing values by hand"
   ]
  },
  {
   "cell_type": "markdown",
   "metadata": {},
   "source": [
    "Imputation of missing values using point estimates (mean, mode, etc.) is very common but arguable somewhat crude. Since there are more sophisticated methods which aren't too difficult to use, we'd like to use them. They are however, a bit more computationally expensive. Since many of our variables are only missing a few values, imputing these values by hand using point estimates will cut down on computational cost while sacrificing little.\n",
    "\n",
    "An excellent, thorough treatment of imputation can be found in [Flexible Imputation of Missing Data](https://stefvanbuuren.name/fimd/) by Stef Van Buren."
   ]
  },
  {
   "cell_type": "code",
   "execution_count": 33,
   "metadata": {},
   "outputs": [],
   "source": [
    "# Impute variables with <= 4 missing values. Use mode for categoricals, median for quantitatives\n",
    "clean.data = clean.hand_impute()"
   ]
  },
  {
   "cell_type": "code",
   "execution_count": 34,
   "metadata": {},
   "outputs": [
    {
     "data": {
      "text/plain": [
       "LotFrontage    485\n",
       "MasVnrType      24\n",
       "MasVnrArea      23\n",
       "GarageType     157\n",
       "GarageYrBlt    159\n",
       "dtype: int64"
      ]
     },
     "execution_count": 34,
     "metadata": {},
     "output_type": "execute_result"
    }
   ],
   "source": [
    "# missing value counts again\n",
    "clean.na_counts().drop(index=['SalePrice'])"
   ]
  },
  {
   "cell_type": "markdown",
   "metadata": {},
   "source": [
    "#### Impute missing categorical values with `XGBClassifier`"
   ]
  },
  {
   "cell_type": "markdown",
   "metadata": {},
   "source": [
    "Some methods for imputing missing categorical data are more common, e.g. multinomial classification, but any classifier will do. Given time and the inclination, one could explore different classifiers and try to estimate their imputation accuracy (e.g. by cross-validation on data with no missing values) but we won't do that here. Since `xgboost` classifier often performs very well with defaults, we'll use it to impute `MasVnrType` and `GarageType`."
   ]
  },
  {
   "cell_type": "code",
   "execution_count": 35,
   "metadata": {},
   "outputs": [],
   "source": [
    "# impute missing categorical values with XGBClassifier\n",
    "clean.data = clean.impute_cats(response='SalePrice')"
   ]
  },
  {
   "cell_type": "code",
   "execution_count": 36,
   "metadata": {},
   "outputs": [
    {
     "data": {
      "text/plain": [
       "LotFrontage    485\n",
       "MasVnrArea      23\n",
       "GarageYrBlt    159\n",
       "dtype: int64"
      ]
     },
     "execution_count": 36,
     "metadata": {},
     "output_type": "execute_result"
    }
   ],
   "source": [
    "# missing value counts again\n",
    "clean.na_counts().drop(index=['SalePrice'])"
   ]
  },
  {
   "cell_type": "markdown",
   "metadata": {},
   "source": [
    "#### Impute missing quantitative values with MICE and PMM"
   ]
  },
  {
   "cell_type": "markdown",
   "metadata": {},
   "source": [
    "[Multiple Imputation with Chained Equations (MICE)](https://www.ncbi.nlm.nih.gov/pmc/articles/PMC3074241/) is principled method of imputing missing data. It can be combined with [Predictive Mean Matching (PMM)](http://stefvanbuuren.name/fimd/sec-pmm.html) to yield a powerful implementation method. One can find these methods implemented in Python in `statsmodels.imputation.mice`."
   ]
  },
  {
   "cell_type": "code",
   "execution_count": 37,
   "metadata": {},
   "outputs": [],
   "source": [
    "# impute missing quantitative values with MICE and PMM\n",
    "clean.data = clean.impute_quants(response='SalePrice')"
   ]
  },
  {
   "cell_type": "code",
   "execution_count": 38,
   "metadata": {},
   "outputs": [
    {
     "data": {
      "text/plain": [
       "Series([], dtype: int64)"
      ]
     },
     "execution_count": 38,
     "metadata": {},
     "output_type": "execute_result"
    }
   ],
   "source": [
    "# missing value counts again\n",
    "clean.na_counts().drop(index=['SalePrice'])"
   ]
  },
  {
   "cell_type": "markdown",
   "metadata": {},
   "source": [
    "### Enforce dtypes"
   ]
  },
  {
   "cell_type": "markdown",
   "metadata": {},
   "source": [
    "On top of our `col_kinds` dictionary, we'll use pandas dtypes to track categorical, ordinal, and quantitative variables"
   ]
  },
  {
   "cell_type": "code",
   "execution_count": 39,
   "metadata": {},
   "outputs": [
    {
     "name": "stdout",
     "output_type": "stream",
     "text": [
      "<class 'pandas.core.frame.DataFrame'>\n",
      "MultiIndex: 2917 entries, (train, 1) to (test, 2919)\n",
      "Data columns (total 78 columns):\n",
      "MSSubClass       2917 non-null category\n",
      "MSZoning         2917 non-null category\n",
      "LotFrontage      2917 non-null float64\n",
      "LotArea          2917 non-null float64\n",
      "Street           2917 non-null category\n",
      "LotShape         2917 non-null int64\n",
      "LandContour      2917 non-null category\n",
      "Utilities        2917 non-null int64\n",
      "LotConfig        2917 non-null category\n",
      "LandSlope        2917 non-null int64\n",
      "Neighborhood     2917 non-null category\n",
      "Condition1       2917 non-null category\n",
      "Condition2       2917 non-null category\n",
      "BldgType         2917 non-null category\n",
      "HouseStyle       2917 non-null category\n",
      "OverallQual      2917 non-null int64\n",
      "OverallCond      2917 non-null int64\n",
      "YearBuilt        2917 non-null float64\n",
      "YearRemodAdd     2917 non-null float64\n",
      "RoofStyle        2917 non-null category\n",
      "RoofMatl         2917 non-null category\n",
      "Exterior1st      2917 non-null category\n",
      "Exterior2nd      2917 non-null category\n",
      "MasVnrType       2917 non-null category\n",
      "MasVnrArea       2917 non-null float64\n",
      "ExterQual        2917 non-null int64\n",
      "ExterCond        2917 non-null int64\n",
      "Foundation       2917 non-null category\n",
      "BsmtQual         2917 non-null int64\n",
      "BsmtCond         2917 non-null int64\n",
      "BsmtExposure     2917 non-null int64\n",
      "BsmtFinType1     2917 non-null int64\n",
      "BsmtFinSF1       2917 non-null float64\n",
      "BsmtFinType2     2917 non-null int64\n",
      "BsmtFinSF2       2917 non-null float64\n",
      "BsmtUnfSF        2917 non-null float64\n",
      "TotalBsmtSF      2917 non-null float64\n",
      "Heating          2917 non-null category\n",
      "HeatingQC        2917 non-null int64\n",
      "CentralAir       2917 non-null category\n",
      "Electrical       2917 non-null category\n",
      "1stFlrSF         2917 non-null float64\n",
      "2ndFlrSF         2917 non-null float64\n",
      "LowQualFinSF     2917 non-null float64\n",
      "GrLivArea        2917 non-null float64\n",
      "BsmtFullBath     2917 non-null int64\n",
      "BsmtHalfBath     2917 non-null int64\n",
      "FullBath         2917 non-null int64\n",
      "HalfBath         2917 non-null int64\n",
      "BedroomAbvGr     2917 non-null int64\n",
      "KitchenAbvGr     2917 non-null int64\n",
      "KitchenQual      2917 non-null int64\n",
      "TotRmsAbvGrd     2917 non-null int64\n",
      "Functional       2917 non-null int64\n",
      "Fireplaces       2917 non-null int64\n",
      "FireplaceQu      2917 non-null int64\n",
      "GarageType       2917 non-null category\n",
      "GarageYrBlt      2917 non-null float64\n",
      "GarageFinish     2917 non-null int64\n",
      "GarageCars       2917 non-null int64\n",
      "GarageArea       2917 non-null float64\n",
      "GarageQual       2917 non-null int64\n",
      "GarageCond       2917 non-null int64\n",
      "PavedDrive       2917 non-null int64\n",
      "WoodDeckSF       2917 non-null float64\n",
      "OpenPorchSF      2917 non-null float64\n",
      "EnclosedPorch    2917 non-null float64\n",
      "3SsnPorch        2917 non-null float64\n",
      "ScreenPorch      2917 non-null float64\n",
      "PoolArea         2917 non-null float64\n",
      "PoolQC           2917 non-null int64\n",
      "Fence            2917 non-null int64\n",
      "MiscVal          2917 non-null float64\n",
      "MoSold           2917 non-null int64\n",
      "YrSold           2917 non-null int64\n",
      "SaleType         2917 non-null category\n",
      "SaleCondition    2917 non-null category\n",
      "SalePrice        1458 non-null float64\n",
      "dtypes: category(22), float64(23), int64(33)\n",
      "memory usage: 1.4+ MB\n"
     ]
    }
   ],
   "source": [
    "cats, ords, quants = (clean.col_kinds['cat'], clean.col_kinds['ord'],\n",
    "                          clean.col_kinds['quant'])\n",
    "clean.data.loc[:, cats] = clean.data.loc[:, cats].astype('category')\n",
    "clean.data.loc[:, ords] = clean.data.loc[:, ords].astype('int64')\n",
    "clean.data.loc[:, 'MSSubClass'] = clean.data['MSSubClass'].astype(\n",
    "                                      'category')\n",
    "clean.data.loc[:, quants] = clean.data.loc[:, quants].astype('float64')\n",
    "clean.data.info()"
   ]
  },
  {
   "cell_type": "markdown",
   "metadata": {},
   "source": [
    "## Save processed data"
   ]
  },
  {
   "cell_type": "markdown",
   "metadata": {},
   "source": [
    "Finally we'll save our datasets to disk. This will result in two files\n",
    "\n",
    "- `orig.csv` - Original train and test data combined in a single dataset, without any modification\n",
    "- `clean.csv` - Cleaned dataset, with problematic variables and observations dropped and missing values imputed"
   ]
  },
  {
   "cell_type": "code",
   "execution_count": 42,
   "metadata": {},
   "outputs": [],
   "source": [
    "hp_data = DataPlus({'orig': orig, 'clean': clean})\n",
    "data_dir = '../data'\n",
    "hp_data.save_dfs(save_dir=data_dir)"
   ]
  }
 ],
 "metadata": {
  "kernelspec": {
   "display_name": "Python [conda env:house_prices]",
   "language": "python",
   "name": "conda-env-house_prices-py"
  },
  "language_info": {
   "codemirror_mode": {
    "name": "ipython",
    "version": 3
   },
   "file_extension": ".py",
   "mimetype": "text/x-python",
   "name": "python",
   "nbconvert_exporter": "python",
   "pygments_lexer": "ipython3",
   "version": "3.7.3"
  },
  "latex_envs": {
   "LaTeX_envs_menu_present": true,
   "autoclose": false,
   "autocomplete": true,
   "bibliofile": "biblio.bib",
   "cite_by": "apalike",
   "current_citInitial": 1,
   "eqLabelWithNumbers": true,
   "eqNumInitial": 1,
   "hotkeys": {
    "equation": "Ctrl-E",
    "itemize": "Ctrl-I"
   },
   "labels_anchors": false,
   "latex_user_defs": false,
   "report_style_numbering": false,
   "user_envs_cfg": false
  },
  "toc": {
   "base_numbering": 1,
   "nav_menu": {},
   "number_sections": true,
   "sideBar": false,
   "skip_h1_title": true,
   "title_cell": "Table of Contents",
   "title_sidebar": "Contents",
   "toc_cell": false,
   "toc_position": {
    "height": "287px",
    "left": "1065px",
    "top": "138px",
    "width": "159.359px"
   },
   "toc_section_display": false,
   "toc_window_display": true
  }
 },
 "nbformat": 4,
 "nbformat_minor": 4
}
